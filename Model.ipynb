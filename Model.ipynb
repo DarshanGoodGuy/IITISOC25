{
  "cells": [
    {
      "cell_type": "markdown",
      "source": [
        "# **Importing Libraries**"
      ],
      "metadata": {
        "id": "J_RM-Xzy8xR4"
      },
      "id": "J_RM-Xzy8xR4"
    },
    {
      "cell_type": "markdown",
      "source": [
        "**Basic Libraries**"
      ],
      "metadata": {
        "id": "gQ3SKiHX82CZ"
      },
      "id": "gQ3SKiHX82CZ"
    },
    {
      "cell_type": "code",
      "execution_count": null,
      "id": "876c9220",
      "metadata": {
        "id": "876c9220"
      },
      "outputs": [],
      "source": [
        "import pandas as pd\n",
        "import numpy as np"
      ]
    },
    {
      "cell_type": "markdown",
      "source": [
        "**Libraries for visualisation and analysis**"
      ],
      "metadata": {
        "id": "Fo3l0JnS9Y8c"
      },
      "id": "Fo3l0JnS9Y8c"
    },
    {
      "cell_type": "code",
      "source": [
        "#libraries used for statistical graphics in python\n",
        "import seaborn as sb\n",
        "import matplotlib.pyplot as plt"
      ],
      "metadata": {
        "id": "MZw3cDuE9eOQ"
      },
      "id": "MZw3cDuE9eOQ",
      "execution_count": null,
      "outputs": []
    },
    {
      "cell_type": "markdown",
      "source": [
        "**Data Preprocessing Libraries**"
      ],
      "metadata": {
        "id": "S1feP4M9901H"
      },
      "id": "S1feP4M9901H"
    },
    {
      "cell_type": "code",
      "execution_count": null,
      "id": "979b1371",
      "metadata": {
        "id": "979b1371"
      },
      "outputs": [],
      "source": [
        "#Libraries used for data preprocessing\n",
        "from sklearn.model_selection import train_test_split\n",
        "from sklearn.preprocessing import MinMaxScaler"
      ]
    },
    {
      "cell_type": "markdown",
      "source": [
        "# **Importing Models**"
      ],
      "metadata": {
        "id": "BvSkDVbt-2Z-"
      },
      "id": "BvSkDVbt-2Z-"
    },
    {
      "cell_type": "code",
      "source": [
        "from sklearn.tree import DecisionTreeRegressor\n",
        "from sklearn.ensemble import RandomForestRegressor\n",
        "\n",
        "#for model evaluation\n",
        "from sklearn.metrics import mean_absolute_error, mean_squared_error, r2_score"
      ],
      "metadata": {
        "id": "vBlDAL6S_P1C"
      },
      "id": "vBlDAL6S_P1C",
      "execution_count": null,
      "outputs": []
    },
    {
      "cell_type": "markdown",
      "source": [
        "# **Data Analysis**"
      ],
      "metadata": {
        "id": "bkPcWzyTAJ33"
      },
      "id": "bkPcWzyTAJ33"
    },
    {
      "cell_type": "markdown",
      "source": [
        "**Reading the Data**"
      ],
      "metadata": {
        "id": "VS-0CVf8CFiR"
      },
      "id": "VS-0CVf8CFiR"
    },
    {
      "cell_type": "code",
      "source": [
        "Alloy_data_path = r\"https://github.com/DarshanGoodGuy/IITISOC25/blob/main/final_dataset.csv\"\n",
        "Alloy_data = pd.read_csv(Alloy_data_path)"
      ],
      "metadata": {
        "id": "2_BAMn0_ARwZ"
      },
      "id": "2_BAMn0_ARwZ",
      "execution_count": 1,
      "outputs": []
    },
    {
      "cell_type": "markdown",
      "source": [
        "**Analysing the Data**"
      ],
      "metadata": {
        "id": "kqFDBA6XFVM2"
      },
      "id": "kqFDBA6XFVM2"
    },
    {
      "cell_type": "code",
      "source": [],
      "metadata": {
        "id": "9fH_5dp8Fu_9"
      },
      "id": "9fH_5dp8Fu_9",
      "execution_count": null,
      "outputs": []
    }
  ],
  "metadata": {
    "kernelspec": {
      "display_name": "Python 3",
      "language": "python",
      "name": "python3"
    },
    "language_info": {
      "codemirror_mode": {
        "name": "ipython",
        "version": 3
      },
      "file_extension": ".py",
      "mimetype": "text/x-python",
      "name": "python",
      "nbconvert_exporter": "python",
      "pygments_lexer": "ipython3",
      "version": "3.13.3"
    },
    "colab": {
      "provenance": []
    }
  },
  "nbformat": 4,
  "nbformat_minor": 5
}