{
  "cells": [
    {
      "cell_type": "markdown",
      "id": "J_RM-Xzy8xR4",
      "metadata": {
        "id": "J_RM-Xzy8xR4"
      },
      "source": [
        "# **Importing Libraries**"
      ]
    },
    {
      "cell_type": "markdown",
      "id": "gQ3SKiHX82CZ",
      "metadata": {
        "id": "gQ3SKiHX82CZ"
      },
      "source": [
        "**Basic Libraries**"
      ]
    },
    {
      "cell_type": "code",
      "execution_count": 1,
      "id": "876c9220",
      "metadata": {
        "id": "876c9220"
      },
      "outputs": [],
      "source": [
        "import pandas as pd\n",
        "import numpy as np"
      ]
    },
    {
      "cell_type": "markdown",
      "id": "Fo3l0JnS9Y8c",
      "metadata": {
        "id": "Fo3l0JnS9Y8c"
      },
      "source": [
        "**Libraries for visualisation and analysis**"
      ]
    },
    {
      "cell_type": "code",
      "execution_count": 2,
      "id": "MZw3cDuE9eOQ",
      "metadata": {
        "id": "MZw3cDuE9eOQ"
      },
      "outputs": [],
      "source": [
        "#libraries used for statistical graphics in python\n",
        "import matplotlib.pyplot as plt"
      ]
    },
    {
      "cell_type": "markdown",
      "id": "S1feP4M9901H",
      "metadata": {
        "id": "S1feP4M9901H"
      },
      "source": [
        "**Data Preprocessing Libraries**"
      ]
    },
    {
      "cell_type": "code",
      "execution_count": 3,
      "id": "979b1371",
      "metadata": {
        "id": "979b1371"
      },
      "outputs": [],
      "source": [
        "#Libraries used for data preprocessing\n",
        "from sklearn.model_selection import train_test_split\n",
        "from sklearn.preprocessing import MinMaxScaler"
      ]
    },
    {
      "cell_type": "markdown",
      "id": "BvSkDVbt-2Z-",
      "metadata": {
        "id": "BvSkDVbt-2Z-"
      },
      "source": [
        "# **Importing Models**"
      ]
    },
    {
      "cell_type": "code",
      "execution_count": 4,
      "id": "vBlDAL6S_P1C",
      "metadata": {
        "id": "vBlDAL6S_P1C"
      },
      "outputs": [],
      "source": [
        "from sklearn.tree import DecisionTreeRegressor\n",
        "from sklearn.ensemble import RandomForestRegressor\n",
        "from sklearn.multioutput import MultiOutputRegressor\n",
        "from sklearn.linear_model import LinearRegression, RidgeCV, SGDRegressor,MultiTaskLasso,MultiTaskElasticNet\n",
        "from sklearn.svm import SVR\n",
        "from sklearn.neural_network import MLPRegressor\n",
        "from sklearn.neighbors import KNeighborsRegressor\n",
        "from sklearn.tree import DecisionTreeRegressor\n",
        "from sklearn.ensemble import RandomForestRegressor, AdaBoostRegressor, GradientBoostingRegressor,HistGradientBoostingRegressor\n",
        "\n",
        "\n",
        "#for model evaluation\n",
        "from sklearn.metrics import mean_absolute_error, mean_squared_error, r2_score"
      ]
    },
    {
      "cell_type": "markdown",
      "id": "bkPcWzyTAJ33",
      "metadata": {
        "id": "bkPcWzyTAJ33"
      },
      "source": [
        "# **Data Analysis**"
      ]
    },
    {
      "cell_type": "markdown",
      "id": "VS-0CVf8CFiR",
      "metadata": {
        "id": "VS-0CVf8CFiR"
      },
      "source": [
        "**Reading the Data**"
      ]
    },
    {
      "cell_type": "code",
      "execution_count": 5,
      "id": "fXnNRPkwH6PP",
      "metadata": {
        "id": "fXnNRPkwH6PP"
      },
      "outputs": [],
      "source": [
        "Alloy_data_path = r\"https://raw.githubusercontent.com/DarshanGoodGuy/IITISOC25/refs/heads/main/final_dataset1.csv\"\n",
        "Alloy_data = pd.read_csv(Alloy_data_path)"
      ]
    },
    {
      "cell_type": "markdown",
      "id": "kqFDBA6XFVM2",
      "metadata": {
        "id": "kqFDBA6XFVM2"
      },
      "source": [
        "**Analysing the Data**"
      ]
    },
    {
      "cell_type": "code",
      "execution_count": 6,
      "id": "9fH_5dp8Fu_9",
      "metadata": {
        "colab": {
          "base_uri": "https://localhost:8080/",
          "height": 357
        },
        "id": "9fH_5dp8Fu_9",
        "outputId": "1e604d99-d9d6-4d15-8094-44f3ec332a35"
      },
      "outputs": [
        {
          "output_type": "execute_result",
          "data": {
            "text/plain": [
              "           FORMULA         Co         Cr         Fe         Ni         Mn  Nb  \\\n",
              "0  Co1 Cr1 Fe1 Ni1  26.138193  23.061468  24.768591  26.031747        NaN NaN   \n",
              "1  Co1 Cr1 Mn1 Ni1  26.243766  23.154613        NaN  26.136890  24.464731 NaN   \n",
              "2      Co1 Cr1 Ni1  34.743724  30.654043        NaN  34.602233        NaN NaN   \n",
              "3  Co1 Fe1 Mn1 Ni1  25.801523        NaN  24.449562  25.696448  24.052467 NaN   \n",
              "4      Co1 Fe1 Ni1  33.972825        NaN  32.192701  33.834474        NaN NaN   \n",
              "\n",
              "   Ti  Al   C  ...  Ca   Y  Pd  Sc  PROPERTY: Calculated Density (g/cm$^3$)  \\\n",
              "0 NaN NaN NaN  ... NaN NaN NaN NaN                                      8.2   \n",
              "1 NaN NaN NaN  ... NaN NaN NaN NaN                                      8.1   \n",
              "2 NaN NaN NaN  ... NaN NaN NaN NaN                                      8.3   \n",
              "3 NaN NaN NaN  ... NaN NaN NaN NaN                                      8.2   \n",
              "4 NaN NaN NaN  ... NaN NaN NaN NaN                                      8.5   \n",
              "\n",
              "   PROPERTY: Test temperature ($^\\circ$C)  PROPERTY: YS (MPa)  \\\n",
              "0                                    25.0               274.0   \n",
              "1                                    25.0               282.0   \n",
              "2                                    25.0               300.0   \n",
              "3                                    25.0               170.0   \n",
              "4                                    25.0               211.0   \n",
              "\n",
              "   PROPERTY: UTS (MPa)  PROPERTY: Elongation (%)  \\\n",
              "0                708.0                      39.0   \n",
              "1                694.0                      44.0   \n",
              "2                860.0                      60.0   \n",
              "3                550.0                      41.0   \n",
              "4                513.0                      31.0   \n",
              "\n",
              "   PROPERTY: Calculated Young modulus (GPa)  \n",
              "0                                     226.0  \n",
              "1                                     222.0  \n",
              "2                                     231.0  \n",
              "3                                     204.0  \n",
              "4                                     207.0  \n",
              "\n",
              "[5 rows x 33 columns]"
            ],
            "text/html": [
              "\n",
              "  <div id=\"df-9e67d26c-c862-4ec4-bf55-f5f96e1da530\" class=\"colab-df-container\">\n",
              "    <div>\n",
              "<style scoped>\n",
              "    .dataframe tbody tr th:only-of-type {\n",
              "        vertical-align: middle;\n",
              "    }\n",
              "\n",
              "    .dataframe tbody tr th {\n",
              "        vertical-align: top;\n",
              "    }\n",
              "\n",
              "    .dataframe thead th {\n",
              "        text-align: right;\n",
              "    }\n",
              "</style>\n",
              "<table border=\"1\" class=\"dataframe\">\n",
              "  <thead>\n",
              "    <tr style=\"text-align: right;\">\n",
              "      <th></th>\n",
              "      <th>FORMULA</th>\n",
              "      <th>Co</th>\n",
              "      <th>Cr</th>\n",
              "      <th>Fe</th>\n",
              "      <th>Ni</th>\n",
              "      <th>Mn</th>\n",
              "      <th>Nb</th>\n",
              "      <th>Ti</th>\n",
              "      <th>Al</th>\n",
              "      <th>C</th>\n",
              "      <th>...</th>\n",
              "      <th>Ca</th>\n",
              "      <th>Y</th>\n",
              "      <th>Pd</th>\n",
              "      <th>Sc</th>\n",
              "      <th>PROPERTY: Calculated Density (g/cm$^3$)</th>\n",
              "      <th>PROPERTY: Test temperature ($^\\circ$C)</th>\n",
              "      <th>PROPERTY: YS (MPa)</th>\n",
              "      <th>PROPERTY: UTS (MPa)</th>\n",
              "      <th>PROPERTY: Elongation (%)</th>\n",
              "      <th>PROPERTY: Calculated Young modulus (GPa)</th>\n",
              "    </tr>\n",
              "  </thead>\n",
              "  <tbody>\n",
              "    <tr>\n",
              "      <th>0</th>\n",
              "      <td>Co1 Cr1 Fe1 Ni1</td>\n",
              "      <td>26.138193</td>\n",
              "      <td>23.061468</td>\n",
              "      <td>24.768591</td>\n",
              "      <td>26.031747</td>\n",
              "      <td>NaN</td>\n",
              "      <td>NaN</td>\n",
              "      <td>NaN</td>\n",
              "      <td>NaN</td>\n",
              "      <td>NaN</td>\n",
              "      <td>...</td>\n",
              "      <td>NaN</td>\n",
              "      <td>NaN</td>\n",
              "      <td>NaN</td>\n",
              "      <td>NaN</td>\n",
              "      <td>8.2</td>\n",
              "      <td>25.0</td>\n",
              "      <td>274.0</td>\n",
              "      <td>708.0</td>\n",
              "      <td>39.0</td>\n",
              "      <td>226.0</td>\n",
              "    </tr>\n",
              "    <tr>\n",
              "      <th>1</th>\n",
              "      <td>Co1 Cr1 Mn1 Ni1</td>\n",
              "      <td>26.243766</td>\n",
              "      <td>23.154613</td>\n",
              "      <td>NaN</td>\n",
              "      <td>26.136890</td>\n",
              "      <td>24.464731</td>\n",
              "      <td>NaN</td>\n",
              "      <td>NaN</td>\n",
              "      <td>NaN</td>\n",
              "      <td>NaN</td>\n",
              "      <td>...</td>\n",
              "      <td>NaN</td>\n",
              "      <td>NaN</td>\n",
              "      <td>NaN</td>\n",
              "      <td>NaN</td>\n",
              "      <td>8.1</td>\n",
              "      <td>25.0</td>\n",
              "      <td>282.0</td>\n",
              "      <td>694.0</td>\n",
              "      <td>44.0</td>\n",
              "      <td>222.0</td>\n",
              "    </tr>\n",
              "    <tr>\n",
              "      <th>2</th>\n",
              "      <td>Co1 Cr1 Ni1</td>\n",
              "      <td>34.743724</td>\n",
              "      <td>30.654043</td>\n",
              "      <td>NaN</td>\n",
              "      <td>34.602233</td>\n",
              "      <td>NaN</td>\n",
              "      <td>NaN</td>\n",
              "      <td>NaN</td>\n",
              "      <td>NaN</td>\n",
              "      <td>NaN</td>\n",
              "      <td>...</td>\n",
              "      <td>NaN</td>\n",
              "      <td>NaN</td>\n",
              "      <td>NaN</td>\n",
              "      <td>NaN</td>\n",
              "      <td>8.3</td>\n",
              "      <td>25.0</td>\n",
              "      <td>300.0</td>\n",
              "      <td>860.0</td>\n",
              "      <td>60.0</td>\n",
              "      <td>231.0</td>\n",
              "    </tr>\n",
              "    <tr>\n",
              "      <th>3</th>\n",
              "      <td>Co1 Fe1 Mn1 Ni1</td>\n",
              "      <td>25.801523</td>\n",
              "      <td>NaN</td>\n",
              "      <td>24.449562</td>\n",
              "      <td>25.696448</td>\n",
              "      <td>24.052467</td>\n",
              "      <td>NaN</td>\n",
              "      <td>NaN</td>\n",
              "      <td>NaN</td>\n",
              "      <td>NaN</td>\n",
              "      <td>...</td>\n",
              "      <td>NaN</td>\n",
              "      <td>NaN</td>\n",
              "      <td>NaN</td>\n",
              "      <td>NaN</td>\n",
              "      <td>8.2</td>\n",
              "      <td>25.0</td>\n",
              "      <td>170.0</td>\n",
              "      <td>550.0</td>\n",
              "      <td>41.0</td>\n",
              "      <td>204.0</td>\n",
              "    </tr>\n",
              "    <tr>\n",
              "      <th>4</th>\n",
              "      <td>Co1 Fe1 Ni1</td>\n",
              "      <td>33.972825</td>\n",
              "      <td>NaN</td>\n",
              "      <td>32.192701</td>\n",
              "      <td>33.834474</td>\n",
              "      <td>NaN</td>\n",
              "      <td>NaN</td>\n",
              "      <td>NaN</td>\n",
              "      <td>NaN</td>\n",
              "      <td>NaN</td>\n",
              "      <td>...</td>\n",
              "      <td>NaN</td>\n",
              "      <td>NaN</td>\n",
              "      <td>NaN</td>\n",
              "      <td>NaN</td>\n",
              "      <td>8.5</td>\n",
              "      <td>25.0</td>\n",
              "      <td>211.0</td>\n",
              "      <td>513.0</td>\n",
              "      <td>31.0</td>\n",
              "      <td>207.0</td>\n",
              "    </tr>\n",
              "  </tbody>\n",
              "</table>\n",
              "<p>5 rows × 33 columns</p>\n",
              "</div>\n",
              "    <div class=\"colab-df-buttons\">\n",
              "\n",
              "  <div class=\"colab-df-container\">\n",
              "    <button class=\"colab-df-convert\" onclick=\"convertToInteractive('df-9e67d26c-c862-4ec4-bf55-f5f96e1da530')\"\n",
              "            title=\"Convert this dataframe to an interactive table.\"\n",
              "            style=\"display:none;\">\n",
              "\n",
              "  <svg xmlns=\"http://www.w3.org/2000/svg\" height=\"24px\" viewBox=\"0 -960 960 960\">\n",
              "    <path d=\"M120-120v-720h720v720H120Zm60-500h600v-160H180v160Zm220 220h160v-160H400v160Zm0 220h160v-160H400v160ZM180-400h160v-160H180v160Zm440 0h160v-160H620v160ZM180-180h160v-160H180v160Zm440 0h160v-160H620v160Z\"/>\n",
              "  </svg>\n",
              "    </button>\n",
              "\n",
              "  <style>\n",
              "    .colab-df-container {\n",
              "      display:flex;\n",
              "      gap: 12px;\n",
              "    }\n",
              "\n",
              "    .colab-df-convert {\n",
              "      background-color: #E8F0FE;\n",
              "      border: none;\n",
              "      border-radius: 50%;\n",
              "      cursor: pointer;\n",
              "      display: none;\n",
              "      fill: #1967D2;\n",
              "      height: 32px;\n",
              "      padding: 0 0 0 0;\n",
              "      width: 32px;\n",
              "    }\n",
              "\n",
              "    .colab-df-convert:hover {\n",
              "      background-color: #E2EBFA;\n",
              "      box-shadow: 0px 1px 2px rgba(60, 64, 67, 0.3), 0px 1px 3px 1px rgba(60, 64, 67, 0.15);\n",
              "      fill: #174EA6;\n",
              "    }\n",
              "\n",
              "    .colab-df-buttons div {\n",
              "      margin-bottom: 4px;\n",
              "    }\n",
              "\n",
              "    [theme=dark] .colab-df-convert {\n",
              "      background-color: #3B4455;\n",
              "      fill: #D2E3FC;\n",
              "    }\n",
              "\n",
              "    [theme=dark] .colab-df-convert:hover {\n",
              "      background-color: #434B5C;\n",
              "      box-shadow: 0px 1px 3px 1px rgba(0, 0, 0, 0.15);\n",
              "      filter: drop-shadow(0px 1px 2px rgba(0, 0, 0, 0.3));\n",
              "      fill: #FFFFFF;\n",
              "    }\n",
              "  </style>\n",
              "\n",
              "    <script>\n",
              "      const buttonEl =\n",
              "        document.querySelector('#df-9e67d26c-c862-4ec4-bf55-f5f96e1da530 button.colab-df-convert');\n",
              "      buttonEl.style.display =\n",
              "        google.colab.kernel.accessAllowed ? 'block' : 'none';\n",
              "\n",
              "      async function convertToInteractive(key) {\n",
              "        const element = document.querySelector('#df-9e67d26c-c862-4ec4-bf55-f5f96e1da530');\n",
              "        const dataTable =\n",
              "          await google.colab.kernel.invokeFunction('convertToInteractive',\n",
              "                                                    [key], {});\n",
              "        if (!dataTable) return;\n",
              "\n",
              "        const docLinkHtml = 'Like what you see? Visit the ' +\n",
              "          '<a target=\"_blank\" href=https://colab.research.google.com/notebooks/data_table.ipynb>data table notebook</a>'\n",
              "          + ' to learn more about interactive tables.';\n",
              "        element.innerHTML = '';\n",
              "        dataTable['output_type'] = 'display_data';\n",
              "        await google.colab.output.renderOutput(dataTable, element);\n",
              "        const docLink = document.createElement('div');\n",
              "        docLink.innerHTML = docLinkHtml;\n",
              "        element.appendChild(docLink);\n",
              "      }\n",
              "    </script>\n",
              "  </div>\n",
              "\n",
              "\n",
              "    <div id=\"df-b6fad9bd-89d9-4034-a9fa-ab1b02b41c1e\">\n",
              "      <button class=\"colab-df-quickchart\" onclick=\"quickchart('df-b6fad9bd-89d9-4034-a9fa-ab1b02b41c1e')\"\n",
              "                title=\"Suggest charts\"\n",
              "                style=\"display:none;\">\n",
              "\n",
              "<svg xmlns=\"http://www.w3.org/2000/svg\" height=\"24px\"viewBox=\"0 0 24 24\"\n",
              "     width=\"24px\">\n",
              "    <g>\n",
              "        <path d=\"M19 3H5c-1.1 0-2 .9-2 2v14c0 1.1.9 2 2 2h14c1.1 0 2-.9 2-2V5c0-1.1-.9-2-2-2zM9 17H7v-7h2v7zm4 0h-2V7h2v10zm4 0h-2v-4h2v4z\"/>\n",
              "    </g>\n",
              "</svg>\n",
              "      </button>\n",
              "\n",
              "<style>\n",
              "  .colab-df-quickchart {\n",
              "      --bg-color: #E8F0FE;\n",
              "      --fill-color: #1967D2;\n",
              "      --hover-bg-color: #E2EBFA;\n",
              "      --hover-fill-color: #174EA6;\n",
              "      --disabled-fill-color: #AAA;\n",
              "      --disabled-bg-color: #DDD;\n",
              "  }\n",
              "\n",
              "  [theme=dark] .colab-df-quickchart {\n",
              "      --bg-color: #3B4455;\n",
              "      --fill-color: #D2E3FC;\n",
              "      --hover-bg-color: #434B5C;\n",
              "      --hover-fill-color: #FFFFFF;\n",
              "      --disabled-bg-color: #3B4455;\n",
              "      --disabled-fill-color: #666;\n",
              "  }\n",
              "\n",
              "  .colab-df-quickchart {\n",
              "    background-color: var(--bg-color);\n",
              "    border: none;\n",
              "    border-radius: 50%;\n",
              "    cursor: pointer;\n",
              "    display: none;\n",
              "    fill: var(--fill-color);\n",
              "    height: 32px;\n",
              "    padding: 0;\n",
              "    width: 32px;\n",
              "  }\n",
              "\n",
              "  .colab-df-quickchart:hover {\n",
              "    background-color: var(--hover-bg-color);\n",
              "    box-shadow: 0 1px 2px rgba(60, 64, 67, 0.3), 0 1px 3px 1px rgba(60, 64, 67, 0.15);\n",
              "    fill: var(--button-hover-fill-color);\n",
              "  }\n",
              "\n",
              "  .colab-df-quickchart-complete:disabled,\n",
              "  .colab-df-quickchart-complete:disabled:hover {\n",
              "    background-color: var(--disabled-bg-color);\n",
              "    fill: var(--disabled-fill-color);\n",
              "    box-shadow: none;\n",
              "  }\n",
              "\n",
              "  .colab-df-spinner {\n",
              "    border: 2px solid var(--fill-color);\n",
              "    border-color: transparent;\n",
              "    border-bottom-color: var(--fill-color);\n",
              "    animation:\n",
              "      spin 1s steps(1) infinite;\n",
              "  }\n",
              "\n",
              "  @keyframes spin {\n",
              "    0% {\n",
              "      border-color: transparent;\n",
              "      border-bottom-color: var(--fill-color);\n",
              "      border-left-color: var(--fill-color);\n",
              "    }\n",
              "    20% {\n",
              "      border-color: transparent;\n",
              "      border-left-color: var(--fill-color);\n",
              "      border-top-color: var(--fill-color);\n",
              "    }\n",
              "    30% {\n",
              "      border-color: transparent;\n",
              "      border-left-color: var(--fill-color);\n",
              "      border-top-color: var(--fill-color);\n",
              "      border-right-color: var(--fill-color);\n",
              "    }\n",
              "    40% {\n",
              "      border-color: transparent;\n",
              "      border-right-color: var(--fill-color);\n",
              "      border-top-color: var(--fill-color);\n",
              "    }\n",
              "    60% {\n",
              "      border-color: transparent;\n",
              "      border-right-color: var(--fill-color);\n",
              "    }\n",
              "    80% {\n",
              "      border-color: transparent;\n",
              "      border-right-color: var(--fill-color);\n",
              "      border-bottom-color: var(--fill-color);\n",
              "    }\n",
              "    90% {\n",
              "      border-color: transparent;\n",
              "      border-bottom-color: var(--fill-color);\n",
              "    }\n",
              "  }\n",
              "</style>\n",
              "\n",
              "      <script>\n",
              "        async function quickchart(key) {\n",
              "          const quickchartButtonEl =\n",
              "            document.querySelector('#' + key + ' button');\n",
              "          quickchartButtonEl.disabled = true;  // To prevent multiple clicks.\n",
              "          quickchartButtonEl.classList.add('colab-df-spinner');\n",
              "          try {\n",
              "            const charts = await google.colab.kernel.invokeFunction(\n",
              "                'suggestCharts', [key], {});\n",
              "          } catch (error) {\n",
              "            console.error('Error during call to suggestCharts:', error);\n",
              "          }\n",
              "          quickchartButtonEl.classList.remove('colab-df-spinner');\n",
              "          quickchartButtonEl.classList.add('colab-df-quickchart-complete');\n",
              "        }\n",
              "        (() => {\n",
              "          let quickchartButtonEl =\n",
              "            document.querySelector('#df-b6fad9bd-89d9-4034-a9fa-ab1b02b41c1e button');\n",
              "          quickchartButtonEl.style.display =\n",
              "            google.colab.kernel.accessAllowed ? 'block' : 'none';\n",
              "        })();\n",
              "      </script>\n",
              "    </div>\n",
              "\n",
              "    </div>\n",
              "  </div>\n"
            ],
            "application/vnd.google.colaboratory.intrinsic+json": {
              "type": "dataframe",
              "variable_name": "Alloy_data"
            }
          },
          "metadata": {},
          "execution_count": 6
        }
      ],
      "source": [
        "Alloy_data.head()"
      ]
    },
    {
      "cell_type": "code",
      "execution_count": 7,
      "id": "SwrEK3W8G0Uh",
      "metadata": {
        "colab": {
          "base_uri": "https://localhost:8080/"
        },
        "id": "SwrEK3W8G0Uh",
        "outputId": "5c1acd2f-5ca3-4ac8-b98a-8688d8ca2c02"
      },
      "outputs": [
        {
          "output_type": "execute_result",
          "data": {
            "text/plain": [
              "(947, 33)"
            ]
          },
          "metadata": {},
          "execution_count": 7
        }
      ],
      "source": [
        "Alloy_data.shape"
      ]
    },
    {
      "cell_type": "code",
      "execution_count": 8,
      "id": "FNq4Q_kbG4oX",
      "metadata": {
        "colab": {
          "base_uri": "https://localhost:8080/"
        },
        "id": "FNq4Q_kbG4oX",
        "outputId": "f75bbbec-191f-48a9-91b8-be85dd42516b"
      },
      "outputs": [
        {
          "output_type": "stream",
          "name": "stdout",
          "text": [
            "<class 'pandas.core.frame.DataFrame'>\n",
            "RangeIndex: 947 entries, 0 to 946\n",
            "Data columns (total 33 columns):\n",
            " #   Column                                    Non-Null Count  Dtype  \n",
            "---  ------                                    --------------  -----  \n",
            " 0   FORMULA                                   947 non-null    object \n",
            " 1   Co                                        389 non-null    float64\n",
            " 2   Cr                                        477 non-null    float64\n",
            " 3   Fe                                        428 non-null    float64\n",
            " 4   Ni                                        449 non-null    float64\n",
            " 5   Mn                                        132 non-null    float64\n",
            " 6   Nb                                        447 non-null    float64\n",
            " 7   Ti                                        486 non-null    float64\n",
            " 8   Al                                        344 non-null    float64\n",
            " 9   C                                         19 non-null     float64\n",
            " 10  Mo                                        294 non-null    float64\n",
            " 11  Si                                        38 non-null     float64\n",
            " 12  Cu                                        92 non-null     float64\n",
            " 13  V                                         194 non-null    float64\n",
            " 14  Sn                                        7 non-null      float64\n",
            " 15  Li                                        9 non-null      float64\n",
            " 16  Mg                                        14 non-null     float64\n",
            " 17  Zn                                        11 non-null     float64\n",
            " 18  Ta                                        260 non-null    float64\n",
            " 19  Zr                                        277 non-null    float64\n",
            " 20  Hf                                        181 non-null    float64\n",
            " 21  W                                         83 non-null     float64\n",
            " 22  Re                                        5 non-null      float64\n",
            " 23  Ca                                        5 non-null      float64\n",
            " 24  Y                                         3 non-null      float64\n",
            " 25  Pd                                        4 non-null      float64\n",
            " 26  Sc                                        2 non-null      float64\n",
            " 27  PROPERTY: Calculated Density (g/cm$^3$)   947 non-null    float64\n",
            " 28  PROPERTY: Test temperature ($^\\circ$C)    947 non-null    float64\n",
            " 29  PROPERTY: YS (MPa)                        913 non-null    float64\n",
            " 30  PROPERTY: UTS (MPa)                       511 non-null    float64\n",
            " 31  PROPERTY: Elongation (%)                  608 non-null    float64\n",
            " 32  PROPERTY: Calculated Young modulus (GPa)  541 non-null    float64\n",
            "dtypes: float64(32), object(1)\n",
            "memory usage: 244.3+ KB\n"
          ]
        }
      ],
      "source": [
        "Alloy_data.info()"
      ]
    },
    {
      "cell_type": "markdown",
      "id": "W6f1I6HkHA6t",
      "metadata": {
        "id": "W6f1I6HkHA6t"
      },
      "source": [
        "**Filling the missing values with mean**"
      ]
    },
    {
      "cell_type": "code",
      "execution_count": 9,
      "id": "rsQZkasZI6PB",
      "metadata": {
        "colab": {
          "base_uri": "https://localhost:8080/",
          "height": 1000
        },
        "id": "rsQZkasZI6PB",
        "outputId": "3874b756-28d4-4a2a-db38-0a5c670492aa"
      },
      "outputs": [
        {
          "output_type": "execute_result",
          "data": {
            "text/plain": [
              "FORMULA                                       0\n",
              "Co                                          558\n",
              "Cr                                          470\n",
              "Fe                                          519\n",
              "Ni                                          498\n",
              "Mn                                          815\n",
              "Nb                                          500\n",
              "Ti                                          461\n",
              "Al                                          603\n",
              "C                                           928\n",
              "Mo                                          653\n",
              "Si                                          909\n",
              "Cu                                          855\n",
              "V                                           753\n",
              "Sn                                          940\n",
              "Li                                          938\n",
              "Mg                                          933\n",
              "Zn                                          936\n",
              "Ta                                          687\n",
              "Zr                                          670\n",
              "Hf                                          766\n",
              "W                                           864\n",
              "Re                                          942\n",
              "Ca                                          942\n",
              "Y                                           944\n",
              "Pd                                          943\n",
              "Sc                                          945\n",
              "PROPERTY: Calculated Density (g/cm$^3$)       0\n",
              "PROPERTY: Test temperature ($^\\circ$C)        0\n",
              "PROPERTY: YS (MPa)                           34\n",
              "PROPERTY: UTS (MPa)                         436\n",
              "PROPERTY: Elongation (%)                    339\n",
              "PROPERTY: Calculated Young modulus (GPa)    406\n",
              "dtype: int64"
            ],
            "text/html": [
              "<div>\n",
              "<style scoped>\n",
              "    .dataframe tbody tr th:only-of-type {\n",
              "        vertical-align: middle;\n",
              "    }\n",
              "\n",
              "    .dataframe tbody tr th {\n",
              "        vertical-align: top;\n",
              "    }\n",
              "\n",
              "    .dataframe thead th {\n",
              "        text-align: right;\n",
              "    }\n",
              "</style>\n",
              "<table border=\"1\" class=\"dataframe\">\n",
              "  <thead>\n",
              "    <tr style=\"text-align: right;\">\n",
              "      <th></th>\n",
              "      <th>0</th>\n",
              "    </tr>\n",
              "  </thead>\n",
              "  <tbody>\n",
              "    <tr>\n",
              "      <th>FORMULA</th>\n",
              "      <td>0</td>\n",
              "    </tr>\n",
              "    <tr>\n",
              "      <th>Co</th>\n",
              "      <td>558</td>\n",
              "    </tr>\n",
              "    <tr>\n",
              "      <th>Cr</th>\n",
              "      <td>470</td>\n",
              "    </tr>\n",
              "    <tr>\n",
              "      <th>Fe</th>\n",
              "      <td>519</td>\n",
              "    </tr>\n",
              "    <tr>\n",
              "      <th>Ni</th>\n",
              "      <td>498</td>\n",
              "    </tr>\n",
              "    <tr>\n",
              "      <th>Mn</th>\n",
              "      <td>815</td>\n",
              "    </tr>\n",
              "    <tr>\n",
              "      <th>Nb</th>\n",
              "      <td>500</td>\n",
              "    </tr>\n",
              "    <tr>\n",
              "      <th>Ti</th>\n",
              "      <td>461</td>\n",
              "    </tr>\n",
              "    <tr>\n",
              "      <th>Al</th>\n",
              "      <td>603</td>\n",
              "    </tr>\n",
              "    <tr>\n",
              "      <th>C</th>\n",
              "      <td>928</td>\n",
              "    </tr>\n",
              "    <tr>\n",
              "      <th>Mo</th>\n",
              "      <td>653</td>\n",
              "    </tr>\n",
              "    <tr>\n",
              "      <th>Si</th>\n",
              "      <td>909</td>\n",
              "    </tr>\n",
              "    <tr>\n",
              "      <th>Cu</th>\n",
              "      <td>855</td>\n",
              "    </tr>\n",
              "    <tr>\n",
              "      <th>V</th>\n",
              "      <td>753</td>\n",
              "    </tr>\n",
              "    <tr>\n",
              "      <th>Sn</th>\n",
              "      <td>940</td>\n",
              "    </tr>\n",
              "    <tr>\n",
              "      <th>Li</th>\n",
              "      <td>938</td>\n",
              "    </tr>\n",
              "    <tr>\n",
              "      <th>Mg</th>\n",
              "      <td>933</td>\n",
              "    </tr>\n",
              "    <tr>\n",
              "      <th>Zn</th>\n",
              "      <td>936</td>\n",
              "    </tr>\n",
              "    <tr>\n",
              "      <th>Ta</th>\n",
              "      <td>687</td>\n",
              "    </tr>\n",
              "    <tr>\n",
              "      <th>Zr</th>\n",
              "      <td>670</td>\n",
              "    </tr>\n",
              "    <tr>\n",
              "      <th>Hf</th>\n",
              "      <td>766</td>\n",
              "    </tr>\n",
              "    <tr>\n",
              "      <th>W</th>\n",
              "      <td>864</td>\n",
              "    </tr>\n",
              "    <tr>\n",
              "      <th>Re</th>\n",
              "      <td>942</td>\n",
              "    </tr>\n",
              "    <tr>\n",
              "      <th>Ca</th>\n",
              "      <td>942</td>\n",
              "    </tr>\n",
              "    <tr>\n",
              "      <th>Y</th>\n",
              "      <td>944</td>\n",
              "    </tr>\n",
              "    <tr>\n",
              "      <th>Pd</th>\n",
              "      <td>943</td>\n",
              "    </tr>\n",
              "    <tr>\n",
              "      <th>Sc</th>\n",
              "      <td>945</td>\n",
              "    </tr>\n",
              "    <tr>\n",
              "      <th>PROPERTY: Calculated Density (g/cm$^3$)</th>\n",
              "      <td>0</td>\n",
              "    </tr>\n",
              "    <tr>\n",
              "      <th>PROPERTY: Test temperature ($^\\circ$C)</th>\n",
              "      <td>0</td>\n",
              "    </tr>\n",
              "    <tr>\n",
              "      <th>PROPERTY: YS (MPa)</th>\n",
              "      <td>34</td>\n",
              "    </tr>\n",
              "    <tr>\n",
              "      <th>PROPERTY: UTS (MPa)</th>\n",
              "      <td>436</td>\n",
              "    </tr>\n",
              "    <tr>\n",
              "      <th>PROPERTY: Elongation (%)</th>\n",
              "      <td>339</td>\n",
              "    </tr>\n",
              "    <tr>\n",
              "      <th>PROPERTY: Calculated Young modulus (GPa)</th>\n",
              "      <td>406</td>\n",
              "    </tr>\n",
              "  </tbody>\n",
              "</table>\n",
              "</div><br><label><b>dtype:</b> int64</label>"
            ]
          },
          "metadata": {},
          "execution_count": 9
        }
      ],
      "source": [
        "Alloy_data.isna().sum()"
      ]
    },
    {
      "cell_type": "code",
      "source": [
        "import pandas as pd\n",
        "import numpy as np\n",
        "from sklearn.model_selection import train_test_split\n",
        "from sklearn.ensemble import RandomForestRegressor\n",
        "from sklearn.metrics import r2_score\n",
        "\n",
        "# Step 1: Load the dataset\n",
        "df = pd.read_csv(\"final_dataset1.csv\")  # Replace with the correct path\n",
        "target = Alloy_data.iloc[:,1:27]  # Replace with your actual target column name\n",
        "\n",
        "# Step 2: Identify property columns\n",
        "property_cols = [col for col in df.columns if \"property_\" in col]\n",
        "\n",
        "# Step 3: Impute missing property values (use median or mean)\n",
        "for col in property_cols:\n",
        "    df[col].fillna(df[col].median(), inplace=True)\n",
        "\n",
        "# Step 4: Generate synthetic data by adding noise\n",
        "num_synthetic_samples = len(df)  # You can also try len(df) * 2\n",
        "synthetic_data = df.copy()\n",
        "synthetic_data[property_cols] += np.random.normal(loc=0.0, scale=0.05, size=(num_synthetic_samples, len(property_cols)))\n",
        "\n",
        "# Step 5: Combine original and synthetic data\n",
        "augmented_df = pd.concat([df, synthetic_data], ignore_index=True)\n",
        "\n",
        "# Step 6: Train/test split and model\n",
        "X = augmented_df.drop(columns=[target])\n",
        "y = augmented_df[target]\n",
        "\n",
        "X_train, X_test, y_train, y_test = train_test_split(X, y, test_size=0.2, random_state=42)\n",
        "\n",
        "model = RandomForestRegressor(n_estimators=200, random_state=42)\n",
        "model.fit(X_train, y_train)\n",
        "y_pred = model.predict(X_test)\n",
        "\n",
        "print(\"R² after simple augmentation:\", r2_score(y_test, y_pred))"
      ],
      "metadata": {
        "id": "-tn7KeBoRxzn",
        "outputId": "b46b310a-8923-45b1-f398-25ec7d090857",
        "colab": {
          "base_uri": "https://localhost:8080/",
          "height": 356
        }
      },
      "id": "-tn7KeBoRxzn",
      "execution_count": 10,
      "outputs": [
        {
          "output_type": "error",
          "ename": "FileNotFoundError",
          "evalue": "[Errno 2] No such file or directory: 'final_dataset1.csv'",
          "traceback": [
            "\u001b[0;31m---------------------------------------------------------------------------\u001b[0m",
            "\u001b[0;31mFileNotFoundError\u001b[0m                         Traceback (most recent call last)",
            "\u001b[0;32m/tmp/ipython-input-10-606525575.py\u001b[0m in \u001b[0;36m<cell line: 0>\u001b[0;34m()\u001b[0m\n\u001b[1;32m      6\u001b[0m \u001b[0;34m\u001b[0m\u001b[0m\n\u001b[1;32m      7\u001b[0m \u001b[0;31m# Step 1: Load the dataset\u001b[0m\u001b[0;34m\u001b[0m\u001b[0;34m\u001b[0m\u001b[0m\n\u001b[0;32m----> 8\u001b[0;31m \u001b[0mdf\u001b[0m \u001b[0;34m=\u001b[0m \u001b[0mpd\u001b[0m\u001b[0;34m.\u001b[0m\u001b[0mread_csv\u001b[0m\u001b[0;34m(\u001b[0m\u001b[0;34m\"final_dataset1.csv\"\u001b[0m\u001b[0;34m)\u001b[0m  \u001b[0;31m# Replace with the correct path\u001b[0m\u001b[0;34m\u001b[0m\u001b[0;34m\u001b[0m\u001b[0m\n\u001b[0m\u001b[1;32m      9\u001b[0m \u001b[0mtarget\u001b[0m \u001b[0;34m=\u001b[0m \u001b[0mAlloy_data\u001b[0m\u001b[0;34m.\u001b[0m\u001b[0miloc\u001b[0m\u001b[0;34m[\u001b[0m\u001b[0;34m:\u001b[0m\u001b[0;34m,\u001b[0m\u001b[0;36m1\u001b[0m\u001b[0;34m:\u001b[0m\u001b[0;36m27\u001b[0m\u001b[0;34m]\u001b[0m  \u001b[0;31m# Replace with your actual target column name\u001b[0m\u001b[0;34m\u001b[0m\u001b[0;34m\u001b[0m\u001b[0m\n\u001b[1;32m     10\u001b[0m \u001b[0;34m\u001b[0m\u001b[0m\n",
            "\u001b[0;32m/usr/local/lib/python3.11/dist-packages/pandas/io/parsers/readers.py\u001b[0m in \u001b[0;36mread_csv\u001b[0;34m(filepath_or_buffer, sep, delimiter, header, names, index_col, usecols, dtype, engine, converters, true_values, false_values, skipinitialspace, skiprows, skipfooter, nrows, na_values, keep_default_na, na_filter, verbose, skip_blank_lines, parse_dates, infer_datetime_format, keep_date_col, date_parser, date_format, dayfirst, cache_dates, iterator, chunksize, compression, thousands, decimal, lineterminator, quotechar, quoting, doublequote, escapechar, comment, encoding, encoding_errors, dialect, on_bad_lines, delim_whitespace, low_memory, memory_map, float_precision, storage_options, dtype_backend)\u001b[0m\n\u001b[1;32m   1024\u001b[0m     \u001b[0mkwds\u001b[0m\u001b[0;34m.\u001b[0m\u001b[0mupdate\u001b[0m\u001b[0;34m(\u001b[0m\u001b[0mkwds_defaults\u001b[0m\u001b[0;34m)\u001b[0m\u001b[0;34m\u001b[0m\u001b[0;34m\u001b[0m\u001b[0m\n\u001b[1;32m   1025\u001b[0m \u001b[0;34m\u001b[0m\u001b[0m\n\u001b[0;32m-> 1026\u001b[0;31m     \u001b[0;32mreturn\u001b[0m \u001b[0m_read\u001b[0m\u001b[0;34m(\u001b[0m\u001b[0mfilepath_or_buffer\u001b[0m\u001b[0;34m,\u001b[0m \u001b[0mkwds\u001b[0m\u001b[0;34m)\u001b[0m\u001b[0;34m\u001b[0m\u001b[0;34m\u001b[0m\u001b[0m\n\u001b[0m\u001b[1;32m   1027\u001b[0m \u001b[0;34m\u001b[0m\u001b[0m\n\u001b[1;32m   1028\u001b[0m \u001b[0;34m\u001b[0m\u001b[0m\n",
            "\u001b[0;32m/usr/local/lib/python3.11/dist-packages/pandas/io/parsers/readers.py\u001b[0m in \u001b[0;36m_read\u001b[0;34m(filepath_or_buffer, kwds)\u001b[0m\n\u001b[1;32m    618\u001b[0m \u001b[0;34m\u001b[0m\u001b[0m\n\u001b[1;32m    619\u001b[0m     \u001b[0;31m# Create the parser.\u001b[0m\u001b[0;34m\u001b[0m\u001b[0;34m\u001b[0m\u001b[0m\n\u001b[0;32m--> 620\u001b[0;31m     \u001b[0mparser\u001b[0m \u001b[0;34m=\u001b[0m \u001b[0mTextFileReader\u001b[0m\u001b[0;34m(\u001b[0m\u001b[0mfilepath_or_buffer\u001b[0m\u001b[0;34m,\u001b[0m \u001b[0;34m**\u001b[0m\u001b[0mkwds\u001b[0m\u001b[0;34m)\u001b[0m\u001b[0;34m\u001b[0m\u001b[0;34m\u001b[0m\u001b[0m\n\u001b[0m\u001b[1;32m    621\u001b[0m \u001b[0;34m\u001b[0m\u001b[0m\n\u001b[1;32m    622\u001b[0m     \u001b[0;32mif\u001b[0m \u001b[0mchunksize\u001b[0m \u001b[0;32mor\u001b[0m \u001b[0miterator\u001b[0m\u001b[0;34m:\u001b[0m\u001b[0;34m\u001b[0m\u001b[0;34m\u001b[0m\u001b[0m\n",
            "\u001b[0;32m/usr/local/lib/python3.11/dist-packages/pandas/io/parsers/readers.py\u001b[0m in \u001b[0;36m__init__\u001b[0;34m(self, f, engine, **kwds)\u001b[0m\n\u001b[1;32m   1618\u001b[0m \u001b[0;34m\u001b[0m\u001b[0m\n\u001b[1;32m   1619\u001b[0m         \u001b[0mself\u001b[0m\u001b[0;34m.\u001b[0m\u001b[0mhandles\u001b[0m\u001b[0;34m:\u001b[0m \u001b[0mIOHandles\u001b[0m \u001b[0;34m|\u001b[0m \u001b[0;32mNone\u001b[0m \u001b[0;34m=\u001b[0m \u001b[0;32mNone\u001b[0m\u001b[0;34m\u001b[0m\u001b[0;34m\u001b[0m\u001b[0m\n\u001b[0;32m-> 1620\u001b[0;31m         \u001b[0mself\u001b[0m\u001b[0;34m.\u001b[0m\u001b[0m_engine\u001b[0m \u001b[0;34m=\u001b[0m \u001b[0mself\u001b[0m\u001b[0;34m.\u001b[0m\u001b[0m_make_engine\u001b[0m\u001b[0;34m(\u001b[0m\u001b[0mf\u001b[0m\u001b[0;34m,\u001b[0m \u001b[0mself\u001b[0m\u001b[0;34m.\u001b[0m\u001b[0mengine\u001b[0m\u001b[0;34m)\u001b[0m\u001b[0;34m\u001b[0m\u001b[0;34m\u001b[0m\u001b[0m\n\u001b[0m\u001b[1;32m   1621\u001b[0m \u001b[0;34m\u001b[0m\u001b[0m\n\u001b[1;32m   1622\u001b[0m     \u001b[0;32mdef\u001b[0m \u001b[0mclose\u001b[0m\u001b[0;34m(\u001b[0m\u001b[0mself\u001b[0m\u001b[0;34m)\u001b[0m \u001b[0;34m->\u001b[0m \u001b[0;32mNone\u001b[0m\u001b[0;34m:\u001b[0m\u001b[0;34m\u001b[0m\u001b[0;34m\u001b[0m\u001b[0m\n",
            "\u001b[0;32m/usr/local/lib/python3.11/dist-packages/pandas/io/parsers/readers.py\u001b[0m in \u001b[0;36m_make_engine\u001b[0;34m(self, f, engine)\u001b[0m\n\u001b[1;32m   1878\u001b[0m                 \u001b[0;32mif\u001b[0m \u001b[0;34m\"b\"\u001b[0m \u001b[0;32mnot\u001b[0m \u001b[0;32min\u001b[0m \u001b[0mmode\u001b[0m\u001b[0;34m:\u001b[0m\u001b[0;34m\u001b[0m\u001b[0;34m\u001b[0m\u001b[0m\n\u001b[1;32m   1879\u001b[0m                     \u001b[0mmode\u001b[0m \u001b[0;34m+=\u001b[0m \u001b[0;34m\"b\"\u001b[0m\u001b[0;34m\u001b[0m\u001b[0;34m\u001b[0m\u001b[0m\n\u001b[0;32m-> 1880\u001b[0;31m             self.handles = get_handle(\n\u001b[0m\u001b[1;32m   1881\u001b[0m                 \u001b[0mf\u001b[0m\u001b[0;34m,\u001b[0m\u001b[0;34m\u001b[0m\u001b[0;34m\u001b[0m\u001b[0m\n\u001b[1;32m   1882\u001b[0m                 \u001b[0mmode\u001b[0m\u001b[0;34m,\u001b[0m\u001b[0;34m\u001b[0m\u001b[0;34m\u001b[0m\u001b[0m\n",
            "\u001b[0;32m/usr/local/lib/python3.11/dist-packages/pandas/io/common.py\u001b[0m in \u001b[0;36mget_handle\u001b[0;34m(path_or_buf, mode, encoding, compression, memory_map, is_text, errors, storage_options)\u001b[0m\n\u001b[1;32m    871\u001b[0m         \u001b[0;32mif\u001b[0m \u001b[0mioargs\u001b[0m\u001b[0;34m.\u001b[0m\u001b[0mencoding\u001b[0m \u001b[0;32mand\u001b[0m \u001b[0;34m\"b\"\u001b[0m \u001b[0;32mnot\u001b[0m \u001b[0;32min\u001b[0m \u001b[0mioargs\u001b[0m\u001b[0;34m.\u001b[0m\u001b[0mmode\u001b[0m\u001b[0;34m:\u001b[0m\u001b[0;34m\u001b[0m\u001b[0;34m\u001b[0m\u001b[0m\n\u001b[1;32m    872\u001b[0m             \u001b[0;31m# Encoding\u001b[0m\u001b[0;34m\u001b[0m\u001b[0;34m\u001b[0m\u001b[0m\n\u001b[0;32m--> 873\u001b[0;31m             handle = open(\n\u001b[0m\u001b[1;32m    874\u001b[0m                 \u001b[0mhandle\u001b[0m\u001b[0;34m,\u001b[0m\u001b[0;34m\u001b[0m\u001b[0;34m\u001b[0m\u001b[0m\n\u001b[1;32m    875\u001b[0m                 \u001b[0mioargs\u001b[0m\u001b[0;34m.\u001b[0m\u001b[0mmode\u001b[0m\u001b[0;34m,\u001b[0m\u001b[0;34m\u001b[0m\u001b[0;34m\u001b[0m\u001b[0m\n",
            "\u001b[0;31mFileNotFoundError\u001b[0m: [Errno 2] No such file or directory: 'final_dataset1.csv'"
          ]
        }
      ]
    },
    {
      "cell_type": "code",
      "source": [],
      "metadata": {
        "id": "_HocmnacSf44"
      },
      "id": "_HocmnacSf44",
      "execution_count": null,
      "outputs": []
    },
    {
      "cell_type": "code",
      "execution_count": null,
      "id": "rvCaaB0MHJVt",
      "metadata": {
        "id": "rvCaaB0MHJVt"
      },
      "outputs": [],
      "source": [
        "Alloy_data.iloc[:, -4:] = Alloy_data.iloc[:, -4:].fillna(Alloy_data.iloc[:, -4:].mean())\n",
        "Alloy_data.head()"
      ]
    },
    {
      "cell_type": "code",
      "execution_count": null,
      "id": "CFYYYCiMLy6f",
      "metadata": {
        "id": "CFYYYCiMLy6f"
      },
      "outputs": [],
      "source": [
        "Alloy_data.isna().sum()"
      ]
    },
    {
      "cell_type": "markdown",
      "id": "nF7DeIIzRs1U",
      "metadata": {
        "id": "nF7DeIIzRs1U"
      },
      "source": [
        "# **Data Standardisation**"
      ]
    },
    {
      "cell_type": "code",
      "execution_count": null,
      "id": "I6W6lp4lSPWl",
      "metadata": {
        "id": "I6W6lp4lSPWl"
      },
      "outputs": [],
      "source": [
        "Alloy_data.shape"
      ]
    },
    {
      "cell_type": "code",
      "execution_count": null,
      "id": "3MemLCIWR257",
      "metadata": {
        "id": "3MemLCIWR257"
      },
      "outputs": [],
      "source": []
    },
    {
      "cell_type": "code",
      "execution_count": null,
      "id": "IkYTY_qWSeDX",
      "metadata": {
        "id": "IkYTY_qWSeDX"
      },
      "outputs": [],
      "source": [
        "X.head()"
      ]
    },
    {
      "cell_type": "code",
      "execution_count": null,
      "id": "Jr8M8EeySkUR",
      "metadata": {
        "id": "Jr8M8EeySkUR"
      },
      "outputs": [],
      "source": [
        "y.head()"
      ]
    },
    {
      "cell_type": "markdown",
      "id": "w4r2eX5wSzPs",
      "metadata": {
        "id": "w4r2eX5wSzPs"
      },
      "source": [
        "**Scaling of data**"
      ]
    },
    {
      "cell_type": "code",
      "execution_count": null,
      "id": "ZvththglS7VA",
      "metadata": {
        "id": "ZvththglS7VA"
      },
      "outputs": [],
      "source": [
        "sc = MinMaxScaler()\n",
        "\n",
        "X_scaled = pd.DataFrame(sc.fit_transform(X),columns=X.columns);\n",
        "columns_to_scale = ['PROPERTY: Calculated Density (g/cm$^3$)', 'PROPERTY: Test temperature ($^\\circ$C)', 'PROPERTY: YS (MPa)', 'PROPERTY: UTS (MPa)','PROPERTY: Elongation (%)','PROPERTY: Calculated Young modulus (GPa)']\n",
        "X_scaled = X_scaled.fillna(0)\n",
        "y_scaled = y.copy()\n",
        "y_scaled[columns_to_scale] = sc.fit_transform(y[columns_to_scale])"
      ]
    },
    {
      "cell_type": "code",
      "source": [
        "import pickle\n",
        "\n",
        "with open(\"sc.pkl\", \"wb\") as f:\n",
        "    pickle.dump(sc, f)\n"
      ],
      "metadata": {
        "id": "cEJnpPFwQa0K"
      },
      "id": "cEJnpPFwQa0K",
      "execution_count": null,
      "outputs": []
    },
    {
      "cell_type": "code",
      "execution_count": null,
      "id": "OwZCylnmVsUt",
      "metadata": {
        "id": "OwZCylnmVsUt"
      },
      "outputs": [],
      "source": [
        "X_scaled.head()"
      ]
    },
    {
      "cell_type": "code",
      "execution_count": null,
      "id": "fcAHogCkVkQf",
      "metadata": {
        "id": "fcAHogCkVkQf"
      },
      "outputs": [],
      "source": [
        "y_scaled.head()"
      ]
    },
    {
      "cell_type": "code",
      "execution_count": null,
      "id": "H_r5LvXSs_gJ",
      "metadata": {
        "id": "H_r5LvXSs_gJ"
      },
      "outputs": [],
      "source": [
        "y_scaled.columns"
      ]
    },
    {
      "cell_type": "code",
      "execution_count": null,
      "id": "XX_v41LtgCAj",
      "metadata": {
        "id": "XX_v41LtgCAj"
      },
      "outputs": [],
      "source": [
        "from sklearn.model_selection import train_test_split\n",
        "\n",
        "X_new,X_test,y_new,y_test = train_test_split(X_scaled,y_scaled,test_size=0.1,random_state=1);\n",
        "X_train,X_valid,y_train,y_valid = train_test_split(X_new,y_new,test_size=0.2,random_state=1)\n",
        "\n",
        "[X_train.shape,y_train.shape],[X_valid.shape,y_valid.shape],[X_test.shape,y_test.shape]"
      ]
    },
    {
      "cell_type": "code",
      "execution_count": null,
      "id": "vlQTaDmWhZ1C",
      "metadata": {
        "id": "vlQTaDmWhZ1C"
      },
      "outputs": [],
      "source": [
        "print(\"Training set shape:\", X_train.shape, y_train.shape)\n",
        "print(\"Validation set shape:\", X_valid.shape, y_valid.shape)\n",
        "print(\"Test set shape:\", X_test.shape, y_test.shape)"
      ]
    },
    {
      "cell_type": "code",
      "execution_count": null,
      "id": "6qcq3j-4Aln9",
      "metadata": {
        "id": "6qcq3j-4Aln9"
      },
      "outputs": [],
      "source": [
        "y_Test = sc.inverse_transform(y_test)\n",
        "actual_Calculated_Density = np.transpose(y_Test)[0]\n",
        "actual_Test_Temperature = np.transpose(y_Test)[1]\n",
        "actual_YS = np.transpose(y_Test)[2]\n",
        "actual_UTS = np.transpose(y_Test)[3]\n",
        "actual_Elongation = np.transpose(y_Test)[4]\n",
        "actual_Calculated_Youngs_Modulus = np.transpose(y_Test)[5]"
      ]
    },
    {
      "cell_type": "code",
      "execution_count": null,
      "id": "NaLeqJ8MBE0L",
      "metadata": {
        "id": "NaLeqJ8MBE0L"
      },
      "outputs": [],
      "source": [
        "actual_Calculated_Density"
      ]
    },
    {
      "cell_type": "markdown",
      "id": "K6MnnMWki4pF",
      "metadata": {
        "id": "K6MnnMWki4pF"
      },
      "source": [
        "# **Modelling**"
      ]
    },
    {
      "cell_type": "markdown",
      "id": "T9GeSede3brd",
      "metadata": {
        "id": "T9GeSede3brd"
      },
      "source": [
        "**Using various regression models to find the best one**"
      ]
    },
    {
      "cell_type": "code",
      "execution_count": null,
      "id": "Gy_kF8sUjicx",
      "metadata": {
        "id": "Gy_kF8sUjicx"
      },
      "outputs": [],
      "source": [
        "import xgboost as xgb\n",
        "\n",
        "def model_results(XTrain,XValid,yTrain,yValid):\n",
        "  models =[('Random Forest',RandomForestRegressor()),\n",
        "           ('MLP',MLPRegressor(max_iter = 1000)),\n",
        "           ('RidgeCV',MultiOutputRegressor(RidgeCV())),\n",
        "           ('SGD',MultiOutputRegressor(SGDRegressor())),\n",
        "           ('KNN', KNeighborsRegressor(n_neighbors=10)),\n",
        "           ('Support Vector',MultiOutputRegressor(SVR())),\n",
        "           ('Decision Tree',MultiOutputRegressor(DecisionTreeRegressor())),\n",
        "           ('AdaBoost',MultiOutputRegressor(AdaBoostRegressor())),\n",
        "           ('X_gb',MultiOutputRegressor(xgb.XGBRegressor())),\n",
        "           ('GradientBoost',MultiOutputRegressor(GradientBoostingRegressor())),\n",
        "          ]\n",
        "  finalResults = []\n",
        "\n",
        "  for name,model in models:\n",
        "      model.fit(XTrain, yTrain)\n",
        "      model_results = model.predict(XValid)\n",
        "      r2score = r2_score(yValid, model_results)\n",
        "      RMSE = np.sqrt(mean_squared_error(yValid, model_results))\n",
        "      MAE = mean_absolute_error(yValid, model_results)\n",
        "      finalResults.append((name, r2score, RMSE, MAE))\n",
        "\n",
        "  finalResults.sort(key=lambda k:k[2])\n",
        "  return finalResults\n",
        "\n"
      ]
    },
    {
      "cell_type": "code",
      "execution_count": null,
      "id": "Xq55tgEIj6rl",
      "metadata": {
        "id": "Xq55tgEIj6rl"
      },
      "outputs": [],
      "source": [
        "np.random.seed(42)\n",
        "np_results = model_results(X_train,X_valid,y_train,y_valid)\n",
        "results = pd.DataFrame(np_results,columns=['Model Name', 'R2 Score', 'RMSE', 'MAE'])\n",
        "results"
      ]
    },
    {
      "cell_type": "code",
      "execution_count": null,
      "id": "CXYKmrFZrXHW",
      "metadata": {
        "id": "CXYKmrFZrXHW"
      },
      "outputs": [],
      "source": [
        "import xgboost as xgb\n",
        "\n",
        "def model_test_results(XTrain,XTest,yTrain,yTest):\n",
        "  test_models =[('Linear', LinearRegression()),\n",
        "           ('Random Forest',RandomForestRegressor()),\n",
        "           ('MLP',MLPRegressor(max_iter = 1000)),\n",
        "           ('RidgeCV',MultiOutputRegressor(RidgeCV())),\n",
        "           ('SGD',MultiOutputRegressor(SGDRegressor())),\n",
        "           ('KNN', KNeighborsRegressor(n_neighbors=10)),\n",
        "           ('Support Vector',MultiOutputRegressor(SVR())),\n",
        "           ('Decision Tree',MultiOutputRegressor(DecisionTreeRegressor())),\n",
        "           ('AdaBoost',MultiOutputRegressor(AdaBoostRegressor())),\n",
        "           ('X_gb',MultiOutputRegressor(xgb.XGBRegressor())),\n",
        "           ('GradientBoost',MultiOutputRegressor(GradientBoostingRegressor())),\n",
        "          ]\n",
        "  finalResults = []\n",
        "\n",
        "  for name,model in test_models:\n",
        "      model.fit(XTrain, yTrain)\n",
        "      model_results = model.predict(XTest)\n",
        "      r2score = r2_score(yTest, model_results)\n",
        "      RMSE = np.sqrt(mean_squared_error(yTest, model_results))\n",
        "      MAE = mean_absolute_error(yTest, model_results)\n",
        "      finalResults.append((name, r2score, RMSE, MAE))\n",
        "  finalResults.sort(key=lambda k:k[2])\n",
        "  return finalResults\n"
      ]
    },
    {
      "cell_type": "code",
      "execution_count": null,
      "id": "rkJxUc-ErZbY",
      "metadata": {
        "id": "rkJxUc-ErZbY"
      },
      "outputs": [],
      "source": [
        "np.random.seed(42)\n",
        "np__test_results = model_test_results(X_train,X_test,y_train,y_test)\n",
        "test_results = pd.DataFrame(np__test_results,columns=['Model Name', 'R2 Score', 'RMSE', 'MAE'])\n",
        "test_results"
      ]
    },
    {
      "cell_type": "code",
      "execution_count": null,
      "id": "bgkTHhn7TD7A",
      "metadata": {
        "id": "bgkTHhn7TD7A"
      },
      "outputs": [],
      "source": [
        "names = []\n",
        "r2score = []\n",
        "rmse = []\n",
        "mae = []\n",
        "for model in np_results:\n",
        "  names.append(model[0])\n",
        "  r2score.append(model[1])\n",
        "  rmse.append(model[2])\n",
        "  mae.append(model[3])"
      ]
    },
    {
      "cell_type": "markdown",
      "id": "MmjZaFqPS3P2",
      "metadata": {
        "id": "MmjZaFqPS3P2"
      },
      "source": [
        "r2 score comparison"
      ]
    },
    {
      "cell_type": "code",
      "execution_count": null,
      "id": "O5hhVltRS9Vg",
      "metadata": {
        "id": "O5hhVltRS9Vg"
      },
      "outputs": [],
      "source": [
        "fig = plt.figure(figsize = (16, 8))\n",
        "plt.bar(names,r2score,width=0.8,color='#6DA9E4')\n",
        "plt.title('r2score comparison')"
      ]
    },
    {
      "cell_type": "markdown",
      "id": "TCcfYJ-tTP9J",
      "metadata": {
        "id": "TCcfYJ-tTP9J"
      },
      "source": [
        "rmse comparison"
      ]
    },
    {
      "cell_type": "code",
      "execution_count": null,
      "id": "QpJjyj4tTW3l",
      "metadata": {
        "id": "QpJjyj4tTW3l"
      },
      "outputs": [],
      "source": [
        "fig = plt.figure(figsize = (16, 8))\n",
        "plt.bar(names,rmse,width=0.8,color='#6DA9E4')\n",
        "plt.title('rmse comparison')"
      ]
    },
    {
      "cell_type": "markdown",
      "id": "GX01atGfQu4S",
      "metadata": {
        "id": "GX01atGfQu4S"
      },
      "source": [
        "mae comparison"
      ]
    },
    {
      "cell_type": "code",
      "execution_count": null,
      "id": "1gMHp07QTm3o",
      "metadata": {
        "id": "1gMHp07QTm3o"
      },
      "outputs": [],
      "source": [
        "fig = plt.figure(figsize = (16, 8))\n",
        "plt.bar(names,mae,width=0.8,color='#6DA9E4')\n",
        "plt.title('mae comparison')"
      ]
    },
    {
      "cell_type": "code",
      "execution_count": null,
      "id": "-yxf3wCKQuA8",
      "metadata": {
        "id": "-yxf3wCKQuA8"
      },
      "outputs": [],
      "source": [
        "Final_models = results.iloc[:1, :]\n",
        "Final_models"
      ]
    },
    {
      "cell_type": "markdown",
      "id": "ILMQnnkwpYfc",
      "metadata": {
        "id": "ILMQnnkwpYfc"
      },
      "source": [
        "Regression using Neural Network"
      ]
    },
    {
      "cell_type": "code",
      "execution_count": null,
      "id": "JYGiBa1kpZWH",
      "metadata": {
        "id": "JYGiBa1kpZWH"
      },
      "outputs": [],
      "source": [
        "from tensorflow import keras\n",
        "from keras.models import Sequential\n",
        "from keras.layers import Dense"
      ]
    },
    {
      "cell_type": "code",
      "execution_count": null,
      "id": "Ji7fa11ipy1m",
      "metadata": {
        "id": "Ji7fa11ipy1m"
      },
      "outputs": [],
      "source": [
        "model = Sequential()\n",
        "model.add(Dense(128, input_dim=26, activation='tanh'))\n",
        "model.add(Dense(64, activation='tanh'))\n",
        "model.add(Dense(32, activation='tanh'))\n",
        "model.add(Dense(6, activation='linear'))\n",
        "\n",
        "model.compile(loss=keras.losses.mse,\n",
        "                 optimizer=keras.optimizers.Adam(),\n",
        "                 metrics=[\"mse\"])"
      ]
    },
    {
      "cell_type": "code",
      "execution_count": null,
      "id": "GrQgqHkRuoUr",
      "metadata": {
        "id": "GrQgqHkRuoUr"
      },
      "outputs": [],
      "source": [
        "history = model.fit(X_train, y_train, batch_size = 128, shuffle=True, epochs=500)"
      ]
    },
    {
      "cell_type": "code",
      "execution_count": null,
      "id": "aO8Jy6RByQ_1",
      "metadata": {
        "id": "aO8Jy6RByQ_1"
      },
      "outputs": [],
      "source": [
        "y_pred = model.predict(X_valid)"
      ]
    },
    {
      "cell_type": "code",
      "execution_count": null,
      "id": "rEITU50k76eI",
      "metadata": {
        "id": "rEITU50k76eI"
      },
      "outputs": [],
      "source": [
        "NN_res = {'Model Name':'Neural Network',\t'R2 Score':\tr2_score(y_valid, y_pred),'RMSE':np.sqrt(mean_squared_error(y_valid, y_pred)), 'MAE':mean_absolute_error(y_valid, y_pred)}"
      ]
    },
    {
      "cell_type": "code",
      "execution_count": null,
      "id": "WFCE8CYm8LaB",
      "metadata": {
        "id": "WFCE8CYm8LaB"
      },
      "outputs": [],
      "source": [
        "Final_models = pd.concat([Final_models, pd.DataFrame([NN_res])], ignore_index=True)"
      ]
    },
    {
      "cell_type": "code",
      "execution_count": null,
      "id": "IxqJqAjs8TgU",
      "metadata": {
        "id": "IxqJqAjs8TgU"
      },
      "outputs": [],
      "source": [
        "Final_models"
      ]
    },
    {
      "cell_type": "code",
      "execution_count": null,
      "id": "BDBye7658XzK",
      "metadata": {
        "id": "BDBye7658XzK"
      },
      "outputs": [],
      "source": [
        "NN_test_y_pred = model.predict(X_test)"
      ]
    },
    {
      "cell_type": "code",
      "execution_count": null,
      "id": "fFKnXWvl8cYt",
      "metadata": {
        "id": "fFKnXWvl8cYt"
      },
      "outputs": [],
      "source": [
        "NN_Final_results = {'r2score':r2_score(y_test,NN_test_y_pred),'rmse':np.sqrt(mean_squared_error(y_test,NN_test_y_pred)),'mae':mean_absolute_error(y_test,NN_test_y_pred)}\n",
        "NN_Final_results"
      ]
    },
    {
      "cell_type": "markdown",
      "id": "ECdqveSE0NNj",
      "metadata": {
        "id": "ECdqveSE0NNj"
      },
      "source": [
        "# Boosting Parameters"
      ]
    },
    {
      "cell_type": "markdown",
      "id": "6-fUnsxp0S0Q",
      "metadata": {
        "id": "6-fUnsxp0S0Q"
      },
      "source": [
        "**learning_rate**"
      ]
    },
    {
      "cell_type": "code",
      "execution_count": null,
      "id": "5qbsm7Tq0WQU",
      "metadata": {
        "id": "5qbsm7Tq0WQU"
      },
      "outputs": [],
      "source": [
        "def parameter_LR(XTrain,yTrain,XValid,yValid):\n",
        "  LR = [0.0001,0.001,0.01,0.1,0.2,0.3,0.4,0.55,0.573,0.5,0.6,0.7,0.8,0.9,1]\n",
        "  Results = []\n",
        "  for lr in LR:\n",
        "    model = MultiOutputRegressor(GradientBoostingRegressor(random_state = 1, learning_rate = lr))\n",
        "    model.fit(XTrain,yTrain)\n",
        "    y_pred = model.predict(XValid)\n",
        "    r2score = r2_score(yValid,y_pred)\n",
        "    RMSE = np.sqrt(mean_squared_error(yValid,y_pred))\n",
        "    MAE = mean_absolute_error(yValid,y_pred)\n",
        "    Results.append((lr, r2score, RMSE, MAE))\n",
        "  Results.sort(key=lambda k:k[2])\n",
        "  return pd.DataFrame(Results,columns=['LR', 'R2 Score', 'RMSE', 'MAE'])"
      ]
    },
    {
      "cell_type": "code",
      "execution_count": null,
      "id": "VXjU6zIxyS4F",
      "metadata": {
        "id": "VXjU6zIxyS4F"
      },
      "outputs": [],
      "source": [
        "Results_LR = parameter_LR(X_train,y_train,X_valid,y_valid)\n",
        "Results_LR"
      ]
    },
    {
      "cell_type": "code",
      "execution_count": null,
      "id": "Na4KSVzW0jCL",
      "metadata": {
        "id": "Na4KSVzW0jCL"
      },
      "outputs": [],
      "source": [
        "best_LR = Results_LR.iloc[0,0]\n",
        "best_LR"
      ]
    },
    {
      "cell_type": "markdown",
      "id": "eltmAeWT0nD6",
      "metadata": {
        "id": "eltmAeWT0nD6"
      },
      "source": [
        "**n_estimators**"
      ]
    },
    {
      "cell_type": "code",
      "execution_count": null,
      "id": "DEBgBgaG0kT6",
      "metadata": {
        "id": "DEBgBgaG0kT6"
      },
      "outputs": [],
      "source": [
        "def parameter_estimator(XTrain,yTrain,XValid,yValid):\n",
        "  estimators = [100,200,300,400,500,700,1000]\n",
        "  Results = []\n",
        "  for estimator in estimators:\n",
        "    model = MultiOutputRegressor(GradientBoostingRegressor(random_state = 1,learning_rate = best_LR,n_estimators = estimator))\n",
        "    model.fit(X_train,y_train)\n",
        "    y_pred = model.predict(X_valid)\n",
        "    r2score = r2_score(y_valid,y_pred)\n",
        "    RMSE = np.sqrt(mean_squared_error(y_valid,y_pred))\n",
        "    MAE = mean_absolute_error(y_valid,y_pred)\n",
        "    Results.append((estimator, r2score, RMSE, MAE))\n",
        "  Results.sort(key=lambda k:k[2])\n",
        "  return pd.DataFrame(Results,columns=['estimator', 'R2 Score', 'RMSE', 'MAE'])"
      ]
    },
    {
      "cell_type": "code",
      "execution_count": null,
      "id": "RghXOPIU0yri",
      "metadata": {
        "id": "RghXOPIU0yri"
      },
      "outputs": [],
      "source": [
        "Results_estimator = parameter_estimator(X_train,y_train,X_valid,y_valid)\n",
        "Results_estimator"
      ]
    },
    {
      "cell_type": "code",
      "execution_count": null,
      "id": "z33_V4Jx02D8",
      "metadata": {
        "id": "z33_V4Jx02D8"
      },
      "outputs": [],
      "source": [
        "best_n_estimator = Results_estimator.iloc[0,0]\n",
        "best_n_estimator"
      ]
    },
    {
      "cell_type": "markdown",
      "id": "YIpdoXtC05E2",
      "metadata": {
        "id": "YIpdoXtC05E2"
      },
      "source": [
        "**subsample**"
      ]
    },
    {
      "cell_type": "code",
      "execution_count": null,
      "id": "oE5WMYj207E4",
      "metadata": {
        "id": "oE5WMYj207E4"
      },
      "outputs": [],
      "source": [
        "def parameter_subsample(XTrain,yTrain,XValid,yValid):\n",
        "  samples = [0.1,0.2,0.3,0.4,0.5,0.6,0.7,0.8,0.9,1]\n",
        "  Results = []\n",
        "  for x in samples:\n",
        "    model = MultiOutputRegressor(GradientBoostingRegressor(random_state = 1, learning_rate = best_LR, n_estimators = best_n_estimator, subsample = x))\n",
        "    model.fit(XTrain,yTrain)\n",
        "    y_pred = model.predict(XValid)\n",
        "    r2score = r2_score(yValid,y_pred)\n",
        "    RMSE = np.sqrt(mean_squared_error(yValid,y_pred))\n",
        "    MAE = mean_absolute_error(yValid,y_pred)\n",
        "    Results.append((x, r2score, RMSE, MAE))\n",
        "  Results.sort(key=lambda k:k[2])\n",
        "  return pd.DataFrame(Results,columns=['subsample', 'R2 Score', 'RMSE', 'MAE'])"
      ]
    },
    {
      "cell_type": "code",
      "execution_count": null,
      "id": "cNC-OAy_1ChK",
      "metadata": {
        "id": "cNC-OAy_1ChK"
      },
      "outputs": [],
      "source": [
        "Results_subsample = parameter_subsample(X_train,y_train,X_valid,y_valid)\n",
        "Results_subsample"
      ]
    },
    {
      "cell_type": "code",
      "execution_count": null,
      "id": "q3MNW71r1GTA",
      "metadata": {
        "id": "q3MNW71r1GTA"
      },
      "outputs": [],
      "source": [
        "best_subsample= Results_subsample.iloc[0,0]\n",
        "best_subsample"
      ]
    },
    {
      "cell_type": "markdown",
      "id": "3KK2m6zA1Mb6",
      "metadata": {
        "id": "3KK2m6zA1Mb6"
      },
      "source": [
        "# Tree-Based Parameters"
      ]
    },
    {
      "cell_type": "markdown",
      "id": "QL_pCird1_tI",
      "metadata": {
        "id": "QL_pCird1_tI"
      },
      "source": [
        "**min_samples_split**"
      ]
    },
    {
      "cell_type": "code",
      "execution_count": null,
      "id": "tYdBbnXC2DUE",
      "metadata": {
        "id": "tYdBbnXC2DUE"
      },
      "outputs": [],
      "source": [
        "def parameter_split(XTrain,yTrain,XValid,yValid):\n",
        "  splits = [2,3,4,5,6,7,8,9,10]\n",
        "  Results = []\n",
        "  for x in splits:\n",
        "    model = MultiOutputRegressor(GradientBoostingRegressor(random_state = 1, learning_rate = best_LR, n_estimators = best_n_estimator,min_samples_split=x))\n",
        "    model.fit(XTrain,yTrain)\n",
        "    y_pred = model.predict(XValid)\n",
        "    r2score = r2_score(yValid,y_pred)\n",
        "    RMSE = np.sqrt(mean_squared_error(yValid,y_pred))\n",
        "    MAE = mean_absolute_error(yValid,y_pred)\n",
        "    Results.append((x, r2score, RMSE, MAE))\n",
        "  Results.sort(key=lambda k:k[2])\n",
        "  return pd.DataFrame(Results,columns=['min_sample_split', 'R2 Score', 'RMSE', 'MAE'])"
      ]
    },
    {
      "cell_type": "code",
      "execution_count": null,
      "id": "4PsO9Tia2If4",
      "metadata": {
        "id": "4PsO9Tia2If4"
      },
      "outputs": [],
      "source": [
        "Results_split = parameter_split(X_train,y_train,X_valid,y_valid)\n",
        "Results_split"
      ]
    },
    {
      "cell_type": "code",
      "execution_count": null,
      "id": "EDMhTlrd2NKb",
      "metadata": {
        "id": "EDMhTlrd2NKb"
      },
      "outputs": [],
      "source": [
        "best_split= Results_split.iloc[0,0]\n",
        "best_split"
      ]
    },
    {
      "cell_type": "markdown",
      "id": "mqHcePiu2PJl",
      "metadata": {
        "id": "mqHcePiu2PJl"
      },
      "source": [
        "**max_leaf_nodes**"
      ]
    },
    {
      "cell_type": "code",
      "execution_count": null,
      "id": "rfgkXPxL2Tus",
      "metadata": {
        "id": "rfgkXPxL2Tus"
      },
      "outputs": [],
      "source": [
        "def parameter_nodes(XTrain,yTrain,XValid,yValid):\n",
        "  nodes = [2,3,4,5,6,7,8,9,10]\n",
        "  Results = []\n",
        "  for x in nodes:\n",
        "    model = MultiOutputRegressor(GradientBoostingRegressor(random_state = 1, learning_rate = best_LR, n_estimators = best_n_estimator,min_samples_split=best_split, max_leaf_nodes = x))\n",
        "    model.fit(XTrain,yTrain)\n",
        "    y_pred = model.predict(XValid)\n",
        "    r2score = r2_score(yValid,y_pred)\n",
        "    RMSE = np.sqrt(mean_squared_error(yValid,y_pred))\n",
        "    MAE = mean_absolute_error(yValid,y_pred)\n",
        "    Results.append((x, r2score, RMSE, MAE))\n",
        "  Results.sort(key=lambda k:k[2])\n",
        "  return pd.DataFrame(Results,columns=['max_leaf_nodes', 'R2 Score', 'RMSE', 'MAE'])"
      ]
    },
    {
      "cell_type": "code",
      "execution_count": null,
      "id": "snaGVkBN2aZs",
      "metadata": {
        "id": "snaGVkBN2aZs"
      },
      "outputs": [],
      "source": [
        "Results_nodes = parameter_nodes(X_train,y_train,X_valid,y_valid)\n",
        "Results_nodes"
      ]
    },
    {
      "cell_type": "code",
      "execution_count": null,
      "id": "fG3adNUD2dE8",
      "metadata": {
        "id": "fG3adNUD2dE8"
      },
      "outputs": [],
      "source": [
        "best_ln = Results_nodes.iloc[0,0]\n",
        "best_ln"
      ]
    },
    {
      "cell_type": "markdown",
      "id": "d7lZGG9D2goo",
      "metadata": {
        "id": "d7lZGG9D2goo"
      },
      "source": [
        "# Miscellaneous Parameters"
      ]
    },
    {
      "cell_type": "markdown",
      "id": "kGjZvrFC2kKi",
      "metadata": {
        "id": "kGjZvrFC2kKi"
      },
      "source": [
        "**loss**"
      ]
    },
    {
      "cell_type": "code",
      "execution_count": null,
      "id": "wN5LKBw02iEH",
      "metadata": {
        "id": "wN5LKBw02iEH"
      },
      "outputs": [],
      "source": [
        "def parameter_loss(XTrain,yTrain,XValid,yValid):\n",
        "  losses = [\"squared_error\",\"absolute_error\",\"huber\",\"quantile\"]\n",
        "  Results = []\n",
        "  for x in losses:\n",
        "    model = MultiOutputRegressor(GradientBoostingRegressor(random_state = 1, learning_rate = best_LR, n_estimators = best_n_estimator,min_samples_split=best_split,max_leaf_nodes = best_ln , loss = x))\n",
        "    model.fit(XTrain,yTrain)\n",
        "    y_pred = model.predict(XValid)\n",
        "    r2score = r2_score(yValid,y_pred)\n",
        "    RMSE = np.sqrt(mean_squared_error(yValid,y_pred))\n",
        "    MAE = mean_absolute_error(yValid,y_pred)\n",
        "    Results.append((x, r2score, RMSE, MAE))\n",
        "  Results.sort(key=lambda k:k[2])\n",
        "  return pd.DataFrame(Results,columns=['Loss', 'R2 Score', 'RMSE', 'MAE'])"
      ]
    },
    {
      "cell_type": "code",
      "execution_count": null,
      "id": "gsV837jf20lL",
      "metadata": {
        "id": "gsV837jf20lL"
      },
      "outputs": [],
      "source": [
        "Results_loss = parameter_loss(X_train,y_train,X_valid,y_valid)"
      ]
    },
    {
      "cell_type": "code",
      "execution_count": null,
      "id": "RXlVNynl23cj",
      "metadata": {
        "id": "RXlVNynl23cj"
      },
      "outputs": [],
      "source": [
        "Results_loss"
      ]
    },
    {
      "cell_type": "code",
      "execution_count": null,
      "id": "q36qOWrn259n",
      "metadata": {
        "id": "q36qOWrn259n"
      },
      "outputs": [],
      "source": [
        "best_loss = Results_loss.iloc[0,0]\n",
        "best_loss"
      ]
    },
    {
      "cell_type": "markdown",
      "id": "wDLmhnHf3A4X",
      "metadata": {
        "id": "wDLmhnHf3A4X"
      },
      "source": [
        "criterion"
      ]
    },
    {
      "cell_type": "code",
      "execution_count": null,
      "id": "Qy9YExku2_SX",
      "metadata": {
        "id": "Qy9YExku2_SX"
      },
      "outputs": [],
      "source": [
        "def parameter_criterion(XTrain,yTrain,XValid,yValid):\n",
        "  criterion = ['friedman_mse', 'squared_error']\n",
        "  Results = []\n",
        "  for x in criterion:\n",
        "    model = MultiOutputRegressor(GradientBoostingRegressor(random_state = 1, learning_rate = best_LR, n_estimators = best_n_estimator,min_samples_split=best_split,max_leaf_nodes = best_ln ,loss = best_loss,criterion = x))\n",
        "    model.fit(XTrain,yTrain)\n",
        "    y_pred = model.predict(XValid)\n",
        "    r2score = r2_score(yValid,y_pred)\n",
        "    RMSE = np.sqrt(mean_squared_error(yValid,y_pred))\n",
        "    MAE = mean_absolute_error(yValid,y_pred)\n",
        "    Results.append((x, r2score, RMSE, MAE))\n",
        "  Results.sort(key=lambda k:k[2])\n",
        "  return pd.DataFrame(Results,columns=['subsample', 'R2 Score', 'RMSE', 'MAE'])\n"
      ]
    },
    {
      "cell_type": "code",
      "execution_count": null,
      "id": "DBwsIqwE3Qj2",
      "metadata": {
        "id": "DBwsIqwE3Qj2"
      },
      "outputs": [],
      "source": [
        "Results_criterion = parameter_criterion(X_train,y_train,X_valid,y_valid)"
      ]
    },
    {
      "cell_type": "code",
      "execution_count": null,
      "id": "gw_226553Yc2",
      "metadata": {
        "id": "gw_226553Yc2"
      },
      "outputs": [],
      "source": [
        "Results_criterion"
      ]
    },
    {
      "cell_type": "code",
      "execution_count": null,
      "id": "hSj9YHfD3bU9",
      "metadata": {
        "id": "hSj9YHfD3bU9"
      },
      "outputs": [],
      "source": [
        "best_criterion = Results_criterion.iloc[0,0]\n",
        "best_criterion"
      ]
    },
    {
      "cell_type": "markdown",
      "id": "TokJnY8M3933",
      "metadata": {
        "id": "TokJnY8M3933"
      },
      "source": [
        "# **GB Tuned Results**"
      ]
    },
    {
      "cell_type": "markdown",
      "id": "SSQPtDif4ADs",
      "metadata": {
        "id": "SSQPtDif4ADs"
      },
      "source": [
        "**GB Tuned Parameters:**"
      ]
    },
    {
      "cell_type": "code",
      "execution_count": null,
      "id": "pce3ZY8s4DJ0",
      "metadata": {
        "id": "pce3ZY8s4DJ0"
      },
      "outputs": [],
      "source": [
        "print(\"Learning_Rate: \",best_LR)\n",
        "print(\"n_estimator: \",best_n_estimator)\n",
        "print(\"min_samples_split: \",best_split)\n",
        "print(\"max_leaf_nodes: \",best_ln)\n",
        "print(\"loss: \", best_loss)\n",
        "print(\"Criterion: \",best_criterion)"
      ]
    },
    {
      "cell_type": "code",
      "execution_count": null,
      "id": "P9Xy2Ci54MjI",
      "metadata": {
        "id": "P9Xy2Ci54MjI"
      },
      "outputs": [],
      "source": [
        "Final_validation_model = MultiOutputRegressor(GradientBoostingRegressor(random_state = 1, learning_rate = best_LR, n_estimators = best_n_estimator,min_samples_split=best_split,max_leaf_nodes = best_ln ,loss = best_loss,criterion = best_criterion))\n",
        "Final_validation_model.fit(X_train,y_train)\n",
        "final_validation_pred = Final_validation_model.predict(X_valid)"
      ]
    },
    {
      "cell_type": "code",
      "execution_count": null,
      "id": "f8qmGPn04PE9",
      "metadata": {
        "id": "f8qmGPn04PE9"
      },
      "outputs": [],
      "source": [
        "Final_validation_results = {'r2score':r2_score(y_valid,final_validation_pred),'rmse':np.sqrt(mean_squared_error(y_valid,final_validation_pred)),'mae':mean_absolute_error(y_valid,final_validation_pred)}\n",
        "Final_validation_results"
      ]
    },
    {
      "cell_type": "markdown",
      "id": "Ti_93Teu4bmv",
      "metadata": {
        "id": "Ti_93Teu4bmv"
      },
      "source": [
        "# **Predictions**"
      ]
    },
    {
      "cell_type": "code",
      "execution_count": null,
      "id": "J6scfPDn4d8b",
      "metadata": {
        "id": "J6scfPDn4d8b"
      },
      "outputs": [],
      "source": [
        "Final_model = MultiOutputRegressor(GradientBoostingRegressor(random_state = 1, learning_rate = best_LR, n_estimators = best_n_estimator,min_samples_split=best_split,max_leaf_nodes = best_ln ,loss = best_loss,criterion = best_criterion))\n",
        "Final_model.fit(X_train,y_train)\n",
        "final_pred = Final_model.predict(X_test)"
      ]
    },
    {
      "cell_type": "code",
      "execution_count": null,
      "id": "d0e4bdc8-83ca-4fc0-a17c-768677c4017a",
      "metadata": {
        "id": "d0e4bdc8-83ca-4fc0-a17c-768677c4017a"
      },
      "outputs": [],
      "source": [
        "final_pred_original = sc.inverse_transform(final_pred)"
      ]
    },
    {
      "cell_type": "code",
      "source": [
        "final_pred_original"
      ],
      "metadata": {
        "id": "Kt_mxXECMKzc"
      },
      "id": "Kt_mxXECMKzc",
      "execution_count": null,
      "outputs": []
    },
    {
      "cell_type": "code",
      "execution_count": null,
      "id": "c3a022b5-0923-419e-9d15-211cd146b7f8",
      "metadata": {
        "id": "c3a022b5-0923-419e-9d15-211cd146b7f8"
      },
      "outputs": [],
      "source": [
        "Final_results = {'r2score':r2_score(y_test,final_pred),'rmse':np.sqrt(mean_squared_error(y_test,final_pred)),'mae':mean_absolute_error(y_test,final_pred)}\n",
        "Final_results"
      ]
    },
    {
      "cell_type": "code",
      "execution_count": null,
      "id": "Vt28cle24vwE",
      "metadata": {
        "id": "Vt28cle24vwE"
      },
      "outputs": [],
      "source": [
        "Final_pred = sc.inverse_transform(final_pred)\n",
        "GB_Calculated_Density = np.transpose(Final_pred)[0]\n",
        "GB_Test_temperature = np.transpose(Final_pred)[1]\n",
        "GB_YS = np.transpose(Final_pred)[2]\n",
        "GB_UTS = np.transpose(Final_pred)[3]\n",
        "GB_Elongation = np.transpose(Final_pred)[4]\n",
        "GB_Calculated_Young_modulus = np.transpose(Final_pred)[5]"
      ]
    },
    {
      "cell_type": "code",
      "execution_count": null,
      "id": "I8P7urwb42-e",
      "metadata": {
        "id": "I8P7urwb42-e"
      },
      "outputs": [],
      "source": [
        "Final_pred = pd.DataFrame(Final_pred,columns = y_test.columns)"
      ]
    },
    {
      "cell_type": "code",
      "execution_count": null,
      "id": "7ePzEDVB46cn",
      "metadata": {
        "id": "7ePzEDVB46cn"
      },
      "outputs": [],
      "source": [
        "y_Test = pd.DataFrame(y_Test,columns = y_test.columns)"
      ]
    },
    {
      "cell_type": "markdown",
      "id": "Iipds6pk5Q6l",
      "metadata": {
        "id": "Iipds6pk5Q6l"
      },
      "source": [
        "# **Graphical Visualization**"
      ]
    },
    {
      "cell_type": "markdown",
      "id": "36l9Kd3jB7W8",
      "metadata": {
        "id": "36l9Kd3jB7W8"
      },
      "source": [
        "**Calculated Density**"
      ]
    },
    {
      "cell_type": "code",
      "execution_count": null,
      "id": "EMDLPpFb5SfB",
      "metadata": {
        "id": "EMDLPpFb5SfB"
      },
      "outputs": [],
      "source": [
        "fig ,(ax0) = plt.subplots(figsize=(16,8))\n",
        "ax0.scatter(GB_Calculated_Density, actual_Calculated_Density, color = 'hotpink', s=18)\n",
        "x_min = min(GB_Calculated_Density.min(), actual_Calculated_Density.min())\n",
        "x_max = max(GB_Calculated_Density.max(), actual_Calculated_Density.max())\n",
        "x3 = np.linspace(x_min, x_max, 1000)\n",
        "y3 = x3\n",
        "ax0.plot(x3, y3)\n",
        "ax0.set_title('Calculated Density', fontsize = 20)\n",
        "ax0.set_xlabel('predicted_Calculated_Density', fontsize = 14)\n",
        "ax0.set_ylabel('actual_Calculated_Density', fontsize = 14)\n",
        "plt.show()"
      ]
    },
    {
      "cell_type": "markdown",
      "id": "Ttx03-aeB-kc",
      "metadata": {
        "id": "Ttx03-aeB-kc"
      },
      "source": [
        "**Test Temperature**"
      ]
    },
    {
      "cell_type": "code",
      "execution_count": null,
      "id": "3BbtiOPS-PP7",
      "metadata": {
        "id": "3BbtiOPS-PP7"
      },
      "outputs": [],
      "source": [
        "fig ,(ax0) = plt.subplots(figsize=(16,8))\n",
        "ax0.scatter(GB_Test_temperature, actual_Test_Temperature, color = 'hotpink', s=18)\n",
        "x_max = max(GB_Test_temperature.max(), actual_Test_Temperature.max())\n",
        "x_min = min(GB_Test_temperature.min(), actual_Test_Temperature.min())\n",
        "x3 = np.linspace(x_min, x_max, 1000)\n",
        "y3 = x3\n",
        "ax0.plot(x3, y3)\n",
        "ax0.set_title('Test Temperature', fontsize = 20)\n",
        "ax0.set_xlabel('predicted_Test_temperature', fontsize = 14)\n",
        "ax0.set_ylabel('actual_Test_Temperature', fontsize = 14)\n",
        "plt.show()"
      ]
    },
    {
      "cell_type": "markdown",
      "id": "SUuc8d3Yf_d-",
      "metadata": {
        "id": "SUuc8d3Yf_d-"
      },
      "source": [
        "**Yield Strength**"
      ]
    },
    {
      "cell_type": "code",
      "execution_count": null,
      "id": "jsai6nl0DArA",
      "metadata": {
        "id": "jsai6nl0DArA"
      },
      "outputs": [],
      "source": [
        "fig ,(ax0) = plt.subplots(figsize=(16,8))\n",
        "ax0.scatter(GB_YS, actual_YS, color = 'hotpink', s=18)\n",
        "x_max = max(GB_YS.max(), actual_YS.max())\n",
        "x_min = min(GB_YS.min(), actual_YS.min())\n",
        "x3 = np.linspace(x_min, x_max, 1000)\n",
        "y3 = x3\n",
        "ax0.plot(x3, y3)\n",
        "ax0.set_title('Yield Strength', fontsize = 20)\n",
        "ax0.set_xlabel('predicted_Yield_Strength', fontsize = 14)\n",
        "ax0.set_ylabel('actual_Yirld_Strength', fontsize = 14)\n",
        "plt.show()"
      ]
    },
    {
      "cell_type": "markdown",
      "id": "XvF9ktj9gMSy",
      "metadata": {
        "id": "XvF9ktj9gMSy"
      },
      "source": [
        "**Ultimate Tensile Strength**"
      ]
    },
    {
      "cell_type": "code",
      "execution_count": null,
      "id": "kIMj2wuwDhB7",
      "metadata": {
        "id": "kIMj2wuwDhB7"
      },
      "outputs": [],
      "source": [
        "fig ,(ax0) = plt.subplots(figsize=(16,8))\n",
        "ax0.scatter(GB_UTS, actual_UTS, color = 'hotpink', s=18)\n",
        "x_max = max(GB_UTS.max(), actual_UTS.max())\n",
        "x_min = min(GB_UTS.min(), actual_UTS.min())\n",
        "x3 = np.linspace(x_min, x_max, 1000)\n",
        "y3 = x3\n",
        "ax0.plot(x3, y3)\n",
        "ax0.set_title('Ultimate Tensile Strength', fontsize = 20)\n",
        "ax0.set_xlabel('predicted_UTS', fontsize = 14)\n",
        "ax0.set_ylabel('actual_UTS', fontsize = 14)\n",
        "plt.show()"
      ]
    },
    {
      "cell_type": "markdown",
      "id": "GNlhNUU0gRZF",
      "metadata": {
        "id": "GNlhNUU0gRZF"
      },
      "source": [
        "**Elongation**"
      ]
    },
    {
      "cell_type": "code",
      "execution_count": null,
      "id": "vuvMQ6QsD80a",
      "metadata": {
        "id": "vuvMQ6QsD80a"
      },
      "outputs": [],
      "source": [
        "fig ,(ax0) = plt.subplots(figsize=(16,8))\n",
        "ax0.scatter(GB_Elongation, actual_Elongation, color = 'hotpink', s=18)\n",
        "x_max = max(GB_Elongation.max(), actual_Elongation.max())\n",
        "x_min = min(GB_Elongation.min(), actual_Elongation.min())\n",
        "x3 = np.linspace(x_min, x_max, 1000)\n",
        "y3 = x3\n",
        "ax0.plot(x3, y3)\n",
        "ax0.set_title('Elongation', fontsize = 20)\n",
        "ax0.set_xlabel('predicted_Elongation', fontsize = 14)\n",
        "ax0.set_ylabel('actual_Elongation', fontsize = 14)\n",
        "plt.show()"
      ]
    },
    {
      "cell_type": "markdown",
      "id": "1vaz757sgVMA",
      "metadata": {
        "id": "1vaz757sgVMA"
      },
      "source": [
        "**Calculated Youngs Modulus**"
      ]
    },
    {
      "cell_type": "code",
      "execution_count": null,
      "id": "L9m8y9SUEO3b",
      "metadata": {
        "id": "L9m8y9SUEO3b"
      },
      "outputs": [],
      "source": [
        "fig ,(ax0) = plt.subplots(figsize=(16,8))\n",
        "ax0.scatter(GB_Calculated_Young_modulus, actual_Calculated_Youngs_Modulus, color = 'hotpink', s=18)\n",
        "x_max = max(GB_Calculated_Young_modulus.max(), actual_Calculated_Youngs_Modulus.max())\n",
        "x_min = min(GB_Calculated_Young_modulus.min(), actual_Calculated_Youngs_Modulus.min())\n",
        "x3 = np.linspace(x_min, x_max, 1000)\n",
        "y3 = x3\n",
        "ax0.plot(x3, y3)\n",
        "ax0.set_title('Calculated Youngs Modulus', fontsize = 20)\n",
        "ax0.set_xlabel('predicted_CYM', fontsize = 14)\n",
        "ax0.set_ylabel('actual_CYM', fontsize = 14)\n",
        "plt.show()"
      ]
    },
    {
      "cell_type": "code",
      "execution_count": null,
      "id": "d99cdeeb-8294-48b6-97fa-f844de6251e5",
      "metadata": {
        "id": "d99cdeeb-8294-48b6-97fa-f844de6251e5"
      },
      "outputs": [],
      "source": [
        "import pickle\n",
        "\n",
        "with open(\"model.pkl\", \"wb\") as f:\n",
        "    pickle.dump(Final_model, f)\n"
      ]
    }
  ],
  "metadata": {
    "colab": {
      "provenance": []
    },
    "kernelspec": {
      "display_name": "Python 3 (ipykernel)",
      "language": "python",
      "name": "python3"
    },
    "language_info": {
      "codemirror_mode": {
        "name": "ipython",
        "version": 3
      },
      "file_extension": ".py",
      "mimetype": "text/x-python",
      "name": "python",
      "nbconvert_exporter": "python",
      "pygments_lexer": "ipython3",
      "version": "3.11.0"
    }
  },
  "nbformat": 4,
  "nbformat_minor": 5
}