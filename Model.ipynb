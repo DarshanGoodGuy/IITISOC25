{
 "cells": [
  {
   "cell_type": "markdown",
   "id": "J_RM-Xzy8xR4",
   "metadata": {
    "id": "J_RM-Xzy8xR4"
   },
   "source": [
    "# **Importing Libraries**"
   ]
  },
  {
   "cell_type": "markdown",
   "id": "gQ3SKiHX82CZ",
   "metadata": {
    "id": "gQ3SKiHX82CZ"
   },
   "source": [
    "**Basic Libraries**"
   ]
  },
  {
   "cell_type": "code",
   "execution_count": 165,
   "id": "876c9220",
   "metadata": {
    "id": "876c9220"
   },
   "outputs": [],
   "source": [
    "import pandas as pd\n",
    "import numpy as np"
   ]
  },
  {
   "cell_type": "markdown",
   "id": "Fo3l0JnS9Y8c",
   "metadata": {
    "id": "Fo3l0JnS9Y8c"
   },
   "source": [
    "**Libraries for visualisation and analysis**"
   ]
  },
  {
   "cell_type": "code",
   "execution_count": 166,
   "id": "MZw3cDuE9eOQ",
   "metadata": {
    "id": "MZw3cDuE9eOQ"
   },
   "outputs": [],
   "source": [
    "#libraries used for statistical graphics in python\n",
    "import matplotlib.pyplot as plt"
   ]
  },
  {
   "cell_type": "markdown",
   "id": "S1feP4M9901H",
   "metadata": {
    "id": "S1feP4M9901H"
   },
   "source": [
    "**Data Preprocessing Libraries**"
   ]
  },
  {
   "cell_type": "code",
   "execution_count": 167,
   "id": "979b1371",
   "metadata": {
    "id": "979b1371"
   },
   "outputs": [],
   "source": [
    "#Libraries used for data preprocessing\n",
    "from sklearn.model_selection import train_test_split\n",
    "from sklearn.preprocessing import MinMaxScaler"
   ]
  },
  {
   "cell_type": "markdown",
   "id": "BvSkDVbt-2Z-",
   "metadata": {
    "id": "BvSkDVbt-2Z-"
   },
   "source": [
    "# **Importing Models**"
   ]
  },
  {
   "cell_type": "code",
   "execution_count": 168,
   "id": "vBlDAL6S_P1C",
   "metadata": {
    "id": "vBlDAL6S_P1C"
   },
   "outputs": [],
   "source": [
    "from sklearn.tree import DecisionTreeRegressor\n",
    "from sklearn.ensemble import RandomForestRegressor\n",
    "from sklearn.multioutput import MultiOutputRegressor\n",
    "from sklearn.linear_model import LinearRegression, RidgeCV, SGDRegressor,MultiTaskLasso,MultiTaskElasticNet\n",
    "from sklearn.svm import SVR\n",
    "from sklearn.neural_network import MLPRegressor\n",
    "from sklearn.neighbors import KNeighborsRegressor\n",
    "from sklearn.tree import DecisionTreeRegressor\n",
    "from sklearn.ensemble import RandomForestRegressor, AdaBoostRegressor, GradientBoostingRegressor,HistGradientBoostingRegressor\n",
    "\n",
    "\n",
    "#for model evaluation\n",
    "from sklearn.metrics import mean_absolute_error, mean_squared_error, r2_score"
   ]
  },
  {
   "cell_type": "markdown",
   "id": "bkPcWzyTAJ33",
   "metadata": {
    "id": "bkPcWzyTAJ33"
   },
   "source": [
    "# **Data Analysis**"
   ]
  },
  {
   "cell_type": "markdown",
   "id": "VS-0CVf8CFiR",
   "metadata": {
    "id": "VS-0CVf8CFiR"
   },
   "source": [
    "**Reading the Data**"
   ]
  },
  {
   "cell_type": "code",
   "execution_count": 169,
   "id": "fXnNRPkwH6PP",
   "metadata": {
    "id": "fXnNRPkwH6PP"
   },
   "outputs": [],
   "source": [
    "Alloy_data_path = r\"https://raw.githubusercontent.com/DarshanGoodGuy/IITISOC25/refs/heads/main/final_dataset1.csv\"\n",
    "Alloy_data = pd.read_csv(Alloy_data_path)"
   ]
  },
  {
   "cell_type": "markdown",
   "id": "kqFDBA6XFVM2",
   "metadata": {
    "id": "kqFDBA6XFVM2"
   },
   "source": [
    "**Analysing the Data**"
   ]
  },
  {
   "cell_type": "code",
   "execution_count": 170,
   "id": "9fH_5dp8Fu_9",
   "metadata": {
    "colab": {
     "base_uri": "https://localhost:8080/",
     "height": 411
    },
    "id": "9fH_5dp8Fu_9",
    "outputId": "51aa3922-03f1-4e49-e7c7-aca1a32d9c3a"
   },
   "outputs": [
    {
     "data": {
      "text/html": [
       "<div>\n",
       "<style scoped>\n",
       "    .dataframe tbody tr th:only-of-type {\n",
       "        vertical-align: middle;\n",
       "    }\n",
       "\n",
       "    .dataframe tbody tr th {\n",
       "        vertical-align: top;\n",
       "    }\n",
       "\n",
       "    .dataframe thead th {\n",
       "        text-align: right;\n",
       "    }\n",
       "</style>\n",
       "<table border=\"1\" class=\"dataframe\">\n",
       "  <thead>\n",
       "    <tr style=\"text-align: right;\">\n",
       "      <th></th>\n",
       "      <th>FORMULA</th>\n",
       "      <th>Co</th>\n",
       "      <th>Cr</th>\n",
       "      <th>Fe</th>\n",
       "      <th>Ni</th>\n",
       "      <th>Mn</th>\n",
       "      <th>Nb</th>\n",
       "      <th>Ti</th>\n",
       "      <th>Al</th>\n",
       "      <th>C</th>\n",
       "      <th>...</th>\n",
       "      <th>Ca</th>\n",
       "      <th>Y</th>\n",
       "      <th>Pd</th>\n",
       "      <th>Sc</th>\n",
       "      <th>PROPERTY: Calculated Density (g/cm$^3$)</th>\n",
       "      <th>PROPERTY: Test temperature ($^\\circ$C)</th>\n",
       "      <th>PROPERTY: YS (MPa)</th>\n",
       "      <th>PROPERTY: UTS (MPa)</th>\n",
       "      <th>PROPERTY: Elongation (%)</th>\n",
       "      <th>PROPERTY: Calculated Young modulus (GPa)</th>\n",
       "    </tr>\n",
       "  </thead>\n",
       "  <tbody>\n",
       "    <tr>\n",
       "      <th>0</th>\n",
       "      <td>Co1 Cr1 Fe1 Ni1</td>\n",
       "      <td>26.138193</td>\n",
       "      <td>23.061468</td>\n",
       "      <td>24.768591</td>\n",
       "      <td>26.031747</td>\n",
       "      <td>NaN</td>\n",
       "      <td>NaN</td>\n",
       "      <td>NaN</td>\n",
       "      <td>NaN</td>\n",
       "      <td>NaN</td>\n",
       "      <td>...</td>\n",
       "      <td>NaN</td>\n",
       "      <td>NaN</td>\n",
       "      <td>NaN</td>\n",
       "      <td>NaN</td>\n",
       "      <td>8.2</td>\n",
       "      <td>25.0</td>\n",
       "      <td>274.0</td>\n",
       "      <td>708.0</td>\n",
       "      <td>39.0</td>\n",
       "      <td>226.0</td>\n",
       "    </tr>\n",
       "    <tr>\n",
       "      <th>1</th>\n",
       "      <td>Co1 Cr1 Mn1 Ni1</td>\n",
       "      <td>26.243766</td>\n",
       "      <td>23.154613</td>\n",
       "      <td>NaN</td>\n",
       "      <td>26.136890</td>\n",
       "      <td>24.464731</td>\n",
       "      <td>NaN</td>\n",
       "      <td>NaN</td>\n",
       "      <td>NaN</td>\n",
       "      <td>NaN</td>\n",
       "      <td>...</td>\n",
       "      <td>NaN</td>\n",
       "      <td>NaN</td>\n",
       "      <td>NaN</td>\n",
       "      <td>NaN</td>\n",
       "      <td>8.1</td>\n",
       "      <td>25.0</td>\n",
       "      <td>282.0</td>\n",
       "      <td>694.0</td>\n",
       "      <td>44.0</td>\n",
       "      <td>222.0</td>\n",
       "    </tr>\n",
       "    <tr>\n",
       "      <th>2</th>\n",
       "      <td>Co1 Cr1 Ni1</td>\n",
       "      <td>34.743724</td>\n",
       "      <td>30.654043</td>\n",
       "      <td>NaN</td>\n",
       "      <td>34.602233</td>\n",
       "      <td>NaN</td>\n",
       "      <td>NaN</td>\n",
       "      <td>NaN</td>\n",
       "      <td>NaN</td>\n",
       "      <td>NaN</td>\n",
       "      <td>...</td>\n",
       "      <td>NaN</td>\n",
       "      <td>NaN</td>\n",
       "      <td>NaN</td>\n",
       "      <td>NaN</td>\n",
       "      <td>8.3</td>\n",
       "      <td>25.0</td>\n",
       "      <td>300.0</td>\n",
       "      <td>860.0</td>\n",
       "      <td>60.0</td>\n",
       "      <td>231.0</td>\n",
       "    </tr>\n",
       "    <tr>\n",
       "      <th>3</th>\n",
       "      <td>Co1 Fe1 Mn1 Ni1</td>\n",
       "      <td>25.801523</td>\n",
       "      <td>NaN</td>\n",
       "      <td>24.449562</td>\n",
       "      <td>25.696448</td>\n",
       "      <td>24.052467</td>\n",
       "      <td>NaN</td>\n",
       "      <td>NaN</td>\n",
       "      <td>NaN</td>\n",
       "      <td>NaN</td>\n",
       "      <td>...</td>\n",
       "      <td>NaN</td>\n",
       "      <td>NaN</td>\n",
       "      <td>NaN</td>\n",
       "      <td>NaN</td>\n",
       "      <td>8.2</td>\n",
       "      <td>25.0</td>\n",
       "      <td>170.0</td>\n",
       "      <td>550.0</td>\n",
       "      <td>41.0</td>\n",
       "      <td>204.0</td>\n",
       "    </tr>\n",
       "    <tr>\n",
       "      <th>4</th>\n",
       "      <td>Co1 Fe1 Ni1</td>\n",
       "      <td>33.972825</td>\n",
       "      <td>NaN</td>\n",
       "      <td>32.192701</td>\n",
       "      <td>33.834474</td>\n",
       "      <td>NaN</td>\n",
       "      <td>NaN</td>\n",
       "      <td>NaN</td>\n",
       "      <td>NaN</td>\n",
       "      <td>NaN</td>\n",
       "      <td>...</td>\n",
       "      <td>NaN</td>\n",
       "      <td>NaN</td>\n",
       "      <td>NaN</td>\n",
       "      <td>NaN</td>\n",
       "      <td>8.5</td>\n",
       "      <td>25.0</td>\n",
       "      <td>211.0</td>\n",
       "      <td>513.0</td>\n",
       "      <td>31.0</td>\n",
       "      <td>207.0</td>\n",
       "    </tr>\n",
       "  </tbody>\n",
       "</table>\n",
       "<p>5 rows × 33 columns</p>\n",
       "</div>"
      ],
      "text/plain": [
       "           FORMULA         Co         Cr         Fe         Ni         Mn  Nb  \\\n",
       "0  Co1 Cr1 Fe1 Ni1  26.138193  23.061468  24.768591  26.031747        NaN NaN   \n",
       "1  Co1 Cr1 Mn1 Ni1  26.243766  23.154613        NaN  26.136890  24.464731 NaN   \n",
       "2      Co1 Cr1 Ni1  34.743724  30.654043        NaN  34.602233        NaN NaN   \n",
       "3  Co1 Fe1 Mn1 Ni1  25.801523        NaN  24.449562  25.696448  24.052467 NaN   \n",
       "4      Co1 Fe1 Ni1  33.972825        NaN  32.192701  33.834474        NaN NaN   \n",
       "\n",
       "   Ti  Al   C  ...  Ca   Y  Pd  Sc  PROPERTY: Calculated Density (g/cm$^3$)  \\\n",
       "0 NaN NaN NaN  ... NaN NaN NaN NaN                                      8.2   \n",
       "1 NaN NaN NaN  ... NaN NaN NaN NaN                                      8.1   \n",
       "2 NaN NaN NaN  ... NaN NaN NaN NaN                                      8.3   \n",
       "3 NaN NaN NaN  ... NaN NaN NaN NaN                                      8.2   \n",
       "4 NaN NaN NaN  ... NaN NaN NaN NaN                                      8.5   \n",
       "\n",
       "   PROPERTY: Test temperature ($^\\circ$C)  PROPERTY: YS (MPa)  \\\n",
       "0                                    25.0               274.0   \n",
       "1                                    25.0               282.0   \n",
       "2                                    25.0               300.0   \n",
       "3                                    25.0               170.0   \n",
       "4                                    25.0               211.0   \n",
       "\n",
       "   PROPERTY: UTS (MPa)  PROPERTY: Elongation (%)  \\\n",
       "0                708.0                      39.0   \n",
       "1                694.0                      44.0   \n",
       "2                860.0                      60.0   \n",
       "3                550.0                      41.0   \n",
       "4                513.0                      31.0   \n",
       "\n",
       "   PROPERTY: Calculated Young modulus (GPa)  \n",
       "0                                     226.0  \n",
       "1                                     222.0  \n",
       "2                                     231.0  \n",
       "3                                     204.0  \n",
       "4                                     207.0  \n",
       "\n",
       "[5 rows x 33 columns]"
      ]
     },
     "execution_count": 170,
     "metadata": {},
     "output_type": "execute_result"
    }
   ],
   "source": [
    "Alloy_data.head()"
   ]
  },
  {
   "cell_type": "code",
   "execution_count": 171,
   "id": "SwrEK3W8G0Uh",
   "metadata": {
    "colab": {
     "base_uri": "https://localhost:8080/"
    },
    "id": "SwrEK3W8G0Uh",
    "outputId": "c59df8d9-7243-46c5-94d7-d7222165312d"
   },
   "outputs": [
    {
     "data": {
      "text/plain": [
       "(947, 33)"
      ]
     },
     "execution_count": 171,
     "metadata": {},
     "output_type": "execute_result"
    }
   ],
   "source": [
    "Alloy_data.shape"
   ]
  },
  {
   "cell_type": "code",
   "execution_count": 172,
   "id": "FNq4Q_kbG4oX",
   "metadata": {
    "colab": {
     "base_uri": "https://localhost:8080/"
    },
    "id": "FNq4Q_kbG4oX",
    "outputId": "23d2579d-9f68-44d9-eaec-b96fc57a748b"
   },
   "outputs": [
    {
     "name": "stdout",
     "output_type": "stream",
     "text": [
      "<class 'pandas.core.frame.DataFrame'>\n",
      "RangeIndex: 947 entries, 0 to 946\n",
      "Data columns (total 33 columns):\n",
      " #   Column                                    Non-Null Count  Dtype  \n",
      "---  ------                                    --------------  -----  \n",
      " 0   FORMULA                                   947 non-null    object \n",
      " 1   Co                                        389 non-null    float64\n",
      " 2   Cr                                        477 non-null    float64\n",
      " 3   Fe                                        428 non-null    float64\n",
      " 4   Ni                                        449 non-null    float64\n",
      " 5   Mn                                        132 non-null    float64\n",
      " 6   Nb                                        447 non-null    float64\n",
      " 7   Ti                                        486 non-null    float64\n",
      " 8   Al                                        344 non-null    float64\n",
      " 9   C                                         19 non-null     float64\n",
      " 10  Mo                                        294 non-null    float64\n",
      " 11  Si                                        38 non-null     float64\n",
      " 12  Cu                                        92 non-null     float64\n",
      " 13  V                                         194 non-null    float64\n",
      " 14  Sn                                        7 non-null      float64\n",
      " 15  Li                                        9 non-null      float64\n",
      " 16  Mg                                        14 non-null     float64\n",
      " 17  Zn                                        11 non-null     float64\n",
      " 18  Ta                                        260 non-null    float64\n",
      " 19  Zr                                        277 non-null    float64\n",
      " 20  Hf                                        181 non-null    float64\n",
      " 21  W                                         83 non-null     float64\n",
      " 22  Re                                        5 non-null      float64\n",
      " 23  Ca                                        5 non-null      float64\n",
      " 24  Y                                         3 non-null      float64\n",
      " 25  Pd                                        4 non-null      float64\n",
      " 26  Sc                                        2 non-null      float64\n",
      " 27  PROPERTY: Calculated Density (g/cm$^3$)   947 non-null    float64\n",
      " 28  PROPERTY: Test temperature ($^\\circ$C)    947 non-null    float64\n",
      " 29  PROPERTY: YS (MPa)                        913 non-null    float64\n",
      " 30  PROPERTY: UTS (MPa)                       511 non-null    float64\n",
      " 31  PROPERTY: Elongation (%)                  608 non-null    float64\n",
      " 32  PROPERTY: Calculated Young modulus (GPa)  541 non-null    float64\n",
      "dtypes: float64(32), object(1)\n",
      "memory usage: 244.3+ KB\n"
     ]
    }
   ],
   "source": [
    "Alloy_data.info()"
   ]
  },
  {
   "cell_type": "markdown",
   "id": "W6f1I6HkHA6t",
   "metadata": {
    "id": "W6f1I6HkHA6t"
   },
   "source": [
    "**Filling the missing values with mean**"
   ]
  },
  {
   "cell_type": "code",
   "execution_count": 173,
   "id": "rsQZkasZI6PB",
   "metadata": {
    "colab": {
     "base_uri": "https://localhost:8080/",
     "height": 1000
    },
    "id": "rsQZkasZI6PB",
    "outputId": "1e76c658-aee9-4f82-821e-777a4f3ff94d"
   },
   "outputs": [
    {
     "data": {
      "text/plain": [
       "FORMULA                                       0\n",
       "Co                                          558\n",
       "Cr                                          470\n",
       "Fe                                          519\n",
       "Ni                                          498\n",
       "Mn                                          815\n",
       "Nb                                          500\n",
       "Ti                                          461\n",
       "Al                                          603\n",
       "C                                           928\n",
       "Mo                                          653\n",
       "Si                                          909\n",
       "Cu                                          855\n",
       "V                                           753\n",
       "Sn                                          940\n",
       "Li                                          938\n",
       "Mg                                          933\n",
       "Zn                                          936\n",
       "Ta                                          687\n",
       "Zr                                          670\n",
       "Hf                                          766\n",
       "W                                           864\n",
       "Re                                          942\n",
       "Ca                                          942\n",
       "Y                                           944\n",
       "Pd                                          943\n",
       "Sc                                          945\n",
       "PROPERTY: Calculated Density (g/cm$^3$)       0\n",
       "PROPERTY: Test temperature ($^\\circ$C)        0\n",
       "PROPERTY: YS (MPa)                           34\n",
       "PROPERTY: UTS (MPa)                         436\n",
       "PROPERTY: Elongation (%)                    339\n",
       "PROPERTY: Calculated Young modulus (GPa)    406\n",
       "dtype: int64"
      ]
     },
     "execution_count": 173,
     "metadata": {},
     "output_type": "execute_result"
    }
   ],
   "source": [
    "Alloy_data.isna().sum()"
   ]
  },
  {
   "cell_type": "code",
   "execution_count": 174,
   "id": "rvCaaB0MHJVt",
   "metadata": {
    "colab": {
     "base_uri": "https://localhost:8080/",
     "height": 411
    },
    "id": "rvCaaB0MHJVt",
    "outputId": "138dd904-3931-4576-e225-a527bed1b7d3"
   },
   "outputs": [
    {
     "data": {
      "text/html": [
       "<div>\n",
       "<style scoped>\n",
       "    .dataframe tbody tr th:only-of-type {\n",
       "        vertical-align: middle;\n",
       "    }\n",
       "\n",
       "    .dataframe tbody tr th {\n",
       "        vertical-align: top;\n",
       "    }\n",
       "\n",
       "    .dataframe thead th {\n",
       "        text-align: right;\n",
       "    }\n",
       "</style>\n",
       "<table border=\"1\" class=\"dataframe\">\n",
       "  <thead>\n",
       "    <tr style=\"text-align: right;\">\n",
       "      <th></th>\n",
       "      <th>FORMULA</th>\n",
       "      <th>Co</th>\n",
       "      <th>Cr</th>\n",
       "      <th>Fe</th>\n",
       "      <th>Ni</th>\n",
       "      <th>Mn</th>\n",
       "      <th>Nb</th>\n",
       "      <th>Ti</th>\n",
       "      <th>Al</th>\n",
       "      <th>C</th>\n",
       "      <th>...</th>\n",
       "      <th>Ca</th>\n",
       "      <th>Y</th>\n",
       "      <th>Pd</th>\n",
       "      <th>Sc</th>\n",
       "      <th>PROPERTY: Calculated Density (g/cm$^3$)</th>\n",
       "      <th>PROPERTY: Test temperature ($^\\circ$C)</th>\n",
       "      <th>PROPERTY: YS (MPa)</th>\n",
       "      <th>PROPERTY: UTS (MPa)</th>\n",
       "      <th>PROPERTY: Elongation (%)</th>\n",
       "      <th>PROPERTY: Calculated Young modulus (GPa)</th>\n",
       "    </tr>\n",
       "  </thead>\n",
       "  <tbody>\n",
       "    <tr>\n",
       "      <th>0</th>\n",
       "      <td>Co1 Cr1 Fe1 Ni1</td>\n",
       "      <td>26.138193</td>\n",
       "      <td>23.061468</td>\n",
       "      <td>24.768591</td>\n",
       "      <td>26.031747</td>\n",
       "      <td>NaN</td>\n",
       "      <td>NaN</td>\n",
       "      <td>NaN</td>\n",
       "      <td>NaN</td>\n",
       "      <td>NaN</td>\n",
       "      <td>...</td>\n",
       "      <td>NaN</td>\n",
       "      <td>NaN</td>\n",
       "      <td>NaN</td>\n",
       "      <td>NaN</td>\n",
       "      <td>8.2</td>\n",
       "      <td>25.0</td>\n",
       "      <td>274.0</td>\n",
       "      <td>708.0</td>\n",
       "      <td>39.0</td>\n",
       "      <td>226.0</td>\n",
       "    </tr>\n",
       "    <tr>\n",
       "      <th>1</th>\n",
       "      <td>Co1 Cr1 Mn1 Ni1</td>\n",
       "      <td>26.243766</td>\n",
       "      <td>23.154613</td>\n",
       "      <td>NaN</td>\n",
       "      <td>26.136890</td>\n",
       "      <td>24.464731</td>\n",
       "      <td>NaN</td>\n",
       "      <td>NaN</td>\n",
       "      <td>NaN</td>\n",
       "      <td>NaN</td>\n",
       "      <td>...</td>\n",
       "      <td>NaN</td>\n",
       "      <td>NaN</td>\n",
       "      <td>NaN</td>\n",
       "      <td>NaN</td>\n",
       "      <td>8.1</td>\n",
       "      <td>25.0</td>\n",
       "      <td>282.0</td>\n",
       "      <td>694.0</td>\n",
       "      <td>44.0</td>\n",
       "      <td>222.0</td>\n",
       "    </tr>\n",
       "    <tr>\n",
       "      <th>2</th>\n",
       "      <td>Co1 Cr1 Ni1</td>\n",
       "      <td>34.743724</td>\n",
       "      <td>30.654043</td>\n",
       "      <td>NaN</td>\n",
       "      <td>34.602233</td>\n",
       "      <td>NaN</td>\n",
       "      <td>NaN</td>\n",
       "      <td>NaN</td>\n",
       "      <td>NaN</td>\n",
       "      <td>NaN</td>\n",
       "      <td>...</td>\n",
       "      <td>NaN</td>\n",
       "      <td>NaN</td>\n",
       "      <td>NaN</td>\n",
       "      <td>NaN</td>\n",
       "      <td>8.3</td>\n",
       "      <td>25.0</td>\n",
       "      <td>300.0</td>\n",
       "      <td>860.0</td>\n",
       "      <td>60.0</td>\n",
       "      <td>231.0</td>\n",
       "    </tr>\n",
       "    <tr>\n",
       "      <th>3</th>\n",
       "      <td>Co1 Fe1 Mn1 Ni1</td>\n",
       "      <td>25.801523</td>\n",
       "      <td>NaN</td>\n",
       "      <td>24.449562</td>\n",
       "      <td>25.696448</td>\n",
       "      <td>24.052467</td>\n",
       "      <td>NaN</td>\n",
       "      <td>NaN</td>\n",
       "      <td>NaN</td>\n",
       "      <td>NaN</td>\n",
       "      <td>...</td>\n",
       "      <td>NaN</td>\n",
       "      <td>NaN</td>\n",
       "      <td>NaN</td>\n",
       "      <td>NaN</td>\n",
       "      <td>8.2</td>\n",
       "      <td>25.0</td>\n",
       "      <td>170.0</td>\n",
       "      <td>550.0</td>\n",
       "      <td>41.0</td>\n",
       "      <td>204.0</td>\n",
       "    </tr>\n",
       "    <tr>\n",
       "      <th>4</th>\n",
       "      <td>Co1 Fe1 Ni1</td>\n",
       "      <td>33.972825</td>\n",
       "      <td>NaN</td>\n",
       "      <td>32.192701</td>\n",
       "      <td>33.834474</td>\n",
       "      <td>NaN</td>\n",
       "      <td>NaN</td>\n",
       "      <td>NaN</td>\n",
       "      <td>NaN</td>\n",
       "      <td>NaN</td>\n",
       "      <td>...</td>\n",
       "      <td>NaN</td>\n",
       "      <td>NaN</td>\n",
       "      <td>NaN</td>\n",
       "      <td>NaN</td>\n",
       "      <td>8.5</td>\n",
       "      <td>25.0</td>\n",
       "      <td>211.0</td>\n",
       "      <td>513.0</td>\n",
       "      <td>31.0</td>\n",
       "      <td>207.0</td>\n",
       "    </tr>\n",
       "  </tbody>\n",
       "</table>\n",
       "<p>5 rows × 33 columns</p>\n",
       "</div>"
      ],
      "text/plain": [
       "           FORMULA         Co         Cr         Fe         Ni         Mn  Nb  \\\n",
       "0  Co1 Cr1 Fe1 Ni1  26.138193  23.061468  24.768591  26.031747        NaN NaN   \n",
       "1  Co1 Cr1 Mn1 Ni1  26.243766  23.154613        NaN  26.136890  24.464731 NaN   \n",
       "2      Co1 Cr1 Ni1  34.743724  30.654043        NaN  34.602233        NaN NaN   \n",
       "3  Co1 Fe1 Mn1 Ni1  25.801523        NaN  24.449562  25.696448  24.052467 NaN   \n",
       "4      Co1 Fe1 Ni1  33.972825        NaN  32.192701  33.834474        NaN NaN   \n",
       "\n",
       "   Ti  Al   C  ...  Ca   Y  Pd  Sc  PROPERTY: Calculated Density (g/cm$^3$)  \\\n",
       "0 NaN NaN NaN  ... NaN NaN NaN NaN                                      8.2   \n",
       "1 NaN NaN NaN  ... NaN NaN NaN NaN                                      8.1   \n",
       "2 NaN NaN NaN  ... NaN NaN NaN NaN                                      8.3   \n",
       "3 NaN NaN NaN  ... NaN NaN NaN NaN                                      8.2   \n",
       "4 NaN NaN NaN  ... NaN NaN NaN NaN                                      8.5   \n",
       "\n",
       "   PROPERTY: Test temperature ($^\\circ$C)  PROPERTY: YS (MPa)  \\\n",
       "0                                    25.0               274.0   \n",
       "1                                    25.0               282.0   \n",
       "2                                    25.0               300.0   \n",
       "3                                    25.0               170.0   \n",
       "4                                    25.0               211.0   \n",
       "\n",
       "   PROPERTY: UTS (MPa)  PROPERTY: Elongation (%)  \\\n",
       "0                708.0                      39.0   \n",
       "1                694.0                      44.0   \n",
       "2                860.0                      60.0   \n",
       "3                550.0                      41.0   \n",
       "4                513.0                      31.0   \n",
       "\n",
       "   PROPERTY: Calculated Young modulus (GPa)  \n",
       "0                                     226.0  \n",
       "1                                     222.0  \n",
       "2                                     231.0  \n",
       "3                                     204.0  \n",
       "4                                     207.0  \n",
       "\n",
       "[5 rows x 33 columns]"
      ]
     },
     "execution_count": 174,
     "metadata": {},
     "output_type": "execute_result"
    }
   ],
   "source": [
    "Alloy_data.iloc[:, -4:] = Alloy_data.iloc[:, -4:].fillna(Alloy_data.iloc[:, -4:].mean())\n",
    "Alloy_data.head()"
   ]
  },
  {
   "cell_type": "code",
   "execution_count": 175,
   "id": "CFYYYCiMLy6f",
   "metadata": {
    "colab": {
     "base_uri": "https://localhost:8080/",
     "height": 1000
    },
    "id": "CFYYYCiMLy6f",
    "outputId": "678f1b15-ab75-40c8-8ef5-9a1270e806b6"
   },
   "outputs": [
    {
     "data": {
      "text/plain": [
       "FORMULA                                       0\n",
       "Co                                          558\n",
       "Cr                                          470\n",
       "Fe                                          519\n",
       "Ni                                          498\n",
       "Mn                                          815\n",
       "Nb                                          500\n",
       "Ti                                          461\n",
       "Al                                          603\n",
       "C                                           928\n",
       "Mo                                          653\n",
       "Si                                          909\n",
       "Cu                                          855\n",
       "V                                           753\n",
       "Sn                                          940\n",
       "Li                                          938\n",
       "Mg                                          933\n",
       "Zn                                          936\n",
       "Ta                                          687\n",
       "Zr                                          670\n",
       "Hf                                          766\n",
       "W                                           864\n",
       "Re                                          942\n",
       "Ca                                          942\n",
       "Y                                           944\n",
       "Pd                                          943\n",
       "Sc                                          945\n",
       "PROPERTY: Calculated Density (g/cm$^3$)       0\n",
       "PROPERTY: Test temperature ($^\\circ$C)        0\n",
       "PROPERTY: YS (MPa)                            0\n",
       "PROPERTY: UTS (MPa)                           0\n",
       "PROPERTY: Elongation (%)                      0\n",
       "PROPERTY: Calculated Young modulus (GPa)      0\n",
       "dtype: int64"
      ]
     },
     "execution_count": 175,
     "metadata": {},
     "output_type": "execute_result"
    }
   ],
   "source": [
    "Alloy_data.isna().sum()"
   ]
  },
  {
   "cell_type": "markdown",
   "id": "nF7DeIIzRs1U",
   "metadata": {
    "id": "nF7DeIIzRs1U"
   },
   "source": [
    "# **Data Standardisation**"
   ]
  },
  {
   "cell_type": "code",
   "execution_count": 176,
   "id": "I6W6lp4lSPWl",
   "metadata": {
    "colab": {
     "base_uri": "https://localhost:8080/"
    },
    "id": "I6W6lp4lSPWl",
    "outputId": "d6e50112-ede5-4822-d432-cbd2a923780a"
   },
   "outputs": [
    {
     "data": {
      "text/plain": [
       "(947, 33)"
      ]
     },
     "execution_count": 176,
     "metadata": {},
     "output_type": "execute_result"
    }
   ],
   "source": [
    "Alloy_data.shape"
   ]
  },
  {
   "cell_type": "code",
   "execution_count": 177,
   "id": "3MemLCIWR257",
   "metadata": {
    "id": "3MemLCIWR257"
   },
   "outputs": [],
   "source": [
    "#Assigning Feature and Target variables\n",
    "X = Alloy_data.iloc[:,1:27] #Feature Columns\n",
    "y = Alloy_data.iloc[:,27:33]  #Target Columns"
   ]
  },
  {
   "cell_type": "code",
   "execution_count": 178,
   "id": "IkYTY_qWSeDX",
   "metadata": {
    "colab": {
     "base_uri": "https://localhost:8080/",
     "height": 235
    },
    "id": "IkYTY_qWSeDX",
    "outputId": "16809431-b440-4e1e-9cd0-2c9bce97acc2"
   },
   "outputs": [
    {
     "data": {
      "text/html": [
       "<div>\n",
       "<style scoped>\n",
       "    .dataframe tbody tr th:only-of-type {\n",
       "        vertical-align: middle;\n",
       "    }\n",
       "\n",
       "    .dataframe tbody tr th {\n",
       "        vertical-align: top;\n",
       "    }\n",
       "\n",
       "    .dataframe thead th {\n",
       "        text-align: right;\n",
       "    }\n",
       "</style>\n",
       "<table border=\"1\" class=\"dataframe\">\n",
       "  <thead>\n",
       "    <tr style=\"text-align: right;\">\n",
       "      <th></th>\n",
       "      <th>Co</th>\n",
       "      <th>Cr</th>\n",
       "      <th>Fe</th>\n",
       "      <th>Ni</th>\n",
       "      <th>Mn</th>\n",
       "      <th>Nb</th>\n",
       "      <th>Ti</th>\n",
       "      <th>Al</th>\n",
       "      <th>C</th>\n",
       "      <th>Mo</th>\n",
       "      <th>...</th>\n",
       "      <th>Zn</th>\n",
       "      <th>Ta</th>\n",
       "      <th>Zr</th>\n",
       "      <th>Hf</th>\n",
       "      <th>W</th>\n",
       "      <th>Re</th>\n",
       "      <th>Ca</th>\n",
       "      <th>Y</th>\n",
       "      <th>Pd</th>\n",
       "      <th>Sc</th>\n",
       "    </tr>\n",
       "  </thead>\n",
       "  <tbody>\n",
       "    <tr>\n",
       "      <th>0</th>\n",
       "      <td>26.138193</td>\n",
       "      <td>23.061468</td>\n",
       "      <td>24.768591</td>\n",
       "      <td>26.031747</td>\n",
       "      <td>NaN</td>\n",
       "      <td>NaN</td>\n",
       "      <td>NaN</td>\n",
       "      <td>NaN</td>\n",
       "      <td>NaN</td>\n",
       "      <td>NaN</td>\n",
       "      <td>...</td>\n",
       "      <td>NaN</td>\n",
       "      <td>NaN</td>\n",
       "      <td>NaN</td>\n",
       "      <td>NaN</td>\n",
       "      <td>NaN</td>\n",
       "      <td>NaN</td>\n",
       "      <td>NaN</td>\n",
       "      <td>NaN</td>\n",
       "      <td>NaN</td>\n",
       "      <td>NaN</td>\n",
       "    </tr>\n",
       "    <tr>\n",
       "      <th>1</th>\n",
       "      <td>26.243766</td>\n",
       "      <td>23.154613</td>\n",
       "      <td>NaN</td>\n",
       "      <td>26.136890</td>\n",
       "      <td>24.464731</td>\n",
       "      <td>NaN</td>\n",
       "      <td>NaN</td>\n",
       "      <td>NaN</td>\n",
       "      <td>NaN</td>\n",
       "      <td>NaN</td>\n",
       "      <td>...</td>\n",
       "      <td>NaN</td>\n",
       "      <td>NaN</td>\n",
       "      <td>NaN</td>\n",
       "      <td>NaN</td>\n",
       "      <td>NaN</td>\n",
       "      <td>NaN</td>\n",
       "      <td>NaN</td>\n",
       "      <td>NaN</td>\n",
       "      <td>NaN</td>\n",
       "      <td>NaN</td>\n",
       "    </tr>\n",
       "    <tr>\n",
       "      <th>2</th>\n",
       "      <td>34.743724</td>\n",
       "      <td>30.654043</td>\n",
       "      <td>NaN</td>\n",
       "      <td>34.602233</td>\n",
       "      <td>NaN</td>\n",
       "      <td>NaN</td>\n",
       "      <td>NaN</td>\n",
       "      <td>NaN</td>\n",
       "      <td>NaN</td>\n",
       "      <td>NaN</td>\n",
       "      <td>...</td>\n",
       "      <td>NaN</td>\n",
       "      <td>NaN</td>\n",
       "      <td>NaN</td>\n",
       "      <td>NaN</td>\n",
       "      <td>NaN</td>\n",
       "      <td>NaN</td>\n",
       "      <td>NaN</td>\n",
       "      <td>NaN</td>\n",
       "      <td>NaN</td>\n",
       "      <td>NaN</td>\n",
       "    </tr>\n",
       "    <tr>\n",
       "      <th>3</th>\n",
       "      <td>25.801523</td>\n",
       "      <td>NaN</td>\n",
       "      <td>24.449562</td>\n",
       "      <td>25.696448</td>\n",
       "      <td>24.052467</td>\n",
       "      <td>NaN</td>\n",
       "      <td>NaN</td>\n",
       "      <td>NaN</td>\n",
       "      <td>NaN</td>\n",
       "      <td>NaN</td>\n",
       "      <td>...</td>\n",
       "      <td>NaN</td>\n",
       "      <td>NaN</td>\n",
       "      <td>NaN</td>\n",
       "      <td>NaN</td>\n",
       "      <td>NaN</td>\n",
       "      <td>NaN</td>\n",
       "      <td>NaN</td>\n",
       "      <td>NaN</td>\n",
       "      <td>NaN</td>\n",
       "      <td>NaN</td>\n",
       "    </tr>\n",
       "    <tr>\n",
       "      <th>4</th>\n",
       "      <td>33.972825</td>\n",
       "      <td>NaN</td>\n",
       "      <td>32.192701</td>\n",
       "      <td>33.834474</td>\n",
       "      <td>NaN</td>\n",
       "      <td>NaN</td>\n",
       "      <td>NaN</td>\n",
       "      <td>NaN</td>\n",
       "      <td>NaN</td>\n",
       "      <td>NaN</td>\n",
       "      <td>...</td>\n",
       "      <td>NaN</td>\n",
       "      <td>NaN</td>\n",
       "      <td>NaN</td>\n",
       "      <td>NaN</td>\n",
       "      <td>NaN</td>\n",
       "      <td>NaN</td>\n",
       "      <td>NaN</td>\n",
       "      <td>NaN</td>\n",
       "      <td>NaN</td>\n",
       "      <td>NaN</td>\n",
       "    </tr>\n",
       "  </tbody>\n",
       "</table>\n",
       "<p>5 rows × 26 columns</p>\n",
       "</div>"
      ],
      "text/plain": [
       "          Co         Cr         Fe         Ni         Mn  Nb  Ti  Al   C  Mo  \\\n",
       "0  26.138193  23.061468  24.768591  26.031747        NaN NaN NaN NaN NaN NaN   \n",
       "1  26.243766  23.154613        NaN  26.136890  24.464731 NaN NaN NaN NaN NaN   \n",
       "2  34.743724  30.654043        NaN  34.602233        NaN NaN NaN NaN NaN NaN   \n",
       "3  25.801523        NaN  24.449562  25.696448  24.052467 NaN NaN NaN NaN NaN   \n",
       "4  33.972825        NaN  32.192701  33.834474        NaN NaN NaN NaN NaN NaN   \n",
       "\n",
       "   ...  Zn  Ta  Zr  Hf   W  Re  Ca   Y  Pd  Sc  \n",
       "0  ... NaN NaN NaN NaN NaN NaN NaN NaN NaN NaN  \n",
       "1  ... NaN NaN NaN NaN NaN NaN NaN NaN NaN NaN  \n",
       "2  ... NaN NaN NaN NaN NaN NaN NaN NaN NaN NaN  \n",
       "3  ... NaN NaN NaN NaN NaN NaN NaN NaN NaN NaN  \n",
       "4  ... NaN NaN NaN NaN NaN NaN NaN NaN NaN NaN  \n",
       "\n",
       "[5 rows x 26 columns]"
      ]
     },
     "execution_count": 178,
     "metadata": {},
     "output_type": "execute_result"
    }
   ],
   "source": [
    "X.head()"
   ]
  },
  {
   "cell_type": "code",
   "execution_count": 179,
   "id": "Jr8M8EeySkUR",
   "metadata": {
    "colab": {
     "base_uri": "https://localhost:8080/",
     "height": 223
    },
    "id": "Jr8M8EeySkUR",
    "outputId": "776bc556-5602-4892-b2e7-600ef4e5190e"
   },
   "outputs": [
    {
     "data": {
      "text/html": [
       "<div>\n",
       "<style scoped>\n",
       "    .dataframe tbody tr th:only-of-type {\n",
       "        vertical-align: middle;\n",
       "    }\n",
       "\n",
       "    .dataframe tbody tr th {\n",
       "        vertical-align: top;\n",
       "    }\n",
       "\n",
       "    .dataframe thead th {\n",
       "        text-align: right;\n",
       "    }\n",
       "</style>\n",
       "<table border=\"1\" class=\"dataframe\">\n",
       "  <thead>\n",
       "    <tr style=\"text-align: right;\">\n",
       "      <th></th>\n",
       "      <th>PROPERTY: Calculated Density (g/cm$^3$)</th>\n",
       "      <th>PROPERTY: Test temperature ($^\\circ$C)</th>\n",
       "      <th>PROPERTY: YS (MPa)</th>\n",
       "      <th>PROPERTY: UTS (MPa)</th>\n",
       "      <th>PROPERTY: Elongation (%)</th>\n",
       "      <th>PROPERTY: Calculated Young modulus (GPa)</th>\n",
       "    </tr>\n",
       "  </thead>\n",
       "  <tbody>\n",
       "    <tr>\n",
       "      <th>0</th>\n",
       "      <td>8.2</td>\n",
       "      <td>25.0</td>\n",
       "      <td>274.0</td>\n",
       "      <td>708.0</td>\n",
       "      <td>39.0</td>\n",
       "      <td>226.0</td>\n",
       "    </tr>\n",
       "    <tr>\n",
       "      <th>1</th>\n",
       "      <td>8.1</td>\n",
       "      <td>25.0</td>\n",
       "      <td>282.0</td>\n",
       "      <td>694.0</td>\n",
       "      <td>44.0</td>\n",
       "      <td>222.0</td>\n",
       "    </tr>\n",
       "    <tr>\n",
       "      <th>2</th>\n",
       "      <td>8.3</td>\n",
       "      <td>25.0</td>\n",
       "      <td>300.0</td>\n",
       "      <td>860.0</td>\n",
       "      <td>60.0</td>\n",
       "      <td>231.0</td>\n",
       "    </tr>\n",
       "    <tr>\n",
       "      <th>3</th>\n",
       "      <td>8.2</td>\n",
       "      <td>25.0</td>\n",
       "      <td>170.0</td>\n",
       "      <td>550.0</td>\n",
       "      <td>41.0</td>\n",
       "      <td>204.0</td>\n",
       "    </tr>\n",
       "    <tr>\n",
       "      <th>4</th>\n",
       "      <td>8.5</td>\n",
       "      <td>25.0</td>\n",
       "      <td>211.0</td>\n",
       "      <td>513.0</td>\n",
       "      <td>31.0</td>\n",
       "      <td>207.0</td>\n",
       "    </tr>\n",
       "  </tbody>\n",
       "</table>\n",
       "</div>"
      ],
      "text/plain": [
       "   PROPERTY: Calculated Density (g/cm$^3$)  \\\n",
       "0                                      8.2   \n",
       "1                                      8.1   \n",
       "2                                      8.3   \n",
       "3                                      8.2   \n",
       "4                                      8.5   \n",
       "\n",
       "   PROPERTY: Test temperature ($^\\circ$C)  PROPERTY: YS (MPa)  \\\n",
       "0                                    25.0               274.0   \n",
       "1                                    25.0               282.0   \n",
       "2                                    25.0               300.0   \n",
       "3                                    25.0               170.0   \n",
       "4                                    25.0               211.0   \n",
       "\n",
       "   PROPERTY: UTS (MPa)  PROPERTY: Elongation (%)  \\\n",
       "0                708.0                      39.0   \n",
       "1                694.0                      44.0   \n",
       "2                860.0                      60.0   \n",
       "3                550.0                      41.0   \n",
       "4                513.0                      31.0   \n",
       "\n",
       "   PROPERTY: Calculated Young modulus (GPa)  \n",
       "0                                     226.0  \n",
       "1                                     222.0  \n",
       "2                                     231.0  \n",
       "3                                     204.0  \n",
       "4                                     207.0  "
      ]
     },
     "execution_count": 179,
     "metadata": {},
     "output_type": "execute_result"
    }
   ],
   "source": [
    "y.head()"
   ]
  },
  {
   "cell_type": "markdown",
   "id": "w4r2eX5wSzPs",
   "metadata": {
    "id": "w4r2eX5wSzPs"
   },
   "source": [
    "**Scaling of data**"
   ]
  },
  {
   "cell_type": "code",
   "execution_count": 180,
   "id": "ZvththglS7VA",
   "metadata": {
    "id": "ZvththglS7VA"
   },
   "outputs": [],
   "source": [
    "sc = MinMaxScaler()\n",
    "\n",
    "X_scaled = pd.DataFrame(sc.fit_transform(X),columns=X.columns);\n",
    "columns_to_scale = ['PROPERTY: Calculated Density (g/cm$^3$)', 'PROPERTY: Test temperature ($^\\circ$C)', 'PROPERTY: YS (MPa)', 'PROPERTY: UTS (MPa)','PROPERTY: Elongation (%)','PROPERTY: Calculated Young modulus (GPa)']\n",
    "X_scaled = X_scaled.fillna(0)\n",
    "y_scaled = y.copy()\n",
    "y_scaled[columns_to_scale] = sc.fit_transform(y[columns_to_scale])"
   ]
  },
  {
   "cell_type": "code",
   "execution_count": 181,
   "id": "OwZCylnmVsUt",
   "metadata": {
    "colab": {
     "base_uri": "https://localhost:8080/",
     "height": 235
    },
    "id": "OwZCylnmVsUt",
    "outputId": "91fe6164-e1e4-4a5c-81c7-b772fa9e5694"
   },
   "outputs": [
    {
     "data": {
      "text/html": [
       "<div>\n",
       "<style scoped>\n",
       "    .dataframe tbody tr th:only-of-type {\n",
       "        vertical-align: middle;\n",
       "    }\n",
       "\n",
       "    .dataframe tbody tr th {\n",
       "        vertical-align: top;\n",
       "    }\n",
       "\n",
       "    .dataframe thead th {\n",
       "        text-align: right;\n",
       "    }\n",
       "</style>\n",
       "<table border=\"1\" class=\"dataframe\">\n",
       "  <thead>\n",
       "    <tr style=\"text-align: right;\">\n",
       "      <th></th>\n",
       "      <th>Co</th>\n",
       "      <th>Cr</th>\n",
       "      <th>Fe</th>\n",
       "      <th>Ni</th>\n",
       "      <th>Mn</th>\n",
       "      <th>Nb</th>\n",
       "      <th>Ti</th>\n",
       "      <th>Al</th>\n",
       "      <th>C</th>\n",
       "      <th>Mo</th>\n",
       "      <th>...</th>\n",
       "      <th>Zn</th>\n",
       "      <th>Ta</th>\n",
       "      <th>Zr</th>\n",
       "      <th>Hf</th>\n",
       "      <th>W</th>\n",
       "      <th>Re</th>\n",
       "      <th>Ca</th>\n",
       "      <th>Y</th>\n",
       "      <th>Pd</th>\n",
       "      <th>Sc</th>\n",
       "    </tr>\n",
       "  </thead>\n",
       "  <tbody>\n",
       "    <tr>\n",
       "      <th>0</th>\n",
       "      <td>0.392247</td>\n",
       "      <td>0.530344</td>\n",
       "      <td>0.432264</td>\n",
       "      <td>0.452454</td>\n",
       "      <td>0.000000</td>\n",
       "      <td>0.0</td>\n",
       "      <td>0.0</td>\n",
       "      <td>0.0</td>\n",
       "      <td>0.0</td>\n",
       "      <td>0.0</td>\n",
       "      <td>...</td>\n",
       "      <td>0.0</td>\n",
       "      <td>0.0</td>\n",
       "      <td>0.0</td>\n",
       "      <td>0.0</td>\n",
       "      <td>0.0</td>\n",
       "      <td>0.0</td>\n",
       "      <td>0.0</td>\n",
       "      <td>0.0</td>\n",
       "      <td>0.0</td>\n",
       "      <td>0.0</td>\n",
       "    </tr>\n",
       "    <tr>\n",
       "      <th>1</th>\n",
       "      <td>0.394086</td>\n",
       "      <td>0.532722</td>\n",
       "      <td>0.000000</td>\n",
       "      <td>0.454576</td>\n",
       "      <td>0.583150</td>\n",
       "      <td>0.0</td>\n",
       "      <td>0.0</td>\n",
       "      <td>0.0</td>\n",
       "      <td>0.0</td>\n",
       "      <td>0.0</td>\n",
       "      <td>...</td>\n",
       "      <td>0.0</td>\n",
       "      <td>0.0</td>\n",
       "      <td>0.0</td>\n",
       "      <td>0.0</td>\n",
       "      <td>0.0</td>\n",
       "      <td>0.0</td>\n",
       "      <td>0.0</td>\n",
       "      <td>0.0</td>\n",
       "      <td>0.0</td>\n",
       "      <td>0.0</td>\n",
       "    </tr>\n",
       "    <tr>\n",
       "      <th>2</th>\n",
       "      <td>0.542211</td>\n",
       "      <td>0.724192</td>\n",
       "      <td>0.000000</td>\n",
       "      <td>0.625437</td>\n",
       "      <td>0.000000</td>\n",
       "      <td>0.0</td>\n",
       "      <td>0.0</td>\n",
       "      <td>0.0</td>\n",
       "      <td>0.0</td>\n",
       "      <td>0.0</td>\n",
       "      <td>...</td>\n",
       "      <td>0.0</td>\n",
       "      <td>0.0</td>\n",
       "      <td>0.0</td>\n",
       "      <td>0.0</td>\n",
       "      <td>0.0</td>\n",
       "      <td>0.0</td>\n",
       "      <td>0.0</td>\n",
       "      <td>0.0</td>\n",
       "      <td>0.0</td>\n",
       "      <td>0.0</td>\n",
       "    </tr>\n",
       "    <tr>\n",
       "      <th>3</th>\n",
       "      <td>0.386380</td>\n",
       "      <td>0.000000</td>\n",
       "      <td>0.425798</td>\n",
       "      <td>0.445687</td>\n",
       "      <td>0.571841</td>\n",
       "      <td>0.0</td>\n",
       "      <td>0.0</td>\n",
       "      <td>0.0</td>\n",
       "      <td>0.0</td>\n",
       "      <td>0.0</td>\n",
       "      <td>...</td>\n",
       "      <td>0.0</td>\n",
       "      <td>0.0</td>\n",
       "      <td>0.0</td>\n",
       "      <td>0.0</td>\n",
       "      <td>0.0</td>\n",
       "      <td>0.0</td>\n",
       "      <td>0.0</td>\n",
       "      <td>0.0</td>\n",
       "      <td>0.0</td>\n",
       "      <td>0.0</td>\n",
       "    </tr>\n",
       "    <tr>\n",
       "      <th>4</th>\n",
       "      <td>0.528777</td>\n",
       "      <td>0.000000</td>\n",
       "      <td>0.582723</td>\n",
       "      <td>0.609941</td>\n",
       "      <td>0.000000</td>\n",
       "      <td>0.0</td>\n",
       "      <td>0.0</td>\n",
       "      <td>0.0</td>\n",
       "      <td>0.0</td>\n",
       "      <td>0.0</td>\n",
       "      <td>...</td>\n",
       "      <td>0.0</td>\n",
       "      <td>0.0</td>\n",
       "      <td>0.0</td>\n",
       "      <td>0.0</td>\n",
       "      <td>0.0</td>\n",
       "      <td>0.0</td>\n",
       "      <td>0.0</td>\n",
       "      <td>0.0</td>\n",
       "      <td>0.0</td>\n",
       "      <td>0.0</td>\n",
       "    </tr>\n",
       "  </tbody>\n",
       "</table>\n",
       "<p>5 rows × 26 columns</p>\n",
       "</div>"
      ],
      "text/plain": [
       "         Co        Cr        Fe        Ni        Mn   Nb   Ti   Al    C   Mo  \\\n",
       "0  0.392247  0.530344  0.432264  0.452454  0.000000  0.0  0.0  0.0  0.0  0.0   \n",
       "1  0.394086  0.532722  0.000000  0.454576  0.583150  0.0  0.0  0.0  0.0  0.0   \n",
       "2  0.542211  0.724192  0.000000  0.625437  0.000000  0.0  0.0  0.0  0.0  0.0   \n",
       "3  0.386380  0.000000  0.425798  0.445687  0.571841  0.0  0.0  0.0  0.0  0.0   \n",
       "4  0.528777  0.000000  0.582723  0.609941  0.000000  0.0  0.0  0.0  0.0  0.0   \n",
       "\n",
       "   ...   Zn   Ta   Zr   Hf    W   Re   Ca    Y   Pd   Sc  \n",
       "0  ...  0.0  0.0  0.0  0.0  0.0  0.0  0.0  0.0  0.0  0.0  \n",
       "1  ...  0.0  0.0  0.0  0.0  0.0  0.0  0.0  0.0  0.0  0.0  \n",
       "2  ...  0.0  0.0  0.0  0.0  0.0  0.0  0.0  0.0  0.0  0.0  \n",
       "3  ...  0.0  0.0  0.0  0.0  0.0  0.0  0.0  0.0  0.0  0.0  \n",
       "4  ...  0.0  0.0  0.0  0.0  0.0  0.0  0.0  0.0  0.0  0.0  \n",
       "\n",
       "[5 rows x 26 columns]"
      ]
     },
     "execution_count": 181,
     "metadata": {},
     "output_type": "execute_result"
    }
   ],
   "source": [
    "X_scaled.head()"
   ]
  },
  {
   "cell_type": "code",
   "execution_count": 182,
   "id": "fcAHogCkVkQf",
   "metadata": {
    "colab": {
     "base_uri": "https://localhost:8080/",
     "height": 223
    },
    "id": "fcAHogCkVkQf",
    "outputId": "69458857-e4d0-42db-fe0d-279a22311e27"
   },
   "outputs": [
    {
     "data": {
      "text/html": [
       "<div>\n",
       "<style scoped>\n",
       "    .dataframe tbody tr th:only-of-type {\n",
       "        vertical-align: middle;\n",
       "    }\n",
       "\n",
       "    .dataframe tbody tr th {\n",
       "        vertical-align: top;\n",
       "    }\n",
       "\n",
       "    .dataframe thead th {\n",
       "        text-align: right;\n",
       "    }\n",
       "</style>\n",
       "<table border=\"1\" class=\"dataframe\">\n",
       "  <thead>\n",
       "    <tr style=\"text-align: right;\">\n",
       "      <th></th>\n",
       "      <th>PROPERTY: Calculated Density (g/cm$^3$)</th>\n",
       "      <th>PROPERTY: Test temperature ($^\\circ$C)</th>\n",
       "      <th>PROPERTY: YS (MPa)</th>\n",
       "      <th>PROPERTY: UTS (MPa)</th>\n",
       "      <th>PROPERTY: Elongation (%)</th>\n",
       "      <th>PROPERTY: Calculated Young modulus (GPa)</th>\n",
       "    </tr>\n",
       "  </thead>\n",
       "  <tbody>\n",
       "    <tr>\n",
       "      <th>0</th>\n",
       "      <td>0.552846</td>\n",
       "      <td>0.157213</td>\n",
       "      <td>0.086124</td>\n",
       "      <td>0.159245</td>\n",
       "      <td>0.371429</td>\n",
       "      <td>0.681416</td>\n",
       "    </tr>\n",
       "    <tr>\n",
       "      <th>1</th>\n",
       "      <td>0.544715</td>\n",
       "      <td>0.157213</td>\n",
       "      <td>0.089069</td>\n",
       "      <td>0.155695</td>\n",
       "      <td>0.419048</td>\n",
       "      <td>0.663717</td>\n",
       "    </tr>\n",
       "    <tr>\n",
       "      <th>2</th>\n",
       "      <td>0.560976</td>\n",
       "      <td>0.157213</td>\n",
       "      <td>0.095694</td>\n",
       "      <td>0.197789</td>\n",
       "      <td>0.571429</td>\n",
       "      <td>0.703540</td>\n",
       "    </tr>\n",
       "    <tr>\n",
       "      <th>3</th>\n",
       "      <td>0.552846</td>\n",
       "      <td>0.157213</td>\n",
       "      <td>0.047847</td>\n",
       "      <td>0.119180</td>\n",
       "      <td>0.390476</td>\n",
       "      <td>0.584071</td>\n",
       "    </tr>\n",
       "    <tr>\n",
       "      <th>4</th>\n",
       "      <td>0.577236</td>\n",
       "      <td>0.157213</td>\n",
       "      <td>0.062937</td>\n",
       "      <td>0.109798</td>\n",
       "      <td>0.295238</td>\n",
       "      <td>0.597345</td>\n",
       "    </tr>\n",
       "  </tbody>\n",
       "</table>\n",
       "</div>"
      ],
      "text/plain": [
       "   PROPERTY: Calculated Density (g/cm$^3$)  \\\n",
       "0                                 0.552846   \n",
       "1                                 0.544715   \n",
       "2                                 0.560976   \n",
       "3                                 0.552846   \n",
       "4                                 0.577236   \n",
       "\n",
       "   PROPERTY: Test temperature ($^\\circ$C)  PROPERTY: YS (MPa)  \\\n",
       "0                                0.157213            0.086124   \n",
       "1                                0.157213            0.089069   \n",
       "2                                0.157213            0.095694   \n",
       "3                                0.157213            0.047847   \n",
       "4                                0.157213            0.062937   \n",
       "\n",
       "   PROPERTY: UTS (MPa)  PROPERTY: Elongation (%)  \\\n",
       "0             0.159245                  0.371429   \n",
       "1             0.155695                  0.419048   \n",
       "2             0.197789                  0.571429   \n",
       "3             0.119180                  0.390476   \n",
       "4             0.109798                  0.295238   \n",
       "\n",
       "   PROPERTY: Calculated Young modulus (GPa)  \n",
       "0                                  0.681416  \n",
       "1                                  0.663717  \n",
       "2                                  0.703540  \n",
       "3                                  0.584071  \n",
       "4                                  0.597345  "
      ]
     },
     "execution_count": 182,
     "metadata": {},
     "output_type": "execute_result"
    }
   ],
   "source": [
    "y_scaled.head()"
   ]
  },
  {
   "cell_type": "code",
   "execution_count": 183,
   "id": "H_r5LvXSs_gJ",
   "metadata": {
    "colab": {
     "base_uri": "https://localhost:8080/"
    },
    "id": "H_r5LvXSs_gJ",
    "outputId": "58a62e3d-eee2-4256-c75b-28090b2a7306"
   },
   "outputs": [
    {
     "data": {
      "text/plain": [
       "Index(['PROPERTY: Calculated Density (g/cm$^3$)',\n",
       "       'PROPERTY: Test temperature ($^\\circ$C)', 'PROPERTY: YS (MPa)',\n",
       "       'PROPERTY: UTS (MPa)', 'PROPERTY: Elongation (%)',\n",
       "       'PROPERTY: Calculated Young modulus (GPa)'],\n",
       "      dtype='object')"
      ]
     },
     "execution_count": 183,
     "metadata": {},
     "output_type": "execute_result"
    }
   ],
   "source": [
    "y_scaled.columns"
   ]
  },
  {
   "cell_type": "code",
   "execution_count": 184,
   "id": "XX_v41LtgCAj",
   "metadata": {
    "colab": {
     "base_uri": "https://localhost:8080/"
    },
    "id": "XX_v41LtgCAj",
    "outputId": "0eea3faa-9ea0-4887-e32b-e05f0450e2d3"
   },
   "outputs": [
    {
     "data": {
      "text/plain": [
       "([(681, 26), (681, 6)], [(171, 26), (171, 6)], [(95, 26), (95, 6)])"
      ]
     },
     "execution_count": 184,
     "metadata": {},
     "output_type": "execute_result"
    }
   ],
   "source": [
    "from sklearn.model_selection import train_test_split\n",
    "\n",
    "X_new,X_test,y_new,y_test = train_test_split(X_scaled,y_scaled,test_size=0.1,random_state=1);\n",
    "X_train,X_valid,y_train,y_valid = train_test_split(X_new,y_new,test_size=0.2,random_state=1)\n",
    "\n",
    "[X_train.shape,y_train.shape],[X_valid.shape,y_valid.shape],[X_test.shape,y_test.shape]"
   ]
  },
  {
   "cell_type": "code",
   "execution_count": 185,
   "id": "vlQTaDmWhZ1C",
   "metadata": {
    "colab": {
     "base_uri": "https://localhost:8080/"
    },
    "id": "vlQTaDmWhZ1C",
    "outputId": "00443a70-c9c6-4ee6-d3d0-f4b8e74173fe"
   },
   "outputs": [
    {
     "name": "stdout",
     "output_type": "stream",
     "text": [
      "Training set shape: (681, 26) (681, 6)\n",
      "Validation set shape: (171, 26) (171, 6)\n",
      "Test set shape: (95, 26) (95, 6)\n"
     ]
    }
   ],
   "source": [
    "print(\"Training set shape:\", X_train.shape, y_train.shape)\n",
    "print(\"Validation set shape:\", X_valid.shape, y_valid.shape)\n",
    "print(\"Test set shape:\", X_test.shape, y_test.shape)"
   ]
  },
  {
   "cell_type": "code",
   "execution_count": 186,
   "id": "6qcq3j-4Aln9",
   "metadata": {
    "id": "6qcq3j-4Aln9"
   },
   "outputs": [],
   "source": [
    "y_Test = sc.inverse_transform(y_test)\n",
    "actual_Calculated_Density = np.transpose(y_Test)[0]\n",
    "actual_Test_Temperature = np.transpose(y_Test)[1]\n",
    "actual_YS = np.transpose(y_Test)[2]\n",
    "actual_UTS = np.transpose(y_Test)[3]\n",
    "actual_Elongation = np.transpose(y_Test)[4]\n",
    "actual_Calculated_Youngs_Modulus = np.transpose(y_Test)[5]"
   ]
  },
  {
   "cell_type": "code",
   "execution_count": 187,
   "id": "NaLeqJ8MBE0L",
   "metadata": {
    "colab": {
     "base_uri": "https://localhost:8080/"
    },
    "id": "NaLeqJ8MBE0L",
    "outputId": "6f39b628-c847-46ba-b12d-7c62332bbe78"
   },
   "outputs": [
    {
     "data": {
      "text/plain": [
       "array([ 5.5,  6.9,  7.2, 10. ,  8.3,  9.9,  1.4,  9.9,  5.7,  7.7,  9.9,\n",
       "       11.8,  6.8,  6.4, 11.1,  7.9,  7.1,  8.1,  6.7,  6.8,  6. ,  7.6,\n",
       "        8.4,  7.1,  7.1,  7.4,  5.6, 10.9,  6.7,  8.7,  5.9,  5.8,  7.1,\n",
       "       10. ,  6.6,  8.3,  9.9,  7.8,  6.5,  7.4, 10.8,  5.8,  7.1, 11.8,\n",
       "        7.2,  7.4,  7.4,  7.8,  9.9, 12.6,  6.6,  9.9,  7.6,  6.8,  6.2,\n",
       "        8.6,  9.9,  3.2,  8. ,  7.6,  7.8,  8.4,  8.1,  6.9,  7.8,  8.2,\n",
       "        8.9,  7.6,  8. ,  7.7,  7.4,  8. , 11. ,  9.9,  8. ,  7.6,  6.5,\n",
       "       10.2, 10. ,  7.1,  7.2,  8. ,  6.7,  5.8,  8.7,  6.5,  8.2,  7.6,\n",
       "        7.7,  8.6,  7.3,  7.1,  8.5,  5.5,  7.2])"
      ]
     },
     "execution_count": 187,
     "metadata": {},
     "output_type": "execute_result"
    }
   ],
   "source": [
    "actual_Calculated_Density"
   ]
  },
  {
   "cell_type": "markdown",
   "id": "K6MnnMWki4pF",
   "metadata": {
    "id": "K6MnnMWki4pF"
   },
   "source": [
    "# **Modelling**"
   ]
  },
  {
   "cell_type": "markdown",
   "id": "T9GeSede3brd",
   "metadata": {
    "id": "T9GeSede3brd"
   },
   "source": [
    "**Using various regression models to find the best one**"
   ]
  },
  {
   "cell_type": "code",
   "execution_count": 188,
   "id": "Gy_kF8sUjicx",
   "metadata": {
    "id": "Gy_kF8sUjicx"
   },
   "outputs": [],
   "source": [
    "import xgboost as xgb\n",
    "\n",
    "def model_results(XTrain,XValid,yTrain,yValid):\n",
    "  models =[('Random Forest',RandomForestRegressor()),\n",
    "           ('MLP',MLPRegressor(max_iter = 1000)),\n",
    "           ('RidgeCV',MultiOutputRegressor(RidgeCV())),\n",
    "           ('SGD',MultiOutputRegressor(SGDRegressor())),\n",
    "           ('KNN', KNeighborsRegressor(n_neighbors=10)),\n",
    "           ('Support Vector',MultiOutputRegressor(SVR())),\n",
    "           ('Decision Tree',MultiOutputRegressor(DecisionTreeRegressor())),\n",
    "           ('AdaBoost',MultiOutputRegressor(AdaBoostRegressor())),\n",
    "           ('X_gb',MultiOutputRegressor(xgb.XGBRegressor())),\n",
    "           ('GradientBoost',MultiOutputRegressor(GradientBoostingRegressor())),\n",
    "          ]\n",
    "  finalResults = []\n",
    "\n",
    "  for name,model in models:\n",
    "      model.fit(XTrain, yTrain)\n",
    "      model_results = model.predict(XValid)\n",
    "      r2score = r2_score(yValid, model_results)\n",
    "      RMSE = np.sqrt(mean_squared_error(yValid, model_results))\n",
    "      MAE = mean_absolute_error(yValid, model_results)\n",
    "      finalResults.append((name, r2score, RMSE, MAE))\n",
    "\n",
    "  finalResults.sort(key=lambda k:k[2])\n",
    "  return finalResults\n",
    "\n"
   ]
  },
  {
   "cell_type": "code",
   "execution_count": 189,
   "id": "Xq55tgEIj6rl",
   "metadata": {
    "colab": {
     "base_uri": "https://localhost:8080/",
     "height": 363
    },
    "id": "Xq55tgEIj6rl",
    "outputId": "60418832-eb5f-494b-e8c9-c5c4479fee8b"
   },
   "outputs": [
    {
     "data": {
      "text/html": [
       "<div>\n",
       "<style scoped>\n",
       "    .dataframe tbody tr th:only-of-type {\n",
       "        vertical-align: middle;\n",
       "    }\n",
       "\n",
       "    .dataframe tbody tr th {\n",
       "        vertical-align: top;\n",
       "    }\n",
       "\n",
       "    .dataframe thead th {\n",
       "        text-align: right;\n",
       "    }\n",
       "</style>\n",
       "<table border=\"1\" class=\"dataframe\">\n",
       "  <thead>\n",
       "    <tr style=\"text-align: right;\">\n",
       "      <th></th>\n",
       "      <th>Model Name</th>\n",
       "      <th>R2 Score</th>\n",
       "      <th>RMSE</th>\n",
       "      <th>MAE</th>\n",
       "    </tr>\n",
       "  </thead>\n",
       "  <tbody>\n",
       "    <tr>\n",
       "      <th>0</th>\n",
       "      <td>GradientBoost</td>\n",
       "      <td>0.485273</td>\n",
       "      <td>0.121450</td>\n",
       "      <td>0.076184</td>\n",
       "    </tr>\n",
       "    <tr>\n",
       "      <th>1</th>\n",
       "      <td>Random Forest</td>\n",
       "      <td>0.488808</td>\n",
       "      <td>0.122150</td>\n",
       "      <td>0.069909</td>\n",
       "    </tr>\n",
       "    <tr>\n",
       "      <th>2</th>\n",
       "      <td>X_gb</td>\n",
       "      <td>0.436836</td>\n",
       "      <td>0.127753</td>\n",
       "      <td>0.069063</td>\n",
       "    </tr>\n",
       "    <tr>\n",
       "      <th>3</th>\n",
       "      <td>Support Vector</td>\n",
       "      <td>0.428207</td>\n",
       "      <td>0.127862</td>\n",
       "      <td>0.094852</td>\n",
       "    </tr>\n",
       "    <tr>\n",
       "      <th>4</th>\n",
       "      <td>KNN</td>\n",
       "      <td>0.379185</td>\n",
       "      <td>0.134120</td>\n",
       "      <td>0.090006</td>\n",
       "    </tr>\n",
       "    <tr>\n",
       "      <th>5</th>\n",
       "      <td>Decision Tree</td>\n",
       "      <td>0.348493</td>\n",
       "      <td>0.137056</td>\n",
       "      <td>0.072546</td>\n",
       "    </tr>\n",
       "    <tr>\n",
       "      <th>6</th>\n",
       "      <td>AdaBoost</td>\n",
       "      <td>0.335690</td>\n",
       "      <td>0.137637</td>\n",
       "      <td>0.097812</td>\n",
       "    </tr>\n",
       "    <tr>\n",
       "      <th>7</th>\n",
       "      <td>MLP</td>\n",
       "      <td>0.329987</td>\n",
       "      <td>0.138825</td>\n",
       "      <td>0.101103</td>\n",
       "    </tr>\n",
       "    <tr>\n",
       "      <th>8</th>\n",
       "      <td>RidgeCV</td>\n",
       "      <td>0.325966</td>\n",
       "      <td>0.140780</td>\n",
       "      <td>0.099010</td>\n",
       "    </tr>\n",
       "    <tr>\n",
       "      <th>9</th>\n",
       "      <td>SGD</td>\n",
       "      <td>0.220684</td>\n",
       "      <td>0.149583</td>\n",
       "      <td>0.110423</td>\n",
       "    </tr>\n",
       "  </tbody>\n",
       "</table>\n",
       "</div>"
      ],
      "text/plain": [
       "       Model Name  R2 Score      RMSE       MAE\n",
       "0   GradientBoost  0.485273  0.121450  0.076184\n",
       "1   Random Forest  0.488808  0.122150  0.069909\n",
       "2            X_gb  0.436836  0.127753  0.069063\n",
       "3  Support Vector  0.428207  0.127862  0.094852\n",
       "4             KNN  0.379185  0.134120  0.090006\n",
       "5   Decision Tree  0.348493  0.137056  0.072546\n",
       "6        AdaBoost  0.335690  0.137637  0.097812\n",
       "7             MLP  0.329987  0.138825  0.101103\n",
       "8         RidgeCV  0.325966  0.140780  0.099010\n",
       "9             SGD  0.220684  0.149583  0.110423"
      ]
     },
     "execution_count": 189,
     "metadata": {},
     "output_type": "execute_result"
    }
   ],
   "source": [
    "np.random.seed(42)\n",
    "np_results = model_results(X_train,X_valid,y_train,y_valid)\n",
    "results = pd.DataFrame(np_results,columns=['Model Name', 'R2 Score', 'RMSE', 'MAE'])\n",
    "results"
   ]
  },
  {
   "cell_type": "code",
   "execution_count": 190,
   "id": "CXYKmrFZrXHW",
   "metadata": {
    "id": "CXYKmrFZrXHW"
   },
   "outputs": [],
   "source": [
    "import xgboost as xgb\n",
    "\n",
    "def model_test_results(XTrain,XTest,yTrain,yTest):\n",
    "  test_models =[('Linear', LinearRegression()),\n",
    "           ('Random Forest',RandomForestRegressor()),\n",
    "           ('MLP',MLPRegressor(max_iter = 1000)),\n",
    "           ('RidgeCV',MultiOutputRegressor(RidgeCV())),\n",
    "           ('SGD',MultiOutputRegressor(SGDRegressor())),\n",
    "           ('KNN', KNeighborsRegressor(n_neighbors=10)),\n",
    "           ('Support Vector',MultiOutputRegressor(SVR())),\n",
    "           ('Decision Tree',MultiOutputRegressor(DecisionTreeRegressor())),\n",
    "           ('AdaBoost',MultiOutputRegressor(AdaBoostRegressor())),\n",
    "           ('X_gb',MultiOutputRegressor(xgb.XGBRegressor())),\n",
    "           ('GradientBoost',MultiOutputRegressor(GradientBoostingRegressor())),\n",
    "          ]\n",
    "  finalResults = []\n",
    "\n",
    "  for name,model in test_models:\n",
    "      model.fit(XTrain, yTrain)\n",
    "      model_results = model.predict(XTest)\n",
    "      r2score = r2_score(yTest, model_results)\n",
    "      RMSE = np.sqrt(mean_squared_error(yTest, model_results))\n",
    "      MAE = mean_absolute_error(yTest, model_results)\n",
    "      finalResults.append((name, r2score, RMSE, MAE))\n",
    "  finalResults.sort(key=lambda k:k[2])\n",
    "  return finalResults\n"
   ]
  },
  {
   "cell_type": "code",
   "execution_count": 191,
   "id": "rkJxUc-ErZbY",
   "metadata": {
    "colab": {
     "base_uri": "https://localhost:8080/",
     "height": 394
    },
    "id": "rkJxUc-ErZbY",
    "outputId": "d8e3518f-8776-444c-c850-4af34f95c376"
   },
   "outputs": [
    {
     "data": {
      "text/html": [
       "<div>\n",
       "<style scoped>\n",
       "    .dataframe tbody tr th:only-of-type {\n",
       "        vertical-align: middle;\n",
       "    }\n",
       "\n",
       "    .dataframe tbody tr th {\n",
       "        vertical-align: top;\n",
       "    }\n",
       "\n",
       "    .dataframe thead th {\n",
       "        text-align: right;\n",
       "    }\n",
       "</style>\n",
       "<table border=\"1\" class=\"dataframe\">\n",
       "  <thead>\n",
       "    <tr style=\"text-align: right;\">\n",
       "      <th></th>\n",
       "      <th>Model Name</th>\n",
       "      <th>R2 Score</th>\n",
       "      <th>RMSE</th>\n",
       "      <th>MAE</th>\n",
       "    </tr>\n",
       "  </thead>\n",
       "  <tbody>\n",
       "    <tr>\n",
       "      <th>0</th>\n",
       "      <td>GradientBoost</td>\n",
       "      <td>0.485749</td>\n",
       "      <td>0.122274</td>\n",
       "      <td>0.074644</td>\n",
       "    </tr>\n",
       "    <tr>\n",
       "      <th>1</th>\n",
       "      <td>Random Forest</td>\n",
       "      <td>0.477386</td>\n",
       "      <td>0.123285</td>\n",
       "      <td>0.069215</td>\n",
       "    </tr>\n",
       "    <tr>\n",
       "      <th>2</th>\n",
       "      <td>X_gb</td>\n",
       "      <td>0.404201</td>\n",
       "      <td>0.128412</td>\n",
       "      <td>0.068556</td>\n",
       "    </tr>\n",
       "    <tr>\n",
       "      <th>3</th>\n",
       "      <td>KNN</td>\n",
       "      <td>0.438675</td>\n",
       "      <td>0.131010</td>\n",
       "      <td>0.084453</td>\n",
       "    </tr>\n",
       "    <tr>\n",
       "      <th>4</th>\n",
       "      <td>Support Vector</td>\n",
       "      <td>0.403785</td>\n",
       "      <td>0.132873</td>\n",
       "      <td>0.095055</td>\n",
       "    </tr>\n",
       "    <tr>\n",
       "      <th>5</th>\n",
       "      <td>Decision Tree</td>\n",
       "      <td>0.288861</td>\n",
       "      <td>0.138122</td>\n",
       "      <td>0.073207</td>\n",
       "    </tr>\n",
       "    <tr>\n",
       "      <th>6</th>\n",
       "      <td>MLP</td>\n",
       "      <td>0.332185</td>\n",
       "      <td>0.139378</td>\n",
       "      <td>0.099785</td>\n",
       "    </tr>\n",
       "    <tr>\n",
       "      <th>7</th>\n",
       "      <td>AdaBoost</td>\n",
       "      <td>0.256086</td>\n",
       "      <td>0.143456</td>\n",
       "      <td>0.100926</td>\n",
       "    </tr>\n",
       "    <tr>\n",
       "      <th>8</th>\n",
       "      <td>RidgeCV</td>\n",
       "      <td>0.319023</td>\n",
       "      <td>0.144494</td>\n",
       "      <td>0.099943</td>\n",
       "    </tr>\n",
       "    <tr>\n",
       "      <th>9</th>\n",
       "      <td>Linear</td>\n",
       "      <td>0.317762</td>\n",
       "      <td>0.144743</td>\n",
       "      <td>0.099445</td>\n",
       "    </tr>\n",
       "    <tr>\n",
       "      <th>10</th>\n",
       "      <td>SGD</td>\n",
       "      <td>0.219424</td>\n",
       "      <td>0.151421</td>\n",
       "      <td>0.111954</td>\n",
       "    </tr>\n",
       "  </tbody>\n",
       "</table>\n",
       "</div>"
      ],
      "text/plain": [
       "        Model Name  R2 Score      RMSE       MAE\n",
       "0    GradientBoost  0.485749  0.122274  0.074644\n",
       "1    Random Forest  0.477386  0.123285  0.069215\n",
       "2             X_gb  0.404201  0.128412  0.068556\n",
       "3              KNN  0.438675  0.131010  0.084453\n",
       "4   Support Vector  0.403785  0.132873  0.095055\n",
       "5    Decision Tree  0.288861  0.138122  0.073207\n",
       "6              MLP  0.332185  0.139378  0.099785\n",
       "7         AdaBoost  0.256086  0.143456  0.100926\n",
       "8          RidgeCV  0.319023  0.144494  0.099943\n",
       "9           Linear  0.317762  0.144743  0.099445\n",
       "10             SGD  0.219424  0.151421  0.111954"
      ]
     },
     "execution_count": 191,
     "metadata": {},
     "output_type": "execute_result"
    }
   ],
   "source": [
    "np.random.seed(42)\n",
    "np__test_results = model_test_results(X_train,X_test,y_train,y_test)\n",
    "test_results = pd.DataFrame(np__test_results,columns=['Model Name', 'R2 Score', 'RMSE', 'MAE'])\n",
    "test_results"
   ]
  },
  {
   "cell_type": "code",
   "execution_count": 192,
   "id": "bgkTHhn7TD7A",
   "metadata": {
    "id": "bgkTHhn7TD7A"
   },
   "outputs": [],
   "source": [
    "names = []\n",
    "r2score = []\n",
    "rmse = []\n",
    "mae = []\n",
    "for model in np_results:\n",
    "  names.append(model[0])\n",
    "  r2score.append(model[1])\n",
    "  rmse.append(model[2])\n",
    "  mae.append(model[3])"
   ]
  },
  {
   "cell_type": "markdown",
   "id": "MmjZaFqPS3P2",
   "metadata": {
    "id": "MmjZaFqPS3P2"
   },
   "source": [
    "r2 score comparison"
   ]
  },
  {
   "cell_type": "code",
   "execution_count": 193,
   "id": "O5hhVltRS9Vg",
   "metadata": {
    "colab": {
     "base_uri": "https://localhost:8080/",
     "height": 716
    },
    "id": "O5hhVltRS9Vg",
    "outputId": "facd0de6-43e1-4b7a-b387-40ab2547ed33"
   },
   "outputs": [
    {
     "data": {
      "text/plain": [
       "Text(0.5, 1.0, 'r2score comparison')"
      ]
     },
     "execution_count": 193,
     "metadata": {},
     "output_type": "execute_result"
    },
    {
     "data": {
      "image/png": "[encoded data removed]",
      "text/plain": [
       "<Figure size 1600x800 with 1 Axes>"
      ]
     },
     "metadata": {},
     "output_type": "display_data"
    }
   ],
   "source": [
    "fig = plt.figure(figsize = (16, 8))\n",
    "plt.bar(names,r2score,width=0.8,color='#6DA9E4')\n",
    "plt.title('r2score comparison')"
   ]
  },
  {
   "cell_type": "markdown",
   "id": "TCcfYJ-tTP9J",
   "metadata": {
    "id": "TCcfYJ-tTP9J"
   },
   "source": [
    "rmse comparison"
   ]
  },
  {
   "cell_type": "code",
   "execution_count": 194,
   "id": "QpJjyj4tTW3l",
   "metadata": {
    "colab": {
     "base_uri": "https://localhost:8080/",
     "height": 716
    },
    "id": "QpJjyj4tTW3l",
    "outputId": "7f905691-ff03-4882-8641-1133cb8a5f61"
   },
   "outputs": [
    {
     "data": {
      "text/plain": [
       "Text(0.5, 1.0, 'rmse comparison')"
      ]
     },
     "execution_count": 194,
     "metadata": {},
     "output_type": "execute_result"
    },
    {
     "data": {
      "image/png": "[encoded data removed]",
      "text/plain": [
       "<Figure size 1600x800 with 1 Axes>"
      ]
     },
     "metadata": {},
     "output_type": "display_data"
    }
   ],
   "source": [
    "fig = plt.figure(figsize = (16, 8))\n",
    "plt.bar(names,rmse,width=0.8,color='#6DA9E4')\n",
    "plt.title('rmse comparison')"
   ]
  },
  {
   "cell_type": "markdown",
   "id": "GX01atGfQu4S",
   "metadata": {
    "id": "GX01atGfQu4S"
   },
   "source": [
    "mae comparison"
   ]
  },
  {
   "cell_type": "code",
   "execution_count": 195,
   "id": "1gMHp07QTm3o",
   "metadata": {
    "colab": {
     "base_uri": "https://localhost:8080/",
     "height": 716
    },
    "id": "1gMHp07QTm3o",
    "outputId": "ac0bff10-cd25-4c5e-84bd-b396bf967594"
   },
   "outputs": [
    {
     "data": {
      "text/plain": [
       "Text(0.5, 1.0, 'mae comparison')"
      ]
     },
     "execution_count": 195,
     "metadata": {},
     "output_type": "execute_result"
    },
    {
     "data": {
      "image/png": "[encoded data removed]",
      "text/plain": [
       "<Figure size 1600x800 with 1 Axes>"
      ]
     },
     "metadata": {},
     "output_type": "display_data"
    }
   ],
   "source": [
    "fig = plt.figure(figsize = (16, 8))\n",
    "plt.bar(names,mae,width=0.8,color='#6DA9E4')\n",
    "plt.title('mae comparison')"
   ]
  },
  {
   "cell_type": "code",
   "execution_count": 196,
   "id": "-yxf3wCKQuA8",
   "metadata": {
    "colab": {
     "base_uri": "https://localhost:8080/",
     "height": 89
    },
    "id": "-yxf3wCKQuA8",
    "outputId": "c4feecbb-b20a-4d8b-d27d-05b0aef58a13"
   },
   "outputs": [
    {
     "data": {
      "text/html": [
       "<div>\n",
       "<style scoped>\n",
       "    .dataframe tbody tr th:only-of-type {\n",
       "        vertical-align: middle;\n",
       "    }\n",
       "\n",
       "    .dataframe tbody tr th {\n",
       "        vertical-align: top;\n",
       "    }\n",
       "\n",
       "    .dataframe thead th {\n",
       "        text-align: right;\n",
       "    }\n",
       "</style>\n",
       "<table border=\"1\" class=\"dataframe\">\n",
       "  <thead>\n",
       "    <tr style=\"text-align: right;\">\n",
       "      <th></th>\n",
       "      <th>Model Name</th>\n",
       "      <th>R2 Score</th>\n",
       "      <th>RMSE</th>\n",
       "      <th>MAE</th>\n",
       "    </tr>\n",
       "  </thead>\n",
       "  <tbody>\n",
       "    <tr>\n",
       "      <th>0</th>\n",
       "      <td>GradientBoost</td>\n",
       "      <td>0.485273</td>\n",
       "      <td>0.12145</td>\n",
       "      <td>0.076184</td>\n",
       "    </tr>\n",
       "  </tbody>\n",
       "</table>\n",
       "</div>"
      ],
      "text/plain": [
       "      Model Name  R2 Score     RMSE       MAE\n",
       "0  GradientBoost  0.485273  0.12145  0.076184"
      ]
     },
     "execution_count": 196,
     "metadata": {},
     "output_type": "execute_result"
    }
   ],
   "source": [
    "Final_models = results.iloc[:1, :]\n",
    "Final_models"
   ]
  },
  {
   "cell_type": "markdown",
   "id": "ILMQnnkwpYfc",
   "metadata": {
    "id": "ILMQnnkwpYfc"
   },
   "source": [
    "Regression using Neural Network"
   ]
  },
  {
   "cell_type": "code",
   "execution_count": 197,
   "id": "JYGiBa1kpZWH",
   "metadata": {
    "id": "JYGiBa1kpZWH"
   },
   "outputs": [],
   "source": [
    "from tensorflow import keras\n",
    "from keras.models import Sequential\n",
    "from keras.layers import Dense"
   ]
  },
  {
   "cell_type": "code",
   "execution_count": 198,
   "id": "Ji7fa11ipy1m",
   "metadata": {
    "colab": {
     "base_uri": "https://localhost:8080/"
    },
    "id": "Ji7fa11ipy1m",
    "outputId": "01a04b4a-a647-4f40-e073-2bcc9db36dbf"
   },
   "outputs": [
    {
     "name": "stderr",
     "output_type": "stream",
     "text": [
      "C:\\Program Files\\Python311\\Lib\\site-packages\\keras\\src\\layers\\core\\dense.py:93: UserWarning: Do not pass an `input_shape`/`input_dim` argument to a layer. When using Sequential models, prefer using an `Input(shape)` object as the first layer in the model instead.\n",
      "  super().__init__(activity_regularizer=activity_regularizer, **kwargs)\n"
     ]
    }
   ],
   "source": [
    "model = Sequential()\n",
    "model.add(Dense(128, input_dim=26, activation='tanh'))\n",
    "model.add(Dense(64, activation='tanh'))\n",
    "model.add(Dense(32, activation='tanh'))\n",
    "model.add(Dense(6, activation='linear'))\n",
    "\n",
    "model.compile(loss=keras.losses.mse,\n",
    "                 optimizer=keras.optimizers.Adam(),\n",
    "                 metrics=[\"mse\"])"
   ]
  },
  {
   "cell_type": "code",
   "execution_count": 199,
   "id": "GrQgqHkRuoUr",
   "metadata": {
    "colab": {
     "base_uri": "https://localhost:8080/"
    },
    "id": "GrQgqHkRuoUr",
    "outputId": "9119f6d1-789e-47a4-cc0d-0090a58dd293"
   },
   "outputs": [
    {
     "name": "stdout",
     "output_type": "stream",
     "text": [
      "Epoch 1/500\n",
      "\u001b[1m6/6\u001b[0m \u001b[32m━━━━━━━━━━━━━━━━━━━━\u001b[0m\u001b[37m\u001b[0m \u001b[1m1s\u001b[0m 9ms/step - loss: 0.1705 - mse: 0.1705\n",
      "Epoch 2/500\n",
      "\u001b[1m6/6\u001b[0m \u001b[32m━━━━━━━━━━━━━━━━━━━━\u001b[0m\u001b[37m\u001b[0m \u001b[1m0s\u001b[0m 6ms/step - loss: 0.0597 - mse: 0.0597 \n",
      "Epoch 3/500\n",
      "\u001b[1m6/6\u001b[0m \u001b[32m━━━━━━━━━━━━━━━━━━━━\u001b[0m\u001b[37m\u001b[0m \u001b[1m0s\u001b[0m 5ms/step - loss: 0.0298 - mse: 0.0298 \n",
      "Epoch 4/500\n",
      "\u001b[1m6/6\u001b[0m \u001b[32m━━━━━━━━━━━━━━━━━━━━\u001b[0m\u001b[37m\u001b[0m \u001b[1m0s\u001b[0m 6ms/step - loss: 0.0303 - mse: 0.0303 \n",
      "Epoch 5/500\n",
      "\u001b[1m6/6\u001b[0m \u001b[32m━━━━━━━━━━━━━━━━━━━━\u001b[0m\u001b[37m\u001b[0m \u001b[1m0s\u001b[0m 6ms/step - loss: 0.0237 - mse: 0.0237 \n",
      "Epoch 6/500\n",
      "\u001b[1m6/6\u001b[0m \u001b[32m━━━━━━━━━━━━━━━━━━━━\u001b[0m\u001b[37m\u001b[0m \u001b[1m0s\u001b[0m 8ms/step - loss: 0.0230 - mse: 0.0230 \n",
      "Epoch 7/500\n",
      "\u001b[1m6/6\u001b[0m \u001b[32m━━━━━━━━━━━━━━━━━━━━\u001b[0m\u001b[37m\u001b[0m \u001b[1m0s\u001b[0m 7ms/step - loss: 0.0219 - mse: 0.0219 \n",
      "Epoch 8/500\n",
      "\u001b[1m6/6\u001b[0m \u001b[32m━━━━━━━━━━━━━━━━━━━━\u001b[0m\u001b[37m\u001b[0m \u001b[1m0s\u001b[0m 6ms/step - loss: 0.0210 - mse: 0.0210 \n",
      "Epoch 9/500\n",
      "\u001b[1m6/6\u001b[0m \u001b[32m━━━━━━━━━━━━━━━━━━━━\u001b[0m\u001b[37m\u001b[0m \u001b[1m0s\u001b[0m 6ms/step - loss: 0.0216 - mse: 0.0216 \n",
      "Epoch 10/500\n",
      "\u001b[1m6/6\u001b[0m \u001b[32m━━━━━━━━━━━━━━━━━━━━\u001b[0m\u001b[37m\u001b[0m \u001b[1m0s\u001b[0m 6ms/step - loss: 0.0204 - mse: 0.0204 \n",
      "Epoch 11/500\n",
      "\u001b[1m6/6\u001b[0m \u001b[32m━━━━━━━━━━━━━━━━━━━━\u001b[0m\u001b[37m\u001b[0m \u001b[1m0s\u001b[0m 7ms/step - loss: 0.0201 - mse: 0.0201 \n",
      "Epoch 12/500\n",
      "\u001b[1m6/6\u001b[0m \u001b[32m━━━━━━━━━━━━━━━━━━━━\u001b[0m\u001b[37m\u001b[0m \u001b[1m0s\u001b[0m 7ms/step - loss: 0.0212 - mse: 0.0212 \n",
      "Epoch 13/500\n",
      "\u001b[1m6/6\u001b[0m \u001b[32m━━━━━━━━━━━━━━━━━━━━\u001b[0m\u001b[37m\u001b[0m \u001b[1m0s\u001b[0m 8ms/step - loss: 0.0209 - mse: 0.0209 \n",
      "Epoch 14/500\n",
      "\u001b[1m6/6\u001b[0m \u001b[32m━━━━━━━━━━━━━━━━━━━━\u001b[0m\u001b[37m\u001b[0m \u001b[1m0s\u001b[0m 6ms/step - loss: 0.0200 - mse: 0.0200 \n",
      "Epoch 15/500\n",
      "\u001b[1m6/6\u001b[0m \u001b[32m━━━━━━━━━━━━━━━━━━━━\u001b[0m\u001b[37m\u001b[0m \u001b[1m0s\u001b[0m 6ms/step - loss: 0.0206 - mse: 0.0206 \n",
      "Epoch 16/500\n",
      "\u001b[1m6/6\u001b[0m \u001b[32m━━━━━━━━━━━━━━━━━━━━\u001b[0m\u001b[37m\u001b[0m \u001b[1m0s\u001b[0m 7ms/step - loss: 0.0204 - mse: 0.0204 \n",
      "Epoch 17/500\n",
      "\u001b[1m6/6\u001b[0m \u001b[32m━━━━━━━━━━━━━━━━━━━━\u001b[0m\u001b[37m\u001b[0m \u001b[1m0s\u001b[0m 7ms/step - loss: 0.0210 - mse: 0.0210 \n",
      "Epoch 18/500\n",
      "\u001b[1m6/6\u001b[0m \u001b[32m━━━━━━━━━━━━━━━━━━━━\u001b[0m\u001b[37m\u001b[0m \u001b[1m0s\u001b[0m 7ms/step - loss: 0.0201 - mse: 0.0201 \n",
      "Epoch 19/500\n",
      "\u001b[1m6/6\u001b[0m \u001b[32m━━━━━━━━━━━━━━━━━━━━\u001b[0m\u001b[37m\u001b[0m \u001b[1m0s\u001b[0m 6ms/step - loss: 0.0202 - mse: 0.0202 \n",
      "Epoch 20/500\n",
      "\u001b[1m6/6\u001b[0m \u001b[32m━━━━━━━━━━━━━━━━━━━━\u001b[0m\u001b[37m\u001b[0m \u001b[1m0s\u001b[0m 7ms/step - loss: 0.0197 - mse: 0.0197 \n",
      "Epoch 21/500\n",
      "\u001b[1m6/6\u001b[0m \u001b[32m━━━━━━━━━━━━━━━━━━━━\u001b[0m\u001b[37m\u001b[0m \u001b[1m0s\u001b[0m 7ms/step - loss: 0.0206 - mse: 0.0206 \n",
      "Epoch 22/500\n",
      "\u001b[1m6/6\u001b[0m \u001b[32m━━━━━━━━━━━━━━━━━━━━\u001b[0m\u001b[37m\u001b[0m \u001b[1m0s\u001b[0m 6ms/step - loss: 0.0206 - mse: 0.0206 \n",
      "Epoch 23/500\n",
      "\u001b[1m6/6\u001b[0m \u001b[32m━━━━━━━━━━━━━━━━━━━━\u001b[0m\u001b[37m\u001b[0m \u001b[1m0s\u001b[0m 8ms/step - loss: 0.0205 - mse: 0.0205 \n",
      "Epoch 24/500\n",
      "\u001b[1m6/6\u001b[0m \u001b[32m━━━━━━━━━━━━━━━━━━━━\u001b[0m\u001b[37m\u001b[0m \u001b[1m0s\u001b[0m 6ms/step - loss: 0.0207 - mse: 0.0207 \n",
      "Epoch 25/500\n",
      "\u001b[1m6/6\u001b[0m \u001b[32m━━━━━━━━━━━━━━━━━━━━\u001b[0m\u001b[37m\u001b[0m \u001b[1m0s\u001b[0m 6ms/step - loss: 0.0199 - mse: 0.0199 \n",
      "Epoch 26/500\n",
      "\u001b[1m6/6\u001b[0m \u001b[32m━━━━━━━━━━━━━━━━━━━━\u001b[0m\u001b[37m\u001b[0m \u001b[1m0s\u001b[0m 8ms/step - loss: 0.0199 - mse: 0.0199 \n",
      "Epoch 27/500\n",
      "\u001b[1m6/6\u001b[0m \u001b[32m━━━━━━━━━━━━━━━━━━━━\u001b[0m\u001b[37m\u001b[0m \u001b[1m0s\u001b[0m 6ms/step - loss: 0.0205 - mse: 0.0205 \n",
      "Epoch 28/500\n",
      "\u001b[1m6/6\u001b[0m \u001b[32m━━━━━━━━━━━━━━━━━━━━\u001b[0m\u001b[37m\u001b[0m \u001b[1m0s\u001b[0m 6ms/step - loss: 0.0208 - mse: 0.0208 \n",
      "Epoch 29/500\n",
      "\u001b[1m6/6\u001b[0m \u001b[32m━━━━━━━━━━━━━━━━━━━━\u001b[0m\u001b[37m\u001b[0m \u001b[1m0s\u001b[0m 6ms/step - loss: 0.0197 - mse: 0.0197 \n",
      "Epoch 30/500\n",
      "\u001b[1m6/6\u001b[0m \u001b[32m━━━━━━━━━━━━━━━━━━━━\u001b[0m\u001b[37m\u001b[0m \u001b[1m0s\u001b[0m 6ms/step - loss: 0.0195 - mse: 0.0195 \n",
      "Epoch 31/500\n",
      "\u001b[1m6/6\u001b[0m \u001b[32m━━━━━━━━━━━━━━━━━━━━\u001b[0m\u001b[37m\u001b[0m \u001b[1m0s\u001b[0m 7ms/step - loss: 0.0200 - mse: 0.0200 \n",
      "Epoch 32/500\n",
      "\u001b[1m6/6\u001b[0m \u001b[32m━━━━━━━━━━━━━━━━━━━━\u001b[0m\u001b[37m\u001b[0m \u001b[1m0s\u001b[0m 6ms/step - loss: 0.0198 - mse: 0.0198 \n",
      "Epoch 33/500\n",
      "\u001b[1m6/6\u001b[0m \u001b[32m━━━━━━━━━━━━━━━━━━━━\u001b[0m\u001b[37m\u001b[0m \u001b[1m0s\u001b[0m 7ms/step - loss: 0.0199 - mse: 0.0199 \n",
      "Epoch 34/500\n",
      "\u001b[1m6/6\u001b[0m \u001b[32m━━━━━━━━━━━━━━━━━━━━\u001b[0m\u001b[37m\u001b[0m \u001b[1m0s\u001b[0m 6ms/step - loss: 0.0207 - mse: 0.0207 \n",
      "Epoch 35/500\n",
      "\u001b[1m6/6\u001b[0m \u001b[32m━━━━━━━━━━━━━━━━━━━━\u001b[0m\u001b[37m\u001b[0m \u001b[1m0s\u001b[0m 11ms/step - loss: 0.0203 - mse: 0.0203\n",
      "Epoch 36/500\n",
      "\u001b[1m6/6\u001b[0m \u001b[32m━━━━━━━━━━━━━━━━━━━━\u001b[0m\u001b[37m\u001b[0m \u001b[1m0s\u001b[0m 5ms/step - loss: 0.0206 - mse: 0.0206 \n",
      "Epoch 37/500\n",
      "\u001b[1m6/6\u001b[0m \u001b[32m━━━━━━━━━━━━━━━━━━━━\u001b[0m\u001b[37m\u001b[0m \u001b[1m0s\u001b[0m 6ms/step - loss: 0.0198 - mse: 0.0198 \n",
      "Epoch 38/500\n",
      "\u001b[1m6/6\u001b[0m \u001b[32m━━━━━━━━━━━━━━━━━━━━\u001b[0m\u001b[37m\u001b[0m \u001b[1m0s\u001b[0m 6ms/step - loss: 0.0205 - mse: 0.0205 \n",
      "Epoch 39/500\n",
      "\u001b[1m6/6\u001b[0m \u001b[32m━━━━━━━━━━━━━━━━━━━━\u001b[0m\u001b[37m\u001b[0m \u001b[1m0s\u001b[0m 8ms/step - loss: 0.0203 - mse: 0.0203 \n",
      "Epoch 40/500\n",
      "\u001b[1m6/6\u001b[0m \u001b[32m━━━━━━━━━━━━━━━━━━━━\u001b[0m\u001b[37m\u001b[0m \u001b[1m0s\u001b[0m 6ms/step - loss: 0.0197 - mse: 0.0197 \n",
      "Epoch 41/500\n",
      "\u001b[1m6/6\u001b[0m \u001b[32m━━━━━━━━━━━━━━━━━━━━\u001b[0m\u001b[37m\u001b[0m \u001b[1m0s\u001b[0m 7ms/step - loss: 0.0198 - mse: 0.0198 \n",
      "Epoch 42/500\n",
      "\u001b[1m6/6\u001b[0m \u001b[32m━━━━━━━━━━━━━━━━━━━━\u001b[0m\u001b[37m\u001b[0m \u001b[1m0s\u001b[0m 6ms/step - loss: 0.0203 - mse: 0.0203 \n",
      "Epoch 43/500\n",
      "\u001b[1m6/6\u001b[0m \u001b[32m━━━━━━━━━━━━━━━━━━━━\u001b[0m\u001b[37m\u001b[0m \u001b[1m0s\u001b[0m 6ms/step - loss: 0.0198 - mse: 0.0198 \n",
      "Epoch 44/500\n",
      "\u001b[1m6/6\u001b[0m \u001b[32m━━━━━━━━━━━━━━━━━━━━\u001b[0m\u001b[37m\u001b[0m \u001b[1m0s\u001b[0m 6ms/step - loss: 0.0198 - mse: 0.0198 \n",
      "Epoch 45/500\n",
      "\u001b[1m6/6\u001b[0m \u001b[32m━━━━━━━━━━━━━━━━━━━━\u001b[0m\u001b[37m\u001b[0m \u001b[1m0s\u001b[0m 7ms/step - loss: 0.0205 - mse: 0.0205 \n",
      "Epoch 46/500\n",
      "\u001b[1m6/6\u001b[0m \u001b[32m━━━━━━━━━━━━━━━━━━━━\u001b[0m\u001b[37m\u001b[0m \u001b[1m0s\u001b[0m 6ms/step - loss: 0.0206 - mse: 0.0206 \n",
      "Epoch 47/500\n",
      "\u001b[1m6/6\u001b[0m \u001b[32m━━━━━━━━━━━━━━━━━━━━\u001b[0m\u001b[37m\u001b[0m \u001b[1m0s\u001b[0m 7ms/step - loss: 0.0199 - mse: 0.0199 \n",
      "Epoch 48/500\n",
      "\u001b[1m6/6\u001b[0m \u001b[32m━━━━━━━━━━━━━━━━━━━━\u001b[0m\u001b[37m\u001b[0m \u001b[1m0s\u001b[0m 6ms/step - loss: 0.0202 - mse: 0.0202 \n",
      "Epoch 49/500\n",
      "\u001b[1m6/6\u001b[0m \u001b[32m━━━━━━━━━━━━━━━━━━━━\u001b[0m\u001b[37m\u001b[0m \u001b[1m0s\u001b[0m 6ms/step - loss: 0.0203 - mse: 0.0203 \n",
      "Epoch 50/500\n",
      "\u001b[1m6/6\u001b[0m \u001b[32m━━━━━━━━━━━━━━━━━━━━\u001b[0m\u001b[37m\u001b[0m \u001b[1m0s\u001b[0m 6ms/step - loss: 0.0202 - mse: 0.0202 \n",
      "Epoch 51/500\n",
      "\u001b[1m6/6\u001b[0m \u001b[32m━━━━━━━━━━━━━━━━━━━━\u001b[0m\u001b[37m\u001b[0m \u001b[1m0s\u001b[0m 6ms/step - loss: 0.0197 - mse: 0.0197 \n",
      "Epoch 52/500\n",
      "\u001b[1m6/6\u001b[0m \u001b[32m━━━━━━━━━━━━━━━━━━━━\u001b[0m\u001b[37m\u001b[0m \u001b[1m0s\u001b[0m 5ms/step - loss: 0.0197 - mse: 0.0197 \n",
      "Epoch 53/500\n",
      "\u001b[1m6/6\u001b[0m \u001b[32m━━━━━━━━━━━━━━━━━━━━\u001b[0m\u001b[37m\u001b[0m \u001b[1m0s\u001b[0m 6ms/step - loss: 0.0195 - mse: 0.0195 \n",
      "Epoch 54/500\n",
      "\u001b[1m6/6\u001b[0m \u001b[32m━━━━━━━━━━━━━━━━━━━━\u001b[0m\u001b[37m\u001b[0m \u001b[1m0s\u001b[0m 7ms/step - loss: 0.0200 - mse: 0.0200 \n",
      "Epoch 55/500\n",
      "\u001b[1m6/6\u001b[0m \u001b[32m━━━━━━━━━━━━━━━━━━━━\u001b[0m\u001b[37m\u001b[0m \u001b[1m0s\u001b[0m 6ms/step - loss: 0.0199 - mse: 0.0199 \n",
      "Epoch 56/500\n",
      "\u001b[1m6/6\u001b[0m \u001b[32m━━━━━━━━━━━━━━━━━━━━\u001b[0m\u001b[37m\u001b[0m \u001b[1m0s\u001b[0m 6ms/step - loss: 0.0195 - mse: 0.0195 \n",
      "Epoch 57/500\n",
      "\u001b[1m6/6\u001b[0m \u001b[32m━━━━━━━━━━━━━━━━━━━━\u001b[0m\u001b[37m\u001b[0m \u001b[1m0s\u001b[0m 5ms/step - loss: 0.0196 - mse: 0.0196 \n",
      "Epoch 58/500\n",
      "\u001b[1m6/6\u001b[0m \u001b[32m━━━━━━━━━━━━━━━━━━━━\u001b[0m\u001b[37m\u001b[0m \u001b[1m0s\u001b[0m 8ms/step - loss: 0.0201 - mse: 0.0201 \n",
      "Epoch 59/500\n",
      "\u001b[1m6/6\u001b[0m \u001b[32m━━━━━━━━━━━━━━━━━━━━\u001b[0m\u001b[37m\u001b[0m \u001b[1m0s\u001b[0m 6ms/step - loss: 0.0199 - mse: 0.0199 \n",
      "Epoch 60/500\n",
      "\u001b[1m6/6\u001b[0m \u001b[32m━━━━━━━━━━━━━━━━━━━━\u001b[0m\u001b[37m\u001b[0m \u001b[1m0s\u001b[0m 5ms/step - loss: 0.0200 - mse: 0.0200 \n",
      "Epoch 61/500\n",
      "\u001b[1m6/6\u001b[0m \u001b[32m━━━━━━━━━━━━━━━━━━━━\u001b[0m\u001b[37m\u001b[0m \u001b[1m0s\u001b[0m 6ms/step - loss: 0.0193 - mse: 0.0193 \n",
      "Epoch 62/500\n",
      "\u001b[1m6/6\u001b[0m \u001b[32m━━━━━━━━━━━━━━━━━━━━\u001b[0m\u001b[37m\u001b[0m \u001b[1m0s\u001b[0m 5ms/step - loss: 0.0199 - mse: 0.0199 \n",
      "Epoch 63/500\n",
      "\u001b[1m6/6\u001b[0m \u001b[32m━━━━━━━━━━━━━━━━━━━━\u001b[0m\u001b[37m\u001b[0m \u001b[1m0s\u001b[0m 5ms/step - loss: 0.0205 - mse: 0.0205 \n",
      "Epoch 64/500\n",
      "\u001b[1m6/6\u001b[0m \u001b[32m━━━━━━━━━━━━━━━━━━━━\u001b[0m\u001b[37m\u001b[0m \u001b[1m0s\u001b[0m 6ms/step - loss: 0.0197 - mse: 0.0197 \n",
      "Epoch 65/500\n",
      "\u001b[1m6/6\u001b[0m \u001b[32m━━━━━━━━━━━━━━━━━━━━\u001b[0m\u001b[37m\u001b[0m \u001b[1m0s\u001b[0m 6ms/step - loss: 0.0194 - mse: 0.0194 \n",
      "Epoch 66/500\n",
      "\u001b[1m6/6\u001b[0m \u001b[32m━━━━━━━━━━━━━━━━━━━━\u001b[0m\u001b[37m\u001b[0m \u001b[1m0s\u001b[0m 6ms/step - loss: 0.0199 - mse: 0.0199 \n",
      "Epoch 67/500\n",
      "\u001b[1m6/6\u001b[0m \u001b[32m━━━━━━━━━━━━━━━━━━━━\u001b[0m\u001b[37m\u001b[0m \u001b[1m0s\u001b[0m 5ms/step - loss: 0.0197 - mse: 0.0197 \n",
      "Epoch 68/500\n",
      "\u001b[1m6/6\u001b[0m \u001b[32m━━━━━━━━━━━━━━━━━━━━\u001b[0m\u001b[37m\u001b[0m \u001b[1m0s\u001b[0m 7ms/step - loss: 0.0200 - mse: 0.0200 \n",
      "Epoch 69/500\n",
      "\u001b[1m6/6\u001b[0m \u001b[32m━━━━━━━━━━━━━━━━━━━━\u001b[0m\u001b[37m\u001b[0m \u001b[1m0s\u001b[0m 6ms/step - loss: 0.0202 - mse: 0.0202 \n",
      "Epoch 70/500\n",
      "\u001b[1m6/6\u001b[0m \u001b[32m━━━━━━━━━━━━━━━━━━━━\u001b[0m\u001b[37m\u001b[0m \u001b[1m0s\u001b[0m 6ms/step - loss: 0.0194 - mse: 0.0194 \n",
      "Epoch 71/500\n",
      "\u001b[1m6/6\u001b[0m \u001b[32m━━━━━━━━━━━━━━━━━━━━\u001b[0m\u001b[37m\u001b[0m \u001b[1m0s\u001b[0m 6ms/step - loss: 0.0193 - mse: 0.0193 \n",
      "Epoch 72/500\n",
      "\u001b[1m6/6\u001b[0m \u001b[32m━━━━━━━━━━━━━━━━━━━━\u001b[0m\u001b[37m\u001b[0m \u001b[1m0s\u001b[0m 6ms/step - loss: 0.0193 - mse: 0.0193 \n",
      "Epoch 73/500\n",
      "\u001b[1m6/6\u001b[0m \u001b[32m━━━━━━━━━━━━━━━━━━━━\u001b[0m\u001b[37m\u001b[0m \u001b[1m0s\u001b[0m 6ms/step - loss: 0.0192 - mse: 0.0192 \n",
      "Epoch 74/500\n",
      "\u001b[1m6/6\u001b[0m \u001b[32m━━━━━━━━━━━━━━━━━━━━\u001b[0m\u001b[37m\u001b[0m \u001b[1m0s\u001b[0m 5ms/step - loss: 0.0200 - mse: 0.0200 \n",
      "Epoch 75/500\n",
      "\u001b[1m6/6\u001b[0m \u001b[32m━━━━━━━━━━━━━━━━━━━━\u001b[0m\u001b[37m\u001b[0m \u001b[1m0s\u001b[0m 5ms/step - loss: 0.0194 - mse: 0.0194 \n",
      "Epoch 76/500\n",
      "\u001b[1m6/6\u001b[0m \u001b[32m━━━━━━━━━━━━━━━━━━━━\u001b[0m\u001b[37m\u001b[0m \u001b[1m0s\u001b[0m 5ms/step - loss: 0.0201 - mse: 0.0201 \n",
      "Epoch 77/500\n",
      "\u001b[1m6/6\u001b[0m \u001b[32m━━━━━━━━━━━━━━━━━━━━\u001b[0m\u001b[37m\u001b[0m \u001b[1m0s\u001b[0m 6ms/step - loss: 0.0201 - mse: 0.0201 \n",
      "Epoch 78/500\n",
      "\u001b[1m6/6\u001b[0m \u001b[32m━━━━━━━━━━━━━━━━━━━━\u001b[0m\u001b[37m\u001b[0m \u001b[1m0s\u001b[0m 6ms/step - loss: 0.0195 - mse: 0.0195 \n",
      "Epoch 79/500\n",
      "\u001b[1m6/6\u001b[0m \u001b[32m━━━━━━━━━━━━━━━━━━━━\u001b[0m\u001b[37m\u001b[0m \u001b[1m0s\u001b[0m 6ms/step - loss: 0.0197 - mse: 0.0197 \n",
      "Epoch 80/500\n",
      "\u001b[1m6/6\u001b[0m \u001b[32m━━━━━━━━━━━━━━━━━━━━\u001b[0m\u001b[37m\u001b[0m \u001b[1m0s\u001b[0m 6ms/step - loss: 0.0194 - mse: 0.0194 \n",
      "Epoch 81/500\n",
      "\u001b[1m6/6\u001b[0m \u001b[32m━━━━━━━━━━━━━━━━━━━━\u001b[0m\u001b[37m\u001b[0m \u001b[1m0s\u001b[0m 6ms/step - loss: 0.0186 - mse: 0.0186 \n",
      "Epoch 82/500\n",
      "\u001b[1m6/6\u001b[0m \u001b[32m━━━━━━━━━━━━━━━━━━━━\u001b[0m\u001b[37m\u001b[0m \u001b[1m0s\u001b[0m 6ms/step - loss: 0.0196 - mse: 0.0196 \n",
      "Epoch 83/500\n",
      "\u001b[1m6/6\u001b[0m \u001b[32m━━━━━━━━━━━━━━━━━━━━\u001b[0m\u001b[37m\u001b[0m \u001b[1m0s\u001b[0m 6ms/step - loss: 0.0194 - mse: 0.0194 \n",
      "Epoch 84/500\n",
      "\u001b[1m6/6\u001b[0m \u001b[32m━━━━━━━━━━━━━━━━━━━━\u001b[0m\u001b[37m\u001b[0m \u001b[1m0s\u001b[0m 8ms/step - loss: 0.0193 - mse: 0.0193 \n",
      "Epoch 85/500\n",
      "\u001b[1m6/6\u001b[0m \u001b[32m━━━━━━━━━━━━━━━━━━━━\u001b[0m\u001b[37m\u001b[0m \u001b[1m0s\u001b[0m 7ms/step - loss: 0.0193 - mse: 0.0193 \n",
      "Epoch 86/500\n",
      "\u001b[1m6/6\u001b[0m \u001b[32m━━━━━━━━━━━━━━━━━━━━\u001b[0m\u001b[37m\u001b[0m \u001b[1m0s\u001b[0m 5ms/step - loss: 0.0196 - mse: 0.0196 \n",
      "Epoch 87/500\n",
      "\u001b[1m6/6\u001b[0m \u001b[32m━━━━━━━━━━━━━━━━━━━━\u001b[0m\u001b[37m\u001b[0m \u001b[1m0s\u001b[0m 4ms/step - loss: 0.0196 - mse: 0.0196 \n",
      "Epoch 88/500\n",
      "\u001b[1m6/6\u001b[0m \u001b[32m━━━━━━━━━━━━━━━━━━━━\u001b[0m\u001b[37m\u001b[0m \u001b[1m0s\u001b[0m 5ms/step - loss: 0.0190 - mse: 0.0190 \n",
      "Epoch 89/500\n",
      "\u001b[1m6/6\u001b[0m \u001b[32m━━━━━━━━━━━━━━━━━━━━\u001b[0m\u001b[37m\u001b[0m \u001b[1m0s\u001b[0m 7ms/step - loss: 0.0189 - mse: 0.0189 \n",
      "Epoch 90/500\n",
      "\u001b[1m6/6\u001b[0m \u001b[32m━━━━━━━━━━━━━━━━━━━━\u001b[0m\u001b[37m\u001b[0m \u001b[1m0s\u001b[0m 6ms/step - loss: 0.0193 - mse: 0.0193 \n",
      "Epoch 91/500\n",
      "\u001b[1m6/6\u001b[0m \u001b[32m━━━━━━━━━━━━━━━━━━━━\u001b[0m\u001b[37m\u001b[0m \u001b[1m0s\u001b[0m 6ms/step - loss: 0.0182 - mse: 0.0182 \n",
      "Epoch 92/500\n",
      "\u001b[1m6/6\u001b[0m \u001b[32m━━━━━━━━━━━━━━━━━━━━\u001b[0m\u001b[37m\u001b[0m \u001b[1m0s\u001b[0m 7ms/step - loss: 0.0190 - mse: 0.0190 \n",
      "Epoch 93/500\n",
      "\u001b[1m6/6\u001b[0m \u001b[32m━━━━━━━━━━━━━━━━━━━━\u001b[0m\u001b[37m\u001b[0m \u001b[1m0s\u001b[0m 5ms/step - loss: 0.0196 - mse: 0.0196 \n",
      "Epoch 94/500\n",
      "\u001b[1m6/6\u001b[0m \u001b[32m━━━━━━━━━━━━━━━━━━━━\u001b[0m\u001b[37m\u001b[0m \u001b[1m0s\u001b[0m 5ms/step - loss: 0.0184 - mse: 0.0184 \n",
      "Epoch 95/500\n",
      "\u001b[1m6/6\u001b[0m \u001b[32m━━━━━━━━━━━━━━━━━━━━\u001b[0m\u001b[37m\u001b[0m \u001b[1m0s\u001b[0m 11ms/step - loss: 0.0184 - mse: 0.0184\n",
      "Epoch 96/500\n",
      "\u001b[1m6/6\u001b[0m \u001b[32m━━━━━━━━━━━━━━━━━━━━\u001b[0m\u001b[37m\u001b[0m \u001b[1m0s\u001b[0m 6ms/step - loss: 0.0188 - mse: 0.0188 \n",
      "Epoch 97/500\n",
      "\u001b[1m6/6\u001b[0m \u001b[32m━━━━━━━━━━━━━━━━━━━━\u001b[0m\u001b[37m\u001b[0m \u001b[1m0s\u001b[0m 5ms/step - loss: 0.0189 - mse: 0.0189 \n",
      "Epoch 98/500\n",
      "\u001b[1m6/6\u001b[0m \u001b[32m━━━━━━━━━━━━━━━━━━━━\u001b[0m\u001b[37m\u001b[0m \u001b[1m0s\u001b[0m 8ms/step - loss: 0.0190 - mse: 0.0190 \n",
      "Epoch 99/500\n",
      "\u001b[1m6/6\u001b[0m \u001b[32m━━━━━━━━━━━━━━━━━━━━\u001b[0m\u001b[37m\u001b[0m \u001b[1m0s\u001b[0m 8ms/step - loss: 0.0185 - mse: 0.0185 \n",
      "Epoch 100/500\n",
      "\u001b[1m6/6\u001b[0m \u001b[32m━━━━━━━━━━━━━━━━━━━━\u001b[0m\u001b[37m\u001b[0m \u001b[1m0s\u001b[0m 9ms/step - loss: 0.0186 - mse: 0.0186 \n",
      "Epoch 101/500\n",
      "\u001b[1m6/6\u001b[0m \u001b[32m━━━━━━━━━━━━━━━━━━━━\u001b[0m\u001b[37m\u001b[0m \u001b[1m0s\u001b[0m 8ms/step - loss: 0.0188 - mse: 0.0188 \n",
      "Epoch 102/500\n",
      "\u001b[1m6/6\u001b[0m \u001b[32m━━━━━━━━━━━━━━━━━━━━\u001b[0m\u001b[37m\u001b[0m \u001b[1m0s\u001b[0m 9ms/step - loss: 0.0185 - mse: 0.0185 \n",
      "Epoch 103/500\n",
      "\u001b[1m6/6\u001b[0m \u001b[32m━━━━━━━━━━━━━━━━━━━━\u001b[0m\u001b[37m\u001b[0m \u001b[1m0s\u001b[0m 8ms/step - loss: 0.0190 - mse: 0.0190 \n",
      "Epoch 104/500\n",
      "\u001b[1m6/6\u001b[0m \u001b[32m━━━━━━━━━━━━━━━━━━━━\u001b[0m\u001b[37m\u001b[0m \u001b[1m0s\u001b[0m 7ms/step - loss: 0.0182 - mse: 0.0182 \n",
      "Epoch 105/500\n",
      "\u001b[1m6/6\u001b[0m \u001b[32m━━━━━━━━━━━━━━━━━━━━\u001b[0m\u001b[37m\u001b[0m \u001b[1m0s\u001b[0m 6ms/step - loss: 0.0180 - mse: 0.0180 \n",
      "Epoch 106/500\n",
      "\u001b[1m6/6\u001b[0m \u001b[32m━━━━━━━━━━━━━━━━━━━━\u001b[0m\u001b[37m\u001b[0m \u001b[1m0s\u001b[0m 6ms/step - loss: 0.0178 - mse: 0.0178 \n",
      "Epoch 107/500\n",
      "\u001b[1m6/6\u001b[0m \u001b[32m━━━━━━━━━━━━━━━━━━━━\u001b[0m\u001b[37m\u001b[0m \u001b[1m0s\u001b[0m 6ms/step - loss: 0.0187 - mse: 0.0187 \n",
      "Epoch 108/500\n",
      "\u001b[1m6/6\u001b[0m \u001b[32m━━━━━━━━━━━━━━━━━━━━\u001b[0m\u001b[37m\u001b[0m \u001b[1m0s\u001b[0m 5ms/step - loss: 0.0182 - mse: 0.0182 \n",
      "Epoch 109/500\n",
      "\u001b[1m6/6\u001b[0m \u001b[32m━━━━━━━━━━━━━━━━━━━━\u001b[0m\u001b[37m\u001b[0m \u001b[1m0s\u001b[0m 7ms/step - loss: 0.0185 - mse: 0.0185 \n",
      "Epoch 110/500\n",
      "\u001b[1m6/6\u001b[0m \u001b[32m━━━━━━━━━━━━━━━━━━━━\u001b[0m\u001b[37m\u001b[0m \u001b[1m0s\u001b[0m 5ms/step - loss: 0.0188 - mse: 0.0188 \n",
      "Epoch 111/500\n",
      "\u001b[1m6/6\u001b[0m \u001b[32m━━━━━━━━━━━━━━━━━━━━\u001b[0m\u001b[37m\u001b[0m \u001b[1m0s\u001b[0m 6ms/step - loss: 0.0176 - mse: 0.0176 \n",
      "Epoch 112/500\n",
      "\u001b[1m6/6\u001b[0m \u001b[32m━━━━━━━━━━━━━━━━━━━━\u001b[0m\u001b[37m\u001b[0m \u001b[1m0s\u001b[0m 5ms/step - loss: 0.0181 - mse: 0.0181 \n",
      "Epoch 113/500\n",
      "\u001b[1m6/6\u001b[0m \u001b[32m━━━━━━━━━━━━━━━━━━━━\u001b[0m\u001b[37m\u001b[0m \u001b[1m0s\u001b[0m 6ms/step - loss: 0.0178 - mse: 0.0178 \n",
      "Epoch 114/500\n",
      "\u001b[1m6/6\u001b[0m \u001b[32m━━━━━━━━━━━━━━━━━━━━\u001b[0m\u001b[37m\u001b[0m \u001b[1m0s\u001b[0m 5ms/step - loss: 0.0178 - mse: 0.0178 \n",
      "Epoch 115/500\n",
      "\u001b[1m6/6\u001b[0m \u001b[32m━━━━━━━━━━━━━━━━━━━━\u001b[0m\u001b[37m\u001b[0m \u001b[1m0s\u001b[0m 6ms/step - loss: 0.0179 - mse: 0.0179 \n",
      "Epoch 116/500\n",
      "\u001b[1m6/6\u001b[0m \u001b[32m━━━━━━━━━━━━━━━━━━━━\u001b[0m\u001b[37m\u001b[0m \u001b[1m0s\u001b[0m 8ms/step - loss: 0.0173 - mse: 0.0173 \n",
      "Epoch 117/500\n",
      "\u001b[1m6/6\u001b[0m \u001b[32m━━━━━━━━━━━━━━━━━━━━\u001b[0m\u001b[37m\u001b[0m \u001b[1m0s\u001b[0m 4ms/step - loss: 0.0185 - mse: 0.0185 \n",
      "Epoch 118/500\n",
      "\u001b[1m6/6\u001b[0m \u001b[32m━━━━━━━━━━━━━━━━━━━━\u001b[0m\u001b[37m\u001b[0m \u001b[1m0s\u001b[0m 6ms/step - loss: 0.0171 - mse: 0.0171 \n",
      "Epoch 119/500\n",
      "\u001b[1m6/6\u001b[0m \u001b[32m━━━━━━━━━━━━━━━━━━━━\u001b[0m\u001b[37m\u001b[0m \u001b[1m0s\u001b[0m 7ms/step - loss: 0.0178 - mse: 0.0178 \n",
      "Epoch 120/500\n",
      "\u001b[1m6/6\u001b[0m \u001b[32m━━━━━━━━━━━━━━━━━━━━\u001b[0m\u001b[37m\u001b[0m \u001b[1m0s\u001b[0m 5ms/step - loss: 0.0172 - mse: 0.0172 \n",
      "Epoch 121/500\n",
      "\u001b[1m6/6\u001b[0m \u001b[32m━━━━━━━━━━━━━━━━━━━━\u001b[0m\u001b[37m\u001b[0m \u001b[1m0s\u001b[0m 6ms/step - loss: 0.0173 - mse: 0.0173 \n",
      "Epoch 122/500\n",
      "\u001b[1m6/6\u001b[0m \u001b[32m━━━━━━━━━━━━━━━━━━━━\u001b[0m\u001b[37m\u001b[0m \u001b[1m0s\u001b[0m 5ms/step - loss: 0.0178 - mse: 0.0178 \n",
      "Epoch 123/500\n",
      "\u001b[1m6/6\u001b[0m \u001b[32m━━━━━━━━━━━━━━━━━━━━\u001b[0m\u001b[37m\u001b[0m \u001b[1m0s\u001b[0m 6ms/step - loss: 0.0174 - mse: 0.0174 \n",
      "Epoch 124/500\n",
      "\u001b[1m6/6\u001b[0m \u001b[32m━━━━━━━━━━━━━━━━━━━━\u001b[0m\u001b[37m\u001b[0m \u001b[1m0s\u001b[0m 6ms/step - loss: 0.0170 - mse: 0.0170 \n",
      "Epoch 125/500\n",
      "\u001b[1m6/6\u001b[0m \u001b[32m━━━━━━━━━━━━━━━━━━━━\u001b[0m\u001b[37m\u001b[0m \u001b[1m0s\u001b[0m 5ms/step - loss: 0.0176 - mse: 0.0176 \n",
      "Epoch 126/500\n",
      "\u001b[1m6/6\u001b[0m \u001b[32m━━━━━━━━━━━━━━━━━━━━\u001b[0m\u001b[37m\u001b[0m \u001b[1m0s\u001b[0m 6ms/step - loss: 0.0173 - mse: 0.0173 \n",
      "Epoch 127/500\n",
      "\u001b[1m6/6\u001b[0m \u001b[32m━━━━━━━━━━━━━━━━━━━━\u001b[0m\u001b[37m\u001b[0m \u001b[1m0s\u001b[0m 5ms/step - loss: 0.0167 - mse: 0.0167 \n",
      "Epoch 128/500\n",
      "\u001b[1m6/6\u001b[0m \u001b[32m━━━━━━━━━━━━━━━━━━━━\u001b[0m\u001b[37m\u001b[0m \u001b[1m0s\u001b[0m 6ms/step - loss: 0.0168 - mse: 0.0168 \n",
      "Epoch 129/500\n",
      "\u001b[1m6/6\u001b[0m \u001b[32m━━━━━━━━━━━━━━━━━━━━\u001b[0m\u001b[37m\u001b[0m \u001b[1m0s\u001b[0m 5ms/step - loss: 0.0163 - mse: 0.0163 \n",
      "Epoch 130/500\n",
      "\u001b[1m6/6\u001b[0m \u001b[32m━━━━━━━━━━━━━━━━━━━━\u001b[0m\u001b[37m\u001b[0m \u001b[1m0s\u001b[0m 5ms/step - loss: 0.0169 - mse: 0.0169 \n",
      "Epoch 131/500\n",
      "\u001b[1m6/6\u001b[0m \u001b[32m━━━━━━━━━━━━━━━━━━━━\u001b[0m\u001b[37m\u001b[0m \u001b[1m0s\u001b[0m 6ms/step - loss: 0.0161 - mse: 0.0161 \n",
      "Epoch 132/500\n",
      "\u001b[1m6/6\u001b[0m \u001b[32m━━━━━━━━━━━━━━━━━━━━\u001b[0m\u001b[37m\u001b[0m \u001b[1m0s\u001b[0m 5ms/step - loss: 0.0169 - mse: 0.0169 \n",
      "Epoch 133/500\n",
      "\u001b[1m6/6\u001b[0m \u001b[32m━━━━━━━━━━━━━━━━━━━━\u001b[0m\u001b[37m\u001b[0m \u001b[1m0s\u001b[0m 4ms/step - loss: 0.0166 - mse: 0.0166 \n",
      "Epoch 134/500\n",
      "\u001b[1m6/6\u001b[0m \u001b[32m━━━━━━━━━━━━━━━━━━━━\u001b[0m\u001b[37m\u001b[0m \u001b[1m0s\u001b[0m 5ms/step - loss: 0.0172 - mse: 0.0172 \n",
      "Epoch 135/500\n",
      "\u001b[1m6/6\u001b[0m \u001b[32m━━━━━━━━━━━━━━━━━━━━\u001b[0m\u001b[37m\u001b[0m \u001b[1m0s\u001b[0m 4ms/step - loss: 0.0166 - mse: 0.0166 \n",
      "Epoch 136/500\n",
      "\u001b[1m6/6\u001b[0m \u001b[32m━━━━━━━━━━━━━━━━━━━━\u001b[0m\u001b[37m\u001b[0m \u001b[1m0s\u001b[0m 9ms/step - loss: 0.0165 - mse: 0.0165  \n",
      "Epoch 137/500\n",
      "\u001b[1m6/6\u001b[0m \u001b[32m━━━━━━━━━━━━━━━━━━━━\u001b[0m\u001b[37m\u001b[0m \u001b[1m0s\u001b[0m 5ms/step - loss: 0.0167 - mse: 0.0167 \n",
      "Epoch 138/500\n",
      "\u001b[1m6/6\u001b[0m \u001b[32m━━━━━━━━━━━━━━━━━━━━\u001b[0m\u001b[37m\u001b[0m \u001b[1m0s\u001b[0m 5ms/step - loss: 0.0158 - mse: 0.0158 \n",
      "Epoch 139/500\n",
      "\u001b[1m6/6\u001b[0m \u001b[32m━━━━━━━━━━━━━━━━━━━━\u001b[0m\u001b[37m\u001b[0m \u001b[1m0s\u001b[0m 7ms/step - loss: 0.0159 - mse: 0.0159 \n",
      "Epoch 140/500\n",
      "\u001b[1m6/6\u001b[0m \u001b[32m━━━━━━━━━━━━━━━━━━━━\u001b[0m\u001b[37m\u001b[0m \u001b[1m0s\u001b[0m 5ms/step - loss: 0.0166 - mse: 0.0166 \n",
      "Epoch 141/500\n",
      "\u001b[1m6/6\u001b[0m \u001b[32m━━━━━━━━━━━━━━━━━━━━\u001b[0m\u001b[37m\u001b[0m \u001b[1m0s\u001b[0m 6ms/step - loss: 0.0163 - mse: 0.0163 \n",
      "Epoch 142/500\n",
      "\u001b[1m6/6\u001b[0m \u001b[32m━━━━━━━━━━━━━━━━━━━━\u001b[0m\u001b[37m\u001b[0m \u001b[1m0s\u001b[0m 6ms/step - loss: 0.0155 - mse: 0.0155 \n",
      "Epoch 143/500\n",
      "\u001b[1m6/6\u001b[0m \u001b[32m━━━━━━━━━━━━━━━━━━━━\u001b[0m\u001b[37m\u001b[0m \u001b[1m0s\u001b[0m 6ms/step - loss: 0.0165 - mse: 0.0165 \n",
      "Epoch 144/500\n",
      "\u001b[1m6/6\u001b[0m \u001b[32m━━━━━━━━━━━━━━━━━━━━\u001b[0m\u001b[37m\u001b[0m \u001b[1m0s\u001b[0m 5ms/step - loss: 0.0159 - mse: 0.0159 \n",
      "Epoch 145/500\n",
      "\u001b[1m6/6\u001b[0m \u001b[32m━━━━━━━━━━━━━━━━━━━━\u001b[0m\u001b[37m\u001b[0m \u001b[1m0s\u001b[0m 6ms/step - loss: 0.0160 - mse: 0.0160 \n",
      "Epoch 146/500\n",
      "\u001b[1m6/6\u001b[0m \u001b[32m━━━━━━━━━━━━━━━━━━━━\u001b[0m\u001b[37m\u001b[0m \u001b[1m0s\u001b[0m 5ms/step - loss: 0.0163 - mse: 0.0163 \n",
      "Epoch 147/500\n",
      "\u001b[1m6/6\u001b[0m \u001b[32m━━━━━━━━━━━━━━━━━━━━\u001b[0m\u001b[37m\u001b[0m \u001b[1m0s\u001b[0m 6ms/step - loss: 0.0163 - mse: 0.0163 \n",
      "Epoch 148/500\n",
      "\u001b[1m6/6\u001b[0m \u001b[32m━━━━━━━━━━━━━━━━━━━━\u001b[0m\u001b[37m\u001b[0m \u001b[1m0s\u001b[0m 6ms/step - loss: 0.0168 - mse: 0.0168 \n",
      "Epoch 149/500\n",
      "\u001b[1m6/6\u001b[0m \u001b[32m━━━━━━━━━━━━━━━━━━━━\u001b[0m\u001b[37m\u001b[0m \u001b[1m0s\u001b[0m 5ms/step - loss: 0.0161 - mse: 0.0161 \n",
      "Epoch 150/500\n",
      "\u001b[1m6/6\u001b[0m \u001b[32m━━━━━━━━━━━━━━━━━━━━\u001b[0m\u001b[37m\u001b[0m \u001b[1m0s\u001b[0m 7ms/step - loss: 0.0162 - mse: 0.0162 \n",
      "Epoch 151/500\n",
      "\u001b[1m6/6\u001b[0m \u001b[32m━━━━━━━━━━━━━━━━━━━━\u001b[0m\u001b[37m\u001b[0m \u001b[1m0s\u001b[0m 5ms/step - loss: 0.0161 - mse: 0.0161 \n",
      "Epoch 152/500\n",
      "\u001b[1m6/6\u001b[0m \u001b[32m━━━━━━━━━━━━━━━━━━━━\u001b[0m\u001b[37m\u001b[0m \u001b[1m0s\u001b[0m 5ms/step - loss: 0.0160 - mse: 0.0160 \n",
      "Epoch 153/500\n",
      "\u001b[1m6/6\u001b[0m \u001b[32m━━━━━━━━━━━━━━━━━━━━\u001b[0m\u001b[37m\u001b[0m \u001b[1m0s\u001b[0m 4ms/step - loss: 0.0165 - mse: 0.0165 \n",
      "Epoch 154/500\n",
      "\u001b[1m6/6\u001b[0m \u001b[32m━━━━━━━━━━━━━━━━━━━━\u001b[0m\u001b[37m\u001b[0m \u001b[1m0s\u001b[0m 4ms/step - loss: 0.0162 - mse: 0.0162 \n",
      "Epoch 155/500\n",
      "\u001b[1m6/6\u001b[0m \u001b[32m━━━━━━━━━━━━━━━━━━━━\u001b[0m\u001b[37m\u001b[0m \u001b[1m0s\u001b[0m 4ms/step - loss: 0.0158 - mse: 0.0158 \n",
      "Epoch 156/500\n",
      "\u001b[1m6/6\u001b[0m \u001b[32m━━━━━━━━━━━━━━━━━━━━\u001b[0m\u001b[37m\u001b[0m \u001b[1m0s\u001b[0m 5ms/step - loss: 0.0161 - mse: 0.0161 \n",
      "Epoch 157/500\n",
      "\u001b[1m6/6\u001b[0m \u001b[32m━━━━━━━━━━━━━━━━━━━━\u001b[0m\u001b[37m\u001b[0m \u001b[1m0s\u001b[0m 6ms/step - loss: 0.0155 - mse: 0.0155 \n",
      "Epoch 158/500\n",
      "\u001b[1m6/6\u001b[0m \u001b[32m━━━━━━━━━━━━━━━━━━━━\u001b[0m\u001b[37m\u001b[0m \u001b[1m0s\u001b[0m 7ms/step - loss: 0.0159 - mse: 0.0159 \n",
      "Epoch 159/500\n",
      "\u001b[1m6/6\u001b[0m \u001b[32m━━━━━━━━━━━━━━━━━━━━\u001b[0m\u001b[37m\u001b[0m \u001b[1m0s\u001b[0m 5ms/step - loss: 0.0159 - mse: 0.0159 \n",
      "Epoch 160/500\n",
      "\u001b[1m6/6\u001b[0m \u001b[32m━━━━━━━━━━━━━━━━━━━━\u001b[0m\u001b[37m\u001b[0m \u001b[1m0s\u001b[0m 5ms/step - loss: 0.0161 - mse: 0.0161 \n",
      "Epoch 161/500\n",
      "\u001b[1m6/6\u001b[0m \u001b[32m━━━━━━━━━━━━━━━━━━━━\u001b[0m\u001b[37m\u001b[0m \u001b[1m0s\u001b[0m 6ms/step - loss: 0.0152 - mse: 0.0152 \n",
      "Epoch 162/500\n",
      "\u001b[1m6/6\u001b[0m \u001b[32m━━━━━━━━━━━━━━━━━━━━\u001b[0m\u001b[37m\u001b[0m \u001b[1m0s\u001b[0m 6ms/step - loss: 0.0157 - mse: 0.0157 \n",
      "Epoch 163/500\n",
      "\u001b[1m6/6\u001b[0m \u001b[32m━━━━━━━━━━━━━━━━━━━━\u001b[0m\u001b[37m\u001b[0m \u001b[1m0s\u001b[0m 7ms/step - loss: 0.0155 - mse: 0.0155 \n",
      "Epoch 164/500\n",
      "\u001b[1m6/6\u001b[0m \u001b[32m━━━━━━━━━━━━━━━━━━━━\u001b[0m\u001b[37m\u001b[0m \u001b[1m0s\u001b[0m 6ms/step - loss: 0.0153 - mse: 0.0153 \n",
      "Epoch 165/500\n",
      "\u001b[1m6/6\u001b[0m \u001b[32m━━━━━━━━━━━━━━━━━━━━\u001b[0m\u001b[37m\u001b[0m \u001b[1m0s\u001b[0m 8ms/step - loss: 0.0155 - mse: 0.0155 \n",
      "Epoch 166/500\n",
      "\u001b[1m6/6\u001b[0m \u001b[32m━━━━━━━━━━━━━━━━━━━━\u001b[0m\u001b[37m\u001b[0m \u001b[1m0s\u001b[0m 6ms/step - loss: 0.0158 - mse: 0.0158 \n",
      "Epoch 167/500\n",
      "\u001b[1m6/6\u001b[0m \u001b[32m━━━━━━━━━━━━━━━━━━━━\u001b[0m\u001b[37m\u001b[0m \u001b[1m0s\u001b[0m 6ms/step - loss: 0.0154 - mse: 0.0154 \n",
      "Epoch 168/500\n",
      "\u001b[1m6/6\u001b[0m \u001b[32m━━━━━━━━━━━━━━━━━━━━\u001b[0m\u001b[37m\u001b[0m \u001b[1m0s\u001b[0m 6ms/step - loss: 0.0160 - mse: 0.0160 \n",
      "Epoch 169/500\n",
      "\u001b[1m6/6\u001b[0m \u001b[32m━━━━━━━━━━━━━━━━━━━━\u001b[0m\u001b[37m\u001b[0m \u001b[1m0s\u001b[0m 5ms/step - loss: 0.0159 - mse: 0.0159 \n",
      "Epoch 170/500\n",
      "\u001b[1m6/6\u001b[0m \u001b[32m━━━━━━━━━━━━━━━━━━━━\u001b[0m\u001b[37m\u001b[0m \u001b[1m0s\u001b[0m 5ms/step - loss: 0.0151 - mse: 0.0151 \n",
      "Epoch 171/500\n",
      "\u001b[1m6/6\u001b[0m \u001b[32m━━━━━━━━━━━━━━━━━━━━\u001b[0m\u001b[37m\u001b[0m \u001b[1m0s\u001b[0m 5ms/step - loss: 0.0147 - mse: 0.0147 \n",
      "Epoch 172/500\n",
      "\u001b[1m6/6\u001b[0m \u001b[32m━━━━━━━━━━━━━━━━━━━━\u001b[0m\u001b[37m\u001b[0m \u001b[1m0s\u001b[0m 6ms/step - loss: 0.0150 - mse: 0.0150 \n",
      "Epoch 173/500\n",
      "\u001b[1m6/6\u001b[0m \u001b[32m━━━━━━━━━━━━━━━━━━━━\u001b[0m\u001b[37m\u001b[0m \u001b[1m0s\u001b[0m 6ms/step - loss: 0.0154 - mse: 0.0154 \n",
      "Epoch 174/500\n",
      "\u001b[1m6/6\u001b[0m \u001b[32m━━━━━━━━━━━━━━━━━━━━\u001b[0m\u001b[37m\u001b[0m \u001b[1m0s\u001b[0m 5ms/step - loss: 0.0153 - mse: 0.0153 \n",
      "Epoch 175/500\n",
      "\u001b[1m6/6\u001b[0m \u001b[32m━━━━━━━━━━━━━━━━━━━━\u001b[0m\u001b[37m\u001b[0m \u001b[1m0s\u001b[0m 4ms/step - loss: 0.0152 - mse: 0.0152 \n",
      "Epoch 176/500\n",
      "\u001b[1m6/6\u001b[0m \u001b[32m━━━━━━━━━━━━━━━━━━━━\u001b[0m\u001b[37m\u001b[0m \u001b[1m0s\u001b[0m 6ms/step - loss: 0.0151 - mse: 0.0151 \n",
      "Epoch 177/500\n",
      "\u001b[1m6/6\u001b[0m \u001b[32m━━━━━━━━━━━━━━━━━━━━\u001b[0m\u001b[37m\u001b[0m \u001b[1m0s\u001b[0m 7ms/step - loss: 0.0154 - mse: 0.0154 \n",
      "Epoch 178/500\n",
      "\u001b[1m6/6\u001b[0m \u001b[32m━━━━━━━━━━━━━━━━━━━━\u001b[0m\u001b[37m\u001b[0m \u001b[1m0s\u001b[0m 5ms/step - loss: 0.0149 - mse: 0.0149 \n",
      "Epoch 179/500\n",
      "\u001b[1m6/6\u001b[0m \u001b[32m━━━━━━━━━━━━━━━━━━━━\u001b[0m\u001b[37m\u001b[0m \u001b[1m0s\u001b[0m 5ms/step - loss: 0.0152 - mse: 0.0152 \n",
      "Epoch 180/500\n",
      "\u001b[1m6/6\u001b[0m \u001b[32m━━━━━━━━━━━━━━━━━━━━\u001b[0m\u001b[37m\u001b[0m \u001b[1m0s\u001b[0m 4ms/step - loss: 0.0154 - mse: 0.0154 \n",
      "Epoch 181/500\n",
      "\u001b[1m6/6\u001b[0m \u001b[32m━━━━━━━━━━━━━━━━━━━━\u001b[0m\u001b[37m\u001b[0m \u001b[1m0s\u001b[0m 5ms/step - loss: 0.0161 - mse: 0.0161 \n",
      "Epoch 182/500\n",
      "\u001b[1m6/6\u001b[0m \u001b[32m━━━━━━━━━━━━━━━━━━━━\u001b[0m\u001b[37m\u001b[0m \u001b[1m0s\u001b[0m 5ms/step - loss: 0.0150 - mse: 0.0150 \n",
      "Epoch 183/500\n",
      "\u001b[1m6/6\u001b[0m \u001b[32m━━━━━━━━━━━━━━━━━━━━\u001b[0m\u001b[37m\u001b[0m \u001b[1m0s\u001b[0m 6ms/step - loss: 0.0152 - mse: 0.0152 \n",
      "Epoch 184/500\n",
      "\u001b[1m6/6\u001b[0m \u001b[32m━━━━━━━━━━━━━━━━━━━━\u001b[0m\u001b[37m\u001b[0m \u001b[1m0s\u001b[0m 6ms/step - loss: 0.0160 - mse: 0.0160 \n",
      "Epoch 185/500\n",
      "\u001b[1m6/6\u001b[0m \u001b[32m━━━━━━━━━━━━━━━━━━━━\u001b[0m\u001b[37m\u001b[0m \u001b[1m0s\u001b[0m 4ms/step - loss: 0.0156 - mse: 0.0156 \n",
      "Epoch 186/500\n",
      "\u001b[1m6/6\u001b[0m \u001b[32m━━━━━━━━━━━━━━━━━━━━\u001b[0m\u001b[37m\u001b[0m \u001b[1m0s\u001b[0m 7ms/step - loss: 0.0153 - mse: 0.0153 \n",
      "Epoch 187/500\n",
      "\u001b[1m6/6\u001b[0m \u001b[32m━━━━━━━━━━━━━━━━━━━━\u001b[0m\u001b[37m\u001b[0m \u001b[1m0s\u001b[0m 5ms/step - loss: 0.0155 - mse: 0.0155 \n",
      "Epoch 188/500\n",
      "\u001b[1m6/6\u001b[0m \u001b[32m━━━━━━━━━━━━━━━━━━━━\u001b[0m\u001b[37m\u001b[0m \u001b[1m0s\u001b[0m 5ms/step - loss: 0.0146 - mse: 0.0146 \n",
      "Epoch 189/500\n",
      "\u001b[1m6/6\u001b[0m \u001b[32m━━━━━━━━━━━━━━━━━━━━\u001b[0m\u001b[37m\u001b[0m \u001b[1m0s\u001b[0m 6ms/step - loss: 0.0149 - mse: 0.0149 \n",
      "Epoch 190/500\n",
      "\u001b[1m6/6\u001b[0m \u001b[32m━━━━━━━━━━━━━━━━━━━━\u001b[0m\u001b[37m\u001b[0m \u001b[1m0s\u001b[0m 6ms/step - loss: 0.0149 - mse: 0.0149 \n",
      "Epoch 191/500\n",
      "\u001b[1m6/6\u001b[0m \u001b[32m━━━━━━━━━━━━━━━━━━━━\u001b[0m\u001b[37m\u001b[0m \u001b[1m0s\u001b[0m 5ms/step - loss: 0.0147 - mse: 0.0147 \n",
      "Epoch 192/500\n",
      "\u001b[1m6/6\u001b[0m \u001b[32m━━━━━━━━━━━━━━━━━━━━\u001b[0m\u001b[37m\u001b[0m \u001b[1m0s\u001b[0m 4ms/step - loss: 0.0144 - mse: 0.0144 \n",
      "Epoch 193/500\n",
      "\u001b[1m6/6\u001b[0m \u001b[32m━━━━━━━━━━━━━━━━━━━━\u001b[0m\u001b[37m\u001b[0m \u001b[1m0s\u001b[0m 5ms/step - loss: 0.0148 - mse: 0.0148 \n",
      "Epoch 194/500\n",
      "\u001b[1m6/6\u001b[0m \u001b[32m━━━━━━━━━━━━━━━━━━━━\u001b[0m\u001b[37m\u001b[0m \u001b[1m0s\u001b[0m 5ms/step - loss: 0.0158 - mse: 0.0158 \n",
      "Epoch 195/500\n",
      "\u001b[1m6/6\u001b[0m \u001b[32m━━━━━━━━━━━━━━━━━━━━\u001b[0m\u001b[37m\u001b[0m \u001b[1m0s\u001b[0m 6ms/step - loss: 0.0151 - mse: 0.0151 \n",
      "Epoch 196/500\n",
      "\u001b[1m6/6\u001b[0m \u001b[32m━━━━━━━━━━━━━━━━━━━━\u001b[0m\u001b[37m\u001b[0m \u001b[1m0s\u001b[0m 4ms/step - loss: 0.0150 - mse: 0.0150 \n",
      "Epoch 197/500\n",
      "\u001b[1m6/6\u001b[0m \u001b[32m━━━━━━━━━━━━━━━━━━━━\u001b[0m\u001b[37m\u001b[0m \u001b[1m0s\u001b[0m 6ms/step - loss: 0.0153 - mse: 0.0153 \n",
      "Epoch 198/500\n",
      "\u001b[1m6/6\u001b[0m \u001b[32m━━━━━━━━━━━━━━━━━━━━\u001b[0m\u001b[37m\u001b[0m \u001b[1m0s\u001b[0m 6ms/step - loss: 0.0149 - mse: 0.0149 \n",
      "Epoch 199/500\n",
      "\u001b[1m6/6\u001b[0m \u001b[32m━━━━━━━━━━━━━━━━━━━━\u001b[0m\u001b[37m\u001b[0m \u001b[1m0s\u001b[0m 5ms/step - loss: 0.0146 - mse: 0.0146 \n",
      "Epoch 200/500\n",
      "\u001b[1m6/6\u001b[0m \u001b[32m━━━━━━━━━━━━━━━━━━━━\u001b[0m\u001b[37m\u001b[0m \u001b[1m0s\u001b[0m 5ms/step - loss: 0.0146 - mse: 0.0146 \n",
      "Epoch 201/500\n",
      "\u001b[1m6/6\u001b[0m \u001b[32m━━━━━━━━━━━━━━━━━━━━\u001b[0m\u001b[37m\u001b[0m \u001b[1m0s\u001b[0m 6ms/step - loss: 0.0152 - mse: 0.0152 \n",
      "Epoch 202/500\n",
      "\u001b[1m6/6\u001b[0m \u001b[32m━━━━━━━━━━━━━━━━━━━━\u001b[0m\u001b[37m\u001b[0m \u001b[1m0s\u001b[0m 6ms/step - loss: 0.0156 - mse: 0.0156 \n",
      "Epoch 203/500\n",
      "\u001b[1m6/6\u001b[0m \u001b[32m━━━━━━━━━━━━━━━━━━━━\u001b[0m\u001b[37m\u001b[0m \u001b[1m0s\u001b[0m 5ms/step - loss: 0.0150 - mse: 0.0150 \n",
      "Epoch 204/500\n",
      "\u001b[1m6/6\u001b[0m \u001b[32m━━━━━━━━━━━━━━━━━━━━\u001b[0m\u001b[37m\u001b[0m \u001b[1m0s\u001b[0m 5ms/step - loss: 0.0150 - mse: 0.0150 \n",
      "Epoch 205/500\n",
      "\u001b[1m6/6\u001b[0m \u001b[32m━━━━━━━━━━━━━━━━━━━━\u001b[0m\u001b[37m\u001b[0m \u001b[1m0s\u001b[0m 6ms/step - loss: 0.0158 - mse: 0.0158 \n",
      "Epoch 206/500\n",
      "\u001b[1m6/6\u001b[0m \u001b[32m━━━━━━━━━━━━━━━━━━━━\u001b[0m\u001b[37m\u001b[0m \u001b[1m0s\u001b[0m 4ms/step - loss: 0.0154 - mse: 0.0154 \n",
      "Epoch 207/500\n",
      "\u001b[1m6/6\u001b[0m \u001b[32m━━━━━━━━━━━━━━━━━━━━\u001b[0m\u001b[37m\u001b[0m \u001b[1m0s\u001b[0m 7ms/step - loss: 0.0153 - mse: 0.0153 \n",
      "Epoch 208/500\n",
      "\u001b[1m6/6\u001b[0m \u001b[32m━━━━━━━━━━━━━━━━━━━━\u001b[0m\u001b[37m\u001b[0m \u001b[1m0s\u001b[0m 5ms/step - loss: 0.0153 - mse: 0.0153 \n",
      "Epoch 209/500\n",
      "\u001b[1m6/6\u001b[0m \u001b[32m━━━━━━━━━━━━━━━━━━━━\u001b[0m\u001b[37m\u001b[0m \u001b[1m0s\u001b[0m 4ms/step - loss: 0.0154 - mse: 0.0154 \n",
      "Epoch 210/500\n",
      "\u001b[1m6/6\u001b[0m \u001b[32m━━━━━━━━━━━━━━━━━━━━\u001b[0m\u001b[37m\u001b[0m \u001b[1m0s\u001b[0m 6ms/step - loss: 0.0144 - mse: 0.0144 \n",
      "Epoch 211/500\n",
      "\u001b[1m6/6\u001b[0m \u001b[32m━━━━━━━━━━━━━━━━━━━━\u001b[0m\u001b[37m\u001b[0m \u001b[1m0s\u001b[0m 6ms/step - loss: 0.0154 - mse: 0.0154 \n",
      "Epoch 212/500\n",
      "\u001b[1m6/6\u001b[0m \u001b[32m━━━━━━━━━━━━━━━━━━━━\u001b[0m\u001b[37m\u001b[0m \u001b[1m0s\u001b[0m 5ms/step - loss: 0.0149 - mse: 0.0149 \n",
      "Epoch 213/500\n",
      "\u001b[1m6/6\u001b[0m \u001b[32m━━━━━━━━━━━━━━━━━━━━\u001b[0m\u001b[37m\u001b[0m \u001b[1m0s\u001b[0m 6ms/step - loss: 0.0155 - mse: 0.0155 \n",
      "Epoch 214/500\n",
      "\u001b[1m6/6\u001b[0m \u001b[32m━━━━━━━━━━━━━━━━━━━━\u001b[0m\u001b[37m\u001b[0m \u001b[1m0s\u001b[0m 4ms/step - loss: 0.0145 - mse: 0.0145 \n",
      "Epoch 215/500\n",
      "\u001b[1m6/6\u001b[0m \u001b[32m━━━━━━━━━━━━━━━━━━━━\u001b[0m\u001b[37m\u001b[0m \u001b[1m0s\u001b[0m 6ms/step - loss: 0.0150 - mse: 0.0150 \n",
      "Epoch 216/500\n",
      "\u001b[1m6/6\u001b[0m \u001b[32m━━━━━━━━━━━━━━━━━━━━\u001b[0m\u001b[37m\u001b[0m \u001b[1m0s\u001b[0m 4ms/step - loss: 0.0144 - mse: 0.0144 \n",
      "Epoch 217/500\n",
      "\u001b[1m6/6\u001b[0m \u001b[32m━━━━━━━━━━━━━━━━━━━━\u001b[0m\u001b[37m\u001b[0m \u001b[1m0s\u001b[0m 5ms/step - loss: 0.0146 - mse: 0.0146 \n",
      "Epoch 218/500\n",
      "\u001b[1m6/6\u001b[0m \u001b[32m━━━━━━━━━━━━━━━━━━━━\u001b[0m\u001b[37m\u001b[0m \u001b[1m0s\u001b[0m 10ms/step - loss: 0.0154 - mse: 0.0154\n",
      "Epoch 219/500\n",
      "\u001b[1m6/6\u001b[0m \u001b[32m━━━━━━━━━━━━━━━━━━━━\u001b[0m\u001b[37m\u001b[0m \u001b[1m0s\u001b[0m 5ms/step - loss: 0.0147 - mse: 0.0147 \n",
      "Epoch 220/500\n",
      "\u001b[1m6/6\u001b[0m \u001b[32m━━━━━━━━━━━━━━━━━━━━\u001b[0m\u001b[37m\u001b[0m \u001b[1m0s\u001b[0m 4ms/step - loss: 0.0145 - mse: 0.0145 \n",
      "Epoch 221/500\n",
      "\u001b[1m6/6\u001b[0m \u001b[32m━━━━━━━━━━━━━━━━━━━━\u001b[0m\u001b[37m\u001b[0m \u001b[1m0s\u001b[0m 5ms/step - loss: 0.0153 - mse: 0.0153 \n",
      "Epoch 222/500\n",
      "\u001b[1m6/6\u001b[0m \u001b[32m━━━━━━━━━━━━━━━━━━━━\u001b[0m\u001b[37m\u001b[0m \u001b[1m0s\u001b[0m 6ms/step - loss: 0.0143 - mse: 0.0143 \n",
      "Epoch 223/500\n",
      "\u001b[1m6/6\u001b[0m \u001b[32m━━━━━━━━━━━━━━━━━━━━\u001b[0m\u001b[37m\u001b[0m \u001b[1m0s\u001b[0m 6ms/step - loss: 0.0146 - mse: 0.0146 \n",
      "Epoch 224/500\n",
      "\u001b[1m6/6\u001b[0m \u001b[32m━━━━━━━━━━━━━━━━━━━━\u001b[0m\u001b[37m\u001b[0m \u001b[1m0s\u001b[0m 5ms/step - loss: 0.0149 - mse: 0.0149 \n",
      "Epoch 225/500\n",
      "\u001b[1m6/6\u001b[0m \u001b[32m━━━━━━━━━━━━━━━━━━━━\u001b[0m\u001b[37m\u001b[0m \u001b[1m0s\u001b[0m 8ms/step - loss: 0.0144 - mse: 0.0144 \n",
      "Epoch 226/500\n",
      "\u001b[1m6/6\u001b[0m \u001b[32m━━━━━━━━━━━━━━━━━━━━\u001b[0m\u001b[37m\u001b[0m \u001b[1m0s\u001b[0m 4ms/step - loss: 0.0146 - mse: 0.0146 \n",
      "Epoch 227/500\n",
      "\u001b[1m6/6\u001b[0m \u001b[32m━━━━━━━━━━━━━━━━━━━━\u001b[0m\u001b[37m\u001b[0m \u001b[1m0s\u001b[0m 7ms/step - loss: 0.0147 - mse: 0.0147 \n",
      "Epoch 228/500\n",
      "\u001b[1m6/6\u001b[0m \u001b[32m━━━━━━━━━━━━━━━━━━━━\u001b[0m\u001b[37m\u001b[0m \u001b[1m0s\u001b[0m 5ms/step - loss: 0.0147 - mse: 0.0147 \n",
      "Epoch 229/500\n",
      "\u001b[1m6/6\u001b[0m \u001b[32m━━━━━━━━━━━━━━━━━━━━\u001b[0m\u001b[37m\u001b[0m \u001b[1m0s\u001b[0m 7ms/step - loss: 0.0149 - mse: 0.0149 \n",
      "Epoch 230/500\n",
      "\u001b[1m6/6\u001b[0m \u001b[32m━━━━━━━━━━━━━━━━━━━━\u001b[0m\u001b[37m\u001b[0m \u001b[1m0s\u001b[0m 7ms/step - loss: 0.0149 - mse: 0.0149 \n",
      "Epoch 231/500\n",
      "\u001b[1m6/6\u001b[0m \u001b[32m━━━━━━━━━━━━━━━━━━━━\u001b[0m\u001b[37m\u001b[0m \u001b[1m0s\u001b[0m 7ms/step - loss: 0.0154 - mse: 0.0154 \n",
      "Epoch 232/500\n",
      "\u001b[1m6/6\u001b[0m \u001b[32m━━━━━━━━━━━━━━━━━━━━\u001b[0m\u001b[37m\u001b[0m \u001b[1m0s\u001b[0m 7ms/step - loss: 0.0141 - mse: 0.0141 \n",
      "Epoch 233/500\n",
      "\u001b[1m6/6\u001b[0m \u001b[32m━━━━━━━━━━━━━━━━━━━━\u001b[0m\u001b[37m\u001b[0m \u001b[1m0s\u001b[0m 6ms/step - loss: 0.0146 - mse: 0.0146 \n",
      "Epoch 234/500\n",
      "\u001b[1m6/6\u001b[0m \u001b[32m━━━━━━━━━━━━━━━━━━━━\u001b[0m\u001b[37m\u001b[0m \u001b[1m0s\u001b[0m 6ms/step - loss: 0.0148 - mse: 0.0148 \n",
      "Epoch 235/500\n",
      "\u001b[1m6/6\u001b[0m \u001b[32m━━━━━━━━━━━━━━━━━━━━\u001b[0m\u001b[37m\u001b[0m \u001b[1m0s\u001b[0m 5ms/step - loss: 0.0145 - mse: 0.0145 \n",
      "Epoch 236/500\n",
      "\u001b[1m6/6\u001b[0m \u001b[32m━━━━━━━━━━━━━━━━━━━━\u001b[0m\u001b[37m\u001b[0m \u001b[1m0s\u001b[0m 6ms/step - loss: 0.0145 - mse: 0.0145 \n",
      "Epoch 237/500\n",
      "\u001b[1m6/6\u001b[0m \u001b[32m━━━━━━━━━━━━━━━━━━━━\u001b[0m\u001b[37m\u001b[0m \u001b[1m0s\u001b[0m 6ms/step - loss: 0.0147 - mse: 0.0147 \n",
      "Epoch 238/500\n",
      "\u001b[1m6/6\u001b[0m \u001b[32m━━━━━━━━━━━━━━━━━━━━\u001b[0m\u001b[37m\u001b[0m \u001b[1m0s\u001b[0m 6ms/step - loss: 0.0141 - mse: 0.0141 \n",
      "Epoch 239/500\n",
      "\u001b[1m6/6\u001b[0m \u001b[32m━━━━━━━━━━━━━━━━━━━━\u001b[0m\u001b[37m\u001b[0m \u001b[1m0s\u001b[0m 6ms/step - loss: 0.0144 - mse: 0.0144 \n",
      "Epoch 240/500\n",
      "\u001b[1m6/6\u001b[0m \u001b[32m━━━━━━━━━━━━━━━━━━━━\u001b[0m\u001b[37m\u001b[0m \u001b[1m0s\u001b[0m 6ms/step - loss: 0.0143 - mse: 0.0143 \n",
      "Epoch 241/500\n",
      "\u001b[1m6/6\u001b[0m \u001b[32m━━━━━━━━━━━━━━━━━━━━\u001b[0m\u001b[37m\u001b[0m \u001b[1m0s\u001b[0m 4ms/step - loss: 0.0145 - mse: 0.0145 \n",
      "Epoch 242/500\n",
      "\u001b[1m6/6\u001b[0m \u001b[32m━━━━━━━━━━━━━━━━━━━━\u001b[0m\u001b[37m\u001b[0m \u001b[1m0s\u001b[0m 5ms/step - loss: 0.0148 - mse: 0.0148 \n",
      "Epoch 243/500\n",
      "\u001b[1m6/6\u001b[0m \u001b[32m━━━━━━━━━━━━━━━━━━━━\u001b[0m\u001b[37m\u001b[0m \u001b[1m0s\u001b[0m 6ms/step - loss: 0.0149 - mse: 0.0149 \n",
      "Epoch 244/500\n",
      "\u001b[1m6/6\u001b[0m \u001b[32m━━━━━━━━━━━━━━━━━━━━\u001b[0m\u001b[37m\u001b[0m \u001b[1m0s\u001b[0m 5ms/step - loss: 0.0144 - mse: 0.0144 \n",
      "Epoch 245/500\n",
      "\u001b[1m6/6\u001b[0m \u001b[32m━━━━━━━━━━━━━━━━━━━━\u001b[0m\u001b[37m\u001b[0m \u001b[1m0s\u001b[0m 6ms/step - loss: 0.0148 - mse: 0.0148 \n",
      "Epoch 246/500\n",
      "\u001b[1m6/6\u001b[0m \u001b[32m━━━━━━━━━━━━━━━━━━━━\u001b[0m\u001b[37m\u001b[0m \u001b[1m0s\u001b[0m 7ms/step - loss: 0.0156 - mse: 0.0156 \n",
      "Epoch 247/500\n",
      "\u001b[1m6/6\u001b[0m \u001b[32m━━━━━━━━━━━━━━━━━━━━\u001b[0m\u001b[37m\u001b[0m \u001b[1m0s\u001b[0m 6ms/step - loss: 0.0150 - mse: 0.0150 \n",
      "Epoch 248/500\n",
      "\u001b[1m6/6\u001b[0m \u001b[32m━━━━━━━━━━━━━━━━━━━━\u001b[0m\u001b[37m\u001b[0m \u001b[1m0s\u001b[0m 5ms/step - loss: 0.0145 - mse: 0.0145 \n",
      "Epoch 249/500\n",
      "\u001b[1m6/6\u001b[0m \u001b[32m━━━━━━━━━━━━━━━━━━━━\u001b[0m\u001b[37m\u001b[0m \u001b[1m0s\u001b[0m 6ms/step - loss: 0.0149 - mse: 0.0149 \n",
      "Epoch 250/500\n",
      "\u001b[1m6/6\u001b[0m \u001b[32m━━━━━━━━━━━━━━━━━━━━\u001b[0m\u001b[37m\u001b[0m \u001b[1m0s\u001b[0m 6ms/step - loss: 0.0145 - mse: 0.0145 \n",
      "Epoch 251/500\n",
      "\u001b[1m6/6\u001b[0m \u001b[32m━━━━━━━━━━━━━━━━━━━━\u001b[0m\u001b[37m\u001b[0m \u001b[1m0s\u001b[0m 5ms/step - loss: 0.0145 - mse: 0.0145 \n",
      "Epoch 252/500\n",
      "\u001b[1m6/6\u001b[0m \u001b[32m━━━━━━━━━━━━━━━━━━━━\u001b[0m\u001b[37m\u001b[0m \u001b[1m0s\u001b[0m 5ms/step - loss: 0.0147 - mse: 0.0147 \n",
      "Epoch 253/500\n",
      "\u001b[1m6/6\u001b[0m \u001b[32m━━━━━━━━━━━━━━━━━━━━\u001b[0m\u001b[37m\u001b[0m \u001b[1m0s\u001b[0m 5ms/step - loss: 0.0141 - mse: 0.0141 \n",
      "Epoch 254/500\n",
      "\u001b[1m6/6\u001b[0m \u001b[32m━━━━━━━━━━━━━━━━━━━━\u001b[0m\u001b[37m\u001b[0m \u001b[1m0s\u001b[0m 5ms/step - loss: 0.0141 - mse: 0.0141 \n",
      "Epoch 255/500\n",
      "\u001b[1m6/6\u001b[0m \u001b[32m━━━━━━━━━━━━━━━━━━━━\u001b[0m\u001b[37m\u001b[0m \u001b[1m0s\u001b[0m 5ms/step - loss: 0.0145 - mse: 0.0145 \n",
      "Epoch 256/500\n",
      "\u001b[1m6/6\u001b[0m \u001b[32m━━━━━━━━━━━━━━━━━━━━\u001b[0m\u001b[37m\u001b[0m \u001b[1m0s\u001b[0m 6ms/step - loss: 0.0146 - mse: 0.0146 \n",
      "Epoch 257/500\n",
      "\u001b[1m6/6\u001b[0m \u001b[32m━━━━━━━━━━━━━━━━━━━━\u001b[0m\u001b[37m\u001b[0m \u001b[1m0s\u001b[0m 5ms/step - loss: 0.0143 - mse: 0.0143 \n",
      "Epoch 258/500\n",
      "\u001b[1m6/6\u001b[0m \u001b[32m━━━━━━━━━━━━━━━━━━━━\u001b[0m\u001b[37m\u001b[0m \u001b[1m0s\u001b[0m 5ms/step - loss: 0.0139 - mse: 0.0139 \n",
      "Epoch 259/500\n",
      "\u001b[1m6/6\u001b[0m \u001b[32m━━━━━━━━━━━━━━━━━━━━\u001b[0m\u001b[37m\u001b[0m \u001b[1m0s\u001b[0m 7ms/step - loss: 0.0146 - mse: 0.0146 \n",
      "Epoch 260/500\n",
      "\u001b[1m6/6\u001b[0m \u001b[32m━━━━━━━━━━━━━━━━━━━━\u001b[0m\u001b[37m\u001b[0m \u001b[1m0s\u001b[0m 12ms/step - loss: 0.0145 - mse: 0.0145\n",
      "Epoch 261/500\n",
      "\u001b[1m6/6\u001b[0m \u001b[32m━━━━━━━━━━━━━━━━━━━━\u001b[0m\u001b[37m\u001b[0m \u001b[1m0s\u001b[0m 6ms/step - loss: 0.0141 - mse: 0.0141 \n",
      "Epoch 262/500\n",
      "\u001b[1m6/6\u001b[0m \u001b[32m━━━━━━━━━━━━━━━━━━━━\u001b[0m\u001b[37m\u001b[0m \u001b[1m0s\u001b[0m 6ms/step - loss: 0.0142 - mse: 0.0142 \n",
      "Epoch 263/500\n",
      "\u001b[1m6/6\u001b[0m \u001b[32m━━━━━━━━━━━━━━━━━━━━\u001b[0m\u001b[37m\u001b[0m \u001b[1m0s\u001b[0m 6ms/step - loss: 0.0139 - mse: 0.0139 \n",
      "Epoch 264/500\n",
      "\u001b[1m6/6\u001b[0m \u001b[32m━━━━━━━━━━━━━━━━━━━━\u001b[0m\u001b[37m\u001b[0m \u001b[1m0s\u001b[0m 4ms/step - loss: 0.0146 - mse: 0.0146 \n",
      "Epoch 265/500\n",
      "\u001b[1m6/6\u001b[0m \u001b[32m━━━━━━━━━━━━━━━━━━━━\u001b[0m\u001b[37m\u001b[0m \u001b[1m0s\u001b[0m 5ms/step - loss: 0.0142 - mse: 0.0142 \n",
      "Epoch 266/500\n",
      "\u001b[1m6/6\u001b[0m \u001b[32m━━━━━━━━━━━━━━━━━━━━\u001b[0m\u001b[37m\u001b[0m \u001b[1m0s\u001b[0m 8ms/step - loss: 0.0144 - mse: 0.0144 \n",
      "Epoch 267/500\n",
      "\u001b[1m6/6\u001b[0m \u001b[32m━━━━━━━━━━━━━━━━━━━━\u001b[0m\u001b[37m\u001b[0m \u001b[1m0s\u001b[0m 5ms/step - loss: 0.0137 - mse: 0.0137 \n",
      "Epoch 268/500\n",
      "\u001b[1m6/6\u001b[0m \u001b[32m━━━━━━━━━━━━━━━━━━━━\u001b[0m\u001b[37m\u001b[0m \u001b[1m0s\u001b[0m 6ms/step - loss: 0.0147 - mse: 0.0147 \n",
      "Epoch 269/500\n",
      "\u001b[1m6/6\u001b[0m \u001b[32m━━━━━━━━━━━━━━━━━━━━\u001b[0m\u001b[37m\u001b[0m \u001b[1m0s\u001b[0m 6ms/step - loss: 0.0140 - mse: 0.0140 \n",
      "Epoch 270/500\n",
      "\u001b[1m6/6\u001b[0m \u001b[32m━━━━━━━━━━━━━━━━━━━━\u001b[0m\u001b[37m\u001b[0m \u001b[1m0s\u001b[0m 6ms/step - loss: 0.0140 - mse: 0.0140 \n",
      "Epoch 271/500\n",
      "\u001b[1m6/6\u001b[0m \u001b[32m━━━━━━━━━━━━━━━━━━━━\u001b[0m\u001b[37m\u001b[0m \u001b[1m0s\u001b[0m 6ms/step - loss: 0.0139 - mse: 0.0139 \n",
      "Epoch 272/500\n",
      "\u001b[1m6/6\u001b[0m \u001b[32m━━━━━━━━━━━━━━━━━━━━\u001b[0m\u001b[37m\u001b[0m \u001b[1m0s\u001b[0m 10ms/step - loss: 0.0140 - mse: 0.0140\n",
      "Epoch 273/500\n",
      "\u001b[1m6/6\u001b[0m \u001b[32m━━━━━━━━━━━━━━━━━━━━\u001b[0m\u001b[37m\u001b[0m \u001b[1m0s\u001b[0m 5ms/step - loss: 0.0146 - mse: 0.0146 \n",
      "Epoch 274/500\n",
      "\u001b[1m6/6\u001b[0m \u001b[32m━━━━━━━━━━━━━━━━━━━━\u001b[0m\u001b[37m\u001b[0m \u001b[1m0s\u001b[0m 6ms/step - loss: 0.0141 - mse: 0.0141 \n",
      "Epoch 275/500\n",
      "\u001b[1m6/6\u001b[0m \u001b[32m━━━━━━━━━━━━━━━━━━━━\u001b[0m\u001b[37m\u001b[0m \u001b[1m0s\u001b[0m 5ms/step - loss: 0.0140 - mse: 0.0140 \n",
      "Epoch 276/500\n",
      "\u001b[1m6/6\u001b[0m \u001b[32m━━━━━━━━━━━━━━━━━━━━\u001b[0m\u001b[37m\u001b[0m \u001b[1m0s\u001b[0m 6ms/step - loss: 0.0143 - mse: 0.0143 \n",
      "Epoch 277/500\n",
      "\u001b[1m6/6\u001b[0m \u001b[32m━━━━━━━━━━━━━━━━━━━━\u001b[0m\u001b[37m\u001b[0m \u001b[1m0s\u001b[0m 6ms/step - loss: 0.0140 - mse: 0.0140 \n",
      "Epoch 278/500\n",
      "\u001b[1m6/6\u001b[0m \u001b[32m━━━━━━━━━━━━━━━━━━━━\u001b[0m\u001b[37m\u001b[0m \u001b[1m0s\u001b[0m 9ms/step - loss: 0.0138 - mse: 0.0138 \n",
      "Epoch 279/500\n",
      "\u001b[1m6/6\u001b[0m \u001b[32m━━━━━━━━━━━━━━━━━━━━\u001b[0m\u001b[37m\u001b[0m \u001b[1m0s\u001b[0m 6ms/step - loss: 0.0147 - mse: 0.0147 \n",
      "Epoch 280/500\n",
      "\u001b[1m6/6\u001b[0m \u001b[32m━━━━━━━━━━━━━━━━━━━━\u001b[0m\u001b[37m\u001b[0m \u001b[1m0s\u001b[0m 5ms/step - loss: 0.0137 - mse: 0.0137 \n",
      "Epoch 281/500\n",
      "\u001b[1m6/6\u001b[0m \u001b[32m━━━━━━━━━━━━━━━━━━━━\u001b[0m\u001b[37m\u001b[0m \u001b[1m0s\u001b[0m 5ms/step - loss: 0.0143 - mse: 0.0143 \n",
      "Epoch 282/500\n",
      "\u001b[1m6/6\u001b[0m \u001b[32m━━━━━━━━━━━━━━━━━━━━\u001b[0m\u001b[37m\u001b[0m \u001b[1m0s\u001b[0m 5ms/step - loss: 0.0142 - mse: 0.0142 \n",
      "Epoch 283/500\n",
      "\u001b[1m6/6\u001b[0m \u001b[32m━━━━━━━━━━━━━━━━━━━━\u001b[0m\u001b[37m\u001b[0m \u001b[1m0s\u001b[0m 5ms/step - loss: 0.0148 - mse: 0.0148 \n",
      "Epoch 284/500\n",
      "\u001b[1m6/6\u001b[0m \u001b[32m━━━━━━━━━━━━━━━━━━━━\u001b[0m\u001b[37m\u001b[0m \u001b[1m0s\u001b[0m 6ms/step - loss: 0.0141 - mse: 0.0141 \n",
      "Epoch 285/500\n",
      "\u001b[1m6/6\u001b[0m \u001b[32m━━━━━━━━━━━━━━━━━━━━\u001b[0m\u001b[37m\u001b[0m \u001b[1m0s\u001b[0m 4ms/step - loss: 0.0138 - mse: 0.0138 \n",
      "Epoch 286/500\n",
      "\u001b[1m6/6\u001b[0m \u001b[32m━━━━━━━━━━━━━━━━━━━━\u001b[0m\u001b[37m\u001b[0m \u001b[1m0s\u001b[0m 5ms/step - loss: 0.0143 - mse: 0.0143 \n",
      "Epoch 287/500\n",
      "\u001b[1m6/6\u001b[0m \u001b[32m━━━━━━━━━━━━━━━━━━━━\u001b[0m\u001b[37m\u001b[0m \u001b[1m0s\u001b[0m 7ms/step - loss: 0.0139 - mse: 0.0139 \n",
      "Epoch 288/500\n",
      "\u001b[1m6/6\u001b[0m \u001b[32m━━━━━━━━━━━━━━━━━━━━\u001b[0m\u001b[37m\u001b[0m \u001b[1m0s\u001b[0m 5ms/step - loss: 0.0145 - mse: 0.0145 \n",
      "Epoch 289/500\n",
      "\u001b[1m6/6\u001b[0m \u001b[32m━━━━━━━━━━━━━━━━━━━━\u001b[0m\u001b[37m\u001b[0m \u001b[1m0s\u001b[0m 5ms/step - loss: 0.0139 - mse: 0.0139 \n",
      "Epoch 290/500\n",
      "\u001b[1m6/6\u001b[0m \u001b[32m━━━━━━━━━━━━━━━━━━━━\u001b[0m\u001b[37m\u001b[0m \u001b[1m0s\u001b[0m 6ms/step - loss: 0.0140 - mse: 0.0140 \n",
      "Epoch 291/500\n",
      "\u001b[1m6/6\u001b[0m \u001b[32m━━━━━━━━━━━━━━━━━━━━\u001b[0m\u001b[37m\u001b[0m \u001b[1m0s\u001b[0m 5ms/step - loss: 0.0143 - mse: 0.0143 \n",
      "Epoch 292/500\n",
      "\u001b[1m6/6\u001b[0m \u001b[32m━━━━━━━━━━━━━━━━━━━━\u001b[0m\u001b[37m\u001b[0m \u001b[1m0s\u001b[0m 6ms/step - loss: 0.0145 - mse: 0.0145 \n",
      "Epoch 293/500\n",
      "\u001b[1m6/6\u001b[0m \u001b[32m━━━━━━━━━━━━━━━━━━━━\u001b[0m\u001b[37m\u001b[0m \u001b[1m0s\u001b[0m 5ms/step - loss: 0.0141 - mse: 0.0141 \n",
      "Epoch 294/500\n",
      "\u001b[1m6/6\u001b[0m \u001b[32m━━━━━━━━━━━━━━━━━━━━\u001b[0m\u001b[37m\u001b[0m \u001b[1m0s\u001b[0m 5ms/step - loss: 0.0142 - mse: 0.0142 \n",
      "Epoch 295/500\n",
      "\u001b[1m6/6\u001b[0m \u001b[32m━━━━━━━━━━━━━━━━━━━━\u001b[0m\u001b[37m\u001b[0m \u001b[1m0s\u001b[0m 6ms/step - loss: 0.0144 - mse: 0.0144 \n",
      "Epoch 296/500\n",
      "\u001b[1m6/6\u001b[0m \u001b[32m━━━━━━━━━━━━━━━━━━━━\u001b[0m\u001b[37m\u001b[0m \u001b[1m0s\u001b[0m 6ms/step - loss: 0.0134 - mse: 0.0134 \n",
      "Epoch 297/500\n",
      "\u001b[1m6/6\u001b[0m \u001b[32m━━━━━━━━━━━━━━━━━━━━\u001b[0m\u001b[37m\u001b[0m \u001b[1m0s\u001b[0m 7ms/step - loss: 0.0142 - mse: 0.0142 \n",
      "Epoch 298/500\n",
      "\u001b[1m6/6\u001b[0m \u001b[32m━━━━━━━━━━━━━━━━━━━━\u001b[0m\u001b[37m\u001b[0m \u001b[1m0s\u001b[0m 6ms/step - loss: 0.0142 - mse: 0.0142 \n",
      "Epoch 299/500\n",
      "\u001b[1m6/6\u001b[0m \u001b[32m━━━━━━━━━━━━━━━━━━━━\u001b[0m\u001b[37m\u001b[0m \u001b[1m0s\u001b[0m 8ms/step - loss: 0.0141 - mse: 0.0141 \n",
      "Epoch 300/500\n",
      "\u001b[1m6/6\u001b[0m \u001b[32m━━━━━━━━━━━━━━━━━━━━\u001b[0m\u001b[37m\u001b[0m \u001b[1m0s\u001b[0m 6ms/step - loss: 0.0140 - mse: 0.0140 \n",
      "Epoch 301/500\n",
      "\u001b[1m6/6\u001b[0m \u001b[32m━━━━━━━━━━━━━━━━━━━━\u001b[0m\u001b[37m\u001b[0m \u001b[1m0s\u001b[0m 4ms/step - loss: 0.0143 - mse: 0.0143 \n",
      "Epoch 302/500\n",
      "\u001b[1m6/6\u001b[0m \u001b[32m━━━━━━━━━━━━━━━━━━━━\u001b[0m\u001b[37m\u001b[0m \u001b[1m0s\u001b[0m 6ms/step - loss: 0.0145 - mse: 0.0145 \n",
      "Epoch 303/500\n",
      "\u001b[1m6/6\u001b[0m \u001b[32m━━━━━━━━━━━━━━━━━━━━\u001b[0m\u001b[37m\u001b[0m \u001b[1m0s\u001b[0m 5ms/step - loss: 0.0144 - mse: 0.0144 \n",
      "Epoch 304/500\n",
      "\u001b[1m6/6\u001b[0m \u001b[32m━━━━━━━━━━━━━━━━━━━━\u001b[0m\u001b[37m\u001b[0m \u001b[1m0s\u001b[0m 7ms/step - loss: 0.0137 - mse: 0.0137 \n",
      "Epoch 305/500\n",
      "\u001b[1m6/6\u001b[0m \u001b[32m━━━━━━━━━━━━━━━━━━━━\u001b[0m\u001b[37m\u001b[0m \u001b[1m0s\u001b[0m 5ms/step - loss: 0.0137 - mse: 0.0137 \n",
      "Epoch 306/500\n",
      "\u001b[1m6/6\u001b[0m \u001b[32m━━━━━━━━━━━━━━━━━━━━\u001b[0m\u001b[37m\u001b[0m \u001b[1m0s\u001b[0m 6ms/step - loss: 0.0137 - mse: 0.0137 \n",
      "Epoch 307/500\n",
      "\u001b[1m6/6\u001b[0m \u001b[32m━━━━━━━━━━━━━━━━━━━━\u001b[0m\u001b[37m\u001b[0m \u001b[1m0s\u001b[0m 5ms/step - loss: 0.0138 - mse: 0.0138 \n",
      "Epoch 308/500\n",
      "\u001b[1m6/6\u001b[0m \u001b[32m━━━━━━━━━━━━━━━━━━━━\u001b[0m\u001b[37m\u001b[0m \u001b[1m0s\u001b[0m 6ms/step - loss: 0.0138 - mse: 0.0138 \n",
      "Epoch 309/500\n",
      "\u001b[1m6/6\u001b[0m \u001b[32m━━━━━━━━━━━━━━━━━━━━\u001b[0m\u001b[37m\u001b[0m \u001b[1m0s\u001b[0m 5ms/step - loss: 0.0142 - mse: 0.0142 \n",
      "Epoch 310/500\n",
      "\u001b[1m6/6\u001b[0m \u001b[32m━━━━━━━━━━━━━━━━━━━━\u001b[0m\u001b[37m\u001b[0m \u001b[1m0s\u001b[0m 8ms/step - loss: 0.0139 - mse: 0.0139 \n",
      "Epoch 311/500\n",
      "\u001b[1m6/6\u001b[0m \u001b[32m━━━━━━━━━━━━━━━━━━━━\u001b[0m\u001b[37m\u001b[0m \u001b[1m0s\u001b[0m 6ms/step - loss: 0.0136 - mse: 0.0136 \n",
      "Epoch 312/500\n",
      "\u001b[1m6/6\u001b[0m \u001b[32m━━━━━━━━━━━━━━━━━━━━\u001b[0m\u001b[37m\u001b[0m \u001b[1m0s\u001b[0m 4ms/step - loss: 0.0139 - mse: 0.0139 \n",
      "Epoch 313/500\n",
      "\u001b[1m6/6\u001b[0m \u001b[32m━━━━━━━━━━━━━━━━━━━━\u001b[0m\u001b[37m\u001b[0m \u001b[1m0s\u001b[0m 6ms/step - loss: 0.0138 - mse: 0.0138 \n",
      "Epoch 314/500\n",
      "\u001b[1m6/6\u001b[0m \u001b[32m━━━━━━━━━━━━━━━━━━━━\u001b[0m\u001b[37m\u001b[0m \u001b[1m0s\u001b[0m 5ms/step - loss: 0.0137 - mse: 0.0137 \n",
      "Epoch 315/500\n",
      "\u001b[1m6/6\u001b[0m \u001b[32m━━━━━━━━━━━━━━━━━━━━\u001b[0m\u001b[37m\u001b[0m \u001b[1m0s\u001b[0m 10ms/step - loss: 0.0141 - mse: 0.0141\n",
      "Epoch 316/500\n",
      "\u001b[1m6/6\u001b[0m \u001b[32m━━━━━━━━━━━━━━━━━━━━\u001b[0m\u001b[37m\u001b[0m \u001b[1m0s\u001b[0m 5ms/step - loss: 0.0138 - mse: 0.0138 \n",
      "Epoch 317/500\n",
      "\u001b[1m6/6\u001b[0m \u001b[32m━━━━━━━━━━━━━━━━━━━━\u001b[0m\u001b[37m\u001b[0m \u001b[1m0s\u001b[0m 4ms/step - loss: 0.0142 - mse: 0.0142 \n",
      "Epoch 318/500\n",
      "\u001b[1m6/6\u001b[0m \u001b[32m━━━━━━━━━━━━━━━━━━━━\u001b[0m\u001b[37m\u001b[0m \u001b[1m0s\u001b[0m 6ms/step - loss: 0.0136 - mse: 0.0136 \n",
      "Epoch 319/500\n",
      "\u001b[1m6/6\u001b[0m \u001b[32m━━━━━━━━━━━━━━━━━━━━\u001b[0m\u001b[37m\u001b[0m \u001b[1m0s\u001b[0m 6ms/step - loss: 0.0131 - mse: 0.0131 \n",
      "Epoch 320/500\n",
      "\u001b[1m6/6\u001b[0m \u001b[32m━━━━━━━━━━━━━━━━━━━━\u001b[0m\u001b[37m\u001b[0m \u001b[1m0s\u001b[0m 9ms/step - loss: 0.0142 - mse: 0.0142 \n",
      "Epoch 321/500\n",
      "\u001b[1m6/6\u001b[0m \u001b[32m━━━━━━━━━━━━━━━━━━━━\u001b[0m\u001b[37m\u001b[0m \u001b[1m0s\u001b[0m 5ms/step - loss: 0.0135 - mse: 0.0135 \n",
      "Epoch 322/500\n",
      "\u001b[1m6/6\u001b[0m \u001b[32m━━━━━━━━━━━━━━━━━━━━\u001b[0m\u001b[37m\u001b[0m \u001b[1m0s\u001b[0m 6ms/step - loss: 0.0142 - mse: 0.0142 \n",
      "Epoch 323/500\n",
      "\u001b[1m6/6\u001b[0m \u001b[32m━━━━━━━━━━━━━━━━━━━━\u001b[0m\u001b[37m\u001b[0m \u001b[1m0s\u001b[0m 4ms/step - loss: 0.0136 - mse: 0.0136 \n",
      "Epoch 324/500\n",
      "\u001b[1m6/6\u001b[0m \u001b[32m━━━━━━━━━━━━━━━━━━━━\u001b[0m\u001b[37m\u001b[0m \u001b[1m0s\u001b[0m 6ms/step - loss: 0.0136 - mse: 0.0136 \n",
      "Epoch 325/500\n",
      "\u001b[1m6/6\u001b[0m \u001b[32m━━━━━━━━━━━━━━━━━━━━\u001b[0m\u001b[37m\u001b[0m \u001b[1m0s\u001b[0m 9ms/step - loss: 0.0141 - mse: 0.0141 \n",
      "Epoch 326/500\n",
      "\u001b[1m6/6\u001b[0m \u001b[32m━━━━━━━━━━━━━━━━━━━━\u001b[0m\u001b[37m\u001b[0m \u001b[1m0s\u001b[0m 5ms/step - loss: 0.0140 - mse: 0.0140 \n",
      "Epoch 327/500\n",
      "\u001b[1m6/6\u001b[0m \u001b[32m━━━━━━━━━━━━━━━━━━━━\u001b[0m\u001b[37m\u001b[0m \u001b[1m0s\u001b[0m 5ms/step - loss: 0.0143 - mse: 0.0143 \n",
      "Epoch 328/500\n",
      "\u001b[1m6/6\u001b[0m \u001b[32m━━━━━━━━━━━━━━━━━━━━\u001b[0m\u001b[37m\u001b[0m \u001b[1m0s\u001b[0m 6ms/step - loss: 0.0139 - mse: 0.0139 \n",
      "Epoch 329/500\n",
      "\u001b[1m6/6\u001b[0m \u001b[32m━━━━━━━━━━━━━━━━━━━━\u001b[0m\u001b[37m\u001b[0m \u001b[1m0s\u001b[0m 5ms/step - loss: 0.0140 - mse: 0.0140 \n",
      "Epoch 330/500\n",
      "\u001b[1m6/6\u001b[0m \u001b[32m━━━━━━━━━━━━━━━━━━━━\u001b[0m\u001b[37m\u001b[0m \u001b[1m0s\u001b[0m 6ms/step - loss: 0.0137 - mse: 0.0137 \n",
      "Epoch 331/500\n",
      "\u001b[1m6/6\u001b[0m \u001b[32m━━━━━━━━━━━━━━━━━━━━\u001b[0m\u001b[37m\u001b[0m \u001b[1m0s\u001b[0m 7ms/step - loss: 0.0139 - mse: 0.0139 \n",
      "Epoch 332/500\n",
      "\u001b[1m6/6\u001b[0m \u001b[32m━━━━━━━━━━━━━━━━━━━━\u001b[0m\u001b[37m\u001b[0m \u001b[1m0s\u001b[0m 5ms/step - loss: 0.0136 - mse: 0.0136 \n",
      "Epoch 333/500\n",
      "\u001b[1m6/6\u001b[0m \u001b[32m━━━━━━━━━━━━━━━━━━━━\u001b[0m\u001b[37m\u001b[0m \u001b[1m0s\u001b[0m 6ms/step - loss: 0.0132 - mse: 0.0132 \n",
      "Epoch 334/500\n",
      "\u001b[1m6/6\u001b[0m \u001b[32m━━━━━━━━━━━━━━━━━━━━\u001b[0m\u001b[37m\u001b[0m \u001b[1m0s\u001b[0m 4ms/step - loss: 0.0137 - mse: 0.0137 \n",
      "Epoch 335/500\n",
      "\u001b[1m6/6\u001b[0m \u001b[32m━━━━━━━━━━━━━━━━━━━━\u001b[0m\u001b[37m\u001b[0m \u001b[1m0s\u001b[0m 6ms/step - loss: 0.0138 - mse: 0.0138 \n",
      "Epoch 336/500\n",
      "\u001b[1m6/6\u001b[0m \u001b[32m━━━━━━━━━━━━━━━━━━━━\u001b[0m\u001b[37m\u001b[0m \u001b[1m0s\u001b[0m 4ms/step - loss: 0.0134 - mse: 0.0134 \n",
      "Epoch 337/500\n",
      "\u001b[1m6/6\u001b[0m \u001b[32m━━━━━━━━━━━━━━━━━━━━\u001b[0m\u001b[37m\u001b[0m \u001b[1m0s\u001b[0m 7ms/step - loss: 0.0139 - mse: 0.0139 \n",
      "Epoch 338/500\n",
      "\u001b[1m6/6\u001b[0m \u001b[32m━━━━━━━━━━━━━━━━━━━━\u001b[0m\u001b[37m\u001b[0m \u001b[1m0s\u001b[0m 5ms/step - loss: 0.0138 - mse: 0.0138 \n",
      "Epoch 339/500\n",
      "\u001b[1m6/6\u001b[0m \u001b[32m━━━━━━━━━━━━━━━━━━━━\u001b[0m\u001b[37m\u001b[0m \u001b[1m0s\u001b[0m 4ms/step - loss: 0.0137 - mse: 0.0137 \n",
      "Epoch 340/500\n",
      "\u001b[1m6/6\u001b[0m \u001b[32m━━━━━━━━━━━━━━━━━━━━\u001b[0m\u001b[37m\u001b[0m \u001b[1m0s\u001b[0m 5ms/step - loss: 0.0140 - mse: 0.0140 \n",
      "Epoch 341/500\n",
      "\u001b[1m6/6\u001b[0m \u001b[32m━━━━━━━━━━━━━━━━━━━━\u001b[0m\u001b[37m\u001b[0m \u001b[1m0s\u001b[0m 5ms/step - loss: 0.0138 - mse: 0.0138 \n",
      "Epoch 342/500\n",
      "\u001b[1m6/6\u001b[0m \u001b[32m━━━━━━━━━━━━━━━━━━━━\u001b[0m\u001b[37m\u001b[0m \u001b[1m0s\u001b[0m 6ms/step - loss: 0.0134 - mse: 0.0134 \n",
      "Epoch 343/500\n",
      "\u001b[1m6/6\u001b[0m \u001b[32m━━━━━━━━━━━━━━━━━━━━\u001b[0m\u001b[37m\u001b[0m \u001b[1m0s\u001b[0m 6ms/step - loss: 0.0132 - mse: 0.0132 \n",
      "Epoch 344/500\n",
      "\u001b[1m6/6\u001b[0m \u001b[32m━━━━━━━━━━━━━━━━━━━━\u001b[0m\u001b[37m\u001b[0m \u001b[1m0s\u001b[0m 6ms/step - loss: 0.0135 - mse: 0.0135 \n",
      "Epoch 345/500\n",
      "\u001b[1m6/6\u001b[0m \u001b[32m━━━━━━━━━━━━━━━━━━━━\u001b[0m\u001b[37m\u001b[0m \u001b[1m0s\u001b[0m 5ms/step - loss: 0.0138 - mse: 0.0138 \n",
      "Epoch 346/500\n",
      "\u001b[1m6/6\u001b[0m \u001b[32m━━━━━━━━━━━━━━━━━━━━\u001b[0m\u001b[37m\u001b[0m \u001b[1m0s\u001b[0m 4ms/step - loss: 0.0141 - mse: 0.0141 \n",
      "Epoch 347/500\n",
      "\u001b[1m6/6\u001b[0m \u001b[32m━━━━━━━━━━━━━━━━━━━━\u001b[0m\u001b[37m\u001b[0m \u001b[1m0s\u001b[0m 5ms/step - loss: 0.0133 - mse: 0.0133 \n",
      "Epoch 348/500\n",
      "\u001b[1m6/6\u001b[0m \u001b[32m━━━━━━━━━━━━━━━━━━━━\u001b[0m\u001b[37m\u001b[0m \u001b[1m0s\u001b[0m 4ms/step - loss: 0.0137 - mse: 0.0137 \n",
      "Epoch 349/500\n",
      "\u001b[1m6/6\u001b[0m \u001b[32m━━━━━━━━━━━━━━━━━━━━\u001b[0m\u001b[37m\u001b[0m \u001b[1m0s\u001b[0m 7ms/step - loss: 0.0142 - mse: 0.0142 \n",
      "Epoch 350/500\n",
      "\u001b[1m6/6\u001b[0m \u001b[32m━━━━━━━━━━━━━━━━━━━━\u001b[0m\u001b[37m\u001b[0m \u001b[1m0s\u001b[0m 5ms/step - loss: 0.0137 - mse: 0.0137 \n",
      "Epoch 351/500\n",
      "\u001b[1m6/6\u001b[0m \u001b[32m━━━━━━━━━━━━━━━━━━━━\u001b[0m\u001b[37m\u001b[0m \u001b[1m0s\u001b[0m 5ms/step - loss: 0.0136 - mse: 0.0136 \n",
      "Epoch 352/500\n",
      "\u001b[1m6/6\u001b[0m \u001b[32m━━━━━━━━━━━━━━━━━━━━\u001b[0m\u001b[37m\u001b[0m \u001b[1m0s\u001b[0m 4ms/step - loss: 0.0137 - mse: 0.0137 \n",
      "Epoch 353/500\n",
      "\u001b[1m6/6\u001b[0m \u001b[32m━━━━━━━━━━━━━━━━━━━━\u001b[0m\u001b[37m\u001b[0m \u001b[1m0s\u001b[0m 6ms/step - loss: 0.0131 - mse: 0.0131 \n",
      "Epoch 354/500\n",
      "\u001b[1m6/6\u001b[0m \u001b[32m━━━━━━━━━━━━━━━━━━━━\u001b[0m\u001b[37m\u001b[0m \u001b[1m0s\u001b[0m 4ms/step - loss: 0.0137 - mse: 0.0137 \n",
      "Epoch 355/500\n",
      "\u001b[1m6/6\u001b[0m \u001b[32m━━━━━━━━━━━━━━━━━━━━\u001b[0m\u001b[37m\u001b[0m \u001b[1m0s\u001b[0m 8ms/step - loss: 0.0138 - mse: 0.0138 \n",
      "Epoch 356/500\n",
      "\u001b[1m6/6\u001b[0m \u001b[32m━━━━━━━━━━━━━━━━━━━━\u001b[0m\u001b[37m\u001b[0m \u001b[1m0s\u001b[0m 5ms/step - loss: 0.0136 - mse: 0.0136 \n",
      "Epoch 357/500\n",
      "\u001b[1m6/6\u001b[0m \u001b[32m━━━━━━━━━━━━━━━━━━━━\u001b[0m\u001b[37m\u001b[0m \u001b[1m0s\u001b[0m 5ms/step - loss: 0.0139 - mse: 0.0139 \n",
      "Epoch 358/500\n",
      "\u001b[1m6/6\u001b[0m \u001b[32m━━━━━━━━━━━━━━━━━━━━\u001b[0m\u001b[37m\u001b[0m \u001b[1m0s\u001b[0m 5ms/step - loss: 0.0140 - mse: 0.0140 \n",
      "Epoch 359/500\n",
      "\u001b[1m6/6\u001b[0m \u001b[32m━━━━━━━━━━━━━━━━━━━━\u001b[0m\u001b[37m\u001b[0m \u001b[1m0s\u001b[0m 5ms/step - loss: 0.0139 - mse: 0.0139 \n",
      "Epoch 360/500\n",
      "\u001b[1m6/6\u001b[0m \u001b[32m━━━━━━━━━━━━━━━━━━━━\u001b[0m\u001b[37m\u001b[0m \u001b[1m0s\u001b[0m 5ms/step - loss: 0.0136 - mse: 0.0136 \n",
      "Epoch 361/500\n",
      "\u001b[1m6/6\u001b[0m \u001b[32m━━━━━━━━━━━━━━━━━━━━\u001b[0m\u001b[37m\u001b[0m \u001b[1m0s\u001b[0m 8ms/step - loss: 0.0135 - mse: 0.0135 \n",
      "Epoch 362/500\n",
      "\u001b[1m6/6\u001b[0m \u001b[32m━━━━━━━━━━━━━━━━━━━━\u001b[0m\u001b[37m\u001b[0m \u001b[1m0s\u001b[0m 5ms/step - loss: 0.0130 - mse: 0.0130 \n",
      "Epoch 363/500\n",
      "\u001b[1m6/6\u001b[0m \u001b[32m━━━━━━━━━━━━━━━━━━━━\u001b[0m\u001b[37m\u001b[0m \u001b[1m0s\u001b[0m 5ms/step - loss: 0.0139 - mse: 0.0139 \n",
      "Epoch 364/500\n",
      "\u001b[1m6/6\u001b[0m \u001b[32m━━━━━━━━━━━━━━━━━━━━\u001b[0m\u001b[37m\u001b[0m \u001b[1m0s\u001b[0m 6ms/step - loss: 0.0136 - mse: 0.0136 \n",
      "Epoch 365/500\n",
      "\u001b[1m6/6\u001b[0m \u001b[32m━━━━━━━━━━━━━━━━━━━━\u001b[0m\u001b[37m\u001b[0m \u001b[1m0s\u001b[0m 6ms/step - loss: 0.0143 - mse: 0.0143 \n",
      "Epoch 366/500\n",
      "\u001b[1m6/6\u001b[0m \u001b[32m━━━━━━━━━━━━━━━━━━━━\u001b[0m\u001b[37m\u001b[0m \u001b[1m0s\u001b[0m 8ms/step - loss: 0.0138 - mse: 0.0138 \n",
      "Epoch 367/500\n",
      "\u001b[1m6/6\u001b[0m \u001b[32m━━━━━━━━━━━━━━━━━━━━\u001b[0m\u001b[37m\u001b[0m \u001b[1m0s\u001b[0m 5ms/step - loss: 0.0134 - mse: 0.0134 \n",
      "Epoch 368/500\n",
      "\u001b[1m6/6\u001b[0m \u001b[32m━━━━━━━━━━━━━━━━━━━━\u001b[0m\u001b[37m\u001b[0m \u001b[1m0s\u001b[0m 5ms/step - loss: 0.0138 - mse: 0.0138 \n",
      "Epoch 369/500\n",
      "\u001b[1m6/6\u001b[0m \u001b[32m━━━━━━━━━━━━━━━━━━━━\u001b[0m\u001b[37m\u001b[0m \u001b[1m0s\u001b[0m 5ms/step - loss: 0.0142 - mse: 0.0142 \n",
      "Epoch 370/500\n",
      "\u001b[1m6/6\u001b[0m \u001b[32m━━━━━━━━━━━━━━━━━━━━\u001b[0m\u001b[37m\u001b[0m \u001b[1m0s\u001b[0m 4ms/step - loss: 0.0139 - mse: 0.0139 \n",
      "Epoch 371/500\n",
      "\u001b[1m6/6\u001b[0m \u001b[32m━━━━━━━━━━━━━━━━━━━━\u001b[0m\u001b[37m\u001b[0m \u001b[1m0s\u001b[0m 8ms/step - loss: 0.0134 - mse: 0.0134 \n",
      "Epoch 372/500\n",
      "\u001b[1m6/6\u001b[0m \u001b[32m━━━━━━━━━━━━━━━━━━━━\u001b[0m\u001b[37m\u001b[0m \u001b[1m0s\u001b[0m 5ms/step - loss: 0.0135 - mse: 0.0135 \n",
      "Epoch 373/500\n",
      "\u001b[1m6/6\u001b[0m \u001b[32m━━━━━━━━━━━━━━━━━━━━\u001b[0m\u001b[37m\u001b[0m \u001b[1m0s\u001b[0m 5ms/step - loss: 0.0134 - mse: 0.0134 \n",
      "Epoch 374/500\n",
      "\u001b[1m6/6\u001b[0m \u001b[32m━━━━━━━━━━━━━━━━━━━━\u001b[0m\u001b[37m\u001b[0m \u001b[1m0s\u001b[0m 6ms/step - loss: 0.0136 - mse: 0.0136 \n",
      "Epoch 375/500\n",
      "\u001b[1m6/6\u001b[0m \u001b[32m━━━━━━━━━━━━━━━━━━━━\u001b[0m\u001b[37m\u001b[0m \u001b[1m0s\u001b[0m 6ms/step - loss: 0.0134 - mse: 0.0134 \n",
      "Epoch 376/500\n",
      "\u001b[1m6/6\u001b[0m \u001b[32m━━━━━━━━━━━━━━━━━━━━\u001b[0m\u001b[37m\u001b[0m \u001b[1m0s\u001b[0m 8ms/step - loss: 0.0138 - mse: 0.0138 \n",
      "Epoch 377/500\n",
      "\u001b[1m6/6\u001b[0m \u001b[32m━━━━━━━━━━━━━━━━━━━━\u001b[0m\u001b[37m\u001b[0m \u001b[1m0s\u001b[0m 5ms/step - loss: 0.0131 - mse: 0.0131 \n",
      "Epoch 378/500\n",
      "\u001b[1m6/6\u001b[0m \u001b[32m━━━━━━━━━━━━━━━━━━━━\u001b[0m\u001b[37m\u001b[0m \u001b[1m0s\u001b[0m 5ms/step - loss: 0.0136 - mse: 0.0136 \n",
      "Epoch 379/500\n",
      "\u001b[1m6/6\u001b[0m \u001b[32m━━━━━━━━━━━━━━━━━━━━\u001b[0m\u001b[37m\u001b[0m \u001b[1m0s\u001b[0m 5ms/step - loss: 0.0133 - mse: 0.0133 \n",
      "Epoch 380/500\n",
      "\u001b[1m6/6\u001b[0m \u001b[32m━━━━━━━━━━━━━━━━━━━━\u001b[0m\u001b[37m\u001b[0m \u001b[1m0s\u001b[0m 6ms/step - loss: 0.0131 - mse: 0.0131 \n",
      "Epoch 381/500\n",
      "\u001b[1m6/6\u001b[0m \u001b[32m━━━━━━━━━━━━━━━━━━━━\u001b[0m\u001b[37m\u001b[0m \u001b[1m0s\u001b[0m 9ms/step - loss: 0.0135 - mse: 0.0135 \n",
      "Epoch 382/500\n",
      "\u001b[1m6/6\u001b[0m \u001b[32m━━━━━━━━━━━━━━━━━━━━\u001b[0m\u001b[37m\u001b[0m \u001b[1m0s\u001b[0m 4ms/step - loss: 0.0135 - mse: 0.0135 \n",
      "Epoch 383/500\n",
      "\u001b[1m6/6\u001b[0m \u001b[32m━━━━━━━━━━━━━━━━━━━━\u001b[0m\u001b[37m\u001b[0m \u001b[1m0s\u001b[0m 5ms/step - loss: 0.0138 - mse: 0.0138 \n",
      "Epoch 384/500\n",
      "\u001b[1m6/6\u001b[0m \u001b[32m━━━━━━━━━━━━━━━━━━━━\u001b[0m\u001b[37m\u001b[0m \u001b[1m0s\u001b[0m 5ms/step - loss: 0.0136 - mse: 0.0136 \n",
      "Epoch 385/500\n",
      "\u001b[1m6/6\u001b[0m \u001b[32m━━━━━━━━━━━━━━━━━━━━\u001b[0m\u001b[37m\u001b[0m \u001b[1m0s\u001b[0m 6ms/step - loss: 0.0134 - mse: 0.0134 \n",
      "Epoch 386/500\n",
      "\u001b[1m6/6\u001b[0m \u001b[32m━━━━━━━━━━━━━━━━━━━━\u001b[0m\u001b[37m\u001b[0m \u001b[1m0s\u001b[0m 6ms/step - loss: 0.0134 - mse: 0.0134 \n",
      "Epoch 387/500\n",
      "\u001b[1m6/6\u001b[0m \u001b[32m━━━━━━━━━━━━━━━━━━━━\u001b[0m\u001b[37m\u001b[0m \u001b[1m0s\u001b[0m 5ms/step - loss: 0.0136 - mse: 0.0136 \n",
      "Epoch 388/500\n",
      "\u001b[1m6/6\u001b[0m \u001b[32m━━━━━━━━━━━━━━━━━━━━\u001b[0m\u001b[37m\u001b[0m \u001b[1m0s\u001b[0m 6ms/step - loss: 0.0130 - mse: 0.0130 \n",
      "Epoch 389/500\n",
      "\u001b[1m6/6\u001b[0m \u001b[32m━━━━━━━━━━━━━━━━━━━━\u001b[0m\u001b[37m\u001b[0m \u001b[1m0s\u001b[0m 5ms/step - loss: 0.0135 - mse: 0.0135 \n",
      "Epoch 390/500\n",
      "\u001b[1m6/6\u001b[0m \u001b[32m━━━━━━━━━━━━━━━━━━━━\u001b[0m\u001b[37m\u001b[0m \u001b[1m0s\u001b[0m 9ms/step - loss: 0.0136 - mse: 0.0136 \n",
      "Epoch 391/500\n",
      "\u001b[1m6/6\u001b[0m \u001b[32m━━━━━━━━━━━━━━━━━━━━\u001b[0m\u001b[37m\u001b[0m \u001b[1m0s\u001b[0m 5ms/step - loss: 0.0136 - mse: 0.0136 \n",
      "Epoch 392/500\n",
      "\u001b[1m6/6\u001b[0m \u001b[32m━━━━━━━━━━━━━━━━━━━━\u001b[0m\u001b[37m\u001b[0m \u001b[1m0s\u001b[0m 5ms/step - loss: 0.0131 - mse: 0.0131 \n",
      "Epoch 393/500\n",
      "\u001b[1m6/6\u001b[0m \u001b[32m━━━━━━━━━━━━━━━━━━━━\u001b[0m\u001b[37m\u001b[0m \u001b[1m0s\u001b[0m 4ms/step - loss: 0.0129 - mse: 0.0129 \n",
      "Epoch 394/500\n",
      "\u001b[1m6/6\u001b[0m \u001b[32m━━━━━━━━━━━━━━━━━━━━\u001b[0m\u001b[37m\u001b[0m \u001b[1m0s\u001b[0m 8ms/step - loss: 0.0134 - mse: 0.0134 \n",
      "Epoch 395/500\n",
      "\u001b[1m6/6\u001b[0m \u001b[32m━━━━━━━━━━━━━━━━━━━━\u001b[0m\u001b[37m\u001b[0m \u001b[1m0s\u001b[0m 5ms/step - loss: 0.0136 - mse: 0.0136 \n",
      "Epoch 396/500\n",
      "\u001b[1m6/6\u001b[0m \u001b[32m━━━━━━━━━━━━━━━━━━━━\u001b[0m\u001b[37m\u001b[0m \u001b[1m0s\u001b[0m 5ms/step - loss: 0.0134 - mse: 0.0134 \n",
      "Epoch 397/500\n",
      "\u001b[1m6/6\u001b[0m \u001b[32m━━━━━━━━━━━━━━━━━━━━\u001b[0m\u001b[37m\u001b[0m \u001b[1m0s\u001b[0m 6ms/step - loss: 0.0136 - mse: 0.0136 \n",
      "Epoch 398/500\n",
      "\u001b[1m6/6\u001b[0m \u001b[32m━━━━━━━━━━━━━━━━━━━━\u001b[0m\u001b[37m\u001b[0m \u001b[1m0s\u001b[0m 7ms/step - loss: 0.0128 - mse: 0.0128 \n",
      "Epoch 399/500\n",
      "\u001b[1m6/6\u001b[0m \u001b[32m━━━━━━━━━━━━━━━━━━━━\u001b[0m\u001b[37m\u001b[0m \u001b[1m0s\u001b[0m 5ms/step - loss: 0.0134 - mse: 0.0134 \n",
      "Epoch 400/500\n",
      "\u001b[1m6/6\u001b[0m \u001b[32m━━━━━━━━━━━━━━━━━━━━\u001b[0m\u001b[37m\u001b[0m \u001b[1m0s\u001b[0m 4ms/step - loss: 0.0136 - mse: 0.0136 \n",
      "Epoch 401/500\n",
      "\u001b[1m6/6\u001b[0m \u001b[32m━━━━━━━━━━━━━━━━━━━━\u001b[0m\u001b[37m\u001b[0m \u001b[1m0s\u001b[0m 5ms/step - loss: 0.0133 - mse: 0.0133 \n",
      "Epoch 402/500\n",
      "\u001b[1m6/6\u001b[0m \u001b[32m━━━━━━━━━━━━━━━━━━━━\u001b[0m\u001b[37m\u001b[0m \u001b[1m0s\u001b[0m 6ms/step - loss: 0.0133 - mse: 0.0133 \n",
      "Epoch 403/500\n",
      "\u001b[1m6/6\u001b[0m \u001b[32m━━━━━━━━━━━━━━━━━━━━\u001b[0m\u001b[37m\u001b[0m \u001b[1m0s\u001b[0m 5ms/step - loss: 0.0130 - mse: 0.0130 \n",
      "Epoch 404/500\n",
      "\u001b[1m6/6\u001b[0m \u001b[32m━━━━━━━━━━━━━━━━━━━━\u001b[0m\u001b[37m\u001b[0m \u001b[1m0s\u001b[0m 5ms/step - loss: 0.0135 - mse: 0.0135 \n",
      "Epoch 405/500\n",
      "\u001b[1m6/6\u001b[0m \u001b[32m━━━━━━━━━━━━━━━━━━━━\u001b[0m\u001b[37m\u001b[0m \u001b[1m0s\u001b[0m 5ms/step - loss: 0.0126 - mse: 0.0126 \n",
      "Epoch 406/500\n",
      "\u001b[1m6/6\u001b[0m \u001b[32m━━━━━━━━━━━━━━━━━━━━\u001b[0m\u001b[37m\u001b[0m \u001b[1m0s\u001b[0m 7ms/step - loss: 0.0141 - mse: 0.0141 \n",
      "Epoch 407/500\n",
      "\u001b[1m6/6\u001b[0m \u001b[32m━━━━━━━━━━━━━━━━━━━━\u001b[0m\u001b[37m\u001b[0m \u001b[1m0s\u001b[0m 6ms/step - loss: 0.0128 - mse: 0.0128 \n",
      "Epoch 408/500\n",
      "\u001b[1m6/6\u001b[0m \u001b[32m━━━━━━━━━━━━━━━━━━━━\u001b[0m\u001b[37m\u001b[0m \u001b[1m0s\u001b[0m 5ms/step - loss: 0.0132 - mse: 0.0132 \n",
      "Epoch 409/500\n",
      "\u001b[1m6/6\u001b[0m \u001b[32m━━━━━━━━━━━━━━━━━━━━\u001b[0m\u001b[37m\u001b[0m \u001b[1m0s\u001b[0m 5ms/step - loss: 0.0128 - mse: 0.0128 \n",
      "Epoch 410/500\n",
      "\u001b[1m6/6\u001b[0m \u001b[32m━━━━━━━━━━━━━━━━━━━━\u001b[0m\u001b[37m\u001b[0m \u001b[1m0s\u001b[0m 8ms/step - loss: 0.0128 - mse: 0.0128 \n",
      "Epoch 411/500\n",
      "\u001b[1m6/6\u001b[0m \u001b[32m━━━━━━━━━━━━━━━━━━━━\u001b[0m\u001b[37m\u001b[0m \u001b[1m0s\u001b[0m 5ms/step - loss: 0.0130 - mse: 0.0130 \n",
      "Epoch 412/500\n",
      "\u001b[1m6/6\u001b[0m \u001b[32m━━━━━━━━━━━━━━━━━━━━\u001b[0m\u001b[37m\u001b[0m \u001b[1m0s\u001b[0m 5ms/step - loss: 0.0134 - mse: 0.0134 \n",
      "Epoch 413/500\n",
      "\u001b[1m6/6\u001b[0m \u001b[32m━━━━━━━━━━━━━━━━━━━━\u001b[0m\u001b[37m\u001b[0m \u001b[1m0s\u001b[0m 5ms/step - loss: 0.0133 - mse: 0.0133 \n",
      "Epoch 414/500\n",
      "\u001b[1m6/6\u001b[0m \u001b[32m━━━━━━━━━━━━━━━━━━━━\u001b[0m\u001b[37m\u001b[0m \u001b[1m0s\u001b[0m 8ms/step - loss: 0.0128 - mse: 0.0128 \n",
      "Epoch 415/500\n",
      "\u001b[1m6/6\u001b[0m \u001b[32m━━━━━━━━━━━━━━━━━━━━\u001b[0m\u001b[37m\u001b[0m \u001b[1m0s\u001b[0m 7ms/step - loss: 0.0129 - mse: 0.0129 \n",
      "Epoch 416/500\n",
      "\u001b[1m6/6\u001b[0m \u001b[32m━━━━━━━━━━━━━━━━━━━━\u001b[0m\u001b[37m\u001b[0m \u001b[1m0s\u001b[0m 5ms/step - loss: 0.0133 - mse: 0.0133 \n",
      "Epoch 417/500\n",
      "\u001b[1m6/6\u001b[0m \u001b[32m━━━━━━━━━━━━━━━━━━━━\u001b[0m\u001b[37m\u001b[0m \u001b[1m0s\u001b[0m 5ms/step - loss: 0.0131 - mse: 0.0131 \n",
      "Epoch 418/500\n",
      "\u001b[1m6/6\u001b[0m \u001b[32m━━━━━━━━━━━━━━━━━━━━\u001b[0m\u001b[37m\u001b[0m \u001b[1m0s\u001b[0m 4ms/step - loss: 0.0124 - mse: 0.0124 \n",
      "Epoch 419/500\n",
      "\u001b[1m6/6\u001b[0m \u001b[32m━━━━━━━━━━━━━━━━━━━━\u001b[0m\u001b[37m\u001b[0m \u001b[1m0s\u001b[0m 6ms/step - loss: 0.0128 - mse: 0.0128 \n",
      "Epoch 420/500\n",
      "\u001b[1m6/6\u001b[0m \u001b[32m━━━━━━━━━━━━━━━━━━━━\u001b[0m\u001b[37m\u001b[0m \u001b[1m0s\u001b[0m 8ms/step - loss: 0.0135 - mse: 0.0135 \n",
      "Epoch 421/500\n",
      "\u001b[1m6/6\u001b[0m \u001b[32m━━━━━━━━━━━━━━━━━━━━\u001b[0m\u001b[37m\u001b[0m \u001b[1m0s\u001b[0m 5ms/step - loss: 0.0133 - mse: 0.0133 \n",
      "Epoch 422/500\n",
      "\u001b[1m6/6\u001b[0m \u001b[32m━━━━━━━━━━━━━━━━━━━━\u001b[0m\u001b[37m\u001b[0m \u001b[1m0s\u001b[0m 5ms/step - loss: 0.0132 - mse: 0.0132 \n",
      "Epoch 423/500\n",
      "\u001b[1m6/6\u001b[0m \u001b[32m━━━━━━━━━━━━━━━━━━━━\u001b[0m\u001b[37m\u001b[0m \u001b[1m0s\u001b[0m 6ms/step - loss: 0.0130 - mse: 0.0130 \n",
      "Epoch 424/500\n",
      "\u001b[1m6/6\u001b[0m \u001b[32m━━━━━━━━━━━━━━━━━━━━\u001b[0m\u001b[37m\u001b[0m \u001b[1m0s\u001b[0m 5ms/step - loss: 0.0131 - mse: 0.0131 \n",
      "Epoch 425/500\n",
      "\u001b[1m6/6\u001b[0m \u001b[32m━━━━━━━━━━━━━━━━━━━━\u001b[0m\u001b[37m\u001b[0m \u001b[1m0s\u001b[0m 9ms/step - loss: 0.0130 - mse: 0.0130 \n",
      "Epoch 426/500\n",
      "\u001b[1m6/6\u001b[0m \u001b[32m━━━━━━━━━━━━━━━━━━━━\u001b[0m\u001b[37m\u001b[0m \u001b[1m0s\u001b[0m 6ms/step - loss: 0.0130 - mse: 0.0130 \n",
      "Epoch 427/500\n",
      "\u001b[1m6/6\u001b[0m \u001b[32m━━━━━━━━━━━━━━━━━━━━\u001b[0m\u001b[37m\u001b[0m \u001b[1m0s\u001b[0m 6ms/step - loss: 0.0135 - mse: 0.0135 \n",
      "Epoch 428/500\n",
      "\u001b[1m6/6\u001b[0m \u001b[32m━━━━━━━━━━━━━━━━━━━━\u001b[0m\u001b[37m\u001b[0m \u001b[1m0s\u001b[0m 5ms/step - loss: 0.0132 - mse: 0.0132 \n",
      "Epoch 429/500\n",
      "\u001b[1m6/6\u001b[0m \u001b[32m━━━━━━━━━━━━━━━━━━━━\u001b[0m\u001b[37m\u001b[0m \u001b[1m0s\u001b[0m 8ms/step - loss: 0.0134 - mse: 0.0134 \n",
      "Epoch 430/500\n",
      "\u001b[1m6/6\u001b[0m \u001b[32m━━━━━━━━━━━━━━━━━━━━\u001b[0m\u001b[37m\u001b[0m \u001b[1m0s\u001b[0m 5ms/step - loss: 0.0132 - mse: 0.0132 \n",
      "Epoch 431/500\n",
      "\u001b[1m6/6\u001b[0m \u001b[32m━━━━━━━━━━━━━━━━━━━━\u001b[0m\u001b[37m\u001b[0m \u001b[1m0s\u001b[0m 5ms/step - loss: 0.0130 - mse: 0.0130 \n",
      "Epoch 432/500\n",
      "\u001b[1m6/6\u001b[0m \u001b[32m━━━━━━━━━━━━━━━━━━━━\u001b[0m\u001b[37m\u001b[0m \u001b[1m0s\u001b[0m 4ms/step - loss: 0.0133 - mse: 0.0133 \n",
      "Epoch 433/500\n",
      "\u001b[1m6/6\u001b[0m \u001b[32m━━━━━━━━━━━━━━━━━━━━\u001b[0m\u001b[37m\u001b[0m \u001b[1m0s\u001b[0m 7ms/step - loss: 0.0128 - mse: 0.0128 \n",
      "Epoch 434/500\n",
      "\u001b[1m6/6\u001b[0m \u001b[32m━━━━━━━━━━━━━━━━━━━━\u001b[0m\u001b[37m\u001b[0m \u001b[1m0s\u001b[0m 6ms/step - loss: 0.0126 - mse: 0.0126 \n",
      "Epoch 435/500\n",
      "\u001b[1m6/6\u001b[0m \u001b[32m━━━━━━━━━━━━━━━━━━━━\u001b[0m\u001b[37m\u001b[0m \u001b[1m0s\u001b[0m 6ms/step - loss: 0.0130 - mse: 0.0130 \n",
      "Epoch 436/500\n",
      "\u001b[1m6/6\u001b[0m \u001b[32m━━━━━━━━━━━━━━━━━━━━\u001b[0m\u001b[37m\u001b[0m \u001b[1m0s\u001b[0m 7ms/step - loss: 0.0129 - mse: 0.0129 \n",
      "Epoch 437/500\n",
      "\u001b[1m6/6\u001b[0m \u001b[32m━━━━━━━━━━━━━━━━━━━━\u001b[0m\u001b[37m\u001b[0m \u001b[1m0s\u001b[0m 5ms/step - loss: 0.0129 - mse: 0.0129 \n",
      "Epoch 438/500\n",
      "\u001b[1m6/6\u001b[0m \u001b[32m━━━━━━━━━━━━━━━━━━━━\u001b[0m\u001b[37m\u001b[0m \u001b[1m0s\u001b[0m 7ms/step - loss: 0.0133 - mse: 0.0133 \n",
      "Epoch 439/500\n",
      "\u001b[1m6/6\u001b[0m \u001b[32m━━━━━━━━━━━━━━━━━━━━\u001b[0m\u001b[37m\u001b[0m \u001b[1m0s\u001b[0m 6ms/step - loss: 0.0132 - mse: 0.0132 \n",
      "Epoch 440/500\n",
      "\u001b[1m6/6\u001b[0m \u001b[32m━━━━━━━━━━━━━━━━━━━━\u001b[0m\u001b[37m\u001b[0m \u001b[1m0s\u001b[0m 4ms/step - loss: 0.0135 - mse: 0.0135 \n",
      "Epoch 441/500\n",
      "\u001b[1m6/6\u001b[0m \u001b[32m━━━━━━━━━━━━━━━━━━━━\u001b[0m\u001b[37m\u001b[0m \u001b[1m0s\u001b[0m 6ms/step - loss: 0.0130 - mse: 0.0130 \n",
      "Epoch 442/500\n",
      "\u001b[1m6/6\u001b[0m \u001b[32m━━━━━━━━━━━━━━━━━━━━\u001b[0m\u001b[37m\u001b[0m \u001b[1m0s\u001b[0m 6ms/step - loss: 0.0130 - mse: 0.0130 \n",
      "Epoch 443/500\n",
      "\u001b[1m6/6\u001b[0m \u001b[32m━━━━━━━━━━━━━━━━━━━━\u001b[0m\u001b[37m\u001b[0m \u001b[1m0s\u001b[0m 9ms/step - loss: 0.0132 - mse: 0.0132 \n",
      "Epoch 444/500\n",
      "\u001b[1m6/6\u001b[0m \u001b[32m━━━━━━━━━━━━━━━━━━━━\u001b[0m\u001b[37m\u001b[0m \u001b[1m0s\u001b[0m 5ms/step - loss: 0.0134 - mse: 0.0134 \n",
      "Epoch 445/500\n",
      "\u001b[1m6/6\u001b[0m \u001b[32m━━━━━━━━━━━━━━━━━━━━\u001b[0m\u001b[37m\u001b[0m \u001b[1m0s\u001b[0m 5ms/step - loss: 0.0133 - mse: 0.0133 \n",
      "Epoch 446/500\n",
      "\u001b[1m6/6\u001b[0m \u001b[32m━━━━━━━━━━━━━━━━━━━━\u001b[0m\u001b[37m\u001b[0m \u001b[1m0s\u001b[0m 5ms/step - loss: 0.0127 - mse: 0.0127 \n",
      "Epoch 447/500\n",
      "\u001b[1m6/6\u001b[0m \u001b[32m━━━━━━━━━━━━━━━━━━━━\u001b[0m\u001b[37m\u001b[0m \u001b[1m0s\u001b[0m 8ms/step - loss: 0.0130 - mse: 0.0130 \n",
      "Epoch 448/500\n",
      "\u001b[1m6/6\u001b[0m \u001b[32m━━━━━━━━━━━━━━━━━━━━\u001b[0m\u001b[37m\u001b[0m \u001b[1m0s\u001b[0m 6ms/step - loss: 0.0131 - mse: 0.0131 \n",
      "Epoch 449/500\n",
      "\u001b[1m6/6\u001b[0m \u001b[32m━━━━━━━━━━━━━━━━━━━━\u001b[0m\u001b[37m\u001b[0m \u001b[1m0s\u001b[0m 6ms/step - loss: 0.0132 - mse: 0.0132 \n",
      "Epoch 450/500\n",
      "\u001b[1m6/6\u001b[0m \u001b[32m━━━━━━━━━━━━━━━━━━━━\u001b[0m\u001b[37m\u001b[0m \u001b[1m0s\u001b[0m 5ms/step - loss: 0.0126 - mse: 0.0126 \n",
      "Epoch 451/500\n",
      "\u001b[1m6/6\u001b[0m \u001b[32m━━━━━━━━━━━━━━━━━━━━\u001b[0m\u001b[37m\u001b[0m \u001b[1m0s\u001b[0m 5ms/step - loss: 0.0123 - mse: 0.0123 \n",
      "Epoch 452/500\n",
      "\u001b[1m6/6\u001b[0m \u001b[32m━━━━━━━━━━━━━━━━━━━━\u001b[0m\u001b[37m\u001b[0m \u001b[1m0s\u001b[0m 6ms/step - loss: 0.0130 - mse: 0.0130 \n",
      "Epoch 453/500\n",
      "\u001b[1m6/6\u001b[0m \u001b[32m━━━━━━━━━━━━━━━━━━━━\u001b[0m\u001b[37m\u001b[0m \u001b[1m0s\u001b[0m 7ms/step - loss: 0.0131 - mse: 0.0131 \n",
      "Epoch 454/500\n",
      "\u001b[1m6/6\u001b[0m \u001b[32m━━━━━━━━━━━━━━━━━━━━\u001b[0m\u001b[37m\u001b[0m \u001b[1m0s\u001b[0m 5ms/step - loss: 0.0131 - mse: 0.0131 \n",
      "Epoch 455/500\n",
      "\u001b[1m6/6\u001b[0m \u001b[32m━━━━━━━━━━━━━━━━━━━━\u001b[0m\u001b[37m\u001b[0m \u001b[1m0s\u001b[0m 5ms/step - loss: 0.0132 - mse: 0.0132 \n",
      "Epoch 456/500\n",
      "\u001b[1m6/6\u001b[0m \u001b[32m━━━━━━━━━━━━━━━━━━━━\u001b[0m\u001b[37m\u001b[0m \u001b[1m0s\u001b[0m 5ms/step - loss: 0.0130 - mse: 0.0130 \n",
      "Epoch 457/500\n",
      "\u001b[1m6/6\u001b[0m \u001b[32m━━━━━━━━━━━━━━━━━━━━\u001b[0m\u001b[37m\u001b[0m \u001b[1m0s\u001b[0m 6ms/step - loss: 0.0131 - mse: 0.0131 \n",
      "Epoch 458/500\n",
      "\u001b[1m6/6\u001b[0m \u001b[32m━━━━━━━━━━━━━━━━━━━━\u001b[0m\u001b[37m\u001b[0m \u001b[1m0s\u001b[0m 6ms/step - loss: 0.0123 - mse: 0.0123 \n",
      "Epoch 459/500\n",
      "\u001b[1m6/6\u001b[0m \u001b[32m━━━━━━━━━━━━━━━━━━━━\u001b[0m\u001b[37m\u001b[0m \u001b[1m0s\u001b[0m 6ms/step - loss: 0.0133 - mse: 0.0133 \n",
      "Epoch 460/500\n",
      "\u001b[1m6/6\u001b[0m \u001b[32m━━━━━━━━━━━━━━━━━━━━\u001b[0m\u001b[37m\u001b[0m \u001b[1m0s\u001b[0m 6ms/step - loss: 0.0134 - mse: 0.0134 \n",
      "Epoch 461/500\n",
      "\u001b[1m6/6\u001b[0m \u001b[32m━━━━━━━━━━━━━━━━━━━━\u001b[0m\u001b[37m\u001b[0m \u001b[1m0s\u001b[0m 6ms/step - loss: 0.0130 - mse: 0.0130 \n",
      "Epoch 462/500\n",
      "\u001b[1m6/6\u001b[0m \u001b[32m━━━━━━━━━━━━━━━━━━━━\u001b[0m\u001b[37m\u001b[0m \u001b[1m0s\u001b[0m 7ms/step - loss: 0.0130 - mse: 0.0130 \n",
      "Epoch 463/500\n",
      "\u001b[1m6/6\u001b[0m \u001b[32m━━━━━━━━━━━━━━━━━━━━\u001b[0m\u001b[37m\u001b[0m \u001b[1m0s\u001b[0m 6ms/step - loss: 0.0127 - mse: 0.0127 \n",
      "Epoch 464/500\n",
      "\u001b[1m6/6\u001b[0m \u001b[32m━━━━━━━━━━━━━━━━━━━━\u001b[0m\u001b[37m\u001b[0m \u001b[1m0s\u001b[0m 5ms/step - loss: 0.0131 - mse: 0.0131 \n",
      "Epoch 465/500\n",
      "\u001b[1m6/6\u001b[0m \u001b[32m━━━━━━━━━━━━━━━━━━━━\u001b[0m\u001b[37m\u001b[0m \u001b[1m0s\u001b[0m 6ms/step - loss: 0.0127 - mse: 0.0127 \n",
      "Epoch 466/500\n",
      "\u001b[1m6/6\u001b[0m \u001b[32m━━━━━━━━━━━━━━━━━━━━\u001b[0m\u001b[37m\u001b[0m \u001b[1m0s\u001b[0m 6ms/step - loss: 0.0132 - mse: 0.0132 \n",
      "Epoch 467/500\n",
      "\u001b[1m6/6\u001b[0m \u001b[32m━━━━━━━━━━━━━━━━━━━━\u001b[0m\u001b[37m\u001b[0m \u001b[1m0s\u001b[0m 7ms/step - loss: 0.0128 - mse: 0.0128 \n",
      "Epoch 468/500\n",
      "\u001b[1m6/6\u001b[0m \u001b[32m━━━━━━━━━━━━━━━━━━━━\u001b[0m\u001b[37m\u001b[0m \u001b[1m0s\u001b[0m 6ms/step - loss: 0.0129 - mse: 0.0129 \n",
      "Epoch 469/500\n",
      "\u001b[1m6/6\u001b[0m \u001b[32m━━━━━━━━━━━━━━━━━━━━\u001b[0m\u001b[37m\u001b[0m \u001b[1m0s\u001b[0m 6ms/step - loss: 0.0128 - mse: 0.0128 \n",
      "Epoch 470/500\n",
      "\u001b[1m6/6\u001b[0m \u001b[32m━━━━━━━━━━━━━━━━━━━━\u001b[0m\u001b[37m\u001b[0m \u001b[1m0s\u001b[0m 6ms/step - loss: 0.0130 - mse: 0.0130 \n",
      "Epoch 471/500\n",
      "\u001b[1m6/6\u001b[0m \u001b[32m━━━━━━━━━━━━━━━━━━━━\u001b[0m\u001b[37m\u001b[0m \u001b[1m0s\u001b[0m 5ms/step - loss: 0.0132 - mse: 0.0132 \n",
      "Epoch 472/500\n",
      "\u001b[1m6/6\u001b[0m \u001b[32m━━━━━━━━━━━━━━━━━━━━\u001b[0m\u001b[37m\u001b[0m \u001b[1m0s\u001b[0m 7ms/step - loss: 0.0128 - mse: 0.0128 \n",
      "Epoch 473/500\n",
      "\u001b[1m6/6\u001b[0m \u001b[32m━━━━━━━━━━━━━━━━━━━━\u001b[0m\u001b[37m\u001b[0m \u001b[1m0s\u001b[0m 6ms/step - loss: 0.0130 - mse: 0.0130 \n",
      "Epoch 474/500\n",
      "\u001b[1m6/6\u001b[0m \u001b[32m━━━━━━━━━━━━━━━━━━━━\u001b[0m\u001b[37m\u001b[0m \u001b[1m0s\u001b[0m 5ms/step - loss: 0.0126 - mse: 0.0126 \n",
      "Epoch 475/500\n",
      "\u001b[1m6/6\u001b[0m \u001b[32m━━━━━━━━━━━━━━━━━━━━\u001b[0m\u001b[37m\u001b[0m \u001b[1m0s\u001b[0m 6ms/step - loss: 0.0128 - mse: 0.0128 \n",
      "Epoch 476/500\n",
      "\u001b[1m6/6\u001b[0m \u001b[32m━━━━━━━━━━━━━━━━━━━━\u001b[0m\u001b[37m\u001b[0m \u001b[1m0s\u001b[0m 5ms/step - loss: 0.0128 - mse: 0.0128 \n",
      "Epoch 477/500\n",
      "\u001b[1m6/6\u001b[0m \u001b[32m━━━━━━━━━━━━━━━━━━━━\u001b[0m\u001b[37m\u001b[0m \u001b[1m0s\u001b[0m 7ms/step - loss: 0.0130 - mse: 0.0130 \n",
      "Epoch 478/500\n",
      "\u001b[1m6/6\u001b[0m \u001b[32m━━━━━━━━━━━━━━━━━━━━\u001b[0m\u001b[37m\u001b[0m \u001b[1m0s\u001b[0m 7ms/step - loss: 0.0129 - mse: 0.0129 \n",
      "Epoch 479/500\n",
      "\u001b[1m6/6\u001b[0m \u001b[32m━━━━━━━━━━━━━━━━━━━━\u001b[0m\u001b[37m\u001b[0m \u001b[1m0s\u001b[0m 5ms/step - loss: 0.0132 - mse: 0.0132 \n",
      "Epoch 480/500\n",
      "\u001b[1m6/6\u001b[0m \u001b[32m━━━━━━━━━━━━━━━━━━━━\u001b[0m\u001b[37m\u001b[0m \u001b[1m0s\u001b[0m 5ms/step - loss: 0.0124 - mse: 0.0124 \n",
      "Epoch 481/500\n",
      "\u001b[1m6/6\u001b[0m \u001b[32m━━━━━━━━━━━━━━━━━━━━\u001b[0m\u001b[37m\u001b[0m \u001b[1m0s\u001b[0m 7ms/step - loss: 0.0125 - mse: 0.0125 \n",
      "Epoch 482/500\n",
      "\u001b[1m6/6\u001b[0m \u001b[32m━━━━━━━━━━━━━━━━━━━━\u001b[0m\u001b[37m\u001b[0m \u001b[1m0s\u001b[0m 4ms/step - loss: 0.0129 - mse: 0.0129 \n",
      "Epoch 483/500\n",
      "\u001b[1m6/6\u001b[0m \u001b[32m━━━━━━━━━━━━━━━━━━━━\u001b[0m\u001b[37m\u001b[0m \u001b[1m0s\u001b[0m 6ms/step - loss: 0.0130 - mse: 0.0130 \n",
      "Epoch 484/500\n",
      "\u001b[1m6/6\u001b[0m \u001b[32m━━━━━━━━━━━━━━━━━━━━\u001b[0m\u001b[37m\u001b[0m \u001b[1m0s\u001b[0m 6ms/step - loss: 0.0124 - mse: 0.0124 \n",
      "Epoch 485/500\n",
      "\u001b[1m6/6\u001b[0m \u001b[32m━━━━━━━━━━━━━━━━━━━━\u001b[0m\u001b[37m\u001b[0m \u001b[1m0s\u001b[0m 6ms/step - loss: 0.0127 - mse: 0.0127 \n",
      "Epoch 486/500\n",
      "\u001b[1m6/6\u001b[0m \u001b[32m━━━━━━━━━━━━━━━━━━━━\u001b[0m\u001b[37m\u001b[0m \u001b[1m0s\u001b[0m 5ms/step - loss: 0.0131 - mse: 0.0131 \n",
      "Epoch 487/500\n",
      "\u001b[1m6/6\u001b[0m \u001b[32m━━━━━━━━━━━━━━━━━━━━\u001b[0m\u001b[37m\u001b[0m \u001b[1m0s\u001b[0m 6ms/step - loss: 0.0132 - mse: 0.0132 \n",
      "Epoch 488/500\n",
      "\u001b[1m6/6\u001b[0m \u001b[32m━━━━━━━━━━━━━━━━━━━━\u001b[0m\u001b[37m\u001b[0m \u001b[1m0s\u001b[0m 6ms/step - loss: 0.0129 - mse: 0.0129 \n",
      "Epoch 489/500\n",
      "\u001b[1m6/6\u001b[0m \u001b[32m━━━━━━━━━━━━━━━━━━━━\u001b[0m\u001b[37m\u001b[0m \u001b[1m0s\u001b[0m 6ms/step - loss: 0.0121 - mse: 0.0121 \n",
      "Epoch 490/500\n",
      "\u001b[1m6/6\u001b[0m \u001b[32m━━━━━━━━━━━━━━━━━━━━\u001b[0m\u001b[37m\u001b[0m \u001b[1m0s\u001b[0m 7ms/step - loss: 0.0125 - mse: 0.0125 \n",
      "Epoch 491/500\n",
      "\u001b[1m6/6\u001b[0m \u001b[32m━━━━━━━━━━━━━━━━━━━━\u001b[0m\u001b[37m\u001b[0m \u001b[1m0s\u001b[0m 6ms/step - loss: 0.0127 - mse: 0.0127 \n",
      "Epoch 492/500\n",
      "\u001b[1m6/6\u001b[0m \u001b[32m━━━━━━━━━━━━━━━━━━━━\u001b[0m\u001b[37m\u001b[0m \u001b[1m0s\u001b[0m 5ms/step - loss: 0.0128 - mse: 0.0128 \n",
      "Epoch 493/500\n",
      "\u001b[1m6/6\u001b[0m \u001b[32m━━━━━━━━━━━━━━━━━━━━\u001b[0m\u001b[37m\u001b[0m \u001b[1m0s\u001b[0m 5ms/step - loss: 0.0126 - mse: 0.0126 \n",
      "Epoch 494/500\n",
      "\u001b[1m6/6\u001b[0m \u001b[32m━━━━━━━━━━━━━━━━━━━━\u001b[0m\u001b[37m\u001b[0m \u001b[1m0s\u001b[0m 7ms/step - loss: 0.0131 - mse: 0.0131 \n",
      "Epoch 495/500\n",
      "\u001b[1m6/6\u001b[0m \u001b[32m━━━━━━━━━━━━━━━━━━━━\u001b[0m\u001b[37m\u001b[0m \u001b[1m0s\u001b[0m 5ms/step - loss: 0.0132 - mse: 0.0132 \n",
      "Epoch 496/500\n",
      "\u001b[1m6/6\u001b[0m \u001b[32m━━━━━━━━━━━━━━━━━━━━\u001b[0m\u001b[37m\u001b[0m \u001b[1m0s\u001b[0m 5ms/step - loss: 0.0125 - mse: 0.0125 \n",
      "Epoch 497/500\n",
      "\u001b[1m6/6\u001b[0m \u001b[32m━━━━━━━━━━━━━━━━━━━━\u001b[0m\u001b[37m\u001b[0m \u001b[1m0s\u001b[0m 6ms/step - loss: 0.0128 - mse: 0.0128 \n",
      "Epoch 498/500\n",
      "\u001b[1m6/6\u001b[0m \u001b[32m━━━━━━━━━━━━━━━━━━━━\u001b[0m\u001b[37m\u001b[0m \u001b[1m0s\u001b[0m 5ms/step - loss: 0.0127 - mse: 0.0127 \n",
      "Epoch 499/500\n",
      "\u001b[1m6/6\u001b[0m \u001b[32m━━━━━━━━━━━━━━━━━━━━\u001b[0m\u001b[37m\u001b[0m \u001b[1m0s\u001b[0m 6ms/step - loss: 0.0124 - mse: 0.0124 \n",
      "Epoch 500/500\n",
      "\u001b[1m6/6\u001b[0m \u001b[32m━━━━━━━━━━━━━━━━━━━━\u001b[0m\u001b[37m\u001b[0m \u001b[1m0s\u001b[0m 6ms/step - loss: 0.0129 - mse: 0.0129 \n"
     ]
    }
   ],
   "source": [
    "history = model.fit(X_train, y_train, batch_size = 128, shuffle=True, epochs=500)"
   ]
  },
  {
   "cell_type": "code",
   "execution_count": 200,
   "id": "aO8Jy6RByQ_1",
   "metadata": {
    "colab": {
     "base_uri": "https://localhost:8080/"
    },
    "id": "aO8Jy6RByQ_1",
    "outputId": "2fc93f33-475b-4ef5-f92f-a06364fbeb85"
   },
   "outputs": [
    {
     "name": "stdout",
     "output_type": "stream",
     "text": [
      "\u001b[1m6/6\u001b[0m \u001b[32m━━━━━━━━━━━━━━━━━━━━\u001b[0m\u001b[37m\u001b[0m \u001b[1m0s\u001b[0m 15ms/step\n"
     ]
    }
   ],
   "source": [
    "y_pred = model.predict(X_valid)"
   ]
  },
  {
   "cell_type": "code",
   "execution_count": 201,
   "id": "rEITU50k76eI",
   "metadata": {
    "id": "rEITU50k76eI"
   },
   "outputs": [],
   "source": [
    "NN_res = {'Model Name':'Neural Network',\t'R2 Score':\tr2_score(y_valid, y_pred),'RMSE':np.sqrt(mean_squared_error(y_valid, y_pred)), 'MAE':mean_absolute_error(y_valid, y_pred)}"
   ]
  },
  {
   "cell_type": "code",
   "execution_count": 202,
   "id": "WFCE8CYm8LaB",
   "metadata": {
    "id": "WFCE8CYm8LaB"
   },
   "outputs": [],
   "source": [
    "Final_models = pd.concat([Final_models, pd.DataFrame([NN_res])], ignore_index=True)"
   ]
  },
  {
   "cell_type": "code",
   "execution_count": 203,
   "id": "IxqJqAjs8TgU",
   "metadata": {
    "colab": {
     "base_uri": "https://localhost:8080/",
     "height": 125
    },
    "id": "IxqJqAjs8TgU",
    "outputId": "e8d7f097-9bd0-4a23-e89c-75dd7098b63a"
   },
   "outputs": [
    {
     "data": {
      "text/html": [
       "<div>\n",
       "<style scoped>\n",
       "    .dataframe tbody tr th:only-of-type {\n",
       "        vertical-align: middle;\n",
       "    }\n",
       "\n",
       "    .dataframe tbody tr th {\n",
       "        vertical-align: top;\n",
       "    }\n",
       "\n",
       "    .dataframe thead th {\n",
       "        text-align: right;\n",
       "    }\n",
       "</style>\n",
       "<table border=\"1\" class=\"dataframe\">\n",
       "  <thead>\n",
       "    <tr style=\"text-align: right;\">\n",
       "      <th></th>\n",
       "      <th>Model Name</th>\n",
       "      <th>R2 Score</th>\n",
       "      <th>RMSE</th>\n",
       "      <th>MAE</th>\n",
       "    </tr>\n",
       "  </thead>\n",
       "  <tbody>\n",
       "    <tr>\n",
       "      <th>0</th>\n",
       "      <td>GradientBoost</td>\n",
       "      <td>0.485273</td>\n",
       "      <td>0.121450</td>\n",
       "      <td>0.076184</td>\n",
       "    </tr>\n",
       "    <tr>\n",
       "      <th>1</th>\n",
       "      <td>Neural Network</td>\n",
       "      <td>0.452604</td>\n",
       "      <td>0.125859</td>\n",
       "      <td>0.085008</td>\n",
       "    </tr>\n",
       "  </tbody>\n",
       "</table>\n",
       "</div>"
      ],
      "text/plain": [
       "       Model Name  R2 Score      RMSE       MAE\n",
       "0   GradientBoost  0.485273  0.121450  0.076184\n",
       "1  Neural Network  0.452604  0.125859  0.085008"
      ]
     },
     "execution_count": 203,
     "metadata": {},
     "output_type": "execute_result"
    }
   ],
   "source": [
    "Final_models"
   ]
  },
  {
   "cell_type": "code",
   "execution_count": 204,
   "id": "BDBye7658XzK",
   "metadata": {
    "colab": {
     "base_uri": "https://localhost:8080/"
    },
    "id": "BDBye7658XzK",
    "outputId": "5d25ed9e-3faf-4f37-a66f-9e6964e99861"
   },
   "outputs": [
    {
     "name": "stdout",
     "output_type": "stream",
     "text": [
      "\u001b[1m3/3\u001b[0m \u001b[32m━━━━━━━━━━━━━━━━━━━━\u001b[0m\u001b[37m\u001b[0m \u001b[1m0s\u001b[0m 12ms/step\n"
     ]
    }
   ],
   "source": [
    "NN_test_y_pred = model.predict(X_test)"
   ]
  },
  {
   "cell_type": "code",
   "execution_count": 205,
   "id": "fFKnXWvl8cYt",
   "metadata": {
    "colab": {
     "base_uri": "https://localhost:8080/"
    },
    "id": "fFKnXWvl8cYt",
    "outputId": "02cffcbe-06ad-445d-f444-5724da2fd124"
   },
   "outputs": [
    {
     "data": {
      "text/plain": [
       "{'r2score': 0.4959230422973633,\n",
       " 'rmse': np.float64(0.12436098811161064),\n",
       " 'mae': 0.08259841054677963}"
      ]
     },
     "execution_count": 205,
     "metadata": {},
     "output_type": "execute_result"
    }
   ],
   "source": [
    "NN_Final_results = {'r2score':r2_score(y_test,NN_test_y_pred),'rmse':np.sqrt(mean_squared_error(y_test,NN_test_y_pred)),'mae':mean_absolute_error(y_test,NN_test_y_pred)}\n",
    "NN_Final_results"
   ]
  },
  {
   "cell_type": "markdown",
   "id": "ECdqveSE0NNj",
   "metadata": {
    "id": "ECdqveSE0NNj"
   },
   "source": [
    "# Boosting Parameters"
   ]
  },
  {
   "cell_type": "markdown",
   "id": "6-fUnsxp0S0Q",
   "metadata": {
    "id": "6-fUnsxp0S0Q"
   },
   "source": [
    "**learning_rate**"
   ]
  },
  {
   "cell_type": "code",
   "execution_count": 206,
   "id": "5qbsm7Tq0WQU",
   "metadata": {
    "id": "5qbsm7Tq0WQU"
   },
   "outputs": [],
   "source": [
    "def parameter_LR(XTrain,yTrain,XValid,yValid):\n",
    "  LR = [0.0001,0.001,0.01,0.1,0.2,0.3,0.4,0.55,0.573,0.5,0.6,0.7,0.8,0.9,1]\n",
    "  Results = []\n",
    "  for lr in LR:\n",
    "    model = MultiOutputRegressor(GradientBoostingRegressor(random_state = 1, learning_rate = lr))\n",
    "    model.fit(XTrain,yTrain)\n",
    "    y_pred = model.predict(XValid)\n",
    "    r2score = r2_score(yValid,y_pred)\n",
    "    RMSE = np.sqrt(mean_squared_error(yValid,y_pred))\n",
    "    MAE = mean_absolute_error(yValid,y_pred)\n",
    "    Results.append((lr, r2score, RMSE, MAE))\n",
    "  Results.sort(key=lambda k:k[2])\n",
    "  return pd.DataFrame(Results,columns=['LR', 'R2 Score', 'RMSE', 'MAE'])"
   ]
  },
  {
   "cell_type": "code",
   "execution_count": 207,
   "id": "VXjU6zIxyS4F",
   "metadata": {
    "colab": {
     "base_uri": "https://localhost:8080/",
     "height": 519
    },
    "id": "VXjU6zIxyS4F",
    "outputId": "c69baa8e-a0c6-4683-c389-25483b9a9995"
   },
   "outputs": [
    {
     "data": {
      "text/html": [
       "<div>\n",
       "<style scoped>\n",
       "    .dataframe tbody tr th:only-of-type {\n",
       "        vertical-align: middle;\n",
       "    }\n",
       "\n",
       "    .dataframe tbody tr th {\n",
       "        vertical-align: top;\n",
       "    }\n",
       "\n",
       "    .dataframe thead th {\n",
       "        text-align: right;\n",
       "    }\n",
       "</style>\n",
       "<table border=\"1\" class=\"dataframe\">\n",
       "  <thead>\n",
       "    <tr style=\"text-align: right;\">\n",
       "      <th></th>\n",
       "      <th>LR</th>\n",
       "      <th>R2 Score</th>\n",
       "      <th>RMSE</th>\n",
       "      <th>MAE</th>\n",
       "    </tr>\n",
       "  </thead>\n",
       "  <tbody>\n",
       "    <tr>\n",
       "      <th>0</th>\n",
       "      <td>0.1000</td>\n",
       "      <td>0.483885</td>\n",
       "      <td>0.121559</td>\n",
       "      <td>0.076213</td>\n",
       "    </tr>\n",
       "    <tr>\n",
       "      <th>1</th>\n",
       "      <td>0.2000</td>\n",
       "      <td>0.466865</td>\n",
       "      <td>0.123121</td>\n",
       "      <td>0.073325</td>\n",
       "    </tr>\n",
       "    <tr>\n",
       "      <th>2</th>\n",
       "      <td>0.3000</td>\n",
       "      <td>0.425175</td>\n",
       "      <td>0.127903</td>\n",
       "      <td>0.072825</td>\n",
       "    </tr>\n",
       "    <tr>\n",
       "      <th>3</th>\n",
       "      <td>0.4000</td>\n",
       "      <td>0.414549</td>\n",
       "      <td>0.128702</td>\n",
       "      <td>0.072418</td>\n",
       "    </tr>\n",
       "    <tr>\n",
       "      <th>4</th>\n",
       "      <td>0.5000</td>\n",
       "      <td>0.425959</td>\n",
       "      <td>0.128918</td>\n",
       "      <td>0.072452</td>\n",
       "    </tr>\n",
       "    <tr>\n",
       "      <th>5</th>\n",
       "      <td>0.5500</td>\n",
       "      <td>0.407006</td>\n",
       "      <td>0.130748</td>\n",
       "      <td>0.073425</td>\n",
       "    </tr>\n",
       "    <tr>\n",
       "      <th>6</th>\n",
       "      <td>0.5730</td>\n",
       "      <td>0.412560</td>\n",
       "      <td>0.130994</td>\n",
       "      <td>0.073194</td>\n",
       "    </tr>\n",
       "    <tr>\n",
       "      <th>7</th>\n",
       "      <td>0.6000</td>\n",
       "      <td>0.398455</td>\n",
       "      <td>0.131226</td>\n",
       "      <td>0.073367</td>\n",
       "    </tr>\n",
       "    <tr>\n",
       "      <th>8</th>\n",
       "      <td>0.7000</td>\n",
       "      <td>0.396376</td>\n",
       "      <td>0.132160</td>\n",
       "      <td>0.073745</td>\n",
       "    </tr>\n",
       "    <tr>\n",
       "      <th>9</th>\n",
       "      <td>0.8000</td>\n",
       "      <td>0.370624</td>\n",
       "      <td>0.133996</td>\n",
       "      <td>0.074490</td>\n",
       "    </tr>\n",
       "    <tr>\n",
       "      <th>10</th>\n",
       "      <td>0.9000</td>\n",
       "      <td>0.357356</td>\n",
       "      <td>0.135791</td>\n",
       "      <td>0.074791</td>\n",
       "    </tr>\n",
       "    <tr>\n",
       "      <th>11</th>\n",
       "      <td>0.0100</td>\n",
       "      <td>0.361205</td>\n",
       "      <td>0.135850</td>\n",
       "      <td>0.097680</td>\n",
       "    </tr>\n",
       "    <tr>\n",
       "      <th>12</th>\n",
       "      <td>1.0000</td>\n",
       "      <td>0.324964</td>\n",
       "      <td>0.140789</td>\n",
       "      <td>0.077604</td>\n",
       "    </tr>\n",
       "    <tr>\n",
       "      <th>13</th>\n",
       "      <td>0.0010</td>\n",
       "      <td>0.067982</td>\n",
       "      <td>0.162568</td>\n",
       "      <td>0.116867</td>\n",
       "    </tr>\n",
       "    <tr>\n",
       "      <th>14</th>\n",
       "      <td>0.0001</td>\n",
       "      <td>0.005511</td>\n",
       "      <td>0.167653</td>\n",
       "      <td>0.120008</td>\n",
       "    </tr>\n",
       "  </tbody>\n",
       "</table>\n",
       "</div>"
      ],
      "text/plain": [
       "        LR  R2 Score      RMSE       MAE\n",
       "0   0.1000  0.483885  0.121559  0.076213\n",
       "1   0.2000  0.466865  0.123121  0.073325\n",
       "2   0.3000  0.425175  0.127903  0.072825\n",
       "3   0.4000  0.414549  0.128702  0.072418\n",
       "4   0.5000  0.425959  0.128918  0.072452\n",
       "5   0.5500  0.407006  0.130748  0.073425\n",
       "6   0.5730  0.412560  0.130994  0.073194\n",
       "7   0.6000  0.398455  0.131226  0.073367\n",
       "8   0.7000  0.396376  0.132160  0.073745\n",
       "9   0.8000  0.370624  0.133996  0.074490\n",
       "10  0.9000  0.357356  0.135791  0.074791\n",
       "11  0.0100  0.361205  0.135850  0.097680\n",
       "12  1.0000  0.324964  0.140789  0.077604\n",
       "13  0.0010  0.067982  0.162568  0.116867\n",
       "14  0.0001  0.005511  0.167653  0.120008"
      ]
     },
     "execution_count": 207,
     "metadata": {},
     "output_type": "execute_result"
    }
   ],
   "source": [
    "Results_LR = parameter_LR(X_train,y_train,X_valid,y_valid)\n",
    "Results_LR"
   ]
  },
  {
   "cell_type": "code",
   "execution_count": 208,
   "id": "Na4KSVzW0jCL",
   "metadata": {
    "colab": {
     "base_uri": "https://localhost:8080/"
    },
    "id": "Na4KSVzW0jCL",
    "outputId": "b3d716dc-c1dc-45d9-ea4b-21f435a92cf1"
   },
   "outputs": [
    {
     "data": {
      "text/plain": [
       "np.float64(0.1)"
      ]
     },
     "execution_count": 208,
     "metadata": {},
     "output_type": "execute_result"
    }
   ],
   "source": [
    "best_LR = Results_LR.iloc[0,0]\n",
    "best_LR"
   ]
  },
  {
   "cell_type": "markdown",
   "id": "eltmAeWT0nD6",
   "metadata": {
    "id": "eltmAeWT0nD6"
   },
   "source": [
    "**n_estimators**"
   ]
  },
  {
   "cell_type": "code",
   "execution_count": 209,
   "id": "DEBgBgaG0kT6",
   "metadata": {
    "id": "DEBgBgaG0kT6"
   },
   "outputs": [],
   "source": [
    "def parameter_estimator(XTrain,yTrain,XValid,yValid):\n",
    "  estimators = [100,200,300,400,500,700,1000]\n",
    "  Results = []\n",
    "  for estimator in estimators:\n",
    "    model = MultiOutputRegressor(GradientBoostingRegressor(random_state = 1,learning_rate = best_LR,n_estimators = estimator))\n",
    "    model.fit(X_train,y_train)\n",
    "    y_pred = model.predict(X_valid)\n",
    "    r2score = r2_score(y_valid,y_pred)\n",
    "    RMSE = np.sqrt(mean_squared_error(y_valid,y_pred))\n",
    "    MAE = mean_absolute_error(y_valid,y_pred)\n",
    "    Results.append((estimator, r2score, RMSE, MAE))\n",
    "  Results.sort(key=lambda k:k[2])\n",
    "  return pd.DataFrame(Results,columns=['estimator', 'R2 Score', 'RMSE', 'MAE'])"
   ]
  },
  {
   "cell_type": "code",
   "execution_count": 210,
   "id": "RghXOPIU0yri",
   "metadata": {
    "colab": {
     "base_uri": "https://localhost:8080/",
     "height": 269
    },
    "id": "RghXOPIU0yri",
    "outputId": "fe61cd72-453a-4e30-c533-a889a0cec0e7"
   },
   "outputs": [
    {
     "data": {
      "text/html": [
       "<div>\n",
       "<style scoped>\n",
       "    .dataframe tbody tr th:only-of-type {\n",
       "        vertical-align: middle;\n",
       "    }\n",
       "\n",
       "    .dataframe tbody tr th {\n",
       "        vertical-align: top;\n",
       "    }\n",
       "\n",
       "    .dataframe thead th {\n",
       "        text-align: right;\n",
       "    }\n",
       "</style>\n",
       "<table border=\"1\" class=\"dataframe\">\n",
       "  <thead>\n",
       "    <tr style=\"text-align: right;\">\n",
       "      <th></th>\n",
       "      <th>estimator</th>\n",
       "      <th>R2 Score</th>\n",
       "      <th>RMSE</th>\n",
       "      <th>MAE</th>\n",
       "    </tr>\n",
       "  </thead>\n",
       "  <tbody>\n",
       "    <tr>\n",
       "      <th>0</th>\n",
       "      <td>100</td>\n",
       "      <td>0.483885</td>\n",
       "      <td>0.121559</td>\n",
       "      <td>0.076213</td>\n",
       "    </tr>\n",
       "    <tr>\n",
       "      <th>1</th>\n",
       "      <td>200</td>\n",
       "      <td>0.466990</td>\n",
       "      <td>0.123377</td>\n",
       "      <td>0.073372</td>\n",
       "    </tr>\n",
       "    <tr>\n",
       "      <th>2</th>\n",
       "      <td>300</td>\n",
       "      <td>0.449200</td>\n",
       "      <td>0.125185</td>\n",
       "      <td>0.071838</td>\n",
       "    </tr>\n",
       "    <tr>\n",
       "      <th>3</th>\n",
       "      <td>400</td>\n",
       "      <td>0.435025</td>\n",
       "      <td>0.126946</td>\n",
       "      <td>0.071539</td>\n",
       "    </tr>\n",
       "    <tr>\n",
       "      <th>4</th>\n",
       "      <td>500</td>\n",
       "      <td>0.425049</td>\n",
       "      <td>0.128212</td>\n",
       "      <td>0.071624</td>\n",
       "    </tr>\n",
       "    <tr>\n",
       "      <th>5</th>\n",
       "      <td>700</td>\n",
       "      <td>0.415633</td>\n",
       "      <td>0.129357</td>\n",
       "      <td>0.071420</td>\n",
       "    </tr>\n",
       "    <tr>\n",
       "      <th>6</th>\n",
       "      <td>1000</td>\n",
       "      <td>0.409086</td>\n",
       "      <td>0.130196</td>\n",
       "      <td>0.071310</td>\n",
       "    </tr>\n",
       "  </tbody>\n",
       "</table>\n",
       "</div>"
      ],
      "text/plain": [
       "   estimator  R2 Score      RMSE       MAE\n",
       "0        100  0.483885  0.121559  0.076213\n",
       "1        200  0.466990  0.123377  0.073372\n",
       "2        300  0.449200  0.125185  0.071838\n",
       "3        400  0.435025  0.126946  0.071539\n",
       "4        500  0.425049  0.128212  0.071624\n",
       "5        700  0.415633  0.129357  0.071420\n",
       "6       1000  0.409086  0.130196  0.071310"
      ]
     },
     "execution_count": 210,
     "metadata": {},
     "output_type": "execute_result"
    }
   ],
   "source": [
    "Results_estimator = parameter_estimator(X_train,y_train,X_valid,y_valid)\n",
    "Results_estimator"
   ]
  },
  {
   "cell_type": "code",
   "execution_count": 211,
   "id": "z33_V4Jx02D8",
   "metadata": {
    "colab": {
     "base_uri": "https://localhost:8080/"
    },
    "id": "z33_V4Jx02D8",
    "outputId": "76d5fec7-8eba-45a9-df82-8708c031cadc"
   },
   "outputs": [
    {
     "data": {
      "text/plain": [
       "np.int64(100)"
      ]
     },
     "execution_count": 211,
     "metadata": {},
     "output_type": "execute_result"
    }
   ],
   "source": [
    "best_n_estimator = Results_estimator.iloc[0,0]\n",
    "best_n_estimator"
   ]
  },
  {
   "cell_type": "markdown",
   "id": "YIpdoXtC05E2",
   "metadata": {
    "id": "YIpdoXtC05E2"
   },
   "source": [
    "**subsample**"
   ]
  },
  {
   "cell_type": "code",
   "execution_count": 212,
   "id": "oE5WMYj207E4",
   "metadata": {
    "id": "oE5WMYj207E4"
   },
   "outputs": [],
   "source": [
    "def parameter_subsample(XTrain,yTrain,XValid,yValid):\n",
    "  samples = [0.1,0.2,0.3,0.4,0.5,0.6,0.7,0.8,0.9,1]\n",
    "  Results = []\n",
    "  for x in samples:\n",
    "    model = MultiOutputRegressor(GradientBoostingRegressor(random_state = 1, learning_rate = best_LR, n_estimators = best_n_estimator, subsample = x))\n",
    "    model.fit(XTrain,yTrain)\n",
    "    y_pred = model.predict(XValid)\n",
    "    r2score = r2_score(yValid,y_pred)\n",
    "    RMSE = np.sqrt(mean_squared_error(yValid,y_pred))\n",
    "    MAE = mean_absolute_error(yValid,y_pred)\n",
    "    Results.append((x, r2score, RMSE, MAE))\n",
    "  Results.sort(key=lambda k:k[2])\n",
    "  return pd.DataFrame(Results,columns=['subsample', 'R2 Score', 'RMSE', 'MAE'])"
   ]
  },
  {
   "cell_type": "code",
   "execution_count": 213,
   "id": "cNC-OAy_1ChK",
   "metadata": {
    "colab": {
     "base_uri": "https://localhost:8080/",
     "height": 363
    },
    "id": "cNC-OAy_1ChK",
    "outputId": "e3973505-7085-4010-ede0-f253a3c9532e"
   },
   "outputs": [
    {
     "data": {
      "text/html": [
       "<div>\n",
       "<style scoped>\n",
       "    .dataframe tbody tr th:only-of-type {\n",
       "        vertical-align: middle;\n",
       "    }\n",
       "\n",
       "    .dataframe tbody tr th {\n",
       "        vertical-align: top;\n",
       "    }\n",
       "\n",
       "    .dataframe thead th {\n",
       "        text-align: right;\n",
       "    }\n",
       "</style>\n",
       "<table border=\"1\" class=\"dataframe\">\n",
       "  <thead>\n",
       "    <tr style=\"text-align: right;\">\n",
       "      <th></th>\n",
       "      <th>subsample</th>\n",
       "      <th>R2 Score</th>\n",
       "      <th>RMSE</th>\n",
       "      <th>MAE</th>\n",
       "    </tr>\n",
       "  </thead>\n",
       "  <tbody>\n",
       "    <tr>\n",
       "      <th>0</th>\n",
       "      <td>0.6</td>\n",
       "      <td>0.495686</td>\n",
       "      <td>0.120397</td>\n",
       "      <td>0.075211</td>\n",
       "    </tr>\n",
       "    <tr>\n",
       "      <th>1</th>\n",
       "      <td>0.9</td>\n",
       "      <td>0.485045</td>\n",
       "      <td>0.121403</td>\n",
       "      <td>0.074882</td>\n",
       "    </tr>\n",
       "    <tr>\n",
       "      <th>2</th>\n",
       "      <td>1.0</td>\n",
       "      <td>0.483885</td>\n",
       "      <td>0.121559</td>\n",
       "      <td>0.076213</td>\n",
       "    </tr>\n",
       "    <tr>\n",
       "      <th>3</th>\n",
       "      <td>0.3</td>\n",
       "      <td>0.474121</td>\n",
       "      <td>0.122262</td>\n",
       "      <td>0.078197</td>\n",
       "    </tr>\n",
       "    <tr>\n",
       "      <th>4</th>\n",
       "      <td>0.8</td>\n",
       "      <td>0.478620</td>\n",
       "      <td>0.122290</td>\n",
       "      <td>0.075926</td>\n",
       "    </tr>\n",
       "    <tr>\n",
       "      <th>5</th>\n",
       "      <td>0.7</td>\n",
       "      <td>0.477492</td>\n",
       "      <td>0.122582</td>\n",
       "      <td>0.076266</td>\n",
       "    </tr>\n",
       "    <tr>\n",
       "      <th>6</th>\n",
       "      <td>0.5</td>\n",
       "      <td>0.469698</td>\n",
       "      <td>0.123378</td>\n",
       "      <td>0.077264</td>\n",
       "    </tr>\n",
       "    <tr>\n",
       "      <th>7</th>\n",
       "      <td>0.4</td>\n",
       "      <td>0.470660</td>\n",
       "      <td>0.123603</td>\n",
       "      <td>0.077064</td>\n",
       "    </tr>\n",
       "    <tr>\n",
       "      <th>8</th>\n",
       "      <td>0.1</td>\n",
       "      <td>0.462686</td>\n",
       "      <td>0.125203</td>\n",
       "      <td>0.084678</td>\n",
       "    </tr>\n",
       "    <tr>\n",
       "      <th>9</th>\n",
       "      <td>0.2</td>\n",
       "      <td>0.459861</td>\n",
       "      <td>0.125389</td>\n",
       "      <td>0.081717</td>\n",
       "    </tr>\n",
       "  </tbody>\n",
       "</table>\n",
       "</div>"
      ],
      "text/plain": [
       "   subsample  R2 Score      RMSE       MAE\n",
       "0        0.6  0.495686  0.120397  0.075211\n",
       "1        0.9  0.485045  0.121403  0.074882\n",
       "2        1.0  0.483885  0.121559  0.076213\n",
       "3        0.3  0.474121  0.122262  0.078197\n",
       "4        0.8  0.478620  0.122290  0.075926\n",
       "5        0.7  0.477492  0.122582  0.076266\n",
       "6        0.5  0.469698  0.123378  0.077264\n",
       "7        0.4  0.470660  0.123603  0.077064\n",
       "8        0.1  0.462686  0.125203  0.084678\n",
       "9        0.2  0.459861  0.125389  0.081717"
      ]
     },
     "execution_count": 213,
     "metadata": {},
     "output_type": "execute_result"
    }
   ],
   "source": [
    "Results_subsample = parameter_subsample(X_train,y_train,X_valid,y_valid)\n",
    "Results_subsample"
   ]
  },
  {
   "cell_type": "code",
   "execution_count": 214,
   "id": "q3MNW71r1GTA",
   "metadata": {
    "colab": {
     "base_uri": "https://localhost:8080/"
    },
    "id": "q3MNW71r1GTA",
    "outputId": "6226ffbc-584d-4077-c008-3041d1594800"
   },
   "outputs": [
    {
     "data": {
      "text/plain": [
       "np.float64(0.6)"
      ]
     },
     "execution_count": 214,
     "metadata": {},
     "output_type": "execute_result"
    }
   ],
   "source": [
    "best_subsample= Results_subsample.iloc[0,0]\n",
    "best_subsample"
   ]
  },
  {
   "cell_type": "markdown",
   "id": "3KK2m6zA1Mb6",
   "metadata": {
    "id": "3KK2m6zA1Mb6"
   },
   "source": [
    "# Tree-Based Parameters"
   ]
  },
  {
   "cell_type": "markdown",
   "id": "QL_pCird1_tI",
   "metadata": {
    "id": "QL_pCird1_tI"
   },
   "source": [
    "**min_samples_split**"
   ]
  },
  {
   "cell_type": "code",
   "execution_count": 215,
   "id": "tYdBbnXC2DUE",
   "metadata": {
    "id": "tYdBbnXC2DUE"
   },
   "outputs": [],
   "source": [
    "def parameter_split(XTrain,yTrain,XValid,yValid):\n",
    "  splits = [2,3,4,5,6,7,8,9,10]\n",
    "  Results = []\n",
    "  for x in splits:\n",
    "    model = MultiOutputRegressor(GradientBoostingRegressor(random_state = 1, learning_rate = best_LR, n_estimators = best_n_estimator,min_samples_split=x))\n",
    "    model.fit(XTrain,yTrain)\n",
    "    y_pred = model.predict(XValid)\n",
    "    r2score = r2_score(yValid,y_pred)\n",
    "    RMSE = np.sqrt(mean_squared_error(yValid,y_pred))\n",
    "    MAE = mean_absolute_error(yValid,y_pred)\n",
    "    Results.append((x, r2score, RMSE, MAE))\n",
    "  Results.sort(key=lambda k:k[2])\n",
    "  return pd.DataFrame(Results,columns=['min_sample_split', 'R2 Score', 'RMSE', 'MAE'])"
   ]
  },
  {
   "cell_type": "code",
   "execution_count": 216,
   "id": "4PsO9Tia2If4",
   "metadata": {
    "colab": {
     "base_uri": "https://localhost:8080/",
     "height": 331
    },
    "id": "4PsO9Tia2If4",
    "outputId": "c41b4478-48fc-49dc-bc50-77bc514cdd41"
   },
   "outputs": [
    {
     "data": {
      "text/html": [
       "<div>\n",
       "<style scoped>\n",
       "    .dataframe tbody tr th:only-of-type {\n",
       "        vertical-align: middle;\n",
       "    }\n",
       "\n",
       "    .dataframe tbody tr th {\n",
       "        vertical-align: top;\n",
       "    }\n",
       "\n",
       "    .dataframe thead th {\n",
       "        text-align: right;\n",
       "    }\n",
       "</style>\n",
       "<table border=\"1\" class=\"dataframe\">\n",
       "  <thead>\n",
       "    <tr style=\"text-align: right;\">\n",
       "      <th></th>\n",
       "      <th>min_sample_split</th>\n",
       "      <th>R2 Score</th>\n",
       "      <th>RMSE</th>\n",
       "      <th>MAE</th>\n",
       "    </tr>\n",
       "  </thead>\n",
       "  <tbody>\n",
       "    <tr>\n",
       "      <th>0</th>\n",
       "      <td>8</td>\n",
       "      <td>0.492144</td>\n",
       "      <td>0.120476</td>\n",
       "      <td>0.075473</td>\n",
       "    </tr>\n",
       "    <tr>\n",
       "      <th>1</th>\n",
       "      <td>10</td>\n",
       "      <td>0.491912</td>\n",
       "      <td>0.120480</td>\n",
       "      <td>0.075468</td>\n",
       "    </tr>\n",
       "    <tr>\n",
       "      <th>2</th>\n",
       "      <td>9</td>\n",
       "      <td>0.485805</td>\n",
       "      <td>0.121061</td>\n",
       "      <td>0.075504</td>\n",
       "    </tr>\n",
       "    <tr>\n",
       "      <th>3</th>\n",
       "      <td>7</td>\n",
       "      <td>0.487654</td>\n",
       "      <td>0.121225</td>\n",
       "      <td>0.075755</td>\n",
       "    </tr>\n",
       "    <tr>\n",
       "      <th>4</th>\n",
       "      <td>2</td>\n",
       "      <td>0.483885</td>\n",
       "      <td>0.121559</td>\n",
       "      <td>0.076213</td>\n",
       "    </tr>\n",
       "    <tr>\n",
       "      <th>5</th>\n",
       "      <td>6</td>\n",
       "      <td>0.484419</td>\n",
       "      <td>0.121661</td>\n",
       "      <td>0.076197</td>\n",
       "    </tr>\n",
       "    <tr>\n",
       "      <th>6</th>\n",
       "      <td>4</td>\n",
       "      <td>0.481223</td>\n",
       "      <td>0.121698</td>\n",
       "      <td>0.076196</td>\n",
       "    </tr>\n",
       "    <tr>\n",
       "      <th>7</th>\n",
       "      <td>3</td>\n",
       "      <td>0.480876</td>\n",
       "      <td>0.121864</td>\n",
       "      <td>0.076260</td>\n",
       "    </tr>\n",
       "    <tr>\n",
       "      <th>8</th>\n",
       "      <td>5</td>\n",
       "      <td>0.479660</td>\n",
       "      <td>0.122114</td>\n",
       "      <td>0.076426</td>\n",
       "    </tr>\n",
       "  </tbody>\n",
       "</table>\n",
       "</div>"
      ],
      "text/plain": [
       "   min_sample_split  R2 Score      RMSE       MAE\n",
       "0                 8  0.492144  0.120476  0.075473\n",
       "1                10  0.491912  0.120480  0.075468\n",
       "2                 9  0.485805  0.121061  0.075504\n",
       "3                 7  0.487654  0.121225  0.075755\n",
       "4                 2  0.483885  0.121559  0.076213\n",
       "5                 6  0.484419  0.121661  0.076197\n",
       "6                 4  0.481223  0.121698  0.076196\n",
       "7                 3  0.480876  0.121864  0.076260\n",
       "8                 5  0.479660  0.122114  0.076426"
      ]
     },
     "execution_count": 216,
     "metadata": {},
     "output_type": "execute_result"
    }
   ],
   "source": [
    "Results_split = parameter_split(X_train,y_train,X_valid,y_valid)\n",
    "Results_split"
   ]
  },
  {
   "cell_type": "code",
   "execution_count": 217,
   "id": "EDMhTlrd2NKb",
   "metadata": {
    "colab": {
     "base_uri": "https://localhost:8080/"
    },
    "id": "EDMhTlrd2NKb",
    "outputId": "95c191a9-0a1a-4e7b-b101-79505cc7e694"
   },
   "outputs": [
    {
     "data": {
      "text/plain": [
       "np.int64(8)"
      ]
     },
     "execution_count": 217,
     "metadata": {},
     "output_type": "execute_result"
    }
   ],
   "source": [
    "best_split= Results_split.iloc[0,0]\n",
    "best_split"
   ]
  },
  {
   "cell_type": "markdown",
   "id": "mqHcePiu2PJl",
   "metadata": {
    "id": "mqHcePiu2PJl"
   },
   "source": [
    "**max_leaf_nodes**"
   ]
  },
  {
   "cell_type": "code",
   "execution_count": 218,
   "id": "rfgkXPxL2Tus",
   "metadata": {
    "id": "rfgkXPxL2Tus"
   },
   "outputs": [],
   "source": [
    "def parameter_nodes(XTrain,yTrain,XValid,yValid):\n",
    "  nodes = [2,3,4,5,6,7,8,9,10]\n",
    "  Results = []\n",
    "  for x in nodes:\n",
    "    model = MultiOutputRegressor(GradientBoostingRegressor(random_state = 1, learning_rate = best_LR, n_estimators = best_n_estimator,min_samples_split=best_split, max_leaf_nodes = x))\n",
    "    model.fit(XTrain,yTrain)\n",
    "    y_pred = model.predict(XValid)\n",
    "    r2score = r2_score(yValid,y_pred)\n",
    "    RMSE = np.sqrt(mean_squared_error(yValid,y_pred))\n",
    "    MAE = mean_absolute_error(yValid,y_pred)\n",
    "    Results.append((x, r2score, RMSE, MAE))\n",
    "  Results.sort(key=lambda k:k[2])\n",
    "  return pd.DataFrame(Results,columns=['max_leaf_nodes', 'R2 Score', 'RMSE', 'MAE'])"
   ]
  },
  {
   "cell_type": "code",
   "execution_count": 219,
   "id": "snaGVkBN2aZs",
   "metadata": {
    "colab": {
     "base_uri": "https://localhost:8080/",
     "height": 331
    },
    "id": "snaGVkBN2aZs",
    "outputId": "0a268892-1d6f-47c1-abae-a0bf1da14fa1"
   },
   "outputs": [
    {
     "data": {
      "text/html": [
       "<div>\n",
       "<style scoped>\n",
       "    .dataframe tbody tr th:only-of-type {\n",
       "        vertical-align: middle;\n",
       "    }\n",
       "\n",
       "    .dataframe tbody tr th {\n",
       "        vertical-align: top;\n",
       "    }\n",
       "\n",
       "    .dataframe thead th {\n",
       "        text-align: right;\n",
       "    }\n",
       "</style>\n",
       "<table border=\"1\" class=\"dataframe\">\n",
       "  <thead>\n",
       "    <tr style=\"text-align: right;\">\n",
       "      <th></th>\n",
       "      <th>max_leaf_nodes</th>\n",
       "      <th>R2 Score</th>\n",
       "      <th>RMSE</th>\n",
       "      <th>MAE</th>\n",
       "    </tr>\n",
       "  </thead>\n",
       "  <tbody>\n",
       "    <tr>\n",
       "      <th>0</th>\n",
       "      <td>8</td>\n",
       "      <td>0.492530</td>\n",
       "      <td>0.120430</td>\n",
       "      <td>0.075451</td>\n",
       "    </tr>\n",
       "    <tr>\n",
       "      <th>1</th>\n",
       "      <td>9</td>\n",
       "      <td>0.492530</td>\n",
       "      <td>0.120430</td>\n",
       "      <td>0.075451</td>\n",
       "    </tr>\n",
       "    <tr>\n",
       "      <th>2</th>\n",
       "      <td>10</td>\n",
       "      <td>0.492530</td>\n",
       "      <td>0.120430</td>\n",
       "      <td>0.075451</td>\n",
       "    </tr>\n",
       "    <tr>\n",
       "      <th>3</th>\n",
       "      <td>7</td>\n",
       "      <td>0.490524</td>\n",
       "      <td>0.120671</td>\n",
       "      <td>0.076216</td>\n",
       "    </tr>\n",
       "    <tr>\n",
       "      <th>4</th>\n",
       "      <td>5</td>\n",
       "      <td>0.488923</td>\n",
       "      <td>0.121120</td>\n",
       "      <td>0.077692</td>\n",
       "    </tr>\n",
       "    <tr>\n",
       "      <th>5</th>\n",
       "      <td>6</td>\n",
       "      <td>0.485228</td>\n",
       "      <td>0.121371</td>\n",
       "      <td>0.077037</td>\n",
       "    </tr>\n",
       "    <tr>\n",
       "      <th>6</th>\n",
       "      <td>4</td>\n",
       "      <td>0.478814</td>\n",
       "      <td>0.122254</td>\n",
       "      <td>0.079672</td>\n",
       "    </tr>\n",
       "    <tr>\n",
       "      <th>7</th>\n",
       "      <td>3</td>\n",
       "      <td>0.459831</td>\n",
       "      <td>0.124837</td>\n",
       "      <td>0.084143</td>\n",
       "    </tr>\n",
       "    <tr>\n",
       "      <th>8</th>\n",
       "      <td>2</td>\n",
       "      <td>0.402370</td>\n",
       "      <td>0.132029</td>\n",
       "      <td>0.092552</td>\n",
       "    </tr>\n",
       "  </tbody>\n",
       "</table>\n",
       "</div>"
      ],
      "text/plain": [
       "   max_leaf_nodes  R2 Score      RMSE       MAE\n",
       "0               8  0.492530  0.120430  0.075451\n",
       "1               9  0.492530  0.120430  0.075451\n",
       "2              10  0.492530  0.120430  0.075451\n",
       "3               7  0.490524  0.120671  0.076216\n",
       "4               5  0.488923  0.121120  0.077692\n",
       "5               6  0.485228  0.121371  0.077037\n",
       "6               4  0.478814  0.122254  0.079672\n",
       "7               3  0.459831  0.124837  0.084143\n",
       "8               2  0.402370  0.132029  0.092552"
      ]
     },
     "execution_count": 219,
     "metadata": {},
     "output_type": "execute_result"
    }
   ],
   "source": [
    "Results_nodes = parameter_nodes(X_train,y_train,X_valid,y_valid)\n",
    "Results_nodes"
   ]
  },
  {
   "cell_type": "code",
   "execution_count": 220,
   "id": "fG3adNUD2dE8",
   "metadata": {
    "colab": {
     "base_uri": "https://localhost:8080/"
    },
    "id": "fG3adNUD2dE8",
    "outputId": "72bd6886-9ef1-42cd-d64a-a3b2ce0e9a2c"
   },
   "outputs": [
    {
     "data": {
      "text/plain": [
       "np.int64(8)"
      ]
     },
     "execution_count": 220,
     "metadata": {},
     "output_type": "execute_result"
    }
   ],
   "source": [
    "best_ln = Results_nodes.iloc[0,0]\n",
    "best_ln"
   ]
  },
  {
   "cell_type": "markdown",
   "id": "d7lZGG9D2goo",
   "metadata": {
    "id": "d7lZGG9D2goo"
   },
   "source": [
    "# Miscellaneous Parameters"
   ]
  },
  {
   "cell_type": "markdown",
   "id": "kGjZvrFC2kKi",
   "metadata": {
    "id": "kGjZvrFC2kKi"
   },
   "source": [
    "**loss**"
   ]
  },
  {
   "cell_type": "code",
   "execution_count": 221,
   "id": "wN5LKBw02iEH",
   "metadata": {
    "id": "wN5LKBw02iEH"
   },
   "outputs": [],
   "source": [
    "def parameter_loss(XTrain,yTrain,XValid,yValid):\n",
    "  losses = [\"squared_error\",\"absolute_error\",\"huber\",\"quantile\"]\n",
    "  Results = []\n",
    "  for x in losses:\n",
    "    model = MultiOutputRegressor(GradientBoostingRegressor(random_state = 1, learning_rate = best_LR, n_estimators = best_n_estimator,min_samples_split=best_split,max_leaf_nodes = best_ln , loss = x))\n",
    "    model.fit(XTrain,yTrain)\n",
    "    y_pred = model.predict(XValid)\n",
    "    r2score = r2_score(yValid,y_pred)\n",
    "    RMSE = np.sqrt(mean_squared_error(yValid,y_pred))\n",
    "    MAE = mean_absolute_error(yValid,y_pred)\n",
    "    Results.append((x, r2score, RMSE, MAE))\n",
    "  Results.sort(key=lambda k:k[2])\n",
    "  return pd.DataFrame(Results,columns=['Loss', 'R2 Score', 'RMSE', 'MAE'])"
   ]
  },
  {
   "cell_type": "code",
   "execution_count": 222,
   "id": "gsV837jf20lL",
   "metadata": {
    "id": "gsV837jf20lL"
   },
   "outputs": [],
   "source": [
    "Results_loss = parameter_loss(X_train,y_train,X_valid,y_valid)"
   ]
  },
  {
   "cell_type": "code",
   "execution_count": 223,
   "id": "RXlVNynl23cj",
   "metadata": {
    "colab": {
     "base_uri": "https://localhost:8080/",
     "height": 175
    },
    "id": "RXlVNynl23cj",
    "outputId": "151945e1-27b8-40ed-bad9-792cfee573f8"
   },
   "outputs": [
    {
     "data": {
      "text/html": [
       "<div>\n",
       "<style scoped>\n",
       "    .dataframe tbody tr th:only-of-type {\n",
       "        vertical-align: middle;\n",
       "    }\n",
       "\n",
       "    .dataframe tbody tr th {\n",
       "        vertical-align: top;\n",
       "    }\n",
       "\n",
       "    .dataframe thead th {\n",
       "        text-align: right;\n",
       "    }\n",
       "</style>\n",
       "<table border=\"1\" class=\"dataframe\">\n",
       "  <thead>\n",
       "    <tr style=\"text-align: right;\">\n",
       "      <th></th>\n",
       "      <th>Loss</th>\n",
       "      <th>R2 Score</th>\n",
       "      <th>RMSE</th>\n",
       "      <th>MAE</th>\n",
       "    </tr>\n",
       "  </thead>\n",
       "  <tbody>\n",
       "    <tr>\n",
       "      <th>0</th>\n",
       "      <td>squared_error</td>\n",
       "      <td>0.492530</td>\n",
       "      <td>0.120430</td>\n",
       "      <td>0.075451</td>\n",
       "    </tr>\n",
       "    <tr>\n",
       "      <th>1</th>\n",
       "      <td>huber</td>\n",
       "      <td>0.481980</td>\n",
       "      <td>0.121803</td>\n",
       "      <td>0.074316</td>\n",
       "    </tr>\n",
       "    <tr>\n",
       "      <th>2</th>\n",
       "      <td>absolute_error</td>\n",
       "      <td>0.351719</td>\n",
       "      <td>0.139523</td>\n",
       "      <td>0.076298</td>\n",
       "    </tr>\n",
       "    <tr>\n",
       "      <th>3</th>\n",
       "      <td>quantile</td>\n",
       "      <td>-0.654977</td>\n",
       "      <td>0.223912</td>\n",
       "      <td>0.164581</td>\n",
       "    </tr>\n",
       "  </tbody>\n",
       "</table>\n",
       "</div>"
      ],
      "text/plain": [
       "             Loss  R2 Score      RMSE       MAE\n",
       "0   squared_error  0.492530  0.120430  0.075451\n",
       "1           huber  0.481980  0.121803  0.074316\n",
       "2  absolute_error  0.351719  0.139523  0.076298\n",
       "3        quantile -0.654977  0.223912  0.164581"
      ]
     },
     "execution_count": 223,
     "metadata": {},
     "output_type": "execute_result"
    }
   ],
   "source": [
    "Results_loss"
   ]
  },
  {
   "cell_type": "code",
   "execution_count": 224,
   "id": "q36qOWrn259n",
   "metadata": {
    "colab": {
     "base_uri": "https://localhost:8080/",
     "height": 36
    },
    "id": "q36qOWrn259n",
    "outputId": "502bb3a9-a041-44b3-e871-5e1362ebdb67"
   },
   "outputs": [
    {
     "data": {
      "text/plain": [
       "'squared_error'"
      ]
     },
     "execution_count": 224,
     "metadata": {},
     "output_type": "execute_result"
    }
   ],
   "source": [
    "best_loss = Results_loss.iloc[0,0]\n",
    "best_loss"
   ]
  },
  {
   "cell_type": "markdown",
   "id": "wDLmhnHf3A4X",
   "metadata": {
    "id": "wDLmhnHf3A4X"
   },
   "source": [
    "criterion"
   ]
  },
  {
   "cell_type": "code",
   "execution_count": 225,
   "id": "Qy9YExku2_SX",
   "metadata": {
    "id": "Qy9YExku2_SX"
   },
   "outputs": [],
   "source": [
    "def parameter_criterion(XTrain,yTrain,XValid,yValid):\n",
    "  criterion = ['friedman_mse', 'squared_error']\n",
    "  Results = []\n",
    "  for x in criterion:\n",
    "    model = MultiOutputRegressor(GradientBoostingRegressor(random_state = 1, learning_rate = best_LR, n_estimators = best_n_estimator,min_samples_split=best_split,max_leaf_nodes = best_ln ,loss = best_loss,criterion = x))\n",
    "    model.fit(XTrain,yTrain)\n",
    "    y_pred = model.predict(XValid)\n",
    "    r2score = r2_score(yValid,y_pred)\n",
    "    RMSE = np.sqrt(mean_squared_error(yValid,y_pred))\n",
    "    MAE = mean_absolute_error(yValid,y_pred)\n",
    "    Results.append((x, r2score, RMSE, MAE))\n",
    "  Results.sort(key=lambda k:k[2])\n",
    "  return pd.DataFrame(Results,columns=['subsample', 'R2 Score', 'RMSE', 'MAE'])\n"
   ]
  },
  {
   "cell_type": "code",
   "execution_count": 226,
   "id": "DBwsIqwE3Qj2",
   "metadata": {
    "id": "DBwsIqwE3Qj2"
   },
   "outputs": [],
   "source": [
    "Results_criterion = parameter_criterion(X_train,y_train,X_valid,y_valid)"
   ]
  },
  {
   "cell_type": "code",
   "execution_count": 227,
   "id": "gw_226553Yc2",
   "metadata": {
    "colab": {
     "base_uri": "https://localhost:8080/",
     "height": 125
    },
    "id": "gw_226553Yc2",
    "outputId": "fbeffafe-684f-4f17-fad5-01b3ce442dfd"
   },
   "outputs": [
    {
     "data": {
      "text/html": [
       "<div>\n",
       "<style scoped>\n",
       "    .dataframe tbody tr th:only-of-type {\n",
       "        vertical-align: middle;\n",
       "    }\n",
       "\n",
       "    .dataframe tbody tr th {\n",
       "        vertical-align: top;\n",
       "    }\n",
       "\n",
       "    .dataframe thead th {\n",
       "        text-align: right;\n",
       "    }\n",
       "</style>\n",
       "<table border=\"1\" class=\"dataframe\">\n",
       "  <thead>\n",
       "    <tr style=\"text-align: right;\">\n",
       "      <th></th>\n",
       "      <th>subsample</th>\n",
       "      <th>R2 Score</th>\n",
       "      <th>RMSE</th>\n",
       "      <th>MAE</th>\n",
       "    </tr>\n",
       "  </thead>\n",
       "  <tbody>\n",
       "    <tr>\n",
       "      <th>0</th>\n",
       "      <td>squared_error</td>\n",
       "      <td>0.492683</td>\n",
       "      <td>0.120411</td>\n",
       "      <td>0.075424</td>\n",
       "    </tr>\n",
       "    <tr>\n",
       "      <th>1</th>\n",
       "      <td>friedman_mse</td>\n",
       "      <td>0.492530</td>\n",
       "      <td>0.120430</td>\n",
       "      <td>0.075451</td>\n",
       "    </tr>\n",
       "  </tbody>\n",
       "</table>\n",
       "</div>"
      ],
      "text/plain": [
       "       subsample  R2 Score      RMSE       MAE\n",
       "0  squared_error  0.492683  0.120411  0.075424\n",
       "1   friedman_mse  0.492530  0.120430  0.075451"
      ]
     },
     "execution_count": 227,
     "metadata": {},
     "output_type": "execute_result"
    }
   ],
   "source": [
    "Results_criterion"
   ]
  },
  {
   "cell_type": "code",
   "execution_count": 228,
   "id": "hSj9YHfD3bU9",
   "metadata": {
    "colab": {
     "base_uri": "https://localhost:8080/",
     "height": 36
    },
    "id": "hSj9YHfD3bU9",
    "outputId": "ce12849a-8ee3-4de7-fa1d-5a908fbcccf7"
   },
   "outputs": [
    {
     "data": {
      "text/plain": [
       "'squared_error'"
      ]
     },
     "execution_count": 228,
     "metadata": {},
     "output_type": "execute_result"
    }
   ],
   "source": [
    "best_criterion = Results_criterion.iloc[0,0]\n",
    "best_criterion"
   ]
  },
  {
   "cell_type": "markdown",
   "id": "TokJnY8M3933",
   "metadata": {
    "id": "TokJnY8M3933"
   },
   "source": [
    "# **GB Tuned Results**"
   ]
  },
  {
   "cell_type": "markdown",
   "id": "SSQPtDif4ADs",
   "metadata": {
    "id": "SSQPtDif4ADs"
   },
   "source": [
    "**GB Tuned Parameters:**"
   ]
  },
  {
   "cell_type": "code",
   "execution_count": 229,
   "id": "pce3ZY8s4DJ0",
   "metadata": {
    "colab": {
     "base_uri": "https://localhost:8080/"
    },
    "id": "pce3ZY8s4DJ0",
    "outputId": "6aa7d164-2267-45fb-cf8c-7f6df3d0ff70"
   },
   "outputs": [
    {
     "name": "stdout",
     "output_type": "stream",
     "text": [
      "Learning_Rate:  0.1\n",
      "n_estimator:  100\n",
      "min_samples_split:  8\n",
      "max_leaf_nodes:  8\n",
      "loss:  squared_error\n",
      "Criterion:  squared_error\n"
     ]
    }
   ],
   "source": [
    "print(\"Learning_Rate: \",best_LR)\n",
    "print(\"n_estimator: \",best_n_estimator)\n",
    "print(\"min_samples_split: \",best_split)\n",
    "print(\"max_leaf_nodes: \",best_ln)\n",
    "print(\"loss: \", best_loss)\n",
    "print(\"Criterion: \",best_criterion)"
   ]
  },
  {
   "cell_type": "code",
   "execution_count": 230,
   "id": "P9Xy2Ci54MjI",
   "metadata": {
    "id": "P9Xy2Ci54MjI"
   },
   "outputs": [],
   "source": [
    "Final_validation_model = MultiOutputRegressor(GradientBoostingRegressor(random_state = 1, learning_rate = best_LR, n_estimators = best_n_estimator,min_samples_split=best_split,max_leaf_nodes = best_ln ,loss = best_loss,criterion = best_criterion))\n",
    "Final_validation_model.fit(X_train,y_train)\n",
    "final_validation_pred = Final_validation_model.predict(X_valid)"
   ]
  },
  {
   "cell_type": "code",
   "execution_count": 231,
   "id": "f8qmGPn04PE9",
   "metadata": {
    "colab": {
     "base_uri": "https://localhost:8080/"
    },
    "id": "f8qmGPn04PE9",
    "outputId": "dce194f3-6748-4d11-f5c6-2b86eb97cc0f"
   },
   "outputs": [
    {
     "data": {
      "text/plain": [
       "{'r2score': 0.4926832541651202,\n",
       " 'rmse': np.float64(0.12041131723570597),\n",
       " 'mae': 0.07542401377884479}"
      ]
     },
     "execution_count": 231,
     "metadata": {},
     "output_type": "execute_result"
    }
   ],
   "source": [
    "Final_validation_results = {'r2score':r2_score(y_valid,final_validation_pred),'rmse':np.sqrt(mean_squared_error(y_valid,final_validation_pred)),'mae':mean_absolute_error(y_valid,final_validation_pred)}\n",
    "Final_validation_results"
   ]
  },
  {
   "cell_type": "markdown",
   "id": "Ti_93Teu4bmv",
   "metadata": {
    "id": "Ti_93Teu4bmv"
   },
   "source": [
    "# **Predictions**"
   ]
  },
  {
   "cell_type": "code",
   "execution_count": 232,
   "id": "J6scfPDn4d8b",
   "metadata": {
    "id": "J6scfPDn4d8b"
   },
   "outputs": [],
   "source": [
    "Final_model = MultiOutputRegressor(GradientBoostingRegressor(random_state = 1, learning_rate = best_LR, n_estimators = best_n_estimator,min_samples_split=best_split,max_leaf_nodes = best_ln ,loss = best_loss,criterion = best_criterion))\n",
    "Final_model.fit(X_train,y_train)\n",
    "final_pred = Final_model.predict(X_test)"
   ]
  },
  {
   "cell_type": "code",
   "execution_count": 233,
   "id": "d0e4bdc8-83ca-4fc0-a17c-768677c4017a",
   "metadata": {},
   "outputs": [
    {
     "data": {
      "text/plain": [
       "array([[0.33729857, 0.41990494, 0.34346604, 0.26055962, 0.29265119,\n",
       "        0.32350407],\n",
       "       [0.47646264, 0.16071522, 0.36624945, 0.24320003, 0.39235669,\n",
       "        0.45898962],\n",
       "       [0.47403806, 0.16981287, 0.36499038, 0.29366645, 0.25174153,\n",
       "        0.44975716],\n",
       "       [0.68663334, 0.38090221, 0.1512322 , 0.27560514, 0.27815817,\n",
       "        0.28542368],\n",
       "       [0.56197615, 0.14916073, 0.23762591, 0.25543006, 0.49255571,\n",
       "        0.61366407],\n",
       "       [0.69400815, 0.26225257, 0.34344894, 0.28579442, 0.27656806,\n",
       "        0.18801408],\n",
       "       [0.02729353, 0.17519815, 0.20001384, 0.27569496, 0.21332183,\n",
       "        0.0664027 ],\n",
       "       [0.68947473, 0.20415717, 0.68132423, 0.30025736, 0.08880504,\n",
       "        0.46382462],\n",
       "       [0.41392178, 0.15779861, 0.59003427, 0.55705637, 0.20468614,\n",
       "        0.32329359],\n",
       "       [0.52363199, 0.29368619, 0.3735951 , 0.29003862, 0.23755146,\n",
       "        0.23779119],\n",
       "       [0.69400815, 0.26225257, 0.34344894, 0.28579442, 0.27656806,\n",
       "        0.18801408],\n",
       "       [0.84485154, 0.4418611 , 0.35476771, 0.30051225, 0.26740119,\n",
       "        0.66568258],\n",
       "       [0.43542202, 0.31838551, 0.30084906, 0.29339965, 0.34680059,\n",
       "        0.25244278],\n",
       "       [0.41288614, 0.39305848, 0.4051091 , 0.28428761, 0.18786229,\n",
       "        0.37434518],\n",
       "       [0.78955399, 0.60035999, 0.30430323, 0.28869585, 0.27960571,\n",
       "        0.42769955],\n",
       "       [0.53474854, 0.15879392, 0.1551236 , 0.17990327, 0.43189547,\n",
       "        0.56341338],\n",
       "       [0.45170006, 0.22527617, 0.44618671, 0.34525942, 0.23154725,\n",
       "        0.37973839],\n",
       "       [0.5417014 , 0.16952283, 0.22858683, 0.2048608 , 0.16261316,\n",
       "        0.4533024 ],\n",
       "       [0.43234754, 0.16981287, 0.43281226, 0.34260862, 0.22102254,\n",
       "        0.45331709],\n",
       "       [0.44384708, 0.41921045, 0.28493567, 0.25573545, 0.27456675,\n",
       "        0.18757981],\n",
       "       [0.37584281, 0.5121433 , 0.26716917, 0.27396605, 0.27119841,\n",
       "        0.50718062],\n",
       "       [0.50663562, 0.1590342 , 0.19312575, 0.19282208, 0.39490131,\n",
       "        0.46705955],\n",
       "       [0.56197615, 0.15822085, 0.24237646, 0.24979041, 0.28362776,\n",
       "        0.50620226],\n",
       "       [0.47261908, 0.50407059, 0.36754483, 0.31066005, 0.29446771,\n",
       "        0.37679633],\n",
       "       [0.46129043, 0.14998949, 0.20087424, 0.24161998, 0.15370541,\n",
       "        0.44381308],\n",
       "       [0.48451577, 0.41506849, 0.17580995, 0.15211949, 0.14959869,\n",
       "        0.47295198],\n",
       "       [0.35352382, 0.45542687, 0.33605978, 0.26958409, 0.30344615,\n",
       "        0.34935504],\n",
       "       [0.75771963, 0.28280659, 0.31623727, 0.28610963, 0.27605963,\n",
       "        0.27251204],\n",
       "       [0.43234754, 0.16981287, 0.43281226, 0.34260862, 0.22102254,\n",
       "        0.45331709],\n",
       "       [0.57328034, 0.16546178, 0.18364168, 0.18490551, 0.43420225,\n",
       "        0.59208381],\n",
       "       [0.36277964, 0.42983227, 0.41515196, 0.27365436, 0.27891224,\n",
       "        0.40179672],\n",
       "       [0.37141644, 0.44902592, 0.33256088, 0.28026282, 0.27713527,\n",
       "        0.32178938],\n",
       "       [0.46859316, 0.228051  , 0.39552325, 0.33991336, 0.26819194,\n",
       "        0.42337177],\n",
       "       [0.69360702, 0.34133077, 0.33002257, 0.29412569, 0.2803417 ,\n",
       "        0.45056725],\n",
       "       [0.43234754, 0.16981287, 0.42805532, 0.53707951, 0.23298958,\n",
       "        0.43020485],\n",
       "       [0.55956526, 0.15066802, 0.26577517, 0.21179478, 0.37258406,\n",
       "        0.58619327],\n",
       "       [0.69400815, 0.26225257, 0.34344894, 0.28579442, 0.27656806,\n",
       "        0.18801408],\n",
       "       [0.51922809, 0.16770216, 0.15363062, 0.2008742 , 0.44869144,\n",
       "        0.43703881],\n",
       "       [0.40609505, 0.46508031, 0.2869892 , 0.27619787, 0.26861265,\n",
       "        0.37255361],\n",
       "       [0.48451577, 0.41506849, 0.17580995, 0.15211949, 0.14959869,\n",
       "        0.47295198],\n",
       "       [0.74641575, 0.5085623 , 0.33853408, 0.29749365, 0.27424074,\n",
       "        0.37097318],\n",
       "       [0.35380087, 0.45287942, 0.33770817, 0.2420539 , 0.29466193,\n",
       "        0.39251739],\n",
       "       [0.50677701, 0.15189074, 0.44133777, 0.41005629, 0.146061  ,\n",
       "        0.46131084],\n",
       "       [0.84485154, 0.4418611 , 0.35476771, 0.30051225, 0.26740119,\n",
       "        0.66568258],\n",
       "       [0.46271449, 0.18471128, 0.63138497, 0.78375941, 0.29329439,\n",
       "        0.33328357],\n",
       "       [0.48451577, 0.41506849, 0.17580995, 0.15211949, 0.14959869,\n",
       "        0.47295198],\n",
       "       [0.52571708, 0.46017156, 0.23630249, 0.26960567, 0.30339445,\n",
       "        0.25270729],\n",
       "       [0.53659149, 0.17611133, 0.21890727, 0.22005811, 0.490877  ,\n",
       "        0.65852517],\n",
       "       [0.69400815, 0.26225257, 0.34344894, 0.28579442, 0.27656806,\n",
       "        0.18801408],\n",
       "       [0.92221915, 0.21999683, 0.6491067 , 0.29396147, 0.05675649,\n",
       "        0.47218149],\n",
       "       [0.41575874, 0.41995026, 0.26058089, 0.28136881, 0.30008853,\n",
       "        0.38461644],\n",
       "       [0.69400815, 0.26225257, 0.34344894, 0.28579442, 0.27656806,\n",
       "        0.18801408],\n",
       "       [0.50175346, 0.26079622, 0.23982676, 0.18071023, 0.16158319,\n",
       "        0.42584411],\n",
       "       [0.44400774, 0.16981287, 0.40827756, 0.36044137, 0.24802147,\n",
       "        0.46091173],\n",
       "       [0.4005718 , 0.1721875 , 0.48611791, 0.42833706, 0.17140897,\n",
       "        0.43614613],\n",
       "       [0.57803681, 0.15628872, 0.22515067, 0.26412592, 0.40194613,\n",
       "        0.62740081],\n",
       "       [0.69400815, 0.26225257, 0.34344894, 0.28579442, 0.27656806,\n",
       "        0.18801408],\n",
       "       [0.15138076, 0.17519815, 0.21277817, 0.27806341, 0.07150753,\n",
       "        0.0527455 ],\n",
       "       [0.53849192, 0.15041899, 0.23234758, 0.24566802, 0.33361326,\n",
       "        0.62473694],\n",
       "       [0.51177428, 0.1590342 , 0.19312575, 0.21179478, 0.39490131,\n",
       "        0.46705955],\n",
       "       [0.53424227, 0.15768153, 0.23959038, 0.26454267, 0.26303391,\n",
       "        0.50031907],\n",
       "       [0.56363054, 0.15267884, 0.17670168, 0.19214724, 0.36001384,\n",
       "        0.58134794],\n",
       "       [0.54257565, 0.15060006, 0.14854446, 0.14257397, 0.33586247,\n",
       "        0.57827882],\n",
       "       [0.44775264, 0.16861884, 0.33590057, 0.37912408, 0.19824663,\n",
       "        0.44727853],\n",
       "       [0.51922809, 0.16770216, 0.15363062, 0.2008742 , 0.44869144,\n",
       "        0.43703881],\n",
       "       [0.54991359, 0.14227857, 0.19901316, 0.20752108, 0.5404338 ,\n",
       "        0.64297216],\n",
       "       [0.53960579, 0.15898518, 0.27629122, 0.26968286, 0.25233428,\n",
       "        0.50031907],\n",
       "       [0.51177428, 0.1590342 , 0.19312575, 0.21179478, 0.39490131,\n",
       "        0.46705955],\n",
       "       [0.53849192, 0.15041899, 0.22759065, 0.23312676, 0.26602226,\n",
       "        0.49920514],\n",
       "       [0.50260847, 0.15433626, 0.22207158, 0.18419944, 0.20072771,\n",
       "        0.44074607],\n",
       "       [0.50233669, 0.1714254 , 0.51201857, 0.76974939, 0.29329439,\n",
       "        0.33328357],\n",
       "       [0.53849192, 0.15041899, 0.23234758, 0.24566802, 0.33361326,\n",
       "        0.62473694],\n",
       "       [0.78345239, 0.54160725, 0.33853408, 0.30354339, 0.27163307,\n",
       "        0.60077145],\n",
       "       [0.699201  , 0.49618719, 0.34315907, 0.30051225, 0.27163307,\n",
       "        0.29065016],\n",
       "       [0.53849192, 0.15041899, 0.23234758, 0.24566802, 0.33361326,\n",
       "        0.62473694],\n",
       "       [0.50663562, 0.1590342 , 0.19312575, 0.19282208, 0.39490131,\n",
       "        0.46705955],\n",
       "       [0.42109645, 0.27111334, 0.3186662 , 0.28278912, 0.44042093,\n",
       "        0.14389526],\n",
       "       [0.715723  , 0.47642993, 0.35039634, 0.29749365, 0.26513986,\n",
       "        0.2910462 ],\n",
       "       [0.68663334, 0.38090221, 0.1512322 , 0.27560514, 0.27815817,\n",
       "        0.28542368],\n",
       "       [0.45186696, 0.17837906, 0.36737623, 0.30364408, 0.14601281,\n",
       "        0.40316548],\n",
       "       [0.47004446, 0.16854723, 0.35378481, 0.29382317, 0.20639081,\n",
       "        0.50417849],\n",
       "       [0.53849192, 0.15041899, 0.23234758, 0.24566802, 0.33361326,\n",
       "        0.62473694],\n",
       "       [0.43234754, 0.16981287, 0.43281226, 0.34260862, 0.22102254,\n",
       "        0.45331709],\n",
       "       [0.35380087, 0.45287942, 0.33770817, 0.2420539 , 0.29466193,\n",
       "        0.39251739],\n",
       "       [0.59266373, 0.46973107, 0.34943492, 0.29223185, 0.30218492,\n",
       "        0.26740845],\n",
       "       [0.40609505, 0.46508031, 0.2869892 , 0.27619787, 0.26861265,\n",
       "        0.37255361],\n",
       "       [0.5453115 , 0.14922899, 0.18289458, 0.17178871, 0.3361197 ,\n",
       "        0.5955365 ],\n",
       "       [0.51080859, 0.27432376, 0.5233005 , 0.33498904, 0.24865867,\n",
       "        0.45657623],\n",
       "       [0.51186434, 0.42288621, 0.27519954, 0.29359237, 0.31204657,\n",
       "        0.41444492],\n",
       "       [0.56495855, 0.26642762, 0.44877226, 0.25940481, 0.29185923,\n",
       "        0.42939377],\n",
       "       [0.4945614 , 0.26186296, 0.52343619, 0.27984932, 0.23069606,\n",
       "        0.34024275],\n",
       "       [0.46129043, 0.14998949, 0.20087424, 0.24161998, 0.15370541,\n",
       "        0.44381308],\n",
       "       [0.56900012, 0.14983573, 0.1249402 , 0.15243485, 0.41050237,\n",
       "        0.58738433],\n",
       "       [0.33729857, 0.41990494, 0.34346604, 0.26055962, 0.29265119,\n",
       "        0.32350407],\n",
       "       [0.47403806, 0.16981287, 0.36499038, 0.29366645, 0.25174153,\n",
       "        0.44975716]])"
      ]
     },
     "execution_count": 233,
     "metadata": {},
     "output_type": "execute_result"
    }
   ],
   "source": [
    "final_pred"
   ]
  },
  {
   "cell_type": "code",
   "execution_count": 234,
   "id": "c3a022b5-0923-419e-9d15-211cd146b7f8",
   "metadata": {
    "colab": {
     "base_uri": "https://localhost:8080/"
    },
    "id": "Mh8rc-y_4gwu",
    "outputId": "5abb0378-bf39-43d6-d77d-37b7566dfc86"
   },
   "outputs": [
    {
     "data": {
      "text/plain": [
       "{'r2score': 0.484281863366627,\n",
       " 'rmse': np.float64(0.12228472739404211),\n",
       " 'mae': 0.07493801654687574}"
      ]
     },
     "execution_count": 234,
     "metadata": {},
     "output_type": "execute_result"
    }
   ],
   "source": [
    "Final_results = {'r2score':r2_score(y_test,final_pred),'rmse':np.sqrt(mean_squared_error(y_test,final_pred)),'mae':mean_absolute_error(y_test,final_pred)}\n",
    "Final_results"
   ]
  },
  {
   "cell_type": "code",
   "execution_count": 235,
   "id": "Vt28cle24vwE",
   "metadata": {
    "id": "Vt28cle24vwE"
   },
   "outputs": [],
   "source": [
    "Final_pred = sc.inverse_transform(final_pred)\n",
    "GB_Calculated_Density = np.transpose(Final_pred)[0]\n",
    "GB_Test_temperature = np.transpose(Final_pred)[1]\n",
    "GB_YS = np.transpose(Final_pred)[2]\n",
    "GB_UTS = np.transpose(Final_pred)[3]\n",
    "GB_Elongation = np.transpose(Final_pred)[4]\n",
    "GB_Calculated_Young_modulus = np.transpose(Final_pred)[5]"
   ]
  },
  {
   "cell_type": "code",
   "execution_count": 236,
   "id": "I8P7urwb42-e",
   "metadata": {
    "id": "I8P7urwb42-e"
   },
   "outputs": [],
   "source": [
    "Final_pred = pd.DataFrame(Final_pred,columns = y_test.columns)"
   ]
  },
  {
   "cell_type": "code",
   "execution_count": 237,
   "id": "7ePzEDVB46cn",
   "metadata": {
    "id": "7ePzEDVB46cn"
   },
   "outputs": [],
   "source": [
    "y_Test = pd.DataFrame(y_Test,columns = y_test.columns)"
   ]
  },
  {
   "cell_type": "markdown",
   "id": "Iipds6pk5Q6l",
   "metadata": {
    "id": "Iipds6pk5Q6l"
   },
   "source": [
    "# **Graphical Visualization**"
   ]
  },
  {
   "cell_type": "markdown",
   "id": "36l9Kd3jB7W8",
   "metadata": {
    "id": "36l9Kd3jB7W8"
   },
   "source": [
    "**Calculated Density**"
   ]
  },
  {
   "cell_type": "code",
   "execution_count": 238,
   "id": "EMDLPpFb5SfB",
   "metadata": {
    "colab": {
     "base_uri": "https://localhost:8080/",
     "height": 732
    },
    "id": "EMDLPpFb5SfB",
    "outputId": "b5a7bece-5696-46a0-92e2-399b5b950a6f"
   },
   "outputs": [
    {
     "data": {
      "image/png": "[encoded data removed]",
      "text/plain": [
       "<Figure size 1600x800 with 1 Axes>"
      ]
     },
     "metadata": {},
     "output_type": "display_data"
    }
   ],
   "source": [
    "fig ,(ax0) = plt.subplots(figsize=(16,8))\n",
    "ax0.scatter(GB_Calculated_Density, actual_Calculated_Density, color = 'hotpink', s=18)\n",
    "x_min = min(GB_Calculated_Density.min(), actual_Calculated_Density.min())\n",
    "x_max = max(GB_Calculated_Density.max(), actual_Calculated_Density.max())\n",
    "x3 = np.linspace(x_min, x_max, 1000)\n",
    "y3 = x3\n",
    "ax0.plot(x3, y3)\n",
    "ax0.set_title('Calculated Density', fontsize = 20)\n",
    "ax0.set_xlabel('predicted_Calculated_Density', fontsize = 14)\n",
    "ax0.set_ylabel('actual_Calculated_Density', fontsize = 14)\n",
    "plt.show()"
   ]
  },
  {
   "cell_type": "markdown",
   "id": "Ttx03-aeB-kc",
   "metadata": {
    "id": "Ttx03-aeB-kc"
   },
   "source": [
    "**Test Temperature**"
   ]
  },
  {
   "cell_type": "code",
   "execution_count": 239,
   "id": "3BbtiOPS-PP7",
   "metadata": {
    "colab": {
     "base_uri": "https://localhost:8080/",
     "height": 732
    },
    "id": "3BbtiOPS-PP7",
    "outputId": "96f86efd-d176-491c-e098-ae981eeda292"
   },
   "outputs": [
    {
     "data": {
      "image/png": "[encoded data removed]",
      "text/plain": [
       "<Figure size 1600x800 with 1 Axes>"
      ]
     },
     "metadata": {},
     "output_type": "display_data"
    }
   ],
   "source": [
    "fig ,(ax0) = plt.subplots(figsize=(16,8))\n",
    "ax0.scatter(GB_Test_temperature, actual_Test_Temperature, color = 'hotpink', s=18)\n",
    "x_max = max(GB_Test_temperature.max(), actual_Test_Temperature.max())\n",
    "x_min = min(GB_Test_temperature.min(), actual_Test_Temperature.min())\n",
    "x3 = np.linspace(x_min, x_max, 1000)\n",
    "y3 = x3\n",
    "ax0.plot(x3, y3)\n",
    "ax0.set_title('Test Temperature', fontsize = 20)\n",
    "ax0.set_xlabel('predicted_Test_temperature', fontsize = 14)\n",
    "ax0.set_ylabel('actual_Test_Temperature', fontsize = 14)\n",
    "plt.show()"
   ]
  },
  {
   "cell_type": "markdown",
   "id": "SUuc8d3Yf_d-",
   "metadata": {
    "id": "SUuc8d3Yf_d-"
   },
   "source": [
    "**Yield Strength**"
   ]
  },
  {
   "cell_type": "code",
   "execution_count": 240,
   "id": "jsai6nl0DArA",
   "metadata": {
    "colab": {
     "base_uri": "https://localhost:8080/",
     "height": 732
    },
    "id": "jsai6nl0DArA",
    "outputId": "126d5e7a-2d69-4d43-ac33-8e84dddb74a4"
   },
   "outputs": [
    {
     "data": {
      "image/png": "[encoded data removed]",
      "text/plain": [
       "<Figure size 1600x800 with 1 Axes>"
      ]
     },
     "metadata": {},
     "output_type": "display_data"
    }
   ],
   "source": [
    "fig ,(ax0) = plt.subplots(figsize=(16,8))\n",
    "ax0.scatter(GB_YS, actual_YS, color = 'hotpink', s=18)\n",
    "x_max = max(GB_YS.max(), actual_YS.max())\n",
    "x_min = min(GB_YS.min(), actual_YS.min())\n",
    "x3 = np.linspace(x_min, x_max, 1000)\n",
    "y3 = x3\n",
    "ax0.plot(x3, y3)\n",
    "ax0.set_title('Yield Strength', fontsize = 20)\n",
    "ax0.set_xlabel('predicted_Yield_Strength', fontsize = 14)\n",
    "ax0.set_ylabel('actual_Yirld_Strength', fontsize = 14)\n",
    "plt.show()"
   ]
  },
  {
   "cell_type": "markdown",
   "id": "XvF9ktj9gMSy",
   "metadata": {
    "id": "XvF9ktj9gMSy"
   },
   "source": [
    "**Ultimate Tensile Strength**"
   ]
  },
  {
   "cell_type": "code",
   "execution_count": 241,
   "id": "kIMj2wuwDhB7",
   "metadata": {
    "colab": {
     "base_uri": "https://localhost:8080/",
     "height": 732
    },
    "id": "kIMj2wuwDhB7",
    "outputId": "09ccb69c-074f-4fd9-bc6c-769cb2489a63"
   },
   "outputs": [
    {
     "data": {
      "image/png": "[encoded data removed]",
      "text/plain": [
       "<Figure size 1600x800 with 1 Axes>"
      ]
     },
     "metadata": {},
     "output_type": "display_data"
    }
   ],
   "source": [
    "fig ,(ax0) = plt.subplots(figsize=(16,8))\n",
    "ax0.scatter(GB_UTS, actual_UTS, color = 'hotpink', s=18)\n",
    "x_max = max(GB_UTS.max(), actual_UTS.max())\n",
    "x_min = min(GB_UTS.min(), actual_UTS.min())\n",
    "x3 = np.linspace(x_min, x_max, 1000)\n",
    "y3 = x3\n",
    "ax0.plot(x3, y3)\n",
    "ax0.set_title('Ultimate Tensile Strength', fontsize = 20)\n",
    "ax0.set_xlabel('predicted_UTS', fontsize = 14)\n",
    "ax0.set_ylabel('actual_UTS', fontsize = 14)\n",
    "plt.show()"
   ]
  },
  {
   "cell_type": "markdown",
   "id": "GNlhNUU0gRZF",
   "metadata": {
    "id": "GNlhNUU0gRZF"
   },
   "source": [
    "**Elongation**"
   ]
  },
  {
   "cell_type": "code",
   "execution_count": 242,
   "id": "vuvMQ6QsD80a",
   "metadata": {
    "colab": {
     "base_uri": "https://localhost:8080/",
     "height": 732
    },
    "id": "vuvMQ6QsD80a",
    "outputId": "587879f8-2148-425b-fd4c-fc8e9ba4a30d"
   },
   "outputs": [
    {
     "data": {
      "image/png": "[encoded data removed]",
      "text/plain": [
       "<Figure size 1600x800 with 1 Axes>"
      ]
     },
     "metadata": {},
     "output_type": "display_data"
    }
   ],
   "source": [
    "fig ,(ax0) = plt.subplots(figsize=(16,8))\n",
    "ax0.scatter(GB_Elongation, actual_Elongation, color = 'hotpink', s=18)\n",
    "x_max = max(GB_Elongation.max(), actual_Elongation.max())\n",
    "x_min = min(GB_Elongation.min(), actual_Elongation.min())\n",
    "x3 = np.linspace(x_min, x_max, 1000)\n",
    "y3 = x3\n",
    "ax0.plot(x3, y3)\n",
    "ax0.set_title('Elongation', fontsize = 20)\n",
    "ax0.set_xlabel('predicted_Elongation', fontsize = 14)\n",
    "ax0.set_ylabel('actual_Elongation', fontsize = 14)\n",
    "plt.show()"
   ]
  },
  {
   "cell_type": "markdown",
   "id": "1vaz757sgVMA",
   "metadata": {
    "id": "1vaz757sgVMA"
   },
   "source": [
    "**Calculated Youngs Modulus**"
   ]
  },
  {
   "cell_type": "code",
   "execution_count": 243,
   "id": "L9m8y9SUEO3b",
   "metadata": {
    "colab": {
     "base_uri": "https://localhost:8080/",
     "height": 732
    },
    "id": "L9m8y9SUEO3b",
    "outputId": "99b34bd4-eb2d-4b5d-839e-23d83425d7c6"
   },
   "outputs": [
    {
     "data": {
      "image/png": "[encoded data removed]",
      "text/plain": [
       "<Figure size 1600x800 with 1 Axes>"
      ]
     },
     "metadata": {},
     "output_type": "display_data"
    }
   ],
   "source": [
    "fig ,(ax0) = plt.subplots(figsize=(16,8))\n",
    "ax0.scatter(GB_Calculated_Young_modulus, actual_Calculated_Youngs_Modulus, color = 'hotpink', s=18)\n",
    "x_max = max(GB_Calculated_Young_modulus.max(), actual_Calculated_Youngs_Modulus.max())\n",
    "x_min = min(GB_Calculated_Young_modulus.min(), actual_Calculated_Youngs_Modulus.min())\n",
    "x3 = np.linspace(x_min, x_max, 1000)\n",
    "y3 = x3\n",
    "ax0.plot(x3, y3)\n",
    "ax0.set_title('Calculated Youngs Modulus', fontsize = 20)\n",
    "ax0.set_xlabel('predicted_CYM', fontsize = 14)\n",
    "ax0.set_ylabel('actual_CYM', fontsize = 14)\n",
    "plt.show()"
   ]
  },
  {
   "cell_type": "code",
   "execution_count": 244,
   "id": "d99cdeeb-8294-48b6-97fa-f844de6251e5",
   "metadata": {},
   "outputs": [],
   "source": [
    "import pickle\n",
    "\n",
    "with open(\"model.pkl\", \"wb\") as f:\n",
    "    pickle.dump(Final_model, f)\n"
   ]
  }
 ],
 "metadata": {
  "colab": {
   "provenance": []
  },
  "kernelspec": {
   "display_name": "Python 3 (ipykernel)",
   "language": "python",
   "name": "python3"
  },
  "language_info": {
   "codemirror_mode": {
    "name": "ipython",
    "version": 3
   },
   "file_extension": ".py",
   "mimetype": "text/x-python",
   "name": "python",
   "nbconvert_exporter": "python",
   "pygments_lexer": "ipython3",
   "version": "3.11.0"
  }
 },
 "nbformat": 4,
 "nbformat_minor": 5
}
